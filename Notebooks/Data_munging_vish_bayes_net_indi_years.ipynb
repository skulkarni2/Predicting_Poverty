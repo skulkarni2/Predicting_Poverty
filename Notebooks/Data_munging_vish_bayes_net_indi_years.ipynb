{
 "cells": [
  {
   "cell_type": "code",
   "execution_count": 1,
   "metadata": {
    "collapsed": false
   },
   "outputs": [],
   "source": [
    "import numpy\n",
    "import pandas as pd\n",
    "import numpy as np\n",
    "from pgmpy.estimators import BdeuScore, K2Score, BicScore\n",
    "from pgmpy.models import BayesianModel\n",
    "from pgmpy.estimators import HillClimbSearch\n",
    "from pgmpy.estimators import BayesianEstimator, MaximumLikelihoodEstimator\n",
    "import networkx as nx\n",
    "import pandas as pd\n",
    "import sklearn.metrics as metrics \n",
    "import matplotlib.pyplot as plt\n",
    "from sklearn.model_selection import train_test_split\n",
    "%matplotlib inline"
   ]
  },
  {
   "cell_type": "code",
   "execution_count": 2,
   "metadata": {
    "collapsed": true
   },
   "outputs": [],
   "source": [
    "def features(data):\n",
    "       \n",
    "    data.loc[data.HEAP == 0.0, 'HEAP'] = 0\n",
    "    data.loc[data.HEAP != 0.0, 'HEAP'] = 1\n",
    "    \n",
    "    data.loc[data.WIC == 0.0 ,'WIC'] = 0\n",
    "    data.loc[data.WIC != 0.0 ,'WIC'] = 1\n",
    "    \n",
    "    data.loc[data.SchoolLunch == 0.0, 'SchoolLunch'] = 0\n",
    "    data.loc[data.SchoolLunch != 0.0, 'SchoolLunch'] = 1\n",
    "\n",
    "    data.loc[data.MOOP == 0.0, 'MOOP'] = 0\n",
    "    data.loc[data.MOOP != 0.0, 'MOOP'] = 1\n",
    "\n",
    "    data.loc[data.Childcare == 0.0, 'Childcare'] = 0\n",
    "    data.loc[data.Childcare != 0.0, 'Childcare'] = 1\n",
    "\n",
    "    data.loc[data.FoodStamps == 0.0, 'FoodStamps'] = 0\n",
    "    data.loc[data.FoodStamps != 0.0, 'FoodStamps'] = 1\n",
    "\n",
    "    data.loc[data.Commuting == 0.0, 'Commuting'] = 0\n",
    "    data.loc[data.Commuting != 0.0, 'Commuting'] = 1\n",
    "\n",
    "    data.loc[data.Housing == 0.0, 'Housing'] = 0\n",
    "    data.loc[data.Housing != 0.0, 'Housing'] = 1\n",
    "    \n",
    "    data = data.loc[:, [u'PovunitType', u'WorkExpIndiv',\n",
    "                  u'HEAP', u'CitizenStatus',\n",
    "                  u'EducAttain',\n",
    "                  u'WIC', u'HousingStatus',\n",
    "                  u'WorkersEquiv', u'SchoolLunch',\n",
    "                  u'MOOP', u'MV', u'Childcare', \n",
    "                  u'FoodStamps', u'Commuting',\n",
    "                  u'Housing', 'Pov_risk']]\n",
    "    \n",
    "    data.HousingStatus.replace({1:0, 2:1,3:2, 4:3,5:4, 6:5,7:6, 8:7,9:8}, inplace=True)\n",
    "    data.WorkersEquiv.replace({1:0, 2:1,3:2, 4:3,5:4}, inplace=True)\n",
    "    data.EducAttain.replace({1:0, 2:1,3:2, 4:3}, inplace=True)\n",
    "    \n",
    "    return data"
   ]
  },
  {
   "cell_type": "code",
   "execution_count": 3,
   "metadata": {
    "collapsed": false
   },
   "outputs": [],
   "source": [
    "# thresholds = pd.Series(puma_05.CEO_Threshold.unique())"
   ]
  },
  {
   "cell_type": "code",
   "execution_count": 4,
   "metadata": {
    "collapsed": false
   },
   "outputs": [],
   "source": [
    "# thresholds.hist(bins=35)\n",
    "# plt.vlines(x=thresholds.median(), ymin=0, ymax=18, color = 'red')\n",
    "# plt.vlines(x=thresholds.mean(), ymin=0, ymax=18, color = 'yellow')"
   ]
  },
  {
   "cell_type": "code",
   "execution_count": 5,
   "metadata": {
    "collapsed": false
   },
   "outputs": [],
   "source": [
    "# puma_05[puma_05.CEO_Threshold == puma_05.CEO_Threshold.max()]"
   ]
  },
  {
   "cell_type": "code",
   "execution_count": 6,
   "metadata": {
    "collapsed": false
   },
   "outputs": [],
   "source": [
    "# thresholds.describe()"
   ]
  },
  {
   "cell_type": "code",
   "execution_count": 7,
   "metadata": {
    "collapsed": false
   },
   "outputs": [],
   "source": [
    "# thresholds.quantile(0.99)"
   ]
  },
  {
   "cell_type": "code",
   "execution_count": 8,
   "metadata": {
    "collapsed": false
   },
   "outputs": [],
   "source": [
    "# thresholds_of = pd.Series(puma_05.Official_Threshold.unique())"
   ]
  },
  {
   "cell_type": "code",
   "execution_count": 9,
   "metadata": {
    "collapsed": false
   },
   "outputs": [],
   "source": [
    "# thresholds_of.hist(bins=30)"
   ]
  },
  {
   "cell_type": "markdown",
   "metadata": {},
   "source": [
    "# New check without aggregation"
   ]
  },
  {
   "cell_type": "code",
   "execution_count": 10,
   "metadata": {
    "collapsed": false
   },
   "outputs": [],
   "source": [
    "# puma_05.CEO_Income.describe()"
   ]
  },
  {
   "cell_type": "code",
   "execution_count": 11,
   "metadata": {
    "collapsed": false,
    "scrolled": false
   },
   "outputs": [],
   "source": [
    "# puma_05[puma_05.CEO_Income < 0]['PUMA'].hist()"
   ]
  },
  {
   "cell_type": "code",
   "execution_count": 12,
   "metadata": {
    "collapsed": false
   },
   "outputs": [],
   "source": [
    "# puma_05[puma_05.SERIALNO == 812]"
   ]
  },
  {
   "cell_type": "code",
   "execution_count": 13,
   "metadata": {
    "collapsed": false
   },
   "outputs": [],
   "source": [
    "# puma_05[puma_05.CEO_Income == 0]"
   ]
  },
  {
   "cell_type": "code",
   "execution_count": 14,
   "metadata": {
    "collapsed": false
   },
   "outputs": [],
   "source": [
    "# puma_05.CEO_Income.quantile(0.1)"
   ]
  },
  {
   "cell_type": "code",
   "execution_count": 15,
   "metadata": {
    "collapsed": false
   },
   "outputs": [],
   "source": [
    "# df[(df.CEO_Poverty == 1)&(df.CEO_Threshold < df.CEO_Income)][['CEO_Threshold', 'CEO_Income','CEO_Poverty', 'Pov_risk', 'Threshold1']]"
   ]
  },
  {
   "cell_type": "code",
   "execution_count": 16,
   "metadata": {
    "collapsed": false
   },
   "outputs": [],
   "source": [
    "# df[(df.Pov_risk == 1)&((df.CEO_Poverty == 1))][['CEO_Threshold', 'CEO_Income','CEO_Poverty', 'Pov_risk', 'Threshold1']]"
   ]
  },
  {
   "cell_type": "code",
   "execution_count": 17,
   "metadata": {
    "collapsed": false
   },
   "outputs": [],
   "source": [
    "# X = df[[ u'PovunitType', u'WorkExpIndiv', u'Povunit',\n",
    "#         u'SchoolBreakfast', u'HEAP', u'CitizenStatus',\n",
    "#         u'AgeCateg_2', u'AgeCateg_3', u'EducAttain',\n",
    "#         u'WIC', u'HousingStatus',\n",
    "#        u'WorkersEquiv', u'SchoolLunch', u'AgeCateg_1',\n",
    "#        u'MOOP', u'MV', u'Childcare', \n",
    "#        u'NP', u'FoodStamps', u'Commuting',\n",
    "#        u'Housing', 'Pov_risk']]"
   ]
  },
  {
   "cell_type": "code",
   "execution_count": 18,
   "metadata": {
    "collapsed": false
   },
   "outputs": [],
   "source": [
    "# X.columns"
   ]
  },
  {
   "cell_type": "markdown",
   "metadata": {},
   "source": [
    "# Making continuous variables discrete"
   ]
  },
  {
   "cell_type": "code",
   "execution_count": 19,
   "metadata": {
    "collapsed": false,
    "scrolled": true
   },
   "outputs": [],
   "source": [
    "# print X.SchoolBreakfast.value_counts()\n",
    "# X.SchoolBreakfast.hist()"
   ]
  },
  {
   "cell_type": "code",
   "execution_count": 20,
   "metadata": {
    "collapsed": false
   },
   "outputs": [],
   "source": [
    "# print (X.HEAP).value_counts()\n",
    "# X.HEAP.hist(bins= 50)"
   ]
  },
  {
   "cell_type": "code",
   "execution_count": 21,
   "metadata": {
    "collapsed": false
   },
   "outputs": [],
   "source": [
    "# X.HEAP[X.HEAP == 0.0] = 0\n",
    "# X.HEAP[X.HEAP != 0.0] = 1"
   ]
  },
  {
   "cell_type": "code",
   "execution_count": 22,
   "metadata": {
    "collapsed": false
   },
   "outputs": [],
   "source": [
    "# X.HEAP.value_counts()"
   ]
  },
  {
   "cell_type": "code",
   "execution_count": 23,
   "metadata": {
    "collapsed": false
   },
   "outputs": [],
   "source": [
    "# print X.WIC.value_counts()\n",
    "# X.WIC.hist(bins=50)"
   ]
  },
  {
   "cell_type": "code",
   "execution_count": 24,
   "metadata": {
    "collapsed": false
   },
   "outputs": [],
   "source": [
    "# X.WIC[X.WIC == 0.0] = 0\n",
    "# X.WIC[X.WIC != 0.0] = 1"
   ]
  },
  {
   "cell_type": "code",
   "execution_count": 25,
   "metadata": {
    "collapsed": false
   },
   "outputs": [],
   "source": [
    "# X.WIC.value_counts()"
   ]
  },
  {
   "cell_type": "code",
   "execution_count": 26,
   "metadata": {
    "collapsed": false
   },
   "outputs": [],
   "source": [
    "# print X.SchoolLunch.value_counts()\n",
    "# X.SchoolLunch.hist(bins = 100)"
   ]
  },
  {
   "cell_type": "code",
   "execution_count": 27,
   "metadata": {
    "collapsed": false
   },
   "outputs": [],
   "source": [
    "# X.SchoolLunch[X.SchoolLunch == 0.0] = 0\n",
    "# X.SchoolLunch[X.SchoolLunch != 0.0] = 1"
   ]
  },
  {
   "cell_type": "code",
   "execution_count": 28,
   "metadata": {
    "collapsed": false
   },
   "outputs": [],
   "source": [
    "# X.SchoolLunch.value_counts()"
   ]
  },
  {
   "cell_type": "code",
   "execution_count": 29,
   "metadata": {
    "collapsed": false
   },
   "outputs": [],
   "source": [
    "# print X.MOOP.describe()\n",
    "# (X.MOOP).hist(bins = 100)"
   ]
  },
  {
   "cell_type": "code",
   "execution_count": 30,
   "metadata": {
    "collapsed": false
   },
   "outputs": [],
   "source": [
    "# X.MOOP[X.MOOP == 0.0] = 0\n",
    "# X.MOOP[X.MOOP != 0.0] = 1"
   ]
  },
  {
   "cell_type": "code",
   "execution_count": 31,
   "metadata": {
    "collapsed": false
   },
   "outputs": [],
   "source": [
    "# X.MOOP.plot.box()"
   ]
  },
  {
   "cell_type": "code",
   "execution_count": 32,
   "metadata": {
    "collapsed": false
   },
   "outputs": [],
   "source": [
    "# print X.Childcare.value_counts()\n",
    "# X.Childcare.hist(log = True, bins=100)"
   ]
  },
  {
   "cell_type": "code",
   "execution_count": 33,
   "metadata": {
    "collapsed": false
   },
   "outputs": [],
   "source": [
    "# X.Childcare[X.Childcare == 0.0] = 0\n",
    "# X.Childcare[X.Childcare != 0.0] = 1"
   ]
  },
  {
   "cell_type": "code",
   "execution_count": 34,
   "metadata": {
    "collapsed": false
   },
   "outputs": [],
   "source": [
    "# print X.FoodStamps.value_counts()\n",
    "# X.FoodStamps.hist(bins=100, log = True)"
   ]
  },
  {
   "cell_type": "code",
   "execution_count": 35,
   "metadata": {
    "collapsed": false
   },
   "outputs": [],
   "source": [
    "# np.sqrt(X.FoodStamps).hist(bins=100, log = True)"
   ]
  },
  {
   "cell_type": "code",
   "execution_count": 36,
   "metadata": {
    "collapsed": false
   },
   "outputs": [],
   "source": [
    "# X.FoodStamps[X.FoodStamps == 0.0] = 0\n",
    "# X.FoodStamps[X.FoodStamps != 0.0] = 1"
   ]
  },
  {
   "cell_type": "code",
   "execution_count": 37,
   "metadata": {
    "collapsed": false
   },
   "outputs": [],
   "source": [
    "# X.FoodStamps.value_counts()"
   ]
  },
  {
   "cell_type": "code",
   "execution_count": 38,
   "metadata": {
    "collapsed": false
   },
   "outputs": [],
   "source": [
    "# print X.Commuting.value_counts()\n",
    "# X.Commuting.hist(log = True, bins=100)"
   ]
  },
  {
   "cell_type": "code",
   "execution_count": 39,
   "metadata": {
    "collapsed": false
   },
   "outputs": [],
   "source": [
    "# X[(((X.Commuting - X.Commuting.mean()) / X.Commuting.std()) < 0) &\n",
    "#   (((X.Commuting - X.Commuting.mean()) / X.Commuting.std()) >= -1)].Pov_risk.value_counts()"
   ]
  },
  {
   "cell_type": "code",
   "execution_count": 40,
   "metadata": {
    "collapsed": false
   },
   "outputs": [],
   "source": [
    "# np.sqrt(X.Commuting).hist(bins= 100)"
   ]
  },
  {
   "cell_type": "code",
   "execution_count": 41,
   "metadata": {
    "collapsed": false
   },
   "outputs": [],
   "source": [
    "# X[(np.sqrt(X.Commuting) < 10)].Pov_risk.value_counts()"
   ]
  },
  {
   "cell_type": "code",
   "execution_count": 42,
   "metadata": {
    "collapsed": false
   },
   "outputs": [],
   "source": [
    "# X.Commuting[X.Commuting == 0.0] = 0\n",
    "# X.Commuting[X.Commuting != 0.0] = 1"
   ]
  },
  {
   "cell_type": "code",
   "execution_count": 43,
   "metadata": {
    "collapsed": false
   },
   "outputs": [],
   "source": [
    "# X.Housing.unique()\n",
    "# X.Housing.hist()"
   ]
  },
  {
   "cell_type": "code",
   "execution_count": 44,
   "metadata": {
    "collapsed": false
   },
   "outputs": [],
   "source": [
    "# X.Housing[X.Housing == 0.0] = 0\n",
    "# X.Housing[X.Housing != 0.0] = 1"
   ]
  },
  {
   "cell_type": "code",
   "execution_count": 45,
   "metadata": {
    "collapsed": false
   },
   "outputs": [],
   "source": [
    "# G = nx.DiGraph()\n",
    "# G.add_edges_from(best_model.edges())\n",
    "# nx.draw(G, with_labels=True, arrows=True, node_size=700)"
   ]
  },
  {
   "cell_type": "markdown",
   "metadata": {
    "collapsed": true
   },
   "source": [
    "# Bayes Net Updated Columns"
   ]
  },
  {
   "cell_type": "code",
   "execution_count": 46,
   "metadata": {
    "collapsed": true
   },
   "outputs": [],
   "source": [
    "cols = ['WorkersEquiv', 'SchoolLunch', 'FoodStamps', 'MOOP', \n",
    "        'EducAttain', 'HousingStatus', 'HEAP', 'Pov_risk']"
   ]
  },
  {
   "cell_type": "code",
   "execution_count": 47,
   "metadata": {
    "collapsed": true
   },
   "outputs": [],
   "source": [
    "puma_05 = pd.read_csv(\"../Data/Cleaned/puma_05.csv\")\n",
    "puma_05.drop(['Unnamed: 0'], axis=1, inplace=True)\n",
    "\n",
    "X5 = features(puma_05)\n",
    "X5 = X5.loc[:,cols] \n",
    "\n",
    "train5,test5=train_test_split(X5,random_state=9,test_size=0.20)\n",
    "hc5 = HillClimbSearch(train5, scoring_method=BicScore(train5))\n",
    "best_model5 = hc5.estimate()"
   ]
  },
  {
   "cell_type": "code",
   "execution_count": 48,
   "metadata": {
    "collapsed": false
   },
   "outputs": [
    {
     "data": {
      "text/plain": [
       "[('Pov_risk', 'WorkersEquiv'),\n",
       " ('Pov_risk', 'FoodStamps'),\n",
       " ('Pov_risk', 'SchoolLunch'),\n",
       " ('Pov_risk', 'HEAP'),\n",
       " ('WorkersEquiv', 'FoodStamps'),\n",
       " ('WorkersEquiv', 'SchoolLunch'),\n",
       " ('WorkersEquiv', 'HousingStatus'),\n",
       " ('MOOP', 'Pov_risk'),\n",
       " ('MOOP', 'EducAttain'),\n",
       " ('HEAP', 'SchoolLunch'),\n",
       " ('HEAP', 'HousingStatus'),\n",
       " ('FoodStamps', 'HEAP'),\n",
       " ('EducAttain', 'WorkersEquiv'),\n",
       " ('EducAttain', 'Pov_risk')]"
      ]
     },
     "execution_count": 48,
     "metadata": {},
     "output_type": "execute_result"
    }
   ],
   "source": [
    "best_model5.edges()"
   ]
  },
  {
   "cell_type": "code",
   "execution_count": 49,
   "metadata": {
    "collapsed": false
   },
   "outputs": [],
   "source": [
    "best_model5.fit(train5, estimator=BayesianEstimator, prior_type='BDeu', equivalent_sample_size=100)\n",
    "test5 = test5.astype(int)\n",
    "test5.reset_index(inplace=True, drop=True)\n",
    "\n",
    "y_pred5 = best_model5.predict(test5.loc[:,[u'HEAP', u'HousingStatus', u'WorkersEquiv', u'SchoolLunch', u'MOOP',\n",
    "       u'EducAttain', u'FoodStamps']])"
   ]
  },
  {
   "cell_type": "code",
   "execution_count": 50,
   "metadata": {
    "collapsed": false
   },
   "outputs": [
    {
     "data": {
      "text/plain": [
       "0.71943319838056685"
      ]
     },
     "execution_count": 50,
     "metadata": {},
     "output_type": "execute_result"
    }
   ],
   "source": [
    "((y_pred5.Pov_risk == test5.Pov_risk).sum()*1.0)/len(test5)"
   ]
  },
  {
   "cell_type": "code",
   "execution_count": 51,
   "metadata": {
    "collapsed": false
   },
   "outputs": [
    {
     "data": {
      "text/plain": [
       "array([[ 503,   73,  400],\n",
       "       [ 266,  106,  493],\n",
       "       [ 108,   46, 2945]])"
      ]
     },
     "execution_count": 51,
     "metadata": {},
     "output_type": "execute_result"
    }
   ],
   "source": [
    "metrics.confusion_matrix(test5.Pov_risk, y_pred5.Pov_risk)"
   ]
  },
  {
   "cell_type": "code",
   "execution_count": 52,
   "metadata": {
    "collapsed": false
   },
   "outputs": [
    {
     "data": {
      "text/plain": [
       "0.67717362904886047"
      ]
     },
     "execution_count": 52,
     "metadata": {},
     "output_type": "execute_result"
    }
   ],
   "source": [
    "metrics.precision_score(test5.Pov_risk, y_pred5.Pov_risk, average='weighted')"
   ]
  },
  {
   "cell_type": "code",
   "execution_count": 53,
   "metadata": {
    "collapsed": false
   },
   "outputs": [
    {
     "data": {
      "text/plain": [
       "0.71943319838056685"
      ]
     },
     "execution_count": 53,
     "metadata": {},
     "output_type": "execute_result"
    }
   ],
   "source": [
    "metrics.recall_score(test5.Pov_risk, y_pred5.Pov_risk, average='weighted')"
   ]
  },
  {
   "cell_type": "code",
   "execution_count": 94,
   "metadata": {
    "collapsed": false
   },
   "outputs": [
    {
     "name": "stdout",
     "output_type": "stream",
     "text": [
      "             precision    recall  f1-score   support\n",
      "\n",
      "       Poor       0.57      0.52      0.54       976\n",
      "    At_Risk       0.47      0.12      0.19       865\n",
      "   Not_Poor       0.77      0.95      0.85      3099\n",
      "\n",
      "avg / total       0.68      0.72      0.67      4940\n",
      "\n"
     ]
    }
   ],
   "source": [
    "print metrics.classification_report(test5.Pov_risk, y_pred5.Pov_risk,  target_names=['Poor', 'At_Risk', 'Not_Poor'])"
   ]
  },
  {
   "cell_type": "code",
   "execution_count": 54,
   "metadata": {
    "collapsed": true
   },
   "outputs": [],
   "source": [
    "puma_06 = pd.read_csv(\"../Data/Cleaned/puma_06.csv\")\n",
    "puma_06.drop(['Unnamed: 0'], axis=1, inplace=True)\n",
    "\n",
    "X6 = features(puma_06)\n",
    "X6 = X6.loc[:,cols]\n",
    "X6.dropna(inplace=True)\n",
    "\n",
    "train6,test6=train_test_split(X6,random_state=9,test_size=0.20)\n",
    "hc6 = HillClimbSearch(train6, scoring_method=BicScore(train6))\n",
    "best_model6 = hc6.estimate()"
   ]
  },
  {
   "cell_type": "code",
   "execution_count": 55,
   "metadata": {
    "collapsed": false
   },
   "outputs": [
    {
     "data": {
      "text/plain": [
       "[('Pov_risk', 'WorkersEquiv'),\n",
       " ('Pov_risk', 'SchoolLunch'),\n",
       " ('Pov_risk', 'EducAttain'),\n",
       " ('Pov_risk', 'MOOP'),\n",
       " ('WorkersEquiv', 'SchoolLunch'),\n",
       " ('WorkersEquiv', 'EducAttain'),\n",
       " ('WorkersEquiv', 'HousingStatus'),\n",
       " ('HEAP', 'MOOP'),\n",
       " ('HEAP', 'FoodStamps'),\n",
       " ('HEAP', 'SchoolLunch'),\n",
       " ('HEAP', 'Pov_risk'),\n",
       " ('FoodStamps', 'WorkersEquiv'),\n",
       " ('FoodStamps', 'Pov_risk'),\n",
       " ('FoodStamps', 'EducAttain'),\n",
       " ('FoodStamps', 'HousingStatus')]"
      ]
     },
     "execution_count": 55,
     "metadata": {},
     "output_type": "execute_result"
    }
   ],
   "source": [
    "best_model6.edges()"
   ]
  },
  {
   "cell_type": "code",
   "execution_count": 56,
   "metadata": {
    "collapsed": true
   },
   "outputs": [],
   "source": [
    "best_model6.fit(train6, estimator=BayesianEstimator, prior_type='BDeu', equivalent_sample_size=100)\n",
    "test6 = test6.astype(int)\n",
    "test6.reset_index(inplace=True, drop=True)\n",
    "\n",
    "y_pred6 = best_model6.predict(test6.loc[:,[u'HEAP', u'HousingStatus', u'WorkersEquiv', u'SchoolLunch', u'MOOP',\n",
    "       u'EducAttain', u'FoodStamps']])"
   ]
  },
  {
   "cell_type": "code",
   "execution_count": 57,
   "metadata": {
    "collapsed": false
   },
   "outputs": [
    {
     "data": {
      "text/plain": [
       "0.7053322721846399"
      ]
     },
     "execution_count": 57,
     "metadata": {},
     "output_type": "execute_result"
    }
   ],
   "source": [
    "((y_pred6.Pov_risk == test6.Pov_risk).sum()*1.0)/len(test6)"
   ]
  },
  {
   "cell_type": "code",
   "execution_count": null,
   "metadata": {
    "collapsed": true
   },
   "outputs": [],
   "source": []
  },
  {
   "cell_type": "code",
   "execution_count": 58,
   "metadata": {
    "collapsed": false
   },
   "outputs": [
    {
     "data": {
      "text/plain": [
       "array([[ 443,   78,  425],\n",
       "       [ 263,  111,  552],\n",
       "       [ 127,   36, 2991]])"
      ]
     },
     "execution_count": 58,
     "metadata": {},
     "output_type": "execute_result"
    }
   ],
   "source": [
    "metrics.confusion_matrix(test6.Pov_risk, y_pred6.Pov_risk )"
   ]
  },
  {
   "cell_type": "code",
   "execution_count": 59,
   "metadata": {
    "collapsed": false
   },
   "outputs": [
    {
     "data": {
      "text/plain": [
       "0.66401599436258596"
      ]
     },
     "execution_count": 59,
     "metadata": {},
     "output_type": "execute_result"
    }
   ],
   "source": [
    "metrics.precision_score(test6.Pov_risk, y_pred6.Pov_risk, average='weighted')"
   ]
  },
  {
   "cell_type": "code",
   "execution_count": 60,
   "metadata": {
    "collapsed": false
   },
   "outputs": [
    {
     "data": {
      "text/plain": [
       "0.7053322721846399"
      ]
     },
     "execution_count": 60,
     "metadata": {},
     "output_type": "execute_result"
    }
   ],
   "source": [
    "metrics.recall_score(test6.Pov_risk, y_pred6.Pov_risk, average='weighted')"
   ]
  },
  {
   "cell_type": "code",
   "execution_count": 93,
   "metadata": {
    "collapsed": false
   },
   "outputs": [
    {
     "name": "stdout",
     "output_type": "stream",
     "text": [
      "             precision    recall  f1-score   support\n",
      "\n",
      "       Poor       0.53      0.47      0.50       946\n",
      "    At_Risk       0.49      0.12      0.19       926\n",
      "   Not_Poor       0.75      0.95      0.84      3154\n",
      "\n",
      "avg / total       0.66      0.71      0.66      5026\n",
      "\n"
     ]
    }
   ],
   "source": [
    "print metrics.classification_report(test6.Pov_risk, y_pred6.Pov_risk,  target_names=['Poor', 'At_Risk', 'Not_Poor'])"
   ]
  },
  {
   "cell_type": "code",
   "execution_count": 61,
   "metadata": {
    "collapsed": true
   },
   "outputs": [],
   "source": [
    "puma_07 = pd.read_csv(\"../Data/Cleaned/puma_07.csv\")\n",
    "puma_07.drop(['Unnamed: 0'], axis=1, inplace=True)\n",
    "\n",
    "X7 = features(puma_07)\n",
    "X7 = X7.loc[:,cols] \n",
    "\n",
    "train7,test7=train_test_split(X7,random_state=9,test_size=0.20)\n",
    "hc7 = HillClimbSearch(train7, scoring_method=BicScore(train7))\n",
    "best_model7 = hc7.estimate()"
   ]
  },
  {
   "cell_type": "code",
   "execution_count": 62,
   "metadata": {
    "collapsed": false
   },
   "outputs": [
    {
     "data": {
      "text/plain": [
       "[('Pov_risk', 'MOOP'),\n",
       " ('Pov_risk', 'SchoolLunch'),\n",
       " ('Pov_risk', 'EducAttain'),\n",
       " ('HousingStatus', 'WorkersEquiv'),\n",
       " ('HousingStatus', 'HEAP'),\n",
       " ('WorkersEquiv', 'SchoolLunch'),\n",
       " ('WorkersEquiv', 'Pov_risk'),\n",
       " ('WorkersEquiv', 'EducAttain'),\n",
       " ('HEAP', 'MOOP'),\n",
       " ('HEAP', 'FoodStamps'),\n",
       " ('HEAP', 'SchoolLunch'),\n",
       " ('HEAP', 'EducAttain'),\n",
       " ('FoodStamps', 'WorkersEquiv'),\n",
       " ('FoodStamps', 'Pov_risk')]"
      ]
     },
     "execution_count": 62,
     "metadata": {},
     "output_type": "execute_result"
    }
   ],
   "source": [
    "best_model7.edges()"
   ]
  },
  {
   "cell_type": "code",
   "execution_count": 63,
   "metadata": {
    "collapsed": true
   },
   "outputs": [],
   "source": [
    "best_model7.fit(train7, estimator=BayesianEstimator, prior_type='BDeu', equivalent_sample_size=100)\n",
    "test7 = test7.astype(int)\n",
    "test7.reset_index(inplace=True, drop=True)\n",
    "\n",
    "y_pred7 = best_model7.predict(test7.loc[:,[u'HEAP', u'HousingStatus', u'WorkersEquiv', u'SchoolLunch', u'MOOP',\n",
    "       u'EducAttain', u'FoodStamps']])"
   ]
  },
  {
   "cell_type": "code",
   "execution_count": 64,
   "metadata": {
    "collapsed": false
   },
   "outputs": [
    {
     "data": {
      "text/plain": [
       "0.69006781013163143"
      ]
     },
     "execution_count": 64,
     "metadata": {},
     "output_type": "execute_result"
    }
   ],
   "source": [
    "((y_pred7.Pov_risk == test7.Pov_risk).sum()*1.0)/len(test7)"
   ]
  },
  {
   "cell_type": "code",
   "execution_count": 92,
   "metadata": {
    "collapsed": false
   },
   "outputs": [
    {
     "name": "stdout",
     "output_type": "stream",
     "text": [
      "             precision    recall  f1-score   support\n",
      "\n",
      "       Poor       0.53      0.43      0.47       916\n",
      "    At_Risk       0.48      0.11      0.18       996\n",
      "   Not_Poor       0.73      0.95      0.83      3102\n",
      "\n",
      "avg / total       0.65      0.69      0.63      5014\n",
      "\n"
     ]
    }
   ],
   "source": [
    "print metrics.classification_report(test7.Pov_risk, y_pred7.Pov_risk,  target_names=['Poor', 'At_Risk', 'Not_Poor'])"
   ]
  },
  {
   "cell_type": "code",
   "execution_count": 65,
   "metadata": {
    "collapsed": true
   },
   "outputs": [],
   "source": [
    "puma_08 = pd.read_csv(\"../Data/Cleaned/puma_08.csv\")\n",
    "puma_08.drop(['Unnamed: 0'], axis=1, inplace=True)\n",
    "\n",
    "X8 = features(puma_08)\n",
    "X8 = X8.loc[:,cols] \n",
    "\n",
    "train8,test8=train_test_split(X8,random_state=9,test_size=0.20)\n",
    "hc8 = HillClimbSearch(train8, scoring_method=BicScore(train8))\n",
    "best_model8 = hc8.estimate()"
   ]
  },
  {
   "cell_type": "code",
   "execution_count": 66,
   "metadata": {
    "collapsed": false
   },
   "outputs": [
    {
     "data": {
      "text/plain": [
       "[('Pov_risk', 'MOOP'),\n",
       " ('Pov_risk', 'FoodStamps'),\n",
       " ('Pov_risk', 'HEAP'),\n",
       " ('Pov_risk', 'EducAttain'),\n",
       " ('WorkersEquiv', 'HEAP'),\n",
       " ('WorkersEquiv', 'SchoolLunch'),\n",
       " ('WorkersEquiv', 'Pov_risk'),\n",
       " ('WorkersEquiv', 'EducAttain'),\n",
       " ('WorkersEquiv', 'HousingStatus'),\n",
       " ('SchoolLunch', 'Pov_risk'),\n",
       " ('SchoolLunch', 'HEAP'),\n",
       " ('HEAP', 'FoodStamps'),\n",
       " ('FoodStamps', 'EducAttain'),\n",
       " ('FoodStamps', 'HousingStatus'),\n",
       " ('EducAttain', 'MOOP')]"
      ]
     },
     "execution_count": 66,
     "metadata": {},
     "output_type": "execute_result"
    }
   ],
   "source": [
    "best_model8.edges()"
   ]
  },
  {
   "cell_type": "code",
   "execution_count": 67,
   "metadata": {
    "collapsed": false
   },
   "outputs": [],
   "source": [
    "best_model8.fit(train8, estimator=BayesianEstimator, prior_type='BDeu', equivalent_sample_size=100)\n",
    "test8 = test8.astype(int)\n",
    "test8.reset_index(inplace=True, drop=True)\n",
    "\n",
    "y_pred8 = best_model8.predict(test8.loc[:,[u'HEAP', u'HousingStatus', u'WorkersEquiv', u'SchoolLunch', u'MOOP',\n",
    "       u'EducAttain', u'FoodStamps']])"
   ]
  },
  {
   "cell_type": "code",
   "execution_count": 68,
   "metadata": {
    "collapsed": false
   },
   "outputs": [
    {
     "data": {
      "text/plain": [
       "0.7055797388207361"
      ]
     },
     "execution_count": 68,
     "metadata": {},
     "output_type": "execute_result"
    }
   ],
   "source": [
    "((y_pred8.Pov_risk == test8.Pov_risk).sum()*1.0)/len(test8)"
   ]
  },
  {
   "cell_type": "code",
   "execution_count": 91,
   "metadata": {
    "collapsed": false
   },
   "outputs": [
    {
     "name": "stdout",
     "output_type": "stream",
     "text": [
      "             precision    recall  f1-score   support\n",
      "\n",
      "       Poor       0.54      0.48      0.51       932\n",
      "    At_Risk       0.48      0.12      0.19       945\n",
      "   Not_Poor       0.75      0.95      0.84      3177\n",
      "\n",
      "avg / total       0.66      0.71      0.66      5054\n",
      "\n"
     ]
    }
   ],
   "source": [
    "print metrics.classification_report(test8.Pov_risk, y_pred8.Pov_risk,  target_names=['Poor', 'At_Risk', 'Not_Poor'])"
   ]
  },
  {
   "cell_type": "code",
   "execution_count": 69,
   "metadata": {
    "collapsed": true
   },
   "outputs": [],
   "source": [
    "puma_09 = pd.read_csv(\"../Data/Cleaned/puma_09.csv\")\n",
    "puma_09.drop(['Unnamed: 0'], axis=1, inplace=True)\n",
    "\n",
    "X9 = features(puma_09)\n",
    "X9 = X9.loc[:,cols] \n",
    "\n",
    "train9,test9=train_test_split(X9,random_state=9,test_size=0.20)\n",
    "hc9 = HillClimbSearch(train9, scoring_method=BicScore(train9))\n",
    "best_model9 = hc9.estimate()"
   ]
  },
  {
   "cell_type": "code",
   "execution_count": 70,
   "metadata": {
    "collapsed": false
   },
   "outputs": [
    {
     "data": {
      "text/plain": [
       "[('Pov_risk', 'WorkersEquiv'),\n",
       " ('Pov_risk', 'FoodStamps'),\n",
       " ('Pov_risk', 'SchoolLunch'),\n",
       " ('Pov_risk', 'HEAP'),\n",
       " ('Pov_risk', 'MOOP'),\n",
       " ('WorkersEquiv', 'SchoolLunch'),\n",
       " ('WorkersEquiv', 'HousingStatus'),\n",
       " ('HEAP', 'FoodStamps'),\n",
       " ('FoodStamps', 'WorkersEquiv'),\n",
       " ('FoodStamps', 'SchoolLunch'),\n",
       " ('FoodStamps', 'HousingStatus'),\n",
       " ('EducAttain', 'WorkersEquiv'),\n",
       " ('EducAttain', 'Pov_risk'),\n",
       " ('EducAttain', 'HEAP'),\n",
       " ('EducAttain', 'MOOP')]"
      ]
     },
     "execution_count": 70,
     "metadata": {},
     "output_type": "execute_result"
    }
   ],
   "source": [
    "best_model9.edges()"
   ]
  },
  {
   "cell_type": "code",
   "execution_count": 71,
   "metadata": {
    "collapsed": true
   },
   "outputs": [],
   "source": [
    "best_model9.fit(train9, estimator=BayesianEstimator, prior_type='BDeu', equivalent_sample_size=100)\n",
    "test9 = test9.astype(int)\n",
    "test9.reset_index(inplace=True, drop=True)\n",
    "\n",
    "y_pred9 = best_model9.predict(test9.loc[:,[u'HEAP', u'HousingStatus', u'WorkersEquiv', u'SchoolLunch', u'MOOP',\n",
    "       u'EducAttain', u'FoodStamps']])"
   ]
  },
  {
   "cell_type": "code",
   "execution_count": 72,
   "metadata": {
    "collapsed": false
   },
   "outputs": [
    {
     "data": {
      "text/plain": [
       "0.69191919191919193"
      ]
     },
     "execution_count": 72,
     "metadata": {},
     "output_type": "execute_result"
    }
   ],
   "source": [
    "((y_pred9.Pov_risk == test9.Pov_risk).sum()*1.0)/len(test9)"
   ]
  },
  {
   "cell_type": "code",
   "execution_count": 90,
   "metadata": {
    "collapsed": false
   },
   "outputs": [
    {
     "name": "stdout",
     "output_type": "stream",
     "text": [
      "             precision    recall  f1-score   support\n",
      "\n",
      "       Poor       0.55      0.49      0.52      1025\n",
      "    At_Risk       0.48      0.13      0.20      1016\n",
      "   Not_Poor       0.74      0.94      0.83      3107\n",
      "\n",
      "avg / total       0.65      0.69      0.64      5148\n",
      "\n"
     ]
    }
   ],
   "source": [
    "print metrics.classification_report(test9.Pov_risk, y_pred9.Pov_risk,  target_names=['Poor', 'At_Risk', 'Not_Poor'])"
   ]
  },
  {
   "cell_type": "code",
   "execution_count": 73,
   "metadata": {
    "collapsed": true
   },
   "outputs": [],
   "source": [
    "puma_10 = pd.read_csv(\"../Data/Cleaned/puma_10.csv\")\n",
    "puma_10.drop(['Unnamed: 0'], axis=1, inplace=True)\n",
    "\n",
    "X10 = features(puma_10)\n",
    "X10 = X10.loc[:,cols] \n",
    "\n",
    "train10,test10=train_test_split(X10,random_state=9,test_size=0.20)\n",
    "hc10 = HillClimbSearch(train10, scoring_method=BicScore(train10))\n",
    "best_model10 = hc10.estimate()"
   ]
  },
  {
   "cell_type": "code",
   "execution_count": 74,
   "metadata": {
    "collapsed": false
   },
   "outputs": [
    {
     "data": {
      "text/plain": [
       "[('Pov_risk', 'HousingStatus'),\n",
       " ('Pov_risk', 'MOOP'),\n",
       " ('Pov_risk', 'WorkersEquiv'),\n",
       " ('Pov_risk', 'SchoolLunch'),\n",
       " ('Pov_risk', 'HEAP'),\n",
       " ('Pov_risk', 'FoodStamps'),\n",
       " ('HousingStatus', 'HEAP'),\n",
       " ('WorkersEquiv', 'SchoolLunch'),\n",
       " ('WorkersEquiv', 'HousingStatus'),\n",
       " ('SchoolLunch', 'FoodStamps'),\n",
       " ('HEAP', 'FoodStamps'),\n",
       " ('HEAP', 'SchoolLunch'),\n",
       " ('EducAttain', 'WorkersEquiv'),\n",
       " ('EducAttain', 'Pov_risk'),\n",
       " ('EducAttain', 'MOOP')]"
      ]
     },
     "execution_count": 74,
     "metadata": {},
     "output_type": "execute_result"
    }
   ],
   "source": [
    "best_model10.edges()"
   ]
  },
  {
   "cell_type": "code",
   "execution_count": 75,
   "metadata": {
    "collapsed": true
   },
   "outputs": [],
   "source": [
    "best_model10.fit(train10, estimator=BayesianEstimator, prior_type='BDeu', equivalent_sample_size=100)\n",
    "test10 = test10.astype(int)\n",
    "test10.reset_index(inplace=True, drop=True)\n",
    "\n",
    "y_pred10 = best_model10.predict(test10.loc[:,[u'HEAP', u'HousingStatus', u'WorkersEquiv', u'SchoolLunch', u'MOOP',\n",
    "       u'EducAttain', u'FoodStamps']])"
   ]
  },
  {
   "cell_type": "code",
   "execution_count": 76,
   "metadata": {
    "collapsed": false
   },
   "outputs": [
    {
     "data": {
      "text/plain": [
       "0.67303649914007257"
      ]
     },
     "execution_count": 76,
     "metadata": {},
     "output_type": "execute_result"
    }
   ],
   "source": [
    "((y_pred10.Pov_risk == test10.Pov_risk).sum()*1.0)/len(test10)"
   ]
  },
  {
   "cell_type": "code",
   "execution_count": 88,
   "metadata": {
    "collapsed": false
   },
   "outputs": [
    {
     "name": "stdout",
     "output_type": "stream",
     "text": [
      "             precision    recall  f1-score   support\n",
      "\n",
      "       Poor       0.53      0.48      0.50      1050\n",
      "    At_Risk       0.46      0.23      0.31      1126\n",
      "   Not_Poor       0.74      0.90      0.81      3057\n",
      "\n",
      "avg / total       0.64      0.67      0.64      5233\n",
      "\n"
     ]
    }
   ],
   "source": [
    "print metrics.classification_report(test10.Pov_risk, y_pred10.Pov_risk,  target_names=['Poor', 'At_Risk', 'Not_Poor'])"
   ]
  },
  {
   "cell_type": "code",
   "execution_count": 77,
   "metadata": {
    "collapsed": true
   },
   "outputs": [],
   "source": [
    "puma_11 = pd.read_csv(\"../Data/Cleaned/puma_11.csv\")\n",
    "puma_11.drop(['Unnamed: 0'], axis=1, inplace=True)\n",
    "\n",
    "X11 = features(puma_11)\n",
    "X11 = X11.loc[:,cols] \n",
    "\n",
    "train11,test11=train_test_split(X11,random_state=9,test_size=0.20)\n",
    "hc11 = HillClimbSearch(train11, scoring_method=BicScore(train11))\n",
    "best_model11 = hc11.estimate()"
   ]
  },
  {
   "cell_type": "code",
   "execution_count": 78,
   "metadata": {
    "collapsed": false
   },
   "outputs": [
    {
     "data": {
      "text/plain": [
       "[('Pov_risk', 'WorkersEquiv'),\n",
       " ('Pov_risk', 'FoodStamps'),\n",
       " ('Pov_risk', 'SchoolLunch'),\n",
       " ('Pov_risk', 'HEAP'),\n",
       " ('Pov_risk', 'MOOP'),\n",
       " ('WorkersEquiv', 'SchoolLunch'),\n",
       " ('WorkersEquiv', 'HousingStatus'),\n",
       " ('SchoolLunch', 'HEAP'),\n",
       " ('HEAP', 'HousingStatus'),\n",
       " ('FoodStamps', 'WorkersEquiv'),\n",
       " ('FoodStamps', 'SchoolLunch'),\n",
       " ('FoodStamps', 'HEAP'),\n",
       " ('EducAttain', 'WorkersEquiv'),\n",
       " ('EducAttain', 'FoodStamps'),\n",
       " ('EducAttain', 'Pov_risk'),\n",
       " ('EducAttain', 'MOOP')]"
      ]
     },
     "execution_count": 78,
     "metadata": {},
     "output_type": "execute_result"
    }
   ],
   "source": [
    "best_model11.edges()"
   ]
  },
  {
   "cell_type": "code",
   "execution_count": 79,
   "metadata": {
    "collapsed": true
   },
   "outputs": [],
   "source": [
    "best_model11.fit(train11, estimator=BayesianEstimator, prior_type='BDeu', equivalent_sample_size=100)\n",
    "test11 = test11.astype(int)\n",
    "test11.reset_index(inplace=True, drop=True)\n",
    "\n",
    "y_pred11 = best_model11.predict(test11.loc[:,[u'HEAP', u'HousingStatus', u'WorkersEquiv', u'SchoolLunch', u'MOOP',\n",
    "       u'EducAttain', u'FoodStamps']])"
   ]
  },
  {
   "cell_type": "code",
   "execution_count": 80,
   "metadata": {
    "collapsed": false
   },
   "outputs": [
    {
     "data": {
      "text/plain": [
       "0.65649001536098306"
      ]
     },
     "execution_count": 80,
     "metadata": {},
     "output_type": "execute_result"
    }
   ],
   "source": [
    "((y_pred11.Pov_risk == test11.Pov_risk).sum()*1.0)/len(test11)"
   ]
  },
  {
   "cell_type": "code",
   "execution_count": 87,
   "metadata": {
    "collapsed": false
   },
   "outputs": [
    {
     "name": "stdout",
     "output_type": "stream",
     "text": [
      "             precision    recall  f1-score   support\n",
      "\n",
      "       Poor       0.49      0.49      0.49      1040\n",
      "    At_Risk       0.41      0.11      0.18      1121\n",
      "   Not_Poor       0.72      0.91      0.81      3047\n",
      "\n",
      "avg / total       0.61      0.66      0.61      5208\n",
      "\n"
     ]
    }
   ],
   "source": [
    "print metrics.classification_report( test11.Pov_risk,y_pred11.Pov_risk, target_names=['Poor', 'At_Risk', 'Not_Poor'])"
   ]
  },
  {
   "cell_type": "code",
   "execution_count": null,
   "metadata": {
    "collapsed": true
   },
   "outputs": [],
   "source": [
    "puma_12 = pd.read_csv(\"../Data/Cleaned/puma_12.csv\")\n",
    "puma_12.drop(['Unnamed: 0'], axis=1, inplace=True)\n",
    "\n",
    "X12 = features(puma_12)\n",
    "X12 = X12.loc[:,cols] \n",
    "\n",
    "train12,test12=train_test_split(X12,random_state=9,test_size=0.20)\n",
    "hc12 = HillClimbSearch(train12, scoring_method=BicScore(train12))\n",
    "best_model12 = hc12.estimate()"
   ]
  },
  {
   "cell_type": "code",
   "execution_count": null,
   "metadata": {
    "collapsed": true
   },
   "outputs": [],
   "source": [
    "best_model12.edges()"
   ]
  },
  {
   "cell_type": "code",
   "execution_count": null,
   "metadata": {
    "collapsed": true
   },
   "outputs": [],
   "source": [
    "best_model12.fit(train12, estimator=BayesianEstimator, prior_type='BDeu', equivalent_sample_size=100)\n",
    "test12 = test12.astype(int)\n",
    "test12.reset_index(inplace=True, drop=True)\n",
    "\n",
    "y_pred12 = best_model12.predict(test12.loc[:,[u'HEAP', u'HousingStatus', u'WorkersEquiv', u'SchoolLunch', u'MOOP',\n",
    "       u'EducAttain', u'FoodStamps']])"
   ]
  },
  {
   "cell_type": "code",
   "execution_count": null,
   "metadata": {
    "collapsed": true
   },
   "outputs": [],
   "source": [
    "((y_pred12.Pov_risk == test12.Pov_risk).sum()*1.0)/len(test12)"
   ]
  },
  {
   "cell_type": "code",
   "execution_count": null,
   "metadata": {
    "collapsed": true
   },
   "outputs": [],
   "source": [
    "puma_13 = pd.read_csv(\"../Data/Cleaned/puma_13.csv\")\n",
    "puma_13.drop(['Unnamed: 0'], axis=1, inplace=True)\n",
    "\n",
    "X13 = features(puma_13)\n",
    "X13 = X13.loc[:,cols] \n",
    "\n",
    "train13,test13=train_test_split(X13,random_state=9,test_size=0.20)\n",
    "hc13 = HillClimbSearch(train13, scoring_method=BicScore(train13))\n",
    "best_model13 = hc13.estimate()"
   ]
  },
  {
   "cell_type": "code",
   "execution_count": null,
   "metadata": {
    "collapsed": true
   },
   "outputs": [],
   "source": [
    "best_model13.edges()"
   ]
  },
  {
   "cell_type": "code",
   "execution_count": null,
   "metadata": {
    "collapsed": true
   },
   "outputs": [],
   "source": [
    "best_model13.fit(train13, estimator=BayesianEstimator, prior_type='BDeu', equivalent_sample_size=100)\n",
    "test13 = test13.astype(int)\n",
    "test13.reset_index(inplace=True, drop=True)\n",
    "\n",
    "y_pred13 = best_model13.predict(test13.loc[:,[u'HEAP', u'HousingStatus', u'WorkersEquiv', u'SchoolLunch', u'MOOP',\n",
    "       u'EducAttain', u'FoodStamps']])"
   ]
  },
  {
   "cell_type": "code",
   "execution_count": null,
   "metadata": {
    "collapsed": true
   },
   "outputs": [],
   "source": [
    "((y_pred13.Pov_risk == test13.Pov_risk).sum()*1.0)/len(test13)"
   ]
  },
  {
   "cell_type": "code",
   "execution_count": null,
   "metadata": {
    "collapsed": true
   },
   "outputs": [],
   "source": [
    "puma_14 = pd.read_csv(\"../Data/Cleaned/puma_14.csv\")\n",
    "puma_14.drop(['Unnamed: 0'], axis=1, inplace=True)\n",
    "\n",
    "X14 = features(puma_14)\n",
    "X14 = X14.loc[:,cols] \n",
    "\n",
    "train14,test14=train_test_split(X14,random_state=9,test_size=0.20)\n",
    "hc14 = HillClimbSearch(train14, scoring_method=BicScore(train14))\n",
    "best_model14 = hc14.estimate()"
   ]
  },
  {
   "cell_type": "code",
   "execution_count": null,
   "metadata": {
    "collapsed": true
   },
   "outputs": [],
   "source": [
    "best_model14.edges()"
   ]
  },
  {
   "cell_type": "code",
   "execution_count": null,
   "metadata": {
    "collapsed": true
   },
   "outputs": [],
   "source": [
    "best_model14.fit(train14, estimator=BayesianEstimator, prior_type='BDeu', equivalent_sample_size=100)\n",
    "test14 = test14.astype(int)\n",
    "test14.reset_index(inplace=True, drop=True)\n",
    "\n",
    "y_pred14 = best_model14.predict(test14.loc[:,[u'HEAP', u'HousingStatus', u'WorkersEquiv', u'SchoolLunch', u'MOOP',\n",
    "       u'EducAttain', u'FoodStamps']])"
   ]
  },
  {
   "cell_type": "code",
   "execution_count": null,
   "metadata": {
    "collapsed": true
   },
   "outputs": [],
   "source": [
    "((y_pred14.Pov_risk == test14.Pov_risk).sum()*1.0)/len(test14)"
   ]
  },
  {
   "cell_type": "code",
   "execution_count": null,
   "metadata": {
    "collapsed": true
   },
   "outputs": [],
   "source": []
  }
 ],
 "metadata": {
  "kernelspec": {
   "display_name": "kJVEvys217",
   "language": "python",
   "name": "kjvevys217"
  },
  "language_info": {
   "codemirror_mode": {
    "name": "ipython",
    "version": 2
   },
   "file_extension": ".py",
   "mimetype": "text/x-python",
   "name": "python",
   "nbconvert_exporter": "python",
   "pygments_lexer": "ipython2",
   "version": "2.7.13"
  }
 },
 "nbformat": 4,
 "nbformat_minor": 0
}
