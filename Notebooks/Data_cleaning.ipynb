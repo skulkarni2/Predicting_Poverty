{
 "cells": [
  {
   "cell_type": "code",
   "execution_count": 190,
   "metadata": {
    "collapsed": false
   },
   "outputs": [],
   "source": [
    "import pandas as pd\n",
    "import numpy as np\n",
    "import seaborn as sns\n",
    "import os\n",
    "import matplotlib.pyplot as plt\n",
    "%matplotlib inline"
   ]
  },
  {
   "cell_type": "code",
   "execution_count": 191,
   "metadata": {
    "collapsed": false
   },
   "outputs": [],
   "source": [
    "puma_05 = pd.read_csv(\"../Data/2005 NYC Web Dataset.csv\")\n",
    "puma_06 = pd.read_csv(\"../Data/2006 NYC Web Dataset.csv\")\n",
    "puma_07 = pd.read_csv(\"../Data/2007 NYC Web Dataset.csv\")\n",
    "puma_08 = pd.read_csv(\"../Data/2008 NYC Web Dataset.csv\")\n",
    "puma_09 = pd.read_csv(\"../Data/2009 NYC Web Dataset.csv\")\n",
    "puma_10 = pd.read_csv(\"../Data/2010 NYC Web Dataset.csv\")\n",
    "puma_11 = pd.read_csv(\"../Data/2011 NYC Web Dataset.csv\")\n",
    "puma_12 = pd.read_csv(\"../Data/2012 NYC Web Dataset.csv\")\n",
    "puma_13 = pd.read_csv(\"../Data/2013 NYC Web Dataset.csv\")\n",
    "puma_14 = pd.read_csv(\"../Data/2014 NYC Web Dataset.csv\")"
   ]
  },
  {
   "cell_type": "code",
   "execution_count": 178,
   "metadata": {
    "collapsed": false
   },
   "outputs": [
    {
     "data": {
      "text/plain": [
       "Index([u'RT', u'SERIALNO', u'DIVISION', u'PUMA', u'REGION', u'ST', u'ADJUST',\n",
       "       u'WGTP', u'NP', u'TYPE',\n",
       "       ...\n",
       "       u'MOOP', u'HEAP', u'WIC', u'FoodStamps', u'SchoolLunch',\n",
       "       u'SchoolBreakfast', u'FICAtax', u'IncomeTax', u'CD', u'Nabe'],\n",
       "      dtype='object', length=451)"
      ]
     },
     "execution_count": 178,
     "metadata": {},
     "output_type": "execute_result"
    }
   ],
   "source": [
    "puma_05.columns"
   ]
  },
  {
   "cell_type": "code",
   "execution_count": 75,
   "metadata": {
    "collapsed": false
   },
   "outputs": [
    {
     "data": {
      "text/plain": [
       "Index([u'SERIALNO', u'RT', u'DIVISION', u'PUMA', u'REGION', u'ST', u'ADJUST',\n",
       "       u'WGTP', u'NP', u'TYPE',\n",
       "       ...\n",
       "       u'MOOP', u'HEAP', u'WIC', u'FoodStamps', u'SchoolLunch',\n",
       "       u'SchoolBreakfast', u'FICAtax', u'IncomeTax', u'CD', u'Nabe'],\n",
       "      dtype='object', length=452)"
      ]
     },
     "execution_count": 75,
     "metadata": {},
     "output_type": "execute_result"
    }
   ],
   "source": [
    "puma_06.columns"
   ]
  },
  {
   "cell_type": "code",
   "execution_count": 76,
   "metadata": {
    "collapsed": false
   },
   "outputs": [
    {
     "data": {
      "text/plain": [
       "Index([u'RT', u'SERIALNO', u'DIVISION', u'PUMA', u'REGION', u'ST', u'ADJUST',\n",
       "       u'WGTP', u'NP', u'TYPE',\n",
       "       ...\n",
       "       u'MOOP', u'HEAP', u'WIC', u'FoodStamps', u'SchoolLunch',\n",
       "       u'SchoolBreakfast', u'FICAtax', u'IncomeTax', u'CD', u'Nabe'],\n",
       "      dtype='object', length=452)"
      ]
     },
     "execution_count": 76,
     "metadata": {},
     "output_type": "execute_result"
    }
   ],
   "source": [
    "puma_07.columns"
   ]
  },
  {
   "cell_type": "code",
   "execution_count": 77,
   "metadata": {
    "collapsed": false
   },
   "outputs": [
    {
     "data": {
      "text/plain": [
       "Index([u'RT', u'SERIALNO', u'DIVISION', u'PUMA', u'REGION', u'ST', u'ADJHSG',\n",
       "       u'ADJINC', u'WGTP', u'NP',\n",
       "       ...\n",
       "       u'MOOP', u'HEAP', u'WIC', u'FoodStamps', u'SchoolLunch',\n",
       "       u'SchoolBreakfast', u'FICAtax', u'IncomeTax', u'CD', u'Nabe'],\n",
       "      dtype='object', length=498)"
      ]
     },
     "execution_count": 77,
     "metadata": {},
     "output_type": "execute_result"
    }
   ],
   "source": [
    "puma_08.columns"
   ]
  },
  {
   "cell_type": "code",
   "execution_count": 78,
   "metadata": {
    "collapsed": false
   },
   "outputs": [
    {
     "data": {
      "text/plain": [
       "Index([u'RT', u'SERIALNO', u'DIVISION', u'PUMA', u'REGION', u'ST', u'ADJHSG',\n",
       "       u'ADJINC', u'WGTP', u'NP',\n",
       "       ...\n",
       "       u'MOOP', u'HEAP', u'WIC', u'FoodStamps', u'SchoolLunch',\n",
       "       u'SchoolBreakfast', u'FICAtax', u'IncomeTax', u'CD', u'Nabe'],\n",
       "      dtype='object', length=506)"
      ]
     },
     "execution_count": 78,
     "metadata": {},
     "output_type": "execute_result"
    }
   ],
   "source": [
    "puma_09.columns"
   ]
  },
  {
   "cell_type": "code",
   "execution_count": 79,
   "metadata": {
    "collapsed": false
   },
   "outputs": [
    {
     "data": {
      "text/plain": [
       "Index([u'RT', u'SERIALNO', u'DIVISION', u'PUMA', u'REGION', u'ST', u'ADJHSG',\n",
       "       u'ADJINC', u'WGTP', u'NP',\n",
       "       ...\n",
       "       u'MOOP', u'HEAP', u'WIC', u'FoodStamps', u'SchoolLunch',\n",
       "       u'SchoolBreakfast', u'FICAtax', u'IncomeTax', u'CD', u'Nabe'],\n",
       "      dtype='object', length=507)"
      ]
     },
     "execution_count": 79,
     "metadata": {},
     "output_type": "execute_result"
    }
   ],
   "source": [
    "puma_10.columns"
   ]
  },
  {
   "cell_type": "code",
   "execution_count": 80,
   "metadata": {
    "collapsed": false
   },
   "outputs": [
    {
     "data": {
      "text/plain": [
       "Index([u'RT', u'SERIALNO', u'DIVISION', u'PUMA', u'REGION', u'ST', u'ADJHSG',\n",
       "       u'ADJINC', u'WGTP', u'NP',\n",
       "       ...\n",
       "       u'MOOP', u'HEAP', u'WIC', u'FoodStamps', u'SchoolLunch',\n",
       "       u'SchoolBreakfast', u'FICAtax', u'IncomeTax', u'CD', u'Nabe'],\n",
       "      dtype='object', length=515)"
      ]
     },
     "execution_count": 80,
     "metadata": {},
     "output_type": "execute_result"
    }
   ],
   "source": [
    "puma_11.columns"
   ]
  },
  {
   "cell_type": "code",
   "execution_count": 81,
   "metadata": {
    "collapsed": false
   },
   "outputs": [
    {
     "data": {
      "text/plain": [
       "Index([u'SERIALNO', u'RT', u'DIVISION', u'PUMA', u'REGION', u'ST', u'ADJHSG',\n",
       "       u'ADJINC', u'WGTP', u'NP',\n",
       "       ...\n",
       "       u'MOOP', u'HEAP', u'WIC', u'FoodStamps', u'SchoolLunch',\n",
       "       u'SchoolBreakfast', u'FICAtax', u'IncomeTax', u'CD', u'Nabe'],\n",
       "      dtype='object', length=517)"
      ]
     },
     "execution_count": 81,
     "metadata": {},
     "output_type": "execute_result"
    }
   ],
   "source": [
    "puma_12.columns"
   ]
  },
  {
   "cell_type": "code",
   "execution_count": 82,
   "metadata": {
    "collapsed": false
   },
   "outputs": [
    {
     "data": {
      "text/plain": [
       "Index([u'SERIALNO', u'RT', u'DIVISION', u'PUMA', u'REGION', u'ST', u'ADJHSG',\n",
       "       u'ADJINC', u'WGTP', u'NP',\n",
       "       ...\n",
       "       u'MOOP', u'HEAP', u'WIC', u'FoodStamps', u'SchoolLunch',\n",
       "       u'SchoolBreakfast', u'FICAtax', u'IncomeTax', u'CD', u'Nabe'],\n",
       "      dtype='object', length=539)"
      ]
     },
     "execution_count": 82,
     "metadata": {},
     "output_type": "execute_result"
    }
   ],
   "source": [
    "puma_13.columns"
   ]
  },
  {
   "cell_type": "code",
   "execution_count": 83,
   "metadata": {
    "collapsed": false
   },
   "outputs": [
    {
     "data": {
      "text/plain": [
       "Index([u'RT', u'SERIALNO', u'DIVISION', u'PUMA', u'REGION', u'ST', u'ADJHSG',\n",
       "       u'ADJINC', u'WGTP', u'NP',\n",
       "       ...\n",
       "       u'MOOP', u'HEAP', u'WIC', u'FoodStamps', u'SchoolLunch',\n",
       "       u'SchoolBreakfast', u'FICAtax', u'IncomeTax', u'CD', u'Nabe'],\n",
       "      dtype='object', length=544)"
      ]
     },
     "execution_count": 83,
     "metadata": {},
     "output_type": "execute_result"
    }
   ],
   "source": [
    "puma_14.columns"
   ]
  },
  {
   "cell_type": "code",
   "execution_count": 84,
   "metadata": {
    "collapsed": false
   },
   "outputs": [],
   "source": [
    "p05 = set(puma_05.columns)\n",
    "p06 = set(puma_06.columns)\n",
    "p07 = set(puma_07.columns)\n",
    "p08 = set(puma_08.columns)\n",
    "p09 = set(puma_09.columns)\n",
    "p10 = set(puma_10.columns)\n",
    "p11 = set(puma_11.columns)\n",
    "p12 = set(puma_12.columns)\n",
    "p13 = set(puma_13.columns)\n",
    "p14 = set(puma_14.columns)"
   ]
  },
  {
   "cell_type": "markdown",
   "metadata": {},
   "source": [
    "# New Variables in 2014 dataset"
   ]
  },
  {
   "cell_type": "code",
   "execution_count": 85,
   "metadata": {
    "collapsed": false
   },
   "outputs": [
    {
     "name": "stdout",
     "output_type": "stream",
     "text": [
      "set(['FBATHP', 'FFODP', 'FHOTWATP', 'FHANDHELDP', 'ADJINC', 'DEAR', 'FHINCP', 'SATELLITE', 'DIALUP', 'FSINKP', 'FPINCP', 'FMARHWP', 'RELP', 'RMSP', 'HANDHELD', 'MLPFG', 'FDIALUPP', 'FFIBEROPP', 'PLMPRP', 'FHINS2P', 'ADJHSG', 'WRK', 'FHINS5P', 'FSMOCP', 'HOTWAT', 'FRWATPRP', 'VALP', 'OTHSVCEX', 'FHINS5C', 'MARHT', 'MARHW', 'MARHM', 'RACNH', 'FFINCP', 'BATH', 'FPRIVCOVP', 'FOTHSVCEXP', 'PUBCOV', 'FDEARP', 'FIBEROP', 'FDSLP', 'PRIVCOV', 'FWRKP', 'FDRATP', 'FHINS3P', 'FPERNP', 'FMARHYP', 'CITWP', 'MARHD', 'FHINS3C', 'FACCESSP', 'DSL', 'FMVP', 'TOIL', 'NOP', 'FCOMPOTHXP', 'FHICOVP', 'FHINS6P', 'STOV', 'MULTG', 'FPUBCOVP', 'FMARHTP', 'MODEM', 'FMARHMP', 'RACPI', 'MARHYP', 'FGRNTP', 'FCITWP', 'DRAT', 'FDISP', 'RWATPR', 'FMARHDP', 'REFR', 'FOD1P', 'SCIENGRLP', 'DRATX', 'HINS1', 'HINS3', 'HINS2', 'HINS5', 'HINS4', 'HINS7', 'HINS6', 'SSMC', 'FHINS1P', 'COMPOTHX', 'RWAT', 'SPORDER', 'FHINS4P', 'FMODEMP', 'HICOV', 'MLPCD', 'FHINS4C', 'FTOILP', 'SINK', 'DIS', 'FSATELLITEP', 'ACCESS', 'FPLMPRP', 'FLAPTOPP', 'FOD2P', 'SCIENGP', 'FHINS7P', 'LAPTOP', 'FREFRP', 'FSTOVP', 'FRWATP', 'FBROADBNDP', 'BDSP', 'FDRATXP', 'BROADBND'])\n"
     ]
    }
   ],
   "source": [
    "print p14.difference(p05)"
   ]
  },
  {
   "cell_type": "code",
   "execution_count": null,
   "metadata": {
    "collapsed": true
   },
   "outputs": [],
   "source": []
  },
  {
   "cell_type": "markdown",
   "metadata": {},
   "source": [
    "# Features used - Serial NO. and some CEO Variables"
   ]
  },
  {
   "cell_type": "code",
   "execution_count": 192,
   "metadata": {
    "collapsed": false
   },
   "outputs": [],
   "source": [
    "cols = ['SERIALNO', 'NP','ACR', 'MV', 'JWTR', 'PUMA', 'Official_Poverty', 'AgeCateg', 'CitizenStatus',\n",
    "       'CEO_Poverty', 'Official_Threshold', 'MOOP', 'Nabe', 'EducAttain',\n",
    "       'FoodStamps', 'FICAtax', 'WorkExpIndiv', 'SchoolLunch', 'Commuting',\n",
    "       'HEAP', 'Ethnicity', 'PovunitType', 'Boro', 'SchoolBreakfast', 'Povrel',\n",
    "       'PreTaxIncome', 'CD', 'CEO_Income', 'Housing', 'CEO_Threshold',\n",
    "       'IncomeTax', 'HousingStatus', 'WIC', 'Childcare', 'Povunit',\n",
    "       'WorkersEquiv']"
   ]
  },
  {
   "cell_type": "code",
   "execution_count": 193,
   "metadata": {
    "collapsed": false
   },
   "outputs": [],
   "source": [
    "puma_05 = puma_05[cols]\n",
    "puma_06 = puma_06[cols]\n",
    "puma_07 = puma_07[cols]\n",
    "puma_08 = puma_08[cols]\n",
    "puma_09 = puma_09[cols]\n",
    "puma_10 = puma_10[cols]\n",
    "puma_11 = puma_11[cols]\n",
    "puma_12 = puma_12[cols]\n",
    "puma_13 = puma_13[cols]\n",
    "puma_14 = puma_14[cols]"
   ]
  },
  {
   "cell_type": "code",
   "execution_count": 194,
   "metadata": {
    "collapsed": false
   },
   "outputs": [],
   "source": [
    "puma_05['JWTR'] = puma_05['JWTR'].replace(r'\\s+', 0, regex=True)\n",
    "puma_05['ACR'] = puma_05['ACR'].replace(r'\\s+', 0, regex=True)\n",
    "\n",
    "puma_06['JWTR'] = puma_06['JWTR'].replace(r'\\s+', 0, regex=True)\n",
    "puma_06['ACR'] = puma_06['ACR'].replace(r'\\s+', 0, regex=True)\n",
    "\n",
    "puma_07['JWTR'] = puma_07['JWTR'].replace(r'\\s+', 0, regex=True)\n",
    "puma_07['ACR'] = puma_07['ACR'].replace(r'\\s+', 0, regex=True)\n",
    "\n",
    "puma_08['JWTR'] = puma_08['JWTR'].replace(r'\\s+', 0, regex=True)\n",
    "puma_08['ACR'] = puma_08['ACR'].replace(r'\\s+', 0, regex=True)\n",
    "\n",
    "puma_09['JWTR'] = puma_09['JWTR'].replace(r'\\s+', 0, regex=True)\n",
    "puma_09['ACR'] = puma_09['ACR'].replace(r'\\s+', 0, regex=True)\n",
    "\n",
    "puma_10['JWTR'] = puma_10['JWTR'].replace(r'\\s+', 0, regex=True)\n",
    "puma_10['ACR'] = puma_10['ACR'].replace(r'\\s+', 0, regex=True)\n",
    "\n",
    "puma_11['JWTR'] = puma_11['JWTR'].replace(r'\\s+', 0, regex=True)\n",
    "puma_11['ACR'] = puma_11['ACR'].replace(r'\\s+', 0, regex=True)\n",
    "\n",
    "puma_12['JWTR'] = puma_12['JWTR'].replace(r'\\s+', 0, regex=True)\n",
    "puma_12['ACR'] = puma_12['ACR'].replace(r'\\s+', 0, regex=True)\n",
    "\n",
    "puma_13['JWTR'] = puma_13['JWTR'].replace(r'\\s+', 0, regex=True)\n",
    "puma_13['ACR'] = puma_13['ACR'].replace(r'\\s+', 0, regex=True)\n",
    "\n",
    "puma_14['JWTR'] = puma_14['JWTR'].replace(r'\\s+', 0, regex=True)\n",
    "puma_14['ACR'] = puma_14['ACR'].replace(r'\\s+', 0, regex=True)\n"
   ]
  },
  {
   "cell_type": "code",
   "execution_count": 195,
   "metadata": {
    "collapsed": false
   },
   "outputs": [],
   "source": [
    "puma_05 = pd.get_dummies(puma_05, columns=['EducAttain', 'AgeCateg'])\n",
    "puma_06 = pd.get_dummies(puma_06, columns=['EducAttain', 'AgeCateg'])\n",
    "puma_07 = pd.get_dummies(puma_07, columns=['EducAttain', 'AgeCateg'])\n",
    "puma_08 = pd.get_dummies(puma_08, columns=['EducAttain', 'AgeCateg'])\n",
    "puma_09 = pd.get_dummies(puma_09, columns=['EducAttain', 'AgeCateg'])\n",
    "puma_10 = pd.get_dummies(puma_10, columns=['EducAttain', 'AgeCateg'])\n",
    "puma_11 = pd.get_dummies(puma_11, columns=['EducAttain', 'AgeCateg'])\n",
    "puma_12 = pd.get_dummies(puma_12, columns=['EducAttain', 'AgeCateg'])\n",
    "puma_13 = pd.get_dummies(puma_13, columns=['EducAttain', 'AgeCateg'])\n",
    "puma_14 = pd.get_dummies(puma_14, columns=['EducAttain', 'AgeCateg'])"
   ]
  },
  {
   "cell_type": "code",
   "execution_count": 196,
   "metadata": {
    "collapsed": false
   },
   "outputs": [],
   "source": [
    "aggregates = { u'NP':'first', u'ACR':'first', u'MV':'first' , u'JWTR':'max', u'PUMA':'first',\n",
    "       u'Official_Poverty':'max', u'CitizenStatus':'first', u'CEO_Poverty':'first',\n",
    "       u'Official_Threshold':'max', u'MOOP':'max', u'FoodStamps':'max', u'FICAtax':'max',\n",
    "       u'WorkExpIndiv':'first', u'SchoolLunch':'max', u'Commuting':'mean', u'HEAP':'mean', u'Ethnicity':'first',\n",
    "       u'PovunitType':'first', u'Boro':'first', u'SchoolBreakfast':'first', u'PreTaxIncome':'first',\n",
    "       u'CEO_Income':'mean', u'Housing':'mean', u'CEO_Threshold':'mean', u'IncomeTax':'mean',\n",
    "       u'HousingStatus':'first', u'WIC':'mean', u'Childcare':'mean', u'Povunit':'max', u'WorkersEquiv':'first',\n",
    "       u'EducAttain_ ':'count', u'EducAttain_1':'count', u'EducAttain_2':'count', u'EducAttain_3':'count',\n",
    "       u'EducAttain_4':'count', u'AgeCateg_1':'count', u'AgeCateg_2':'count', u'AgeCateg_3':'count'}\n",
    "\n",
    "\n",
    "\n",
    "# aggregates = {'Boro':'first','Povunit':'first', 'NP':'first', 'PUMA':'first', 'PovunitType':'first',\n",
    "#              'HousingStatus':'first','Ethnicity':'max','WorkersEquiv':'first','CitizenStatus':'min',\n",
    "#               'WorkExpIndiv':'first','PreTaxIncome':'mean','Official_Threshold':'max','Official_Poverty':'max',\n",
    "#              'CEO_Income':'mean','CEO_Threshold':'mean','CEO_Poverty':'max',\n",
    "#              'Housing':'mean','Childcare':'mean','Commuting':'mean','MOOP':'mean',\n",
    "#              'HEAP':'mean','WIC':'mean','FoodStamps':'min','SchoolLunch':'min','SchoolBreakfast':'min',\n",
    "#              'FICAtax':'max','IncomeTax':'max'}"
   ]
  },
  {
   "cell_type": "code",
   "execution_count": 197,
   "metadata": {
    "collapsed": false
   },
   "outputs": [],
   "source": [
    "puma_05 = puma_05.groupby('SERIALNO').agg(aggregates) \n",
    "puma_06 = puma_06.groupby('SERIALNO').agg(aggregates)\n",
    "puma_07 = puma_07.groupby('SERIALNO').agg(aggregates)\n",
    "puma_08 = puma_08.groupby('SERIALNO').agg(aggregates)\n",
    "puma_09 = puma_09.groupby('SERIALNO').agg(aggregates)\n",
    "puma_10 = puma_10.groupby('SERIALNO').agg(aggregates)\n",
    "puma_11 = puma_11.groupby('SERIALNO').agg(aggregates)\n",
    "puma_12 = puma_12.groupby('SERIALNO').agg(aggregates)\n",
    "puma_13 = puma_13.groupby('SERIALNO').agg(aggregates)\n",
    "puma_14 = puma_14.groupby('SERIALNO').agg(aggregates)"
   ]
  },
  {
   "cell_type": "code",
   "execution_count": 198,
   "metadata": {
    "collapsed": true
   },
   "outputs": [],
   "source": [
    "puma_05.reset_index(inplace=True)\n",
    "puma_06.reset_index(inplace=True)\n",
    "puma_07.reset_index(inplace=True)\n",
    "puma_08.reset_index(inplace=True)\n",
    "puma_09.reset_index(inplace=True)\n",
    "puma_10.reset_index(inplace=True)\n",
    "puma_11.reset_index(inplace=True)\n",
    "puma_12.reset_index(inplace=True)\n",
    "puma_13.reset_index(inplace=True)\n",
    "puma_14.reset_index(inplace=True)"
   ]
  },
  {
   "cell_type": "code",
   "execution_count": 199,
   "metadata": {
    "collapsed": false
   },
   "outputs": [
    {
     "data": {
      "text/plain": [
       "256"
      ]
     },
     "execution_count": 199,
     "metadata": {},
     "output_type": "execute_result"
    }
   ],
   "source": [
    "os.system(\"mkdir ../Data/Cleaned/\")"
   ]
  },
  {
   "cell_type": "code",
   "execution_count": 200,
   "metadata": {
    "collapsed": false
   },
   "outputs": [
    {
     "ename": "KeyError",
     "evalue": "\"['AgeCateg' 'Nabe' 'EducAttain' 'Povrel' 'CD'] not in index\"",
     "output_type": "error",
     "traceback": [
      "\u001b[0;31m\u001b[0m",
      "\u001b[0;31mKeyError\u001b[0mTraceback (most recent call last)",
      "\u001b[0;32m<ipython-input-200-5130b4d240e4>\u001b[0m in \u001b[0;36m<module>\u001b[0;34m()\u001b[0m\n\u001b[0;32m----> 1\u001b[0;31m \u001b[0mpuma_05\u001b[0m\u001b[0;34m[\u001b[0m\u001b[0mcols\u001b[0m\u001b[0;34m]\u001b[0m\u001b[0;34m.\u001b[0m\u001b[0mto_csv\u001b[0m\u001b[0;34m(\u001b[0m\u001b[0;34m\"../Data/Cleaned/puma_05.csv\"\u001b[0m\u001b[0;34m)\u001b[0m\u001b[0;34m\u001b[0m\u001b[0m\n\u001b[0m\u001b[1;32m      2\u001b[0m \u001b[0mpuma_06\u001b[0m\u001b[0;34m[\u001b[0m\u001b[0mcols\u001b[0m\u001b[0;34m]\u001b[0m\u001b[0;34m.\u001b[0m\u001b[0mto_csv\u001b[0m\u001b[0;34m(\u001b[0m\u001b[0;34m\"../Data/Cleaned/puma_06.csv\"\u001b[0m\u001b[0;34m)\u001b[0m\u001b[0;34m\u001b[0m\u001b[0m\n\u001b[1;32m      3\u001b[0m \u001b[0mpuma_07\u001b[0m\u001b[0;34m[\u001b[0m\u001b[0mcols\u001b[0m\u001b[0;34m]\u001b[0m\u001b[0;34m.\u001b[0m\u001b[0mto_csv\u001b[0m\u001b[0;34m(\u001b[0m\u001b[0;34m\"../Data/Cleaned/puma_07.csv\"\u001b[0m\u001b[0;34m)\u001b[0m\u001b[0;34m\u001b[0m\u001b[0m\n\u001b[1;32m      4\u001b[0m \u001b[0mpuma_08\u001b[0m\u001b[0;34m[\u001b[0m\u001b[0mcols\u001b[0m\u001b[0;34m]\u001b[0m\u001b[0;34m.\u001b[0m\u001b[0mto_csv\u001b[0m\u001b[0;34m(\u001b[0m\u001b[0;34m\"../Data/Cleaned/puma_08.csv\"\u001b[0m\u001b[0;34m)\u001b[0m\u001b[0;34m\u001b[0m\u001b[0m\n\u001b[1;32m      5\u001b[0m \u001b[0mpuma_09\u001b[0m\u001b[0;34m[\u001b[0m\u001b[0mcols\u001b[0m\u001b[0;34m]\u001b[0m\u001b[0;34m.\u001b[0m\u001b[0mto_csv\u001b[0m\u001b[0;34m(\u001b[0m\u001b[0;34m\"../Data/Cleaned/puma_09.csv\"\u001b[0m\u001b[0;34m)\u001b[0m\u001b[0;34m\u001b[0m\u001b[0m\n",
      "\u001b[0;32m/opt/rh/anaconda/root/envs/PUI2016_Python2/lib/python2.7/site-packages/pandas/core/frame.pyc\u001b[0m in \u001b[0;36m__getitem__\u001b[0;34m(self, key)\u001b[0m\n\u001b[1;32m   1989\u001b[0m         \u001b[0;32mif\u001b[0m \u001b[0misinstance\u001b[0m\u001b[0;34m(\u001b[0m\u001b[0mkey\u001b[0m\u001b[0;34m,\u001b[0m \u001b[0;34m(\u001b[0m\u001b[0mSeries\u001b[0m\u001b[0;34m,\u001b[0m \u001b[0mnp\u001b[0m\u001b[0;34m.\u001b[0m\u001b[0mndarray\u001b[0m\u001b[0;34m,\u001b[0m \u001b[0mIndex\u001b[0m\u001b[0;34m,\u001b[0m \u001b[0mlist\u001b[0m\u001b[0;34m)\u001b[0m\u001b[0;34m)\u001b[0m\u001b[0;34m:\u001b[0m\u001b[0;34m\u001b[0m\u001b[0m\n\u001b[1;32m   1990\u001b[0m             \u001b[0;31m# either boolean or fancy integer index\u001b[0m\u001b[0;34m\u001b[0m\u001b[0;34m\u001b[0m\u001b[0m\n\u001b[0;32m-> 1991\u001b[0;31m             \u001b[0;32mreturn\u001b[0m \u001b[0mself\u001b[0m\u001b[0;34m.\u001b[0m\u001b[0m_getitem_array\u001b[0m\u001b[0;34m(\u001b[0m\u001b[0mkey\u001b[0m\u001b[0;34m)\u001b[0m\u001b[0;34m\u001b[0m\u001b[0m\n\u001b[0m\u001b[1;32m   1992\u001b[0m         \u001b[0;32melif\u001b[0m \u001b[0misinstance\u001b[0m\u001b[0;34m(\u001b[0m\u001b[0mkey\u001b[0m\u001b[0;34m,\u001b[0m \u001b[0mDataFrame\u001b[0m\u001b[0;34m)\u001b[0m\u001b[0;34m:\u001b[0m\u001b[0;34m\u001b[0m\u001b[0m\n\u001b[1;32m   1993\u001b[0m             \u001b[0;32mreturn\u001b[0m \u001b[0mself\u001b[0m\u001b[0;34m.\u001b[0m\u001b[0m_getitem_frame\u001b[0m\u001b[0;34m(\u001b[0m\u001b[0mkey\u001b[0m\u001b[0;34m)\u001b[0m\u001b[0;34m\u001b[0m\u001b[0m\n",
      "\u001b[0;32m/opt/rh/anaconda/root/envs/PUI2016_Python2/lib/python2.7/site-packages/pandas/core/frame.pyc\u001b[0m in \u001b[0;36m_getitem_array\u001b[0;34m(self, key)\u001b[0m\n\u001b[1;32m   2033\u001b[0m             \u001b[0;32mreturn\u001b[0m \u001b[0mself\u001b[0m\u001b[0;34m.\u001b[0m\u001b[0mtake\u001b[0m\u001b[0;34m(\u001b[0m\u001b[0mindexer\u001b[0m\u001b[0;34m,\u001b[0m \u001b[0maxis\u001b[0m\u001b[0;34m=\u001b[0m\u001b[0;36m0\u001b[0m\u001b[0;34m,\u001b[0m \u001b[0mconvert\u001b[0m\u001b[0;34m=\u001b[0m\u001b[0mFalse\u001b[0m\u001b[0;34m)\u001b[0m\u001b[0;34m\u001b[0m\u001b[0m\n\u001b[1;32m   2034\u001b[0m         \u001b[0;32melse\u001b[0m\u001b[0;34m:\u001b[0m\u001b[0;34m\u001b[0m\u001b[0m\n\u001b[0;32m-> 2035\u001b[0;31m             \u001b[0mindexer\u001b[0m \u001b[0;34m=\u001b[0m \u001b[0mself\u001b[0m\u001b[0;34m.\u001b[0m\u001b[0mix\u001b[0m\u001b[0;34m.\u001b[0m\u001b[0m_convert_to_indexer\u001b[0m\u001b[0;34m(\u001b[0m\u001b[0mkey\u001b[0m\u001b[0;34m,\u001b[0m \u001b[0maxis\u001b[0m\u001b[0;34m=\u001b[0m\u001b[0;36m1\u001b[0m\u001b[0;34m)\u001b[0m\u001b[0;34m\u001b[0m\u001b[0m\n\u001b[0m\u001b[1;32m   2036\u001b[0m             \u001b[0;32mreturn\u001b[0m \u001b[0mself\u001b[0m\u001b[0;34m.\u001b[0m\u001b[0mtake\u001b[0m\u001b[0;34m(\u001b[0m\u001b[0mindexer\u001b[0m\u001b[0;34m,\u001b[0m \u001b[0maxis\u001b[0m\u001b[0;34m=\u001b[0m\u001b[0;36m1\u001b[0m\u001b[0;34m,\u001b[0m \u001b[0mconvert\u001b[0m\u001b[0;34m=\u001b[0m\u001b[0mTrue\u001b[0m\u001b[0;34m)\u001b[0m\u001b[0;34m\u001b[0m\u001b[0m\n\u001b[1;32m   2037\u001b[0m \u001b[0;34m\u001b[0m\u001b[0m\n",
      "\u001b[0;32m/opt/rh/anaconda/root/envs/PUI2016_Python2/lib/python2.7/site-packages/pandas/core/indexing.pyc\u001b[0m in \u001b[0;36m_convert_to_indexer\u001b[0;34m(self, obj, axis, is_setter)\u001b[0m\n\u001b[1;32m   1212\u001b[0m                 \u001b[0mmask\u001b[0m \u001b[0;34m=\u001b[0m \u001b[0mcheck\u001b[0m \u001b[0;34m==\u001b[0m \u001b[0;34m-\u001b[0m\u001b[0;36m1\u001b[0m\u001b[0;34m\u001b[0m\u001b[0m\n\u001b[1;32m   1213\u001b[0m                 \u001b[0;32mif\u001b[0m \u001b[0mmask\u001b[0m\u001b[0;34m.\u001b[0m\u001b[0many\u001b[0m\u001b[0;34m(\u001b[0m\u001b[0;34m)\u001b[0m\u001b[0;34m:\u001b[0m\u001b[0;34m\u001b[0m\u001b[0m\n\u001b[0;32m-> 1214\u001b[0;31m                     \u001b[0;32mraise\u001b[0m \u001b[0mKeyError\u001b[0m\u001b[0;34m(\u001b[0m\u001b[0;34m'%s not in index'\u001b[0m \u001b[0;34m%\u001b[0m \u001b[0mobjarr\u001b[0m\u001b[0;34m[\u001b[0m\u001b[0mmask\u001b[0m\u001b[0;34m]\u001b[0m\u001b[0;34m)\u001b[0m\u001b[0;34m\u001b[0m\u001b[0m\n\u001b[0m\u001b[1;32m   1215\u001b[0m \u001b[0;34m\u001b[0m\u001b[0m\n\u001b[1;32m   1216\u001b[0m                 \u001b[0;32mreturn\u001b[0m \u001b[0m_values_from_object\u001b[0m\u001b[0;34m(\u001b[0m\u001b[0mindexer\u001b[0m\u001b[0;34m)\u001b[0m\u001b[0;34m\u001b[0m\u001b[0m\n",
      "\u001b[0;31mKeyError\u001b[0m: \"['AgeCateg' 'Nabe' 'EducAttain' 'Povrel' 'CD'] not in index\""
     ]
    }
   ],
   "source": [
    "puma_05.to_csv(\"../Data/Cleaned/puma_05.csv\")\n",
    "puma_06.to_csv(\"../Data/Cleaned/puma_06.csv\")\n",
    "puma_07.to_csv(\"../Data/Cleaned/puma_07.csv\")\n",
    "puma_08.to_csv(\"../Data/Cleaned/puma_08.csv\")\n",
    "puma_09.to_csv(\"../Data/Cleaned/puma_09.csv\")\n",
    "puma_10.to_csv(\"../Data/Cleaned/puma_10.csv\")\n",
    "puma_11.to_csv(\"../Data/Cleaned/puma_11.csv\")\n",
    "puma_12.to_csv(\"../Data/Cleaned/puma_12.csv\")\n",
    "puma_13\\.to_csv(\"../Data/Cleaned/puma_13.csv\")\n",
    "puma_14[cols].to_csv(\"../Data/Cleaned/puma_14.csv\")"
   ]
  },
  {
   "cell_type": "code",
   "execution_count": null,
   "metadata": {
    "collapsed": true
   },
   "outputs": [],
   "source": []
  },
  {
   "cell_type": "code",
   "execution_count": null,
   "metadata": {
    "collapsed": true
   },
   "outputs": [],
   "source": []
  },
  {
   "cell_type": "code",
   "execution_count": null,
   "metadata": {
    "collapsed": true
   },
   "outputs": [],
   "source": []
  },
  {
   "cell_type": "code",
   "execution_count": null,
   "metadata": {
    "collapsed": true
   },
   "outputs": [],
   "source": []
  },
  {
   "cell_type": "code",
   "execution_count": null,
   "metadata": {
    "collapsed": true
   },
   "outputs": [],
   "source": []
  },
  {
   "cell_type": "code",
   "execution_count": null,
   "metadata": {
    "collapsed": true
   },
   "outputs": [],
   "source": []
  },
  {
   "cell_type": "code",
   "execution_count": null,
   "metadata": {
    "collapsed": true
   },
   "outputs": [],
   "source": []
  },
  {
   "cell_type": "code",
   "execution_count": null,
   "metadata": {
    "collapsed": true
   },
   "outputs": [],
   "source": []
  },
  {
   "cell_type": "code",
   "execution_count": null,
   "metadata": {
    "collapsed": true
   },
   "outputs": [],
   "source": []
  },
  {
   "cell_type": "code",
   "execution_count": null,
   "metadata": {
    "collapsed": true
   },
   "outputs": [],
   "source": []
  },
  {
   "cell_type": "code",
   "execution_count": null,
   "metadata": {
    "collapsed": true
   },
   "outputs": [],
   "source": []
  },
  {
   "cell_type": "code",
   "execution_count": null,
   "metadata": {
    "collapsed": true
   },
   "outputs": [],
   "source": []
  },
  {
   "cell_type": "code",
   "execution_count": null,
   "metadata": {
    "collapsed": true
   },
   "outputs": [],
   "source": []
  },
  {
   "cell_type": "code",
   "execution_count": null,
   "metadata": {
    "collapsed": true
   },
   "outputs": [],
   "source": []
  },
  {
   "cell_type": "code",
   "execution_count": null,
   "metadata": {
    "collapsed": true
   },
   "outputs": [],
   "source": []
  },
  {
   "cell_type": "code",
   "execution_count": null,
   "metadata": {
    "collapsed": true
   },
   "outputs": [],
   "source": []
  },
  {
   "cell_type": "code",
   "execution_count": null,
   "metadata": {
    "collapsed": true
   },
   "outputs": [],
   "source": []
  },
  {
   "cell_type": "code",
   "execution_count": null,
   "metadata": {
    "collapsed": true
   },
   "outputs": [],
   "source": []
  }
 ],
 "metadata": {
  "kernelspec": {
   "display_name": "PUI2016_Python2",
   "language": "python",
   "name": "pui2016_python2"
  },
  "language_info": {
   "codemirror_mode": {
    "name": "ipython",
    "version": 2
   },
   "file_extension": ".py",
   "mimetype": "text/x-python",
   "name": "python",
   "nbconvert_exporter": "python",
   "pygments_lexer": "ipython2",
   "version": "2.7.12"
  }
 },
 "nbformat": 4,
 "nbformat_minor": 0
}
