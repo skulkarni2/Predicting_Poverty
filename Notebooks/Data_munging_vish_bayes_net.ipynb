{
 "cells": [
  {
   "cell_type": "code",
   "execution_count": 182,
   "metadata": {
    "collapsed": false
   },
   "outputs": [],
   "source": [
    "import numpy\n",
    "import pandas as pd\n",
    "import numpy as np\n",
    "from pgmpy.estimators import BdeuScore, K2Score, BicScore\n",
    "from pgmpy.models import BayesianModel\n",
    "from pgmpy.estimators import HillClimbSearch\n",
    "from pgmpy.estimators import BayesianEstimator, MaximumLikelihoodEstimator\n",
    "import networkx as nx\n",
    "import pandas as pd\n",
    "import matplotlib.pyplot as plt\n",
    "from sklearn.model_selection import train_test_split\n",
    "%matplotlib inline"
   ]
  },
  {
   "cell_type": "code",
   "execution_count": 183,
   "metadata": {
    "collapsed": true
   },
   "outputs": [],
   "source": [
    "def features(data):\n",
    "       \n",
    "    data.loc[data.HEAP == 0.0, 'HEAP'] = 0\n",
    "    data.loc[data.HEAP != 0.0, 'HEAP'] = 1\n",
    "    \n",
    "    data.loc[data.WIC == 0.0 ,'WIC'] = 0\n",
    "    data.loc[data.WIC != 0.0 ,'WIC'] = 1\n",
    "    \n",
    "    data.loc[data.SchoolLunch == 0.0, 'SchoolLunch'] = 0\n",
    "    data.loc[data.SchoolLunch != 0.0, 'SchoolLunch'] = 1\n",
    "\n",
    "    data.loc[data.MOOP == 0.0, 'MOOP'] = 0\n",
    "    data.loc[data.MOOP != 0.0, 'MOOP'] = 1\n",
    "\n",
    "    data.loc[data.Childcare == 0.0, 'Childcare'] = 0\n",
    "    data.loc[data.Childcare != 0.0, 'Childcare'] = 1\n",
    "\n",
    "    data.loc[data.FoodStamps == 0.0, 'FoodStamps'] = 0\n",
    "    data.loc[data.FoodStamps != 0.0, 'FoodStamps'] = 1\n",
    "\n",
    "    data.loc[data.Commuting == 0.0, 'Commuting'] = 0\n",
    "    data.loc[data.Commuting != 0.0, 'Commuting'] = 1\n",
    "\n",
    "    data.loc[data.Housing == 0.0, 'Housing'] = 0\n",
    "    data.loc[data.Housing != 0.0, 'Housing'] = 1\n",
    "    \n",
    "    data = data.loc[:, [u'PovunitType', u'WorkExpIndiv',\n",
    "                  u'HEAP', u'CitizenStatus',\n",
    "                  u'EducAttain',\n",
    "                  u'WIC', u'HousingStatus',\n",
    "                  u'WorkersEquiv', u'SchoolLunch',\n",
    "                  u'MOOP', u'MV', u'Childcare', \n",
    "                  u'FoodStamps', u'Commuting',\n",
    "                  u'Housing', 'Pov_risk']]\n",
    "    return data"
   ]
  },
  {
   "cell_type": "code",
   "execution_count": 43,
   "metadata": {
    "collapsed": false
   },
   "outputs": [],
   "source": [
    "# thresholds = pd.Series(puma_05.CEO_Threshold.unique())"
   ]
  },
  {
   "cell_type": "code",
   "execution_count": 94,
   "metadata": {
    "collapsed": false
   },
   "outputs": [],
   "source": [
    "# thresholds.hist(bins=35)\n",
    "# plt.vlines(x=thresholds.median(), ymin=0, ymax=18, color = 'red')\n",
    "# plt.vlines(x=thresholds.mean(), ymin=0, ymax=18, color = 'yellow')"
   ]
  },
  {
   "cell_type": "code",
   "execution_count": 95,
   "metadata": {
    "collapsed": false
   },
   "outputs": [],
   "source": [
    "# puma_05[puma_05.CEO_Threshold == puma_05.CEO_Threshold.max()]"
   ]
  },
  {
   "cell_type": "code",
   "execution_count": 96,
   "metadata": {
    "collapsed": false
   },
   "outputs": [],
   "source": [
    "# thresholds.describe()"
   ]
  },
  {
   "cell_type": "code",
   "execution_count": 97,
   "metadata": {
    "collapsed": false
   },
   "outputs": [],
   "source": [
    "# thresholds.quantile(0.99)"
   ]
  },
  {
   "cell_type": "code",
   "execution_count": 98,
   "metadata": {
    "collapsed": false
   },
   "outputs": [],
   "source": [
    "# thresholds_of = pd.Series(puma_05.Official_Threshold.unique())"
   ]
  },
  {
   "cell_type": "code",
   "execution_count": 99,
   "metadata": {
    "collapsed": false
   },
   "outputs": [],
   "source": [
    "# thresholds_of.hist(bins=30)"
   ]
  },
  {
   "cell_type": "markdown",
   "metadata": {},
   "source": [
    "# New check without aggregation"
   ]
  },
  {
   "cell_type": "code",
   "execution_count": 110,
   "metadata": {
    "collapsed": false
   },
   "outputs": [],
   "source": [
    "# puma_05.CEO_Income.describe()"
   ]
  },
  {
   "cell_type": "code",
   "execution_count": 111,
   "metadata": {
    "collapsed": false,
    "scrolled": false
   },
   "outputs": [],
   "source": [
    "# puma_05[puma_05.CEO_Income < 0]['PUMA'].hist()"
   ]
  },
  {
   "cell_type": "code",
   "execution_count": 112,
   "metadata": {
    "collapsed": false
   },
   "outputs": [],
   "source": [
    "# puma_05[puma_05.SERIALNO == 812]"
   ]
  },
  {
   "cell_type": "code",
   "execution_count": null,
   "metadata": {
    "collapsed": false
   },
   "outputs": [],
   "source": [
    "# puma_05[puma_05.CEO_Income == 0]"
   ]
  },
  {
   "cell_type": "code",
   "execution_count": null,
   "metadata": {
    "collapsed": false
   },
   "outputs": [],
   "source": [
    "# puma_05.CEO_Income.quantile(0.1)"
   ]
  },
  {
   "cell_type": "code",
   "execution_count": 56,
   "metadata": {
    "collapsed": false
   },
   "outputs": [],
   "source": [
    "# df[(df.CEO_Poverty == 1)&(df.CEO_Threshold < df.CEO_Income)][['CEO_Threshold', 'CEO_Income','CEO_Poverty', 'Pov_risk', 'Threshold1']]"
   ]
  },
  {
   "cell_type": "code",
   "execution_count": 57,
   "metadata": {
    "collapsed": false
   },
   "outputs": [],
   "source": [
    "# df[(df.Pov_risk == 1)&((df.CEO_Poverty == 1))][['CEO_Threshold', 'CEO_Income','CEO_Poverty', 'Pov_risk', 'Threshold1']]"
   ]
  },
  {
   "cell_type": "code",
   "execution_count": 60,
   "metadata": {
    "collapsed": true
   },
   "outputs": [],
   "source": [
    "X = df[[ u'PovunitType', u'WorkExpIndiv', u'Povunit',\n",
    "        u'SchoolBreakfast', u'HEAP', u'CitizenStatus',\n",
    "        u'AgeCateg_2', u'AgeCateg_3', u'EducAttain',\n",
    "        u'WIC', u'HousingStatus',\n",
    "       u'WorkersEquiv', u'SchoolLunch', u'AgeCateg_1',\n",
    "       u'MOOP', u'MV', u'Childcare', \n",
    "       u'NP', u'FoodStamps', u'Commuting',\n",
    "       u'Housing', 'Pov_risk']]"
   ]
  },
  {
   "cell_type": "code",
   "execution_count": 61,
   "metadata": {
    "collapsed": false
   },
   "outputs": [
    {
     "data": {
      "text/plain": [
       "Index([u'PovunitType', u'WorkExpIndiv', u'Povunit', u'SchoolBreakfast',\n",
       "       u'HEAP', u'CitizenStatus', u'AgeCateg_2', u'AgeCateg_3', u'EducAttain',\n",
       "       u'WIC', u'HousingStatus', u'WorkersEquiv', u'SchoolLunch',\n",
       "       u'AgeCateg_1', u'MOOP', u'MV', u'Childcare', u'NP', u'FoodStamps',\n",
       "       u'Commuting', u'Housing', u'Pov_risk'],\n",
       "      dtype='object')"
      ]
     },
     "execution_count": 61,
     "metadata": {},
     "output_type": "execute_result"
    }
   ],
   "source": [
    "X.columns"
   ]
  },
  {
   "cell_type": "markdown",
   "metadata": {},
   "source": [
    "# Making continuous variables discrete"
   ]
  },
  {
   "cell_type": "code",
   "execution_count": 116,
   "metadata": {
    "collapsed": false,
    "scrolled": true
   },
   "outputs": [
    {
     "data": {
      "text/plain": [
       "<matplotlib.axes._subplots.AxesSubplot at 0x7f94b44277d0>"
      ]
     },
     "execution_count": 116,
     "metadata": {},
     "output_type": "execute_result"
    },
    {
     "data": {
      "image/png": "[encoded data removed]",
      "text/plain": [
       "<matplotlib.figure.Figure at 0x7f9767959990>"
      ]
     },
     "metadata": {},
     "output_type": "display_data"
    }
   ],
   "source": [
    "# print X.SchoolBreakfast.value_counts()\n",
    "X.SchoolBreakfast.hist()"
   ]
  },
  {
   "cell_type": "code",
   "execution_count": 117,
   "metadata": {
    "collapsed": false
   },
   "outputs": [
    {
     "data": {
      "text/plain": [
       "<matplotlib.axes._subplots.AxesSubplot at 0x7f94b4490310>"
      ]
     },
     "execution_count": 117,
     "metadata": {},
     "output_type": "execute_result"
    },
    {
     "data": {
      "image/png": "[encoded data removed]",
      "text/plain": [
       "<matplotlib.figure.Figure at 0x7f94b43b8790>"
      ]
     },
     "metadata": {},
     "output_type": "display_data"
    }
   ],
   "source": [
    "# print (X.HEAP).value_counts()\n",
    "X.HEAP.hist(bins= 50)"
   ]
  },
  {
   "cell_type": "code",
   "execution_count": 64,
   "metadata": {
    "collapsed": false
   },
   "outputs": [
    {
     "name": "stderr",
     "output_type": "stream",
     "text": [
      "/gpfs1/cusp/vys217/.conda/envs/JVEvys217/lib/python2.7/site-packages/ipykernel_launcher.py:1: SettingWithCopyWarning: \n",
      "A value is trying to be set on a copy of a slice from a DataFrame\n",
      "\n",
      "See the caveats in the documentation: http://pandas.pydata.org/pandas-docs/stable/indexing.html#indexing-view-versus-copy\n",
      "  \"\"\"Entry point for launching an IPython kernel.\n",
      "/gpfs1/cusp/vys217/.conda/envs/JVEvys217/lib/python2.7/site-packages/ipykernel_launcher.py:2: SettingWithCopyWarning: \n",
      "A value is trying to be set on a copy of a slice from a DataFrame\n",
      "\n",
      "See the caveats in the documentation: http://pandas.pydata.org/pandas-docs/stable/indexing.html#indexing-view-versus-copy\n",
      "  \n"
     ]
    }
   ],
   "source": [
    "X.HEAP[X.HEAP == 0.0] = 0\n",
    "X.HEAP[X.HEAP != 0.0] = 1"
   ]
  },
  {
   "cell_type": "code",
   "execution_count": 65,
   "metadata": {
    "collapsed": false
   },
   "outputs": [
    {
     "data": {
      "text/plain": [
       "0.0    21155\n",
       "1.0     3545\n",
       "Name: HEAP, dtype: int64"
      ]
     },
     "execution_count": 65,
     "metadata": {},
     "output_type": "execute_result"
    }
   ],
   "source": [
    "X.HEAP.value_counts()"
   ]
  },
  {
   "cell_type": "code",
   "execution_count": 118,
   "metadata": {
    "collapsed": false
   },
   "outputs": [
    {
     "data": {
      "text/plain": [
       "<matplotlib.axes._subplots.AxesSubplot at 0x7f94b4499650>"
      ]
     },
     "execution_count": 118,
     "metadata": {},
     "output_type": "execute_result"
    },
    {
     "data": {
      "image/png": "[encoded data removed]",
      "text/plain": [
       "<matplotlib.figure.Figure at 0x7f94b44a3210>"
      ]
     },
     "metadata": {},
     "output_type": "display_data"
    }
   ],
   "source": [
    "# print X.WIC.value_counts()\n",
    "X.WIC.hist(bins=50)"
   ]
  },
  {
   "cell_type": "code",
   "execution_count": 67,
   "metadata": {
    "collapsed": false
   },
   "outputs": [
    {
     "name": "stderr",
     "output_type": "stream",
     "text": [
      "/gpfs1/cusp/vys217/.conda/envs/JVEvys217/lib/python2.7/site-packages/ipykernel_launcher.py:1: SettingWithCopyWarning: \n",
      "A value is trying to be set on a copy of a slice from a DataFrame\n",
      "\n",
      "See the caveats in the documentation: http://pandas.pydata.org/pandas-docs/stable/indexing.html#indexing-view-versus-copy\n",
      "  \"\"\"Entry point for launching an IPython kernel.\n",
      "/gpfs1/cusp/vys217/.conda/envs/JVEvys217/lib/python2.7/site-packages/ipykernel_launcher.py:2: SettingWithCopyWarning: \n",
      "A value is trying to be set on a copy of a slice from a DataFrame\n",
      "\n",
      "See the caveats in the documentation: http://pandas.pydata.org/pandas-docs/stable/indexing.html#indexing-view-versus-copy\n",
      "  \n"
     ]
    }
   ],
   "source": [
    "X.WIC[X.WIC == 0.0] = 0\n",
    "X.WIC[X.WIC != 0.0] = 1"
   ]
  },
  {
   "cell_type": "code",
   "execution_count": 68,
   "metadata": {
    "collapsed": false
   },
   "outputs": [
    {
     "data": {
      "text/plain": [
       "0.0    24304\n",
       "1.0      396\n",
       "Name: WIC, dtype: int64"
      ]
     },
     "execution_count": 68,
     "metadata": {},
     "output_type": "execute_result"
    }
   ],
   "source": [
    "X.WIC.value_counts()"
   ]
  },
  {
   "cell_type": "code",
   "execution_count": 119,
   "metadata": {
    "collapsed": false
   },
   "outputs": [
    {
     "data": {
      "text/plain": [
       "<matplotlib.axes._subplots.AxesSubplot at 0x7f94b42a5910>"
      ]
     },
     "execution_count": 119,
     "metadata": {},
     "output_type": "execute_result"
    },
    {
     "data": {
      "image/png": "[encoded data removed]",
      "text/plain": [
       "<matplotlib.figure.Figure at 0x7f94b44a3bd0>"
      ]
     },
     "metadata": {},
     "output_type": "display_data"
    }
   ],
   "source": [
    "# print X.SchoolLunch.value_counts()\n",
    "X.SchoolLunch.hist(bins = 100)"
   ]
  },
  {
   "cell_type": "code",
   "execution_count": 70,
   "metadata": {
    "collapsed": false
   },
   "outputs": [
    {
     "name": "stderr",
     "output_type": "stream",
     "text": [
      "/gpfs1/cusp/vys217/.conda/envs/JVEvys217/lib/python2.7/site-packages/ipykernel_launcher.py:1: SettingWithCopyWarning: \n",
      "A value is trying to be set on a copy of a slice from a DataFrame\n",
      "\n",
      "See the caveats in the documentation: http://pandas.pydata.org/pandas-docs/stable/indexing.html#indexing-view-versus-copy\n",
      "  \"\"\"Entry point for launching an IPython kernel.\n",
      "/gpfs1/cusp/vys217/.conda/envs/JVEvys217/lib/python2.7/site-packages/ipykernel_launcher.py:2: SettingWithCopyWarning: \n",
      "A value is trying to be set on a copy of a slice from a DataFrame\n",
      "\n",
      "See the caveats in the documentation: http://pandas.pydata.org/pandas-docs/stable/indexing.html#indexing-view-versus-copy\n",
      "  \n"
     ]
    }
   ],
   "source": [
    "X.SchoolLunch[X.SchoolLunch == 0.0] = 0\n",
    "X.SchoolLunch[X.SchoolLunch != 0.0] = 1"
   ]
  },
  {
   "cell_type": "code",
   "execution_count": 71,
   "metadata": {
    "collapsed": false
   },
   "outputs": [
    {
     "data": {
      "text/plain": [
       "0.0    22698\n",
       "1.0     2002\n",
       "Name: SchoolLunch, dtype: int64"
      ]
     },
     "execution_count": 71,
     "metadata": {},
     "output_type": "execute_result"
    }
   ],
   "source": [
    "X.SchoolLunch.value_counts()"
   ]
  },
  {
   "cell_type": "code",
   "execution_count": 120,
   "metadata": {
    "collapsed": false
   },
   "outputs": [
    {
     "data": {
      "text/plain": [
       "<matplotlib.axes._subplots.AxesSubplot at 0x7f94b3dcb450>"
      ]
     },
     "execution_count": 120,
     "metadata": {},
     "output_type": "execute_result"
    },
    {
     "data": {
      "image/png": "[encoded data removed]",
      "text/plain": [
       "<matplotlib.figure.Figure at 0x7f94b407ab90>"
      ]
     },
     "metadata": {},
     "output_type": "display_data"
    }
   ],
   "source": [
    "# print X.MOOP.describe()\n",
    "(X.MOOP).hist(bins = 100)"
   ]
  },
  {
   "cell_type": "code",
   "execution_count": 73,
   "metadata": {
    "collapsed": false
   },
   "outputs": [
    {
     "name": "stderr",
     "output_type": "stream",
     "text": [
      "/gpfs1/cusp/vys217/.conda/envs/JVEvys217/lib/python2.7/site-packages/ipykernel_launcher.py:1: SettingWithCopyWarning: \n",
      "A value is trying to be set on a copy of a slice from a DataFrame\n",
      "\n",
      "See the caveats in the documentation: http://pandas.pydata.org/pandas-docs/stable/indexing.html#indexing-view-versus-copy\n",
      "  \"\"\"Entry point for launching an IPython kernel.\n",
      "/gpfs1/cusp/vys217/.conda/envs/JVEvys217/lib/python2.7/site-packages/ipykernel_launcher.py:2: SettingWithCopyWarning: \n",
      "A value is trying to be set on a copy of a slice from a DataFrame\n",
      "\n",
      "See the caveats in the documentation: http://pandas.pydata.org/pandas-docs/stable/indexing.html#indexing-view-versus-copy\n",
      "  \n"
     ]
    }
   ],
   "source": [
    "X.MOOP[X.MOOP == 0.0] = 0\n",
    "X.MOOP[X.MOOP != 0.0] = 1"
   ]
  },
  {
   "cell_type": "code",
   "execution_count": 74,
   "metadata": {
    "collapsed": false
   },
   "outputs": [
    {
     "data": {
      "text/plain": [
       "<matplotlib.axes._subplots.AxesSubplot at 0x7f976d5cee50>"
      ]
     },
     "execution_count": 74,
     "metadata": {},
     "output_type": "execute_result"
    },
    {
     "data": {
      "image/png": "[encoded data removed]",
      "text/plain": [
       "<matplotlib.figure.Figure at 0x7f983c9d9410>"
      ]
     },
     "metadata": {},
     "output_type": "display_data"
    }
   ],
   "source": [
    "X.MOOP.plot.box()"
   ]
  },
  {
   "cell_type": "code",
   "execution_count": 121,
   "metadata": {
    "collapsed": false
   },
   "outputs": [
    {
     "data": {
      "text/plain": [
       "<matplotlib.axes._subplots.AxesSubplot at 0x7f94b3c87a50>"
      ]
     },
     "execution_count": 121,
     "metadata": {},
     "output_type": "execute_result"
    },
    {
     "data": {
      "image/png": "[encoded data removed]",
      "text/plain": [
       "<matplotlib.figure.Figure at 0x7f94b407a890>"
      ]
     },
     "metadata": {},
     "output_type": "display_data"
    }
   ],
   "source": [
    "# print X.Childcare.value_counts()\n",
    "X.Childcare.hist(log = True, bins=100)"
   ]
  },
  {
   "cell_type": "code",
   "execution_count": 78,
   "metadata": {
    "collapsed": false
   },
   "outputs": [
    {
     "name": "stderr",
     "output_type": "stream",
     "text": [
      "/gpfs1/cusp/vys217/.conda/envs/JVEvys217/lib/python2.7/site-packages/ipykernel_launcher.py:1: SettingWithCopyWarning: \n",
      "A value is trying to be set on a copy of a slice from a DataFrame\n",
      "\n",
      "See the caveats in the documentation: http://pandas.pydata.org/pandas-docs/stable/indexing.html#indexing-view-versus-copy\n",
      "  \"\"\"Entry point for launching an IPython kernel.\n",
      "/gpfs1/cusp/vys217/.conda/envs/JVEvys217/lib/python2.7/site-packages/ipykernel_launcher.py:2: SettingWithCopyWarning: \n",
      "A value is trying to be set on a copy of a slice from a DataFrame\n",
      "\n",
      "See the caveats in the documentation: http://pandas.pydata.org/pandas-docs/stable/indexing.html#indexing-view-versus-copy\n",
      "  \n"
     ]
    }
   ],
   "source": [
    "X.Childcare[X.Childcare == 0.0] = 0\n",
    "X.Childcare[X.Childcare != 0.0] = 1"
   ]
  },
  {
   "cell_type": "code",
   "execution_count": 122,
   "metadata": {
    "collapsed": false
   },
   "outputs": [
    {
     "data": {
      "text/plain": [
       "<matplotlib.axes._subplots.AxesSubplot at 0x7f94b373be10>"
      ]
     },
     "execution_count": 122,
     "metadata": {},
     "output_type": "execute_result"
    },
    {
     "data": {
      "image/png": "[encoded data removed]",
      "text/plain": [
       "<matplotlib.figure.Figure at 0x7f94b407add0>"
      ]
     },
     "metadata": {},
     "output_type": "display_data"
    }
   ],
   "source": [
    "# print X.FoodStamps.value_counts()\n",
    "X.FoodStamps.hist(bins=100, log = True)"
   ]
  },
  {
   "cell_type": "code",
   "execution_count": 80,
   "metadata": {
    "collapsed": false
   },
   "outputs": [
    {
     "data": {
      "text/plain": [
       "<matplotlib.axes._subplots.AxesSubplot at 0x7f976d1b1f90>"
      ]
     },
     "execution_count": 80,
     "metadata": {},
     "output_type": "execute_result"
    },
    {
     "data": {
      "image/png": "[encoded data removed]",
      "text/plain": [
       "<matplotlib.figure.Figure at 0x7f976dfe5490>"
      ]
     },
     "metadata": {},
     "output_type": "display_data"
    }
   ],
   "source": [
    "np.sqrt(X.FoodStamps).hist(bins=100, log = True)"
   ]
  },
  {
   "cell_type": "code",
   "execution_count": 81,
   "metadata": {
    "collapsed": false
   },
   "outputs": [
    {
     "name": "stderr",
     "output_type": "stream",
     "text": [
      "/gpfs1/cusp/vys217/.conda/envs/JVEvys217/lib/python2.7/site-packages/ipykernel_launcher.py:1: SettingWithCopyWarning: \n",
      "A value is trying to be set on a copy of a slice from a DataFrame\n",
      "\n",
      "See the caveats in the documentation: http://pandas.pydata.org/pandas-docs/stable/indexing.html#indexing-view-versus-copy\n",
      "  \"\"\"Entry point for launching an IPython kernel.\n",
      "/gpfs1/cusp/vys217/.conda/envs/JVEvys217/lib/python2.7/site-packages/ipykernel_launcher.py:2: SettingWithCopyWarning: \n",
      "A value is trying to be set on a copy of a slice from a DataFrame\n",
      "\n",
      "See the caveats in the documentation: http://pandas.pydata.org/pandas-docs/stable/indexing.html#indexing-view-versus-copy\n",
      "  \n"
     ]
    }
   ],
   "source": [
    "X.FoodStamps[X.FoodStamps == 0.0] = 0\n",
    "X.FoodStamps[X.FoodStamps != 0.0] = 1"
   ]
  },
  {
   "cell_type": "code",
   "execution_count": 82,
   "metadata": {
    "collapsed": false
   },
   "outputs": [
    {
     "data": {
      "text/plain": [
       "0.0    20980\n",
       "1.0     3720\n",
       "Name: FoodStamps, dtype: int64"
      ]
     },
     "execution_count": 82,
     "metadata": {},
     "output_type": "execute_result"
    }
   ],
   "source": [
    "X.FoodStamps.value_counts()"
   ]
  },
  {
   "cell_type": "code",
   "execution_count": 123,
   "metadata": {
    "collapsed": false
   },
   "outputs": [
    {
     "data": {
      "text/plain": [
       "<matplotlib.axes._subplots.AxesSubplot at 0x7f94b3469050>"
      ]
     },
     "execution_count": 123,
     "metadata": {},
     "output_type": "execute_result"
    },
    {
     "data": {
      "image/png": "[encoded data removed]",
      "text/plain": [
       "<matplotlib.figure.Figure at 0x7f94b3ddf710>"
      ]
     },
     "metadata": {},
     "output_type": "display_data"
    }
   ],
   "source": [
    "# print X.Commuting.value_counts()\n",
    "X.Commuting.hist(log = True, bins=100)"
   ]
  },
  {
   "cell_type": "code",
   "execution_count": 84,
   "metadata": {
    "collapsed": false
   },
   "outputs": [
    {
     "data": {
      "text/plain": [
       "2.0    8861\n",
       "0.0    4293\n",
       "1.0    3469\n",
       "Name: Pov_risk, dtype: int64"
      ]
     },
     "execution_count": 84,
     "metadata": {},
     "output_type": "execute_result"
    }
   ],
   "source": [
    "X[(((X.Commuting - X.Commuting.mean()) / X.Commuting.std()) < 0) &\n",
    "  (((X.Commuting - X.Commuting.mean()) / X.Commuting.std()) >= -1)].Pov_risk.value_counts()"
   ]
  },
  {
   "cell_type": "code",
   "execution_count": 85,
   "metadata": {
    "collapsed": false
   },
   "outputs": [
    {
     "data": {
      "text/plain": [
       "<matplotlib.axes._subplots.AxesSubplot at 0x7f976d518410>"
      ]
     },
     "execution_count": 85,
     "metadata": {},
     "output_type": "execute_result"
    },
    {
     "data": {
      "image/png": "[encoded data removed]",
      "text/plain": [
       "<matplotlib.figure.Figure at 0x7f976c973dd0>"
      ]
     },
     "metadata": {},
     "output_type": "display_data"
    }
   ],
   "source": [
    "np.sqrt(X.Commuting).hist(bins= 100)"
   ]
  },
  {
   "cell_type": "code",
   "execution_count": 86,
   "metadata": {
    "collapsed": false
   },
   "outputs": [
    {
     "data": {
      "text/plain": [
       "2.0    3109\n",
       "0.0    2969\n",
       "1.0    1723\n",
       "Name: Pov_risk, dtype: int64"
      ]
     },
     "execution_count": 86,
     "metadata": {},
     "output_type": "execute_result"
    }
   ],
   "source": [
    "X[(np.sqrt(X.Commuting) < 10)].Pov_risk.value_counts()"
   ]
  },
  {
   "cell_type": "code",
   "execution_count": 87,
   "metadata": {
    "collapsed": false
   },
   "outputs": [
    {
     "name": "stderr",
     "output_type": "stream",
     "text": [
      "/gpfs1/cusp/vys217/.conda/envs/JVEvys217/lib/python2.7/site-packages/ipykernel_launcher.py:1: SettingWithCopyWarning: \n",
      "A value is trying to be set on a copy of a slice from a DataFrame\n",
      "\n",
      "See the caveats in the documentation: http://pandas.pydata.org/pandas-docs/stable/indexing.html#indexing-view-versus-copy\n",
      "  \"\"\"Entry point for launching an IPython kernel.\n",
      "/gpfs1/cusp/vys217/.conda/envs/JVEvys217/lib/python2.7/site-packages/ipykernel_launcher.py:2: SettingWithCopyWarning: \n",
      "A value is trying to be set on a copy of a slice from a DataFrame\n",
      "\n",
      "See the caveats in the documentation: http://pandas.pydata.org/pandas-docs/stable/indexing.html#indexing-view-versus-copy\n",
      "  \n"
     ]
    }
   ],
   "source": [
    "X.Commuting[X.Commuting == 0.0] = 0\n",
    "X.Commuting[X.Commuting != 0.0] = 1"
   ]
  },
  {
   "cell_type": "code",
   "execution_count": 88,
   "metadata": {
    "collapsed": false
   },
   "outputs": [
    {
     "data": {
      "text/plain": [
       "<matplotlib.axes._subplots.AxesSubplot at 0x7f976c8b6810>"
      ]
     },
     "execution_count": 88,
     "metadata": {},
     "output_type": "execute_result"
    },
    {
     "data": {
      "image/png": "[encoded data removed]",
      "text/plain": [
       "<matplotlib.figure.Figure at 0x7f976d100810>"
      ]
     },
     "metadata": {},
     "output_type": "display_data"
    }
   ],
   "source": [
    "X.Housing.unique()\n",
    "X.Housing.hist()"
   ]
  },
  {
   "cell_type": "code",
   "execution_count": 136,
   "metadata": {
    "collapsed": false
   },
   "outputs": [
    {
     "name": "stderr",
     "output_type": "stream",
     "text": [
      "/gpfs1/cusp/vys217/.conda/envs/JVEvys217/lib/python2.7/site-packages/ipykernel_launcher.py:2: SettingWithCopyWarning: \n",
      "A value is trying to be set on a copy of a slice from a DataFrame\n",
      "\n",
      "See the caveats in the documentation: http://pandas.pydata.org/pandas-docs/stable/indexing.html#indexing-view-versus-copy\n",
      "  \n"
     ]
    }
   ],
   "source": [
    "X.Housing[X.Housing == 0.0] = 0\n",
    "X.Housing[X.Housing != 0.0] = 1"
   ]
  },
  {
   "cell_type": "code",
   "execution_count": 184,
   "metadata": {
    "collapsed": false
   },
   "outputs": [],
   "source": [
    "puma_05 = pd.read_csv(\"../Data/Cleaned/puma_05.csv\")\n",
    "puma_05.drop(['Unnamed: 0'], axis=1, inplace=True)\n",
    "\n",
    "X5 = features(puma_05)\n",
    "\n",
    "train5,test5=train_test_split(X5,random_state=9,test_size=0.33)\n",
    "hc5 = HillClimbSearch(train5, scoring_method=BicScore(train5))\n",
    "best_model5 = hc5.estimate()"
   ]
  },
  {
   "cell_type": "code",
   "execution_count": 193,
   "metadata": {
    "collapsed": false
   },
   "outputs": [
    {
     "data": {
      "text/plain": [
       "[(u'WorkExpIndiv', u'WorkersEquiv'),\n",
       " (u'WorkExpIndiv', u'Childcare'),\n",
       " (u'WorkExpIndiv', u'HEAP'),\n",
       " ('Pov_risk', u'MOOP'),\n",
       " ('Pov_risk', u'HEAP'),\n",
       " ('Pov_risk', u'EducAttain'),\n",
       " (u'HousingStatus', u'PovunitType'),\n",
       " (u'HousingStatus', u'MV'),\n",
       " (u'WorkersEquiv', u'SchoolLunch'),\n",
       " (u'WorkersEquiv', 'Pov_risk'),\n",
       " (u'WorkersEquiv', u'Commuting'),\n",
       " (u'WorkersEquiv', u'EducAttain'),\n",
       " (u'SchoolLunch', u'CitizenStatus'),\n",
       " (u'SchoolLunch', 'Pov_risk'),\n",
       " (u'SchoolLunch', u'HEAP'),\n",
       " (u'PovunitType', u'WIC'),\n",
       " (u'PovunitType', u'WorkersEquiv'),\n",
       " (u'PovunitType', u'SchoolLunch'),\n",
       " (u'PovunitType', u'Childcare'),\n",
       " (u'PovunitType', u'FoodStamps'),\n",
       " (u'PovunitType', u'Commuting'),\n",
       " (u'MV', u'WorkExpIndiv'),\n",
       " (u'MV', u'CitizenStatus'),\n",
       " (u'HEAP', u'MOOP'),\n",
       " (u'HEAP', u'FoodStamps'),\n",
       " (u'HEAP', u'WIC'),\n",
       " (u'CitizenStatus', 'Pov_risk'),\n",
       " (u'Housing', u'HEAP'),\n",
       " (u'Housing', u'WorkExpIndiv'),\n",
       " (u'Housing', u'EducAttain'),\n",
       " (u'Housing', u'PovunitType'),\n",
       " (u'Housing', u'HousingStatus')]"
      ]
     },
     "execution_count": 193,
     "metadata": {},
     "output_type": "execute_result"
    }
   ],
   "source": [
    "best_model5.edges()"
   ]
  },
  {
   "cell_type": "code",
   "execution_count": 171,
   "metadata": {
    "collapsed": true
   },
   "outputs": [],
   "source": [
    "puma_06 = pd.read_csv(\"../Data/Cleaned/puma_06.csv\")\n",
    "puma_06.drop(['Unnamed: 0'], axis=1, inplace=True)\n",
    "\n",
    "X6 = features(puma_06)\n",
    "\n",
    "train6,test6=train_test_split(X6,random_state=9,test_size=0.33)\n",
    "hc6 = HillClimbSearch(train6, scoring_method=BicScore(train6))\n",
    "best_model6 = hc6.estimate()"
   ]
  },
  {
   "cell_type": "code",
   "execution_count": 194,
   "metadata": {
    "collapsed": false
   },
   "outputs": [
    {
     "data": {
      "text/plain": [
       "[(u'WorkExpIndiv', u'SchoolLunch'),\n",
       " (u'WorkExpIndiv', u'PovunitType'),\n",
       " (u'WorkExpIndiv', u'WorkersEquiv'),\n",
       " (u'WorkExpIndiv', u'MV'),\n",
       " (u'WorkExpIndiv', u'Childcare'),\n",
       " (u'WorkExpIndiv', u'HEAP'),\n",
       " ('Pov_risk', u'MOOP'),\n",
       " ('Pov_risk', u'CitizenStatus'),\n",
       " ('Pov_risk', u'WIC'),\n",
       " ('Pov_risk', u'HEAP'),\n",
       " ('Pov_risk', u'EducAttain'),\n",
       " (u'HousingStatus', u'Housing'),\n",
       " (u'HousingStatus', u'MV'),\n",
       " (u'WorkersEquiv', 'Pov_risk'),\n",
       " (u'WorkersEquiv', u'Commuting'),\n",
       " (u'WorkersEquiv', u'EducAttain'),\n",
       " (u'WorkersEquiv', u'HousingStatus'),\n",
       " (u'SchoolLunch', u'PovunitType'),\n",
       " (u'SchoolLunch', 'Pov_risk'),\n",
       " (u'SchoolLunch', u'HEAP'),\n",
       " (u'PovunitType', u'WIC'),\n",
       " (u'PovunitType', u'Housing'),\n",
       " (u'PovunitType', u'WorkersEquiv'),\n",
       " (u'PovunitType', u'Childcare'),\n",
       " (u'PovunitType', u'FoodStamps'),\n",
       " (u'PovunitType', u'Commuting'),\n",
       " (u'MV', u'CitizenStatus'),\n",
       " (u'HEAP', u'MOOP'),\n",
       " (u'HEAP', u'FoodStamps'),\n",
       " (u'FoodStamps', u'EducAttain'),\n",
       " (u'FoodStamps', u'HousingStatus')]"
      ]
     },
     "execution_count": 194,
     "metadata": {},
     "output_type": "execute_result"
    }
   ],
   "source": [
    "best_model6.edges()"
   ]
  },
  {
   "cell_type": "code",
   "execution_count": 172,
   "metadata": {
    "collapsed": true
   },
   "outputs": [],
   "source": [
    "puma_07 = pd.read_csv(\"../Data/Cleaned/puma_07.csv\")\n",
    "puma_07.drop(['Unnamed: 0'], axis=1, inplace=True)\n",
    "\n",
    "X7 = features(puma_07)\n",
    "\n",
    "train7,test7=train_test_split(X7,random_state=9,test_size=0.33)\n",
    "hc7 = HillClimbSearch(train7, scoring_method=BicScore(train7))\n",
    "best_model7 = hc7.estimate()"
   ]
  },
  {
   "cell_type": "code",
   "execution_count": 195,
   "metadata": {
    "collapsed": false
   },
   "outputs": [
    {
     "data": {
      "text/plain": [
       "[(u'WorkExpIndiv', u'WorkersEquiv'),\n",
       " (u'WorkExpIndiv', u'PovunitType'),\n",
       " (u'WorkExpIndiv', u'MV'),\n",
       " (u'WorkExpIndiv', u'Childcare'),\n",
       " (u'WorkExpIndiv', u'HEAP'),\n",
       " ('Pov_risk', u'MOOP'),\n",
       " ('Pov_risk', u'CitizenStatus'),\n",
       " ('Pov_risk', u'HEAP'),\n",
       " ('Pov_risk', u'EducAttain'),\n",
       " (u'HousingStatus', u'Housing'),\n",
       " (u'HousingStatus', u'MV'),\n",
       " (u'WorkersEquiv', u'SchoolLunch'),\n",
       " (u'WorkersEquiv', 'Pov_risk'),\n",
       " (u'WorkersEquiv', u'Commuting'),\n",
       " (u'WorkersEquiv', u'EducAttain'),\n",
       " (u'WorkersEquiv', u'HousingStatus'),\n",
       " (u'SchoolLunch', 'Pov_risk'),\n",
       " (u'SchoolLunch', u'HEAP'),\n",
       " (u'PovunitType', u'WIC'),\n",
       " (u'PovunitType', u'Housing'),\n",
       " (u'PovunitType', u'WorkersEquiv'),\n",
       " (u'PovunitType', u'SchoolLunch'),\n",
       " (u'PovunitType', u'Childcare'),\n",
       " (u'PovunitType', u'FoodStamps'),\n",
       " (u'PovunitType', u'Commuting'),\n",
       " (u'MV', u'CitizenStatus'),\n",
       " (u'HEAP', u'MOOP'),\n",
       " (u'HEAP', u'FoodStamps'),\n",
       " (u'FoodStamps', u'WIC'),\n",
       " (u'FoodStamps', u'HousingStatus'),\n",
       " (u'Housing', u'EducAttain')]"
      ]
     },
     "execution_count": 195,
     "metadata": {},
     "output_type": "execute_result"
    }
   ],
   "source": [
    "best_model7.edges()"
   ]
  },
  {
   "cell_type": "code",
   "execution_count": 173,
   "metadata": {
    "collapsed": true
   },
   "outputs": [],
   "source": [
    "puma_08 = pd.read_csv(\"../Data/Cleaned/puma_08.csv\")\n",
    "puma_08.drop(['Unnamed: 0'], axis=1, inplace=True)\n",
    "\n",
    "X8 = features(puma_08)\n",
    "\n",
    "train8,test8=train_test_split(X8,random_state=9,test_size=0.33)\n",
    "hc8 = HillClimbSearch(train8, scoring_method=BicScore(train8))\n",
    "best_model8 = hc8.estimate()"
   ]
  },
  {
   "cell_type": "code",
   "execution_count": 196,
   "metadata": {
    "collapsed": false
   },
   "outputs": [
    {
     "data": {
      "text/plain": [
       "[(u'WorkExpIndiv', u'WorkersEquiv'),\n",
       " (u'WorkExpIndiv', u'Childcare'),\n",
       " (u'WorkExpIndiv', u'HEAP'),\n",
       " ('Pov_risk', u'FoodStamps'),\n",
       " ('Pov_risk', u'HEAP'),\n",
       " ('Pov_risk', u'EducAttain'),\n",
       " (u'HousingStatus', u'MOOP'),\n",
       " (u'HousingStatus', u'MV'),\n",
       " (u'WorkersEquiv', 'Pov_risk'),\n",
       " (u'WorkersEquiv', u'Commuting'),\n",
       " (u'WorkersEquiv', u'EducAttain'),\n",
       " (u'SchoolLunch', u'CitizenStatus'),\n",
       " (u'SchoolLunch', u'PovunitType'),\n",
       " (u'SchoolLunch', 'Pov_risk'),\n",
       " (u'SchoolLunch', u'Housing'),\n",
       " (u'SchoolLunch', u'HEAP'),\n",
       " (u'PovunitType', u'WIC'),\n",
       " (u'PovunitType', u'HousingStatus'),\n",
       " (u'PovunitType', u'Housing'),\n",
       " (u'PovunitType', u'WorkersEquiv'),\n",
       " (u'PovunitType', u'Childcare'),\n",
       " (u'PovunitType', u'Commuting'),\n",
       " (u'MV', u'WorkExpIndiv'),\n",
       " (u'MV', u'CitizenStatus'),\n",
       " (u'HEAP', u'FoodStamps'),\n",
       " (u'HEAP', u'WIC'),\n",
       " (u'HEAP', u'EducAttain'),\n",
       " (u'CitizenStatus', 'Pov_risk'),\n",
       " (u'Housing', u'FoodStamps'),\n",
       " (u'Housing', u'WorkExpIndiv'),\n",
       " (u'Housing', u'HEAP'),\n",
       " (u'Housing', u'HousingStatus')]"
      ]
     },
     "execution_count": 196,
     "metadata": {},
     "output_type": "execute_result"
    }
   ],
   "source": [
    "best_model8.edges()"
   ]
  },
  {
   "cell_type": "code",
   "execution_count": 174,
   "metadata": {
    "collapsed": true
   },
   "outputs": [],
   "source": [
    "puma_09 = pd.read_csv(\"../Data/Cleaned/puma_09.csv\")\n",
    "puma_09.drop(['Unnamed: 0'], axis=1, inplace=True)\n",
    "\n",
    "X9 = features(puma_09)\n",
    "\n",
    "train9,test9=train_test_split(X9,random_state=9,test_size=0.33)\n",
    "hc9 = HillClimbSearch(train9, scoring_method=BicScore(train9))\n",
    "best_model9 = hc9.estimate()"
   ]
  },
  {
   "cell_type": "code",
   "execution_count": 197,
   "metadata": {
    "collapsed": false
   },
   "outputs": [
    {
     "data": {
      "text/plain": [
       "[(u'WorkExpIndiv', u'WorkersEquiv'),\n",
       " (u'WorkExpIndiv', u'Childcare'),\n",
       " (u'WorkExpIndiv', u'HEAP'),\n",
       " ('Pov_risk', u'MOOP'),\n",
       " ('Pov_risk', u'FoodStamps'),\n",
       " ('Pov_risk', u'HEAP'),\n",
       " ('Pov_risk', u'EducAttain'),\n",
       " (u'HousingStatus', u'Housing'),\n",
       " (u'HousingStatus', u'PovunitType'),\n",
       " (u'WorkersEquiv', u'SchoolLunch'),\n",
       " (u'WorkersEquiv', 'Pov_risk'),\n",
       " (u'WorkersEquiv', u'Commuting'),\n",
       " (u'WorkersEquiv', u'EducAttain'),\n",
       " (u'SchoolLunch', u'CitizenStatus'),\n",
       " (u'SchoolLunch', 'Pov_risk'),\n",
       " (u'SchoolLunch', u'HEAP'),\n",
       " (u'PovunitType', u'WIC'),\n",
       " (u'PovunitType', u'MOOP'),\n",
       " (u'PovunitType', u'Housing'),\n",
       " (u'PovunitType', u'WorkersEquiv'),\n",
       " (u'PovunitType', u'SchoolLunch'),\n",
       " (u'PovunitType', u'Childcare'),\n",
       " (u'PovunitType', u'Commuting'),\n",
       " (u'MV', u'WorkExpIndiv'),\n",
       " (u'MV', u'CitizenStatus'),\n",
       " (u'MV', u'HousingStatus'),\n",
       " (u'HEAP', u'FoodStamps'),\n",
       " (u'HEAP', u'WIC'),\n",
       " (u'CitizenStatus', 'Pov_risk'),\n",
       " (u'Housing', u'FoodStamps'),\n",
       " (u'Housing', u'WorkExpIndiv'),\n",
       " (u'Housing', u'HEAP'),\n",
       " (u'Housing', u'EducAttain')]"
      ]
     },
     "execution_count": 197,
     "metadata": {},
     "output_type": "execute_result"
    }
   ],
   "source": [
    "best_model9.edges()"
   ]
  },
  {
   "cell_type": "code",
   "execution_count": 175,
   "metadata": {
    "collapsed": true
   },
   "outputs": [],
   "source": [
    "puma_10 = pd.read_csv(\"../Data/Cleaned/puma_10.csv\")\n",
    "puma_10.drop(['Unnamed: 0'], axis=1, inplace=True)\n",
    "\n",
    "X10 = features(puma_10)\n",
    "\n",
    "train10,test10=train_test_split(X10,random_state=9,test_size=0.33)\n",
    "hc10 = HillClimbSearch(train10, scoring_method=BicScore(train10))\n",
    "best_model10 = hc10.estimate()"
   ]
  },
  {
   "cell_type": "code",
   "execution_count": 198,
   "metadata": {
    "collapsed": false
   },
   "outputs": [
    {
     "data": {
      "text/plain": [
       "[(u'WorkExpIndiv', u'WorkersEquiv'),\n",
       " (u'WorkExpIndiv', u'FoodStamps'),\n",
       " (u'WorkExpIndiv', u'Childcare'),\n",
       " ('Pov_risk', u'MOOP'),\n",
       " ('Pov_risk', u'FoodStamps'),\n",
       " ('Pov_risk', u'EducAttain'),\n",
       " (u'HousingStatus', u'PovunitType'),\n",
       " (u'HousingStatus', u'MV'),\n",
       " (u'WorkersEquiv', u'SchoolLunch'),\n",
       " (u'WorkersEquiv', 'Pov_risk'),\n",
       " (u'WorkersEquiv', u'Commuting'),\n",
       " (u'WorkersEquiv', u'EducAttain'),\n",
       " (u'SchoolLunch', u'CitizenStatus'),\n",
       " (u'SchoolLunch', u'FoodStamps'),\n",
       " (u'SchoolLunch', 'Pov_risk'),\n",
       " (u'SchoolLunch', u'WIC'),\n",
       " (u'PovunitType', u'WIC'),\n",
       " (u'PovunitType', u'WorkersEquiv'),\n",
       " (u'PovunitType', u'SchoolLunch'),\n",
       " (u'PovunitType', u'Childcare'),\n",
       " (u'PovunitType', u'HEAP'),\n",
       " (u'PovunitType', u'Commuting'),\n",
       " (u'MV', u'WorkExpIndiv'),\n",
       " (u'MV', u'CitizenStatus'),\n",
       " (u'HEAP', u'MOOP'),\n",
       " (u'HEAP', u'WIC'),\n",
       " (u'FoodStamps', u'EducAttain'),\n",
       " (u'FoodStamps', u'HEAP'),\n",
       " (u'CitizenStatus', 'Pov_risk'),\n",
       " (u'Housing', u'PovunitType'),\n",
       " (u'Housing', u'WorkExpIndiv'),\n",
       " (u'Housing', u'FoodStamps'),\n",
       " (u'Housing', u'HousingStatus')]"
      ]
     },
     "execution_count": 198,
     "metadata": {},
     "output_type": "execute_result"
    }
   ],
   "source": [
    "best_model10.edges()"
   ]
  },
  {
   "cell_type": "code",
   "execution_count": 176,
   "metadata": {
    "collapsed": true
   },
   "outputs": [],
   "source": [
    "puma_11 = pd.read_csv(\"../Data/Cleaned/puma_11.csv\")\n",
    "puma_11.drop(['Unnamed: 0'], axis=1, inplace=True)\n",
    "\n",
    "X11 = features(puma_11)\n",
    "\n",
    "train11,test11=train_test_split(X11,random_state=9,test_size=0.33)\n",
    "hc11 = HillClimbSearch(train11, scoring_method=BicScore(train11))\n",
    "best_model11 = hc11.estimate()"
   ]
  },
  {
   "cell_type": "code",
   "execution_count": 199,
   "metadata": {
    "collapsed": false
   },
   "outputs": [
    {
     "data": {
      "text/plain": [
       "[(u'WorkExpIndiv', u'SchoolLunch'),\n",
       " (u'WorkExpIndiv', u'PovunitType'),\n",
       " (u'WorkExpIndiv', u'WorkersEquiv'),\n",
       " (u'WorkExpIndiv', u'MV'),\n",
       " (u'WorkExpIndiv', u'Childcare'),\n",
       " (u'WorkExpIndiv', u'HEAP'),\n",
       " ('Pov_risk', u'MOOP'),\n",
       " ('Pov_risk', u'CitizenStatus'),\n",
       " ('Pov_risk', u'HousingStatus'),\n",
       " ('Pov_risk', u'EducAttain'),\n",
       " (u'HousingStatus', u'Housing'),\n",
       " (u'HousingStatus', u'MV'),\n",
       " (u'HousingStatus', u'HEAP'),\n",
       " (u'WorkersEquiv', 'Pov_risk'),\n",
       " (u'WorkersEquiv', u'Commuting'),\n",
       " (u'WorkersEquiv', u'EducAttain'),\n",
       " (u'WorkersEquiv', u'HousingStatus'),\n",
       " (u'SchoolLunch', u'PovunitType'),\n",
       " (u'SchoolLunch', 'Pov_risk'),\n",
       " (u'SchoolLunch', u'WIC'),\n",
       " (u'SchoolLunch', u'HEAP'),\n",
       " (u'PovunitType', u'WorkersEquiv'),\n",
       " (u'PovunitType', u'Childcare'),\n",
       " (u'PovunitType', u'Commuting'),\n",
       " (u'PovunitType', u'WIC'),\n",
       " (u'PovunitType', u'FoodStamps'),\n",
       " (u'MV', u'CitizenStatus'),\n",
       " (u'HEAP', u'MOOP'),\n",
       " (u'HEAP', u'FoodStamps'),\n",
       " (u'FoodStamps', u'Housing'),\n",
       " (u'FoodStamps', u'WIC'),\n",
       " (u'Housing', u'EducAttain')]"
      ]
     },
     "execution_count": 199,
     "metadata": {},
     "output_type": "execute_result"
    }
   ],
   "source": [
    "best_model11.edges()"
   ]
  },
  {
   "cell_type": "code",
   "execution_count": 177,
   "metadata": {
    "collapsed": true
   },
   "outputs": [],
   "source": [
    "puma_12 = pd.read_csv(\"../Data/Cleaned/puma_12.csv\")\n",
    "puma_12.drop(['Unnamed: 0'], axis=1, inplace=True)\n",
    "\n",
    "X12 = features(puma_12)\n",
    "\n",
    "train12,test12=train_test_split(X12,random_state=9,test_size=0.33)\n",
    "hc12 = HillClimbSearch(train12, scoring_method=BicScore(train12))\n",
    "best_model12 = hc12.estimate()"
   ]
  },
  {
   "cell_type": "code",
   "execution_count": 200,
   "metadata": {
    "collapsed": false
   },
   "outputs": [
    {
     "data": {
      "text/plain": [
       "[(u'WorkExpIndiv', u'WorkersEquiv'),\n",
       " ('Pov_risk', u'MOOP'),\n",
       " ('Pov_risk', u'CitizenStatus'),\n",
       " ('Pov_risk', u'EducAttain'),\n",
       " (u'HousingStatus', u'MV'),\n",
       " (u'HousingStatus', u'HEAP'),\n",
       " (u'WorkersEquiv', 'Pov_risk'),\n",
       " (u'WorkersEquiv', u'Commuting'),\n",
       " (u'WorkersEquiv', u'EducAttain'),\n",
       " (u'SchoolLunch', 'Pov_risk'),\n",
       " (u'SchoolLunch', u'WIC'),\n",
       " (u'SchoolLunch', u'PovunitType'),\n",
       " (u'SchoolLunch', u'HEAP'),\n",
       " (u'SchoolLunch', u'FoodStamps'),\n",
       " (u'SchoolLunch', u'Housing'),\n",
       " (u'PovunitType', u'WIC'),\n",
       " (u'PovunitType', u'HousingStatus'),\n",
       " (u'PovunitType', u'Housing'),\n",
       " (u'PovunitType', u'WorkersEquiv'),\n",
       " (u'PovunitType', u'Childcare'),\n",
       " (u'PovunitType', u'Commuting'),\n",
       " (u'MV', u'WorkExpIndiv'),\n",
       " (u'MV', u'CitizenStatus'),\n",
       " (u'HEAP', u'FoodStamps'),\n",
       " (u'FoodStamps', u'WorkExpIndiv'),\n",
       " (u'FoodStamps', 'Pov_risk'),\n",
       " (u'FoodStamps', u'WIC'),\n",
       " (u'FoodStamps', u'EducAttain'),\n",
       " (u'CitizenStatus', u'MOOP'),\n",
       " (u'Housing', u'FoodStamps'),\n",
       " (u'Housing', u'HEAP'),\n",
       " (u'Housing', u'HousingStatus'),\n",
       " (u'Housing', u'WorkExpIndiv')]"
      ]
     },
     "execution_count": 200,
     "metadata": {},
     "output_type": "execute_result"
    }
   ],
   "source": [
    "best_model12.edges()"
   ]
  },
  {
   "cell_type": "code",
   "execution_count": 178,
   "metadata": {
    "collapsed": true
   },
   "outputs": [],
   "source": [
    "puma_13 = pd.read_csv(\"../Data/Cleaned/puma_13.csv\")\n",
    "puma_13.drop(['Unnamed: 0'], axis=1, inplace=True)\n",
    "\n",
    "X13 = features(puma_13)\n",
    "\n",
    "train13,test13=train_test_split(X13,random_state=9,test_size=0.33)\n",
    "hc13 = HillClimbSearch(train13, scoring_method=BicScore(train13))\n",
    "best_model13 = hc13.estimate()"
   ]
  },
  {
   "cell_type": "code",
   "execution_count": 201,
   "metadata": {
    "collapsed": false
   },
   "outputs": [
    {
     "data": {
      "text/plain": [
       "[(u'WorkExpIndiv', u'WorkersEquiv'),\n",
       " (u'WorkExpIndiv', u'FoodStamps'),\n",
       " ('Pov_risk', u'MOOP'),\n",
       " ('Pov_risk', u'FoodStamps'),\n",
       " ('Pov_risk', u'SchoolLunch'),\n",
       " ('Pov_risk', u'HEAP'),\n",
       " ('Pov_risk', u'EducAttain'),\n",
       " (u'WIC', u'PovunitType'),\n",
       " (u'WIC', 'Pov_risk'),\n",
       " (u'WIC', u'FoodStamps'),\n",
       " (u'WIC', u'HEAP'),\n",
       " (u'HousingStatus', u'Housing'),\n",
       " (u'WorkersEquiv', 'Pov_risk'),\n",
       " (u'WorkersEquiv', u'Commuting'),\n",
       " (u'WorkersEquiv', u'EducAttain'),\n",
       " (u'PovunitType', u'Commuting'),\n",
       " (u'PovunitType', u'WorkersEquiv'),\n",
       " (u'PovunitType', u'SchoolLunch'),\n",
       " (u'PovunitType', u'Childcare'),\n",
       " (u'PovunitType', u'MV'),\n",
       " (u'MV', u'WorkExpIndiv'),\n",
       " (u'MV', u'CitizenStatus'),\n",
       " (u'MV', u'HousingStatus'),\n",
       " (u'Childcare', u'WorkExpIndiv'),\n",
       " (u'HEAP', u'SchoolLunch'),\n",
       " (u'HEAP', u'EducAttain'),\n",
       " (u'HEAP', u'HousingStatus'),\n",
       " (u'FoodStamps', u'MOOP'),\n",
       " (u'FoodStamps', u'Housing'),\n",
       " (u'FoodStamps', u'HEAP'),\n",
       " (u'CitizenStatus', 'Pov_risk'),\n",
       " (u'Commuting', u'MOOP'),\n",
       " (u'Housing', u'MOOP')]"
      ]
     },
     "execution_count": 201,
     "metadata": {},
     "output_type": "execute_result"
    }
   ],
   "source": [
    "best_model13.edges()"
   ]
  },
  {
   "cell_type": "code",
   "execution_count": 179,
   "metadata": {
    "collapsed": true
   },
   "outputs": [],
   "source": [
    "puma_14 = pd.read_csv(\"../Data/Cleaned/puma_14.csv\")\n",
    "puma_14.drop(['Unnamed: 0'], axis=1, inplace=True)\n",
    "\n",
    "X14 = features(puma_14)\n",
    "\n",
    "train14,test14=train_test_split(X14,random_state=9,test_size=0.33)\n",
    "hc14 = HillClimbSearch(train14, scoring_method=BicScore(train14))\n",
    "best_model14 = hc14.estimate()"
   ]
  },
  {
   "cell_type": "code",
   "execution_count": 202,
   "metadata": {
    "collapsed": false
   },
   "outputs": [
    {
     "data": {
      "text/plain": [
       "[(u'WorkExpIndiv', u'FoodStamps'),\n",
       " (u'WorkExpIndiv', u'MV'),\n",
       " (u'WorkExpIndiv', u'Childcare'),\n",
       " (u'WorkExpIndiv', u'HEAP'),\n",
       " ('Pov_risk', u'HousingStatus'),\n",
       " ('Pov_risk', u'WorkersEquiv'),\n",
       " ('Pov_risk', u'MOOP'),\n",
       " ('Pov_risk', u'SchoolLunch'),\n",
       " ('Pov_risk', u'HEAP'),\n",
       " ('Pov_risk', u'CitizenStatus'),\n",
       " (u'HousingStatus', u'PovunitType'),\n",
       " (u'HousingStatus', u'MV'),\n",
       " (u'HousingStatus', u'FoodStamps'),\n",
       " (u'WorkersEquiv', u'WorkExpIndiv'),\n",
       " (u'WorkersEquiv', u'Commuting'),\n",
       " (u'SchoolLunch', u'WIC'),\n",
       " (u'SchoolLunch', u'HEAP'),\n",
       " (u'PovunitType', u'WorkExpIndiv'),\n",
       " (u'PovunitType', u'WIC'),\n",
       " (u'PovunitType', u'WorkersEquiv'),\n",
       " (u'PovunitType', u'SchoolLunch'),\n",
       " (u'PovunitType', u'Childcare'),\n",
       " (u'PovunitType', u'Commuting'),\n",
       " (u'MV', u'CitizenStatus'),\n",
       " (u'HEAP', u'FoodStamps'),\n",
       " (u'FoodStamps', u'MOOP'),\n",
       " (u'FoodStamps', u'WIC'),\n",
       " (u'Commuting', u'MOOP'),\n",
       " (u'Housing', 'Pov_risk'),\n",
       " (u'Housing', u'HousingStatus'),\n",
       " (u'Housing', u'WorkersEquiv'),\n",
       " (u'Housing', u'PovunitType'),\n",
       " (u'Housing', u'MOOP'),\n",
       " (u'Housing', u'HEAP'),\n",
       " (u'Housing', u'EducAttain'),\n",
       " (u'EducAttain', 'Pov_risk')]"
      ]
     },
     "execution_count": 202,
     "metadata": {},
     "output_type": "execute_result"
    }
   ],
   "source": [
    "best_model14.edges()"
   ]
  },
  {
   "cell_type": "code",
   "execution_count": null,
   "metadata": {
    "collapsed": true
   },
   "outputs": [],
   "source": []
  },
  {
   "cell_type": "code",
   "execution_count": 101,
   "metadata": {
    "collapsed": true
   },
   "outputs": [],
   "source": [
    "G = nx.DiGraph()"
   ]
  },
  {
   "cell_type": "code",
   "execution_count": 106,
   "metadata": {
    "collapsed": false
   },
   "outputs": [
    {
     "data": {
      "image/png": "[encoded data removed]",
      "text/plain": [
       "<matplotlib.figure.Figure at 0x7f9767a51550>"
      ]
     },
     "metadata": {},
     "output_type": "display_data"
    }
   ],
   "source": [
    "G.add_edges_from(best_model.edges())\n",
    "nx.draw(G, with_labels=True, arrows=True, node_size=700)"
   ]
  },
  {
   "cell_type": "code",
   "execution_count": null,
   "metadata": {
    "collapsed": true
   },
   "outputs": [],
   "source": []
  }
 ],
 "metadata": {
  "kernelspec": {
   "display_name": "kJVEvys217",
   "language": "python",
   "name": "kjvevys217"
  },
  "language_info": {
   "codemirror_mode": {
    "name": "ipython",
    "version": 2
   },
   "file_extension": ".py",
   "mimetype": "text/x-python",
   "name": "python",
   "nbconvert_exporter": "python",
   "pygments_lexer": "ipython2",
   "version": "2.7.13"
  }
 },
 "nbformat": 4,
 "nbformat_minor": 0
}
