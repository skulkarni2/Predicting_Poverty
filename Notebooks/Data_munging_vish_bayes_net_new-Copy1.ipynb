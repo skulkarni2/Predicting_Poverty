{
 "cells": [
  {
   "cell_type": "code",
   "execution_count": 1,
   "metadata": {
    "collapsed": false
   },
   "outputs": [],
   "source": [
    "import numpy\n",
    "import pandas as pd\n",
    "import numpy as np\n",
    "from pgmpy.estimators import BdeuScore, K2Score, BicScore\n",
    "from pgmpy.models import BayesianModel\n",
    "from pgmpy.estimators import HillClimbSearch\n",
    "from pgmpy.estimators import BayesianEstimator, MaximumLikelihoodEstimator\n",
    "import networkx as nx\n",
    "import pandas as pd\n",
    "import matplotlib.pyplot as plt\n",
    "from sklearn.model_selection import train_test_split\n",
    "%matplotlib inline"
   ]
  },
  {
   "cell_type": "code",
   "execution_count": 2,
   "metadata": {
    "collapsed": true
   },
   "outputs": [],
   "source": [
    "def features(data):\n",
    "       \n",
    "    data.loc[data.HEAP == 0.0, 'HEAP'] = 0\n",
    "    data.loc[data.HEAP != 0.0, 'HEAP'] = 1\n",
    "    \n",
    "    data.loc[data.WIC == 0.0 ,'WIC'] = 0\n",
    "    data.loc[data.WIC != 0.0 ,'WIC'] = 1\n",
    "    \n",
    "    data.loc[data.SchoolLunch == 0.0, 'SchoolLunch'] = 0\n",
    "    data.loc[data.SchoolLunch != 0.0, 'SchoolLunch'] = 1\n",
    "\n",
    "    data.loc[data.MOOP == 0.0, 'MOOP'] = 0\n",
    "    data.loc[data.MOOP != 0.0, 'MOOP'] = 1\n",
    "\n",
    "    data.loc[data.Childcare == 0.0, 'Childcare'] = 0\n",
    "    data.loc[data.Childcare != 0.0, 'Childcare'] = 1\n",
    "\n",
    "    data.loc[data.FoodStamps == 0.0, 'FoodStamps'] = 0\n",
    "    data.loc[data.FoodStamps != 0.0, 'FoodStamps'] = 1\n",
    "\n",
    "    data.loc[data.Commuting == 0.0, 'Commuting'] = 0\n",
    "    data.loc[data.Commuting != 0.0, 'Commuting'] = 1\n",
    "\n",
    "    data.loc[data.Housing == 0.0, 'Housing'] = 0\n",
    "    data.loc[data.Housing != 0.0, 'Housing'] = 1\n",
    "    \n",
    "    data = data.loc[:, [u'PovunitType', u'WorkExpIndiv',\n",
    "                  u'HEAP', u'CitizenStatus',\n",
    "                  u'EducAttain',\n",
    "                  u'WIC', u'HousingStatus',\n",
    "                  u'WorkersEquiv', u'SchoolLunch',\n",
    "                  u'MOOP', u'MV', u'Childcare', \n",
    "                  u'FoodStamps', u'Commuting',\n",
    "                  u'Housing', 'Pov_risk']]\n",
    "    return data"
   ]
  },
  {
   "cell_type": "code",
   "execution_count": 3,
   "metadata": {
    "collapsed": true
   },
   "outputs": [],
   "source": [
    "def features_all(data):\n",
    "       \n",
    "    data.loc[data.HEAP == 0.0, 'HEAP'] = 0\n",
    "    data.loc[data.HEAP != 0.0, 'HEAP'] = 1\n",
    "    \n",
    "    data.loc[data.WIC == 0.0 ,'WIC'] = 0\n",
    "    data.loc[data.WIC != 0.0 ,'WIC'] = 1\n",
    "    \n",
    "    data.loc[data.SchoolLunch == 0.0, 'SchoolLunch'] = 0\n",
    "    data.loc[data.SchoolLunch != 0.0, 'SchoolLunch'] = 1\n",
    "\n",
    "    data.loc[data.MOOP == 0.0, 'MOOP'] = 0\n",
    "    data.loc[data.MOOP != 0.0, 'MOOP'] = 1\n",
    "\n",
    "    data.loc[data.Childcare == 0.0, 'Childcare'] = 0\n",
    "    data.loc[data.Childcare != 0.0, 'Childcare'] = 1\n",
    "\n",
    "    data.loc[data.FoodStamps == 0.0, 'FoodStamps'] = 0\n",
    "    data.loc[data.FoodStamps != 0.0, 'FoodStamps'] = 1\n",
    "\n",
    "    data.loc[data.Commuting == 0.0, 'Commuting'] = 0\n",
    "    data.loc[data.Commuting != 0.0, 'Commuting'] = 1\n",
    "\n",
    "    data.loc[data.Housing == 0.0, 'Housing'] = 0\n",
    "    data.loc[data.Housing != 0.0, 'Housing'] = 1\n",
    "    \n",
    "    data = data.loc[:, [ u'HEAP', u'HousingStatus', u'WorkersEquiv', u'SchoolLunch', u'MOOP', u'EducAttain',\n",
    "      u'FoodStamps', u'Housing', u'year', u'Pov_risk']]\n",
    "    return data"
   ]
  },
  {
   "cell_type": "code",
   "execution_count": 3,
   "metadata": {
    "collapsed": false
   },
   "outputs": [],
   "source": [
    "# thresholds = pd.Series(puma_05.CEO_Threshold.unique())"
   ]
  },
  {
   "cell_type": "code",
   "execution_count": 4,
   "metadata": {
    "collapsed": false
   },
   "outputs": [],
   "source": [
    "# thresholds.hist(bins=35)\n",
    "# plt.vlines(x=thresholds.median(), ymin=0, ymax=18, color = 'red')\n",
    "# plt.vlines(x=thresholds.mean(), ymin=0, ymax=18, color = 'yellow')"
   ]
  },
  {
   "cell_type": "code",
   "execution_count": 5,
   "metadata": {
    "collapsed": false
   },
   "outputs": [],
   "source": [
    "# puma_05[puma_05.CEO_Threshold == puma_05.CEO_Threshold.max()]"
   ]
  },
  {
   "cell_type": "code",
   "execution_count": 6,
   "metadata": {
    "collapsed": false
   },
   "outputs": [],
   "source": [
    "# thresholds.describe()"
   ]
  },
  {
   "cell_type": "code",
   "execution_count": 7,
   "metadata": {
    "collapsed": false
   },
   "outputs": [],
   "source": [
    "# thresholds.quantile(0.99)"
   ]
  },
  {
   "cell_type": "code",
   "execution_count": 8,
   "metadata": {
    "collapsed": false
   },
   "outputs": [],
   "source": [
    "# thresholds_of = pd.Series(puma_05.Official_Threshold.unique())"
   ]
  },
  {
   "cell_type": "code",
   "execution_count": 9,
   "metadata": {
    "collapsed": false
   },
   "outputs": [],
   "source": [
    "# thresholds_of.hist(bins=30)"
   ]
  },
  {
   "cell_type": "markdown",
   "metadata": {},
   "source": [
    "# New check without aggregation"
   ]
  },
  {
   "cell_type": "code",
   "execution_count": 10,
   "metadata": {
    "collapsed": false
   },
   "outputs": [],
   "source": [
    "# puma_05.CEO_Income.describe()"
   ]
  },
  {
   "cell_type": "code",
   "execution_count": 11,
   "metadata": {
    "collapsed": false,
    "scrolled": false
   },
   "outputs": [],
   "source": [
    "# puma_05[puma_05.CEO_Income < 0]['PUMA'].hist()"
   ]
  },
  {
   "cell_type": "code",
   "execution_count": 12,
   "metadata": {
    "collapsed": false
   },
   "outputs": [],
   "source": [
    "# puma_05[puma_05.SERIALNO == 812]"
   ]
  },
  {
   "cell_type": "code",
   "execution_count": 13,
   "metadata": {
    "collapsed": false
   },
   "outputs": [],
   "source": [
    "# puma_05[puma_05.CEO_Income == 0]"
   ]
  },
  {
   "cell_type": "code",
   "execution_count": 14,
   "metadata": {
    "collapsed": false
   },
   "outputs": [],
   "source": [
    "# puma_05.CEO_Income.quantile(0.1)"
   ]
  },
  {
   "cell_type": "code",
   "execution_count": 15,
   "metadata": {
    "collapsed": false
   },
   "outputs": [],
   "source": [
    "# df[(df.CEO_Poverty == 1)&(df.CEO_Threshold < df.CEO_Income)][['CEO_Threshold', 'CEO_Income','CEO_Poverty', 'Pov_risk', 'Threshold1']]"
   ]
  },
  {
   "cell_type": "code",
   "execution_count": 16,
   "metadata": {
    "collapsed": false
   },
   "outputs": [],
   "source": [
    "# df[(df.Pov_risk == 1)&((df.CEO_Poverty == 1))][['CEO_Threshold', 'CEO_Income','CEO_Poverty', 'Pov_risk', 'Threshold1']]"
   ]
  },
  {
   "cell_type": "code",
   "execution_count": 17,
   "metadata": {
    "collapsed": false
   },
   "outputs": [
    {
     "ename": "NameError",
     "evalue": "name 'df' is not defined",
     "output_type": "error",
     "traceback": [
      "\u001b[0;31m---------------------------------------------------------------------------\u001b[0m",
      "\u001b[0;31mNameError\u001b[0m                                 Traceback (most recent call last)",
      "\u001b[0;32m<ipython-input-17-22af63234370>\u001b[0m in \u001b[0;36m<module>\u001b[0;34m()\u001b[0m\n\u001b[0;32m----> 1\u001b[0;31m X = df[[ u'PovunitType', u'WorkExpIndiv', u'Povunit',\n\u001b[0m\u001b[1;32m      2\u001b[0m         \u001b[0;34mu'SchoolBreakfast'\u001b[0m\u001b[0;34m,\u001b[0m \u001b[0;34mu'HEAP'\u001b[0m\u001b[0;34m,\u001b[0m \u001b[0;34mu'CitizenStatus'\u001b[0m\u001b[0;34m,\u001b[0m\u001b[0;34m\u001b[0m\u001b[0m\n\u001b[1;32m      3\u001b[0m         \u001b[0;34mu'AgeCateg_2'\u001b[0m\u001b[0;34m,\u001b[0m \u001b[0;34mu'AgeCateg_3'\u001b[0m\u001b[0;34m,\u001b[0m \u001b[0;34mu'EducAttain'\u001b[0m\u001b[0;34m,\u001b[0m\u001b[0;34m\u001b[0m\u001b[0m\n\u001b[1;32m      4\u001b[0m         \u001b[0;34mu'WIC'\u001b[0m\u001b[0;34m,\u001b[0m \u001b[0;34mu'HousingStatus'\u001b[0m\u001b[0;34m,\u001b[0m\u001b[0;34m\u001b[0m\u001b[0m\n\u001b[1;32m      5\u001b[0m        \u001b[0;34mu'WorkersEquiv'\u001b[0m\u001b[0;34m,\u001b[0m \u001b[0;34mu'SchoolLunch'\u001b[0m\u001b[0;34m,\u001b[0m \u001b[0;34mu'AgeCateg_1'\u001b[0m\u001b[0;34m,\u001b[0m\u001b[0;34m\u001b[0m\u001b[0m\n",
      "\u001b[0;31mNameError\u001b[0m: name 'df' is not defined"
     ]
    }
   ],
   "source": [
    "X = df[[ u'PovunitType', u'WorkExpIndiv', u'Povunit',\n",
    "        u'SchoolBreakfast', u'HEAP', u'CitizenStatus',\n",
    "        u'AgeCateg_2', u'AgeCateg_3', u'EducAttain',\n",
    "        u'WIC', u'HousingStatus',\n",
    "       u'WorkersEquiv', u'SchoolLunch', u'AgeCateg_1',\n",
    "       u'MOOP', u'MV', u'Childcare', \n",
    "       u'NP', u'FoodStamps', u'Commuting',\n",
    "       u'Housing', 'Pov_risk']]"
   ]
  },
  {
   "cell_type": "code",
   "execution_count": 61,
   "metadata": {
    "collapsed": false
   },
   "outputs": [
    {
     "data": {
      "text/plain": [
       "Index([u'PovunitType', u'WorkExpIndiv', u'Povunit', u'SchoolBreakfast',\n",
       "       u'HEAP', u'CitizenStatus', u'AgeCateg_2', u'AgeCateg_3', u'EducAttain',\n",
       "       u'WIC', u'HousingStatus', u'WorkersEquiv', u'SchoolLunch',\n",
       "       u'AgeCateg_1', u'MOOP', u'MV', u'Childcare', u'NP', u'FoodStamps',\n",
       "       u'Commuting', u'Housing', u'Pov_risk'],\n",
       "      dtype='object')"
      ]
     },
     "execution_count": 61,
     "metadata": {},
     "output_type": "execute_result"
    }
   ],
   "source": [
    "X.columns"
   ]
  },
  {
   "cell_type": "markdown",
   "metadata": {},
   "source": [
    "# Making continuous variables discrete"
   ]
  },
  {
   "cell_type": "code",
   "execution_count": 116,
   "metadata": {
    "collapsed": false,
    "scrolled": true
   },
   "outputs": [
    {
     "data": {
      "text/plain": [
       "<matplotlib.axes._subplots.AxesSubplot at 0x7f94b44277d0>"
      ]
     },
     "execution_count": 116,
     "metadata": {},
     "output_type": "execute_result"
    },
    {
     "data": {
      "image/png": "[encoded data removed]",
      "text/plain": [
       "<matplotlib.figure.Figure at 0x7f9767959990>"
      ]
     },
     "metadata": {},
     "output_type": "display_data"
    }
   ],
   "source": [
    "# print X.SchoolBreakfast.value_counts()\n",
    "X.SchoolBreakfast.hist()"
   ]
  },
  {
   "cell_type": "code",
   "execution_count": 117,
   "metadata": {
    "collapsed": false
   },
   "outputs": [
    {
     "data": {
      "text/plain": [
       "<matplotlib.axes._subplots.AxesSubplot at 0x7f94b4490310>"
      ]
     },
     "execution_count": 117,
     "metadata": {},
     "output_type": "execute_result"
    },
    {
     "data": {
      "image/png": "[encoded data removed]",
      "text/plain": [
       "<matplotlib.figure.Figure at 0x7f94b43b8790>"
      ]
     },
     "metadata": {},
     "output_type": "display_data"
    }
   ],
   "source": [
    "# print (X.HEAP).value_counts()\n",
    "X.HEAP.hist(bins= 50)"
   ]
  },
  {
   "cell_type": "code",
   "execution_count": 64,
   "metadata": {
    "collapsed": false
   },
   "outputs": [
    {
     "name": "stderr",
     "output_type": "stream",
     "text": [
      "/gpfs1/cusp/vys217/.conda/envs/JVEvys217/lib/python2.7/site-packages/ipykernel_launcher.py:1: SettingWithCopyWarning: \n",
      "A value is trying to be set on a copy of a slice from a DataFrame\n",
      "\n",
      "See the caveats in the documentation: http://pandas.pydata.org/pandas-docs/stable/indexing.html#indexing-view-versus-copy\n",
      "  \"\"\"Entry point for launching an IPython kernel.\n",
      "/gpfs1/cusp/vys217/.conda/envs/JVEvys217/lib/python2.7/site-packages/ipykernel_launcher.py:2: SettingWithCopyWarning: \n",
      "A value is trying to be set on a copy of a slice from a DataFrame\n",
      "\n",
      "See the caveats in the documentation: http://pandas.pydata.org/pandas-docs/stable/indexing.html#indexing-view-versus-copy\n",
      "  \n"
     ]
    }
   ],
   "source": [
    "X.HEAP[X.HEAP == 0.0] = 0\n",
    "X.HEAP[X.HEAP != 0.0] = 1"
   ]
  },
  {
   "cell_type": "code",
   "execution_count": 65,
   "metadata": {
    "collapsed": false
   },
   "outputs": [
    {
     "data": {
      "text/plain": [
       "0.0    21155\n",
       "1.0     3545\n",
       "Name: HEAP, dtype: int64"
      ]
     },
     "execution_count": 65,
     "metadata": {},
     "output_type": "execute_result"
    }
   ],
   "source": [
    "X.HEAP.value_counts()"
   ]
  },
  {
   "cell_type": "code",
   "execution_count": 118,
   "metadata": {
    "collapsed": false
   },
   "outputs": [
    {
     "data": {
      "text/plain": [
       "<matplotlib.axes._subplots.AxesSubplot at 0x7f94b4499650>"
      ]
     },
     "execution_count": 118,
     "metadata": {},
     "output_type": "execute_result"
    },
    {
     "data": {
      "image/png": "[encoded data removed]",
      "text/plain": [
       "<matplotlib.figure.Figure at 0x7f94b44a3210>"
      ]
     },
     "metadata": {},
     "output_type": "display_data"
    }
   ],
   "source": [
    "# print X.WIC.value_counts()\n",
    "X.WIC.hist(bins=50)"
   ]
  },
  {
   "cell_type": "code",
   "execution_count": 67,
   "metadata": {
    "collapsed": false
   },
   "outputs": [
    {
     "name": "stderr",
     "output_type": "stream",
     "text": [
      "/gpfs1/cusp/vys217/.conda/envs/JVEvys217/lib/python2.7/site-packages/ipykernel_launcher.py:1: SettingWithCopyWarning: \n",
      "A value is trying to be set on a copy of a slice from a DataFrame\n",
      "\n",
      "See the caveats in the documentation: http://pandas.pydata.org/pandas-docs/stable/indexing.html#indexing-view-versus-copy\n",
      "  \"\"\"Entry point for launching an IPython kernel.\n",
      "/gpfs1/cusp/vys217/.conda/envs/JVEvys217/lib/python2.7/site-packages/ipykernel_launcher.py:2: SettingWithCopyWarning: \n",
      "A value is trying to be set on a copy of a slice from a DataFrame\n",
      "\n",
      "See the caveats in the documentation: http://pandas.pydata.org/pandas-docs/stable/indexing.html#indexing-view-versus-copy\n",
      "  \n"
     ]
    }
   ],
   "source": [
    "X.WIC[X.WIC == 0.0] = 0\n",
    "X.WIC[X.WIC != 0.0] = 1"
   ]
  },
  {
   "cell_type": "code",
   "execution_count": 68,
   "metadata": {
    "collapsed": false
   },
   "outputs": [
    {
     "data": {
      "text/plain": [
       "0.0    24304\n",
       "1.0      396\n",
       "Name: WIC, dtype: int64"
      ]
     },
     "execution_count": 68,
     "metadata": {},
     "output_type": "execute_result"
    }
   ],
   "source": [
    "X.WIC.value_counts()"
   ]
  },
  {
   "cell_type": "code",
   "execution_count": 119,
   "metadata": {
    "collapsed": false
   },
   "outputs": [
    {
     "data": {
      "text/plain": [
       "<matplotlib.axes._subplots.AxesSubplot at 0x7f94b42a5910>"
      ]
     },
     "execution_count": 119,
     "metadata": {},
     "output_type": "execute_result"
    },
    {
     "data": {
      "image/png": "[encoded data removed]",
      "text/plain": [
       "<matplotlib.figure.Figure at 0x7f94b44a3bd0>"
      ]
     },
     "metadata": {},
     "output_type": "display_data"
    }
   ],
   "source": [
    "# print X.SchoolLunch.value_counts()\n",
    "X.SchoolLunch.hist(bins = 100)"
   ]
  },
  {
   "cell_type": "code",
   "execution_count": 70,
   "metadata": {
    "collapsed": false
   },
   "outputs": [
    {
     "name": "stderr",
     "output_type": "stream",
     "text": [
      "/gpfs1/cusp/vys217/.conda/envs/JVEvys217/lib/python2.7/site-packages/ipykernel_launcher.py:1: SettingWithCopyWarning: \n",
      "A value is trying to be set on a copy of a slice from a DataFrame\n",
      "\n",
      "See the caveats in the documentation: http://pandas.pydata.org/pandas-docs/stable/indexing.html#indexing-view-versus-copy\n",
      "  \"\"\"Entry point for launching an IPython kernel.\n",
      "/gpfs1/cusp/vys217/.conda/envs/JVEvys217/lib/python2.7/site-packages/ipykernel_launcher.py:2: SettingWithCopyWarning: \n",
      "A value is trying to be set on a copy of a slice from a DataFrame\n",
      "\n",
      "See the caveats in the documentation: http://pandas.pydata.org/pandas-docs/stable/indexing.html#indexing-view-versus-copy\n",
      "  \n"
     ]
    }
   ],
   "source": [
    "X.SchoolLunch[X.SchoolLunch == 0.0] = 0\n",
    "X.SchoolLunch[X.SchoolLunch != 0.0] = 1"
   ]
  },
  {
   "cell_type": "code",
   "execution_count": 71,
   "metadata": {
    "collapsed": false
   },
   "outputs": [
    {
     "data": {
      "text/plain": [
       "0.0    22698\n",
       "1.0     2002\n",
       "Name: SchoolLunch, dtype: int64"
      ]
     },
     "execution_count": 71,
     "metadata": {},
     "output_type": "execute_result"
    }
   ],
   "source": [
    "X.SchoolLunch.value_counts()"
   ]
  },
  {
   "cell_type": "code",
   "execution_count": 120,
   "metadata": {
    "collapsed": false
   },
   "outputs": [
    {
     "data": {
      "text/plain": [
       "<matplotlib.axes._subplots.AxesSubplot at 0x7f94b3dcb450>"
      ]
     },
     "execution_count": 120,
     "metadata": {},
     "output_type": "execute_result"
    },
    {
     "data": {
      "image/png": "[encoded data removed]",
      "text/plain": [
       "<matplotlib.figure.Figure at 0x7f94b407ab90>"
      ]
     },
     "metadata": {},
     "output_type": "display_data"
    }
   ],
   "source": [
    "# print X.MOOP.describe()\n",
    "(X.MOOP).hist(bins = 100)"
   ]
  },
  {
   "cell_type": "code",
   "execution_count": 73,
   "metadata": {
    "collapsed": false
   },
   "outputs": [
    {
     "name": "stderr",
     "output_type": "stream",
     "text": [
      "/gpfs1/cusp/vys217/.conda/envs/JVEvys217/lib/python2.7/site-packages/ipykernel_launcher.py:1: SettingWithCopyWarning: \n",
      "A value is trying to be set on a copy of a slice from a DataFrame\n",
      "\n",
      "See the caveats in the documentation: http://pandas.pydata.org/pandas-docs/stable/indexing.html#indexing-view-versus-copy\n",
      "  \"\"\"Entry point for launching an IPython kernel.\n",
      "/gpfs1/cusp/vys217/.conda/envs/JVEvys217/lib/python2.7/site-packages/ipykernel_launcher.py:2: SettingWithCopyWarning: \n",
      "A value is trying to be set on a copy of a slice from a DataFrame\n",
      "\n",
      "See the caveats in the documentation: http://pandas.pydata.org/pandas-docs/stable/indexing.html#indexing-view-versus-copy\n",
      "  \n"
     ]
    }
   ],
   "source": [
    "X.MOOP[X.MOOP == 0.0] = 0\n",
    "X.MOOP[X.MOOP != 0.0] = 1"
   ]
  },
  {
   "cell_type": "code",
   "execution_count": 74,
   "metadata": {
    "collapsed": false
   },
   "outputs": [
    {
     "data": {
      "text/plain": [
       "<matplotlib.axes._subplots.AxesSubplot at 0x7f976d5cee50>"
      ]
     },
     "execution_count": 74,
     "metadata": {},
     "output_type": "execute_result"
    },
    {
     "data": {
      "image/png": "[encoded data removed]",
      "text/plain": [
       "<matplotlib.figure.Figure at 0x7f983c9d9410>"
      ]
     },
     "metadata": {},
     "output_type": "display_data"
    }
   ],
   "source": [
    "X.MOOP.plot.box()"
   ]
  },
  {
   "cell_type": "code",
   "execution_count": 121,
   "metadata": {
    "collapsed": false
   },
   "outputs": [
    {
     "data": {
      "text/plain": [
       "<matplotlib.axes._subplots.AxesSubplot at 0x7f94b3c87a50>"
      ]
     },
     "execution_count": 121,
     "metadata": {},
     "output_type": "execute_result"
    },
    {
     "data": {
      "image/png": "[encoded data removed]",
      "text/plain": [
       "<matplotlib.figure.Figure at 0x7f94b407a890>"
      ]
     },
     "metadata": {},
     "output_type": "display_data"
    }
   ],
   "source": [
    "# print X.Childcare.value_counts()\n",
    "X.Childcare.hist(log = True, bins=100)"
   ]
  },
  {
   "cell_type": "code",
   "execution_count": 78,
   "metadata": {
    "collapsed": false
   },
   "outputs": [
    {
     "name": "stderr",
     "output_type": "stream",
     "text": [
      "/gpfs1/cusp/vys217/.conda/envs/JVEvys217/lib/python2.7/site-packages/ipykernel_launcher.py:1: SettingWithCopyWarning: \n",
      "A value is trying to be set on a copy of a slice from a DataFrame\n",
      "\n",
      "See the caveats in the documentation: http://pandas.pydata.org/pandas-docs/stable/indexing.html#indexing-view-versus-copy\n",
      "  \"\"\"Entry point for launching an IPython kernel.\n",
      "/gpfs1/cusp/vys217/.conda/envs/JVEvys217/lib/python2.7/site-packages/ipykernel_launcher.py:2: SettingWithCopyWarning: \n",
      "A value is trying to be set on a copy of a slice from a DataFrame\n",
      "\n",
      "See the caveats in the documentation: http://pandas.pydata.org/pandas-docs/stable/indexing.html#indexing-view-versus-copy\n",
      "  \n"
     ]
    }
   ],
   "source": [
    "X.Childcare[X.Childcare == 0.0] = 0\n",
    "X.Childcare[X.Childcare != 0.0] = 1"
   ]
  },
  {
   "cell_type": "code",
   "execution_count": 122,
   "metadata": {
    "collapsed": false
   },
   "outputs": [
    {
     "data": {
      "text/plain": [
       "<matplotlib.axes._subplots.AxesSubplot at 0x7f94b373be10>"
      ]
     },
     "execution_count": 122,
     "metadata": {},
     "output_type": "execute_result"
    },
    {
     "data": {
      "image/png": "[encoded data removed]",
      "text/plain": [
       "<matplotlib.figure.Figure at 0x7f94b407add0>"
      ]
     },
     "metadata": {},
     "output_type": "display_data"
    }
   ],
   "source": [
    "# print X.FoodStamps.value_counts()\n",
    "X.FoodStamps.hist(bins=100, log = True)"
   ]
  },
  {
   "cell_type": "code",
   "execution_count": 80,
   "metadata": {
    "collapsed": false
   },
   "outputs": [
    {
     "data": {
      "text/plain": [
       "<matplotlib.axes._subplots.AxesSubplot at 0x7f976d1b1f90>"
      ]
     },
     "execution_count": 80,
     "metadata": {},
     "output_type": "execute_result"
    },
    {
     "data": {
      "image/png": "[encoded data removed]",
      "text/plain": [
       "<matplotlib.figure.Figure at 0x7f976dfe5490>"
      ]
     },
     "metadata": {},
     "output_type": "display_data"
    }
   ],
   "source": [
    "np.sqrt(X.FoodStamps).hist(bins=100, log = True)"
   ]
  },
  {
   "cell_type": "code",
   "execution_count": 81,
   "metadata": {
    "collapsed": false
   },
   "outputs": [
    {
     "name": "stderr",
     "output_type": "stream",
     "text": [
      "/gpfs1/cusp/vys217/.conda/envs/JVEvys217/lib/python2.7/site-packages/ipykernel_launcher.py:1: SettingWithCopyWarning: \n",
      "A value is trying to be set on a copy of a slice from a DataFrame\n",
      "\n",
      "See the caveats in the documentation: http://pandas.pydata.org/pandas-docs/stable/indexing.html#indexing-view-versus-copy\n",
      "  \"\"\"Entry point for launching an IPython kernel.\n",
      "/gpfs1/cusp/vys217/.conda/envs/JVEvys217/lib/python2.7/site-packages/ipykernel_launcher.py:2: SettingWithCopyWarning: \n",
      "A value is trying to be set on a copy of a slice from a DataFrame\n",
      "\n",
      "See the caveats in the documentation: http://pandas.pydata.org/pandas-docs/stable/indexing.html#indexing-view-versus-copy\n",
      "  \n"
     ]
    }
   ],
   "source": [
    "X.FoodStamps[X.FoodStamps == 0.0] = 0\n",
    "X.FoodStamps[X.FoodStamps != 0.0] = 1"
   ]
  },
  {
   "cell_type": "code",
   "execution_count": 82,
   "metadata": {
    "collapsed": false
   },
   "outputs": [
    {
     "data": {
      "text/plain": [
       "0.0    20980\n",
       "1.0     3720\n",
       "Name: FoodStamps, dtype: int64"
      ]
     },
     "execution_count": 82,
     "metadata": {},
     "output_type": "execute_result"
    }
   ],
   "source": [
    "X.FoodStamps.value_counts()"
   ]
  },
  {
   "cell_type": "code",
   "execution_count": 123,
   "metadata": {
    "collapsed": false
   },
   "outputs": [
    {
     "data": {
      "text/plain": [
       "<matplotlib.axes._subplots.AxesSubplot at 0x7f94b3469050>"
      ]
     },
     "execution_count": 123,
     "metadata": {},
     "output_type": "execute_result"
    },
    {
     "data": {
      "image/png": "[encoded data removed]",
      "text/plain": [
       "<matplotlib.figure.Figure at 0x7f94b3ddf710>"
      ]
     },
     "metadata": {},
     "output_type": "display_data"
    }
   ],
   "source": [
    "# print X.Commuting.value_counts()\n",
    "X.Commuting.hist(log = True, bins=100)"
   ]
  },
  {
   "cell_type": "code",
   "execution_count": 84,
   "metadata": {
    "collapsed": false
   },
   "outputs": [
    {
     "data": {
      "text/plain": [
       "2.0    8861\n",
       "0.0    4293\n",
       "1.0    3469\n",
       "Name: Pov_risk, dtype: int64"
      ]
     },
     "execution_count": 84,
     "metadata": {},
     "output_type": "execute_result"
    }
   ],
   "source": [
    "X[(((X.Commuting - X.Commuting.mean()) / X.Commuting.std()) < 0) &\n",
    "  (((X.Commuting - X.Commuting.mean()) / X.Commuting.std()) >= -1)].Pov_risk.value_counts()"
   ]
  },
  {
   "cell_type": "code",
   "execution_count": 85,
   "metadata": {
    "collapsed": false
   },
   "outputs": [
    {
     "data": {
      "text/plain": [
       "<matplotlib.axes._subplots.AxesSubplot at 0x7f976d518410>"
      ]
     },
     "execution_count": 85,
     "metadata": {},
     "output_type": "execute_result"
    },
    {
     "data": {
      "image/png": "[encoded data removed]",
      "text/plain": [
       "<matplotlib.figure.Figure at 0x7f976c973dd0>"
      ]
     },
     "metadata": {},
     "output_type": "display_data"
    }
   ],
   "source": [
    "np.sqrt(X.Commuting).hist(bins= 100)"
   ]
  },
  {
   "cell_type": "code",
   "execution_count": 86,
   "metadata": {
    "collapsed": false
   },
   "outputs": [
    {
     "data": {
      "text/plain": [
       "2.0    3109\n",
       "0.0    2969\n",
       "1.0    1723\n",
       "Name: Pov_risk, dtype: int64"
      ]
     },
     "execution_count": 86,
     "metadata": {},
     "output_type": "execute_result"
    }
   ],
   "source": [
    "X[(np.sqrt(X.Commuting) < 10)].Pov_risk.value_counts()"
   ]
  },
  {
   "cell_type": "code",
   "execution_count": 87,
   "metadata": {
    "collapsed": false
   },
   "outputs": [
    {
     "name": "stderr",
     "output_type": "stream",
     "text": [
      "/gpfs1/cusp/vys217/.conda/envs/JVEvys217/lib/python2.7/site-packages/ipykernel_launcher.py:1: SettingWithCopyWarning: \n",
      "A value is trying to be set on a copy of a slice from a DataFrame\n",
      "\n",
      "See the caveats in the documentation: http://pandas.pydata.org/pandas-docs/stable/indexing.html#indexing-view-versus-copy\n",
      "  \"\"\"Entry point for launching an IPython kernel.\n",
      "/gpfs1/cusp/vys217/.conda/envs/JVEvys217/lib/python2.7/site-packages/ipykernel_launcher.py:2: SettingWithCopyWarning: \n",
      "A value is trying to be set on a copy of a slice from a DataFrame\n",
      "\n",
      "See the caveats in the documentation: http://pandas.pydata.org/pandas-docs/stable/indexing.html#indexing-view-versus-copy\n",
      "  \n"
     ]
    }
   ],
   "source": [
    "X.Commuting[X.Commuting == 0.0] = 0\n",
    "X.Commuting[X.Commuting != 0.0] = 1"
   ]
  },
  {
   "cell_type": "code",
   "execution_count": 88,
   "metadata": {
    "collapsed": false
   },
   "outputs": [
    {
     "data": {
      "text/plain": [
       "<matplotlib.axes._subplots.AxesSubplot at 0x7f976c8b6810>"
      ]
     },
     "execution_count": 88,
     "metadata": {},
     "output_type": "execute_result"
    },
    {
     "data": {
      "image/png": "[encoded data removed]",
      "text/plain": [
       "<matplotlib.figure.Figure at 0x7f976d100810>"
      ]
     },
     "metadata": {},
     "output_type": "display_data"
    }
   ],
   "source": [
    "X.Housing.unique()\n",
    "X.Housing.hist()"
   ]
  },
  {
   "cell_type": "code",
   "execution_count": 136,
   "metadata": {
    "collapsed": false
   },
   "outputs": [
    {
     "name": "stderr",
     "output_type": "stream",
     "text": [
      "/gpfs1/cusp/vys217/.conda/envs/JVEvys217/lib/python2.7/site-packages/ipykernel_launcher.py:2: SettingWithCopyWarning: \n",
      "A value is trying to be set on a copy of a slice from a DataFrame\n",
      "\n",
      "See the caveats in the documentation: http://pandas.pydata.org/pandas-docs/stable/indexing.html#indexing-view-versus-copy\n",
      "  \n"
     ]
    }
   ],
   "source": [
    "X.Housing[X.Housing == 0.0] = 0\n",
    "X.Housing[X.Housing != 0.0] = 1"
   ]
  },
  {
   "cell_type": "code",
   "execution_count": 184,
   "metadata": {
    "collapsed": false
   },
   "outputs": [],
   "source": [
    "puma_05 = pd.read_csv(\"../Data/Cleaned/puma_05.csv\")\n",
    "puma_05.drop(['Unnamed: 0'], axis=1, inplace=True)\n",
    "\n",
    "X5 = features(puma_05)\n",
    "\n",
    "train5,test5=train_test_split(X5,random_state=9,test_size=0.33)\n",
    "hc5 = HillClimbSearch(train5, scoring_method=BicScore(train5))\n",
    "best_model5 = hc5.estimate()"
   ]
  },
  {
   "cell_type": "code",
   "execution_count": 193,
   "metadata": {
    "collapsed": false
   },
   "outputs": [
    {
     "data": {
      "text/plain": [
       "[(u'WorkExpIndiv', u'WorkersEquiv'),\n",
       " (u'WorkExpIndiv', u'Childcare'),\n",
       " (u'WorkExpIndiv', u'HEAP'),\n",
       " ('Pov_risk', u'MOOP'),\n",
       " ('Pov_risk', u'HEAP'),\n",
       " ('Pov_risk', u'EducAttain'),\n",
       " (u'HousingStatus', u'PovunitType'),\n",
       " (u'HousingStatus', u'MV'),\n",
       " (u'WorkersEquiv', u'SchoolLunch'),\n",
       " (u'WorkersEquiv', 'Pov_risk'),\n",
       " (u'WorkersEquiv', u'Commuting'),\n",
       " (u'WorkersEquiv', u'EducAttain'),\n",
       " (u'SchoolLunch', u'CitizenStatus'),\n",
       " (u'SchoolLunch', 'Pov_risk'),\n",
       " (u'SchoolLunch', u'HEAP'),\n",
       " (u'PovunitType', u'WIC'),\n",
       " (u'PovunitType', u'WorkersEquiv'),\n",
       " (u'PovunitType', u'SchoolLunch'),\n",
       " (u'PovunitType', u'Childcare'),\n",
       " (u'PovunitType', u'FoodStamps'),\n",
       " (u'PovunitType', u'Commuting'),\n",
       " (u'MV', u'WorkExpIndiv'),\n",
       " (u'MV', u'CitizenStatus'),\n",
       " (u'HEAP', u'MOOP'),\n",
       " (u'HEAP', u'FoodStamps'),\n",
       " (u'HEAP', u'WIC'),\n",
       " (u'CitizenStatus', 'Pov_risk'),\n",
       " (u'Housing', u'HEAP'),\n",
       " (u'Housing', u'WorkExpIndiv'),\n",
       " (u'Housing', u'EducAttain'),\n",
       " (u'Housing', u'PovunitType'),\n",
       " (u'Housing', u'HousingStatus')]"
      ]
     },
     "execution_count": 193,
     "metadata": {},
     "output_type": "execute_result"
    }
   ],
   "source": [
    "best_model5.edges()"
   ]
  },
  {
   "cell_type": "code",
   "execution_count": 171,
   "metadata": {
    "collapsed": true
   },
   "outputs": [],
   "source": [
    "puma_06 = pd.read_csv(\"../Data/Cleaned/puma_06.csv\")\n",
    "puma_06.drop(['Unnamed: 0'], axis=1, inplace=True)\n",
    "\n",
    "X6 = features(puma_06)\n",
    "\n",
    "train6,test6=train_test_split(X6,random_state=9,test_size=0.33)\n",
    "hc6 = HillClimbSearch(train6, scoring_method=BicScore(train6))\n",
    "best_model6 = hc6.estimate()"
   ]
  },
  {
   "cell_type": "code",
   "execution_count": 194,
   "metadata": {
    "collapsed": false
   },
   "outputs": [
    {
     "data": {
      "text/plain": [
       "[(u'WorkExpIndiv', u'SchoolLunch'),\n",
       " (u'WorkExpIndiv', u'PovunitType'),\n",
       " (u'WorkExpIndiv', u'WorkersEquiv'),\n",
       " (u'WorkExpIndiv', u'MV'),\n",
       " (u'WorkExpIndiv', u'Childcare'),\n",
       " (u'WorkExpIndiv', u'HEAP'),\n",
       " ('Pov_risk', u'MOOP'),\n",
       " ('Pov_risk', u'CitizenStatus'),\n",
       " ('Pov_risk', u'WIC'),\n",
       " ('Pov_risk', u'HEAP'),\n",
       " ('Pov_risk', u'EducAttain'),\n",
       " (u'HousingStatus', u'Housing'),\n",
       " (u'HousingStatus', u'MV'),\n",
       " (u'WorkersEquiv', 'Pov_risk'),\n",
       " (u'WorkersEquiv', u'Commuting'),\n",
       " (u'WorkersEquiv', u'EducAttain'),\n",
       " (u'WorkersEquiv', u'HousingStatus'),\n",
       " (u'SchoolLunch', u'PovunitType'),\n",
       " (u'SchoolLunch', 'Pov_risk'),\n",
       " (u'SchoolLunch', u'HEAP'),\n",
       " (u'PovunitType', u'WIC'),\n",
       " (u'PovunitType', u'Housing'),\n",
       " (u'PovunitType', u'WorkersEquiv'),\n",
       " (u'PovunitType', u'Childcare'),\n",
       " (u'PovunitType', u'FoodStamps'),\n",
       " (u'PovunitType', u'Commuting'),\n",
       " (u'MV', u'CitizenStatus'),\n",
       " (u'HEAP', u'MOOP'),\n",
       " (u'HEAP', u'FoodStamps'),\n",
       " (u'FoodStamps', u'EducAttain'),\n",
       " (u'FoodStamps', u'HousingStatus')]"
      ]
     },
     "execution_count": 194,
     "metadata": {},
     "output_type": "execute_result"
    }
   ],
   "source": [
    "best_model6.edges()"
   ]
  },
  {
   "cell_type": "code",
   "execution_count": 172,
   "metadata": {
    "collapsed": true
   },
   "outputs": [],
   "source": [
    "puma_07 = pd.read_csv(\"../Data/Cleaned/puma_07.csv\")\n",
    "puma_07.drop(['Unnamed: 0'], axis=1, inplace=True)\n",
    "\n",
    "X7 = features(puma_07)\n",
    "\n",
    "train7,test7=train_test_split(X7,random_state=9,test_size=0.33)\n",
    "hc7 = HillClimbSearch(train7, scoring_method=BicScore(train7))\n",
    "best_model7 = hc7.estimate()"
   ]
  },
  {
   "cell_type": "code",
   "execution_count": 195,
   "metadata": {
    "collapsed": false
   },
   "outputs": [
    {
     "data": {
      "text/plain": [
       "[(u'WorkExpIndiv', u'WorkersEquiv'),\n",
       " (u'WorkExpIndiv', u'PovunitType'),\n",
       " (u'WorkExpIndiv', u'MV'),\n",
       " (u'WorkExpIndiv', u'Childcare'),\n",
       " (u'WorkExpIndiv', u'HEAP'),\n",
       " ('Pov_risk', u'MOOP'),\n",
       " ('Pov_risk', u'CitizenStatus'),\n",
       " ('Pov_risk', u'HEAP'),\n",
       " ('Pov_risk', u'EducAttain'),\n",
       " (u'HousingStatus', u'Housing'),\n",
       " (u'HousingStatus', u'MV'),\n",
       " (u'WorkersEquiv', u'SchoolLunch'),\n",
       " (u'WorkersEquiv', 'Pov_risk'),\n",
       " (u'WorkersEquiv', u'Commuting'),\n",
       " (u'WorkersEquiv', u'EducAttain'),\n",
       " (u'WorkersEquiv', u'HousingStatus'),\n",
       " (u'SchoolLunch', 'Pov_risk'),\n",
       " (u'SchoolLunch', u'HEAP'),\n",
       " (u'PovunitType', u'WIC'),\n",
       " (u'PovunitType', u'Housing'),\n",
       " (u'PovunitType', u'WorkersEquiv'),\n",
       " (u'PovunitType', u'SchoolLunch'),\n",
       " (u'PovunitType', u'Childcare'),\n",
       " (u'PovunitType', u'FoodStamps'),\n",
       " (u'PovunitType', u'Commuting'),\n",
       " (u'MV', u'CitizenStatus'),\n",
       " (u'HEAP', u'MOOP'),\n",
       " (u'HEAP', u'FoodStamps'),\n",
       " (u'FoodStamps', u'WIC'),\n",
       " (u'FoodStamps', u'HousingStatus'),\n",
       " (u'Housing', u'EducAttain')]"
      ]
     },
     "execution_count": 195,
     "metadata": {},
     "output_type": "execute_result"
    }
   ],
   "source": [
    "best_model7.edges()"
   ]
  },
  {
   "cell_type": "code",
   "execution_count": 173,
   "metadata": {
    "collapsed": true
   },
   "outputs": [],
   "source": [
    "puma_08 = pd.read_csv(\"../Data/Cleaned/puma_08.csv\")\n",
    "puma_08.drop(['Unnamed: 0'], axis=1, inplace=True)\n",
    "\n",
    "X8 = features(puma_08)\n",
    "\n",
    "train8,test8=train_test_split(X8,random_state=9,test_size=0.33)\n",
    "hc8 = HillClimbSearch(train8, scoring_method=BicScore(train8))\n",
    "best_model8 = hc8.estimate()"
   ]
  },
  {
   "cell_type": "code",
   "execution_count": 196,
   "metadata": {
    "collapsed": false
   },
   "outputs": [
    {
     "data": {
      "text/plain": [
       "[(u'WorkExpIndiv', u'WorkersEquiv'),\n",
       " (u'WorkExpIndiv', u'Childcare'),\n",
       " (u'WorkExpIndiv', u'HEAP'),\n",
       " ('Pov_risk', u'FoodStamps'),\n",
       " ('Pov_risk', u'HEAP'),\n",
       " ('Pov_risk', u'EducAttain'),\n",
       " (u'HousingStatus', u'MOOP'),\n",
       " (u'HousingStatus', u'MV'),\n",
       " (u'WorkersEquiv', 'Pov_risk'),\n",
       " (u'WorkersEquiv', u'Commuting'),\n",
       " (u'WorkersEquiv', u'EducAttain'),\n",
       " (u'SchoolLunch', u'CitizenStatus'),\n",
       " (u'SchoolLunch', u'PovunitType'),\n",
       " (u'SchoolLunch', 'Pov_risk'),\n",
       " (u'SchoolLunch', u'Housing'),\n",
       " (u'SchoolLunch', u'HEAP'),\n",
       " (u'PovunitType', u'WIC'),\n",
       " (u'PovunitType', u'HousingStatus'),\n",
       " (u'PovunitType', u'Housing'),\n",
       " (u'PovunitType', u'WorkersEquiv'),\n",
       " (u'PovunitType', u'Childcare'),\n",
       " (u'PovunitType', u'Commuting'),\n",
       " (u'MV', u'WorkExpIndiv'),\n",
       " (u'MV', u'CitizenStatus'),\n",
       " (u'HEAP', u'FoodStamps'),\n",
       " (u'HEAP', u'WIC'),\n",
       " (u'HEAP', u'EducAttain'),\n",
       " (u'CitizenStatus', 'Pov_risk'),\n",
       " (u'Housing', u'FoodStamps'),\n",
       " (u'Housing', u'WorkExpIndiv'),\n",
       " (u'Housing', u'HEAP'),\n",
       " (u'Housing', u'HousingStatus')]"
      ]
     },
     "execution_count": 196,
     "metadata": {},
     "output_type": "execute_result"
    }
   ],
   "source": [
    "best_model8.edges()"
   ]
  },
  {
   "cell_type": "code",
   "execution_count": 174,
   "metadata": {
    "collapsed": true
   },
   "outputs": [],
   "source": [
    "puma_09 = pd.read_csv(\"../Data/Cleaned/puma_09.csv\")\n",
    "puma_09.drop(['Unnamed: 0'], axis=1, inplace=True)\n",
    "\n",
    "X9 = features(puma_09)\n",
    "\n",
    "train9,test9=train_test_split(X9,random_state=9,test_size=0.33)\n",
    "hc9 = HillClimbSearch(train9, scoring_method=BicScore(train9))\n",
    "best_model9 = hc9.estimate()"
   ]
  },
  {
   "cell_type": "code",
   "execution_count": 197,
   "metadata": {
    "collapsed": false
   },
   "outputs": [
    {
     "data": {
      "text/plain": [
       "[(u'WorkExpIndiv', u'WorkersEquiv'),\n",
       " (u'WorkExpIndiv', u'Childcare'),\n",
       " (u'WorkExpIndiv', u'HEAP'),\n",
       " ('Pov_risk', u'MOOP'),\n",
       " ('Pov_risk', u'FoodStamps'),\n",
       " ('Pov_risk', u'HEAP'),\n",
       " ('Pov_risk', u'EducAttain'),\n",
       " (u'HousingStatus', u'Housing'),\n",
       " (u'HousingStatus', u'PovunitType'),\n",
       " (u'WorkersEquiv', u'SchoolLunch'),\n",
       " (u'WorkersEquiv', 'Pov_risk'),\n",
       " (u'WorkersEquiv', u'Commuting'),\n",
       " (u'WorkersEquiv', u'EducAttain'),\n",
       " (u'SchoolLunch', u'CitizenStatus'),\n",
       " (u'SchoolLunch', 'Pov_risk'),\n",
       " (u'SchoolLunch', u'HEAP'),\n",
       " (u'PovunitType', u'WIC'),\n",
       " (u'PovunitType', u'MOOP'),\n",
       " (u'PovunitType', u'Housing'),\n",
       " (u'PovunitType', u'WorkersEquiv'),\n",
       " (u'PovunitType', u'SchoolLunch'),\n",
       " (u'PovunitType', u'Childcare'),\n",
       " (u'PovunitType', u'Commuting'),\n",
       " (u'MV', u'WorkExpIndiv'),\n",
       " (u'MV', u'CitizenStatus'),\n",
       " (u'MV', u'HousingStatus'),\n",
       " (u'HEAP', u'FoodStamps'),\n",
       " (u'HEAP', u'WIC'),\n",
       " (u'CitizenStatus', 'Pov_risk'),\n",
       " (u'Housing', u'FoodStamps'),\n",
       " (u'Housing', u'WorkExpIndiv'),\n",
       " (u'Housing', u'HEAP'),\n",
       " (u'Housing', u'EducAttain')]"
      ]
     },
     "execution_count": 197,
     "metadata": {},
     "output_type": "execute_result"
    }
   ],
   "source": [
    "best_model9.edges()"
   ]
  },
  {
   "cell_type": "code",
   "execution_count": 175,
   "metadata": {
    "collapsed": true
   },
   "outputs": [],
   "source": [
    "puma_10 = pd.read_csv(\"../Data/Cleaned/puma_10.csv\")\n",
    "puma_10.drop(['Unnamed: 0'], axis=1, inplace=True)\n",
    "\n",
    "X10 = features(puma_10)\n",
    "\n",
    "train10,test10=train_test_split(X10,random_state=9,test_size=0.33)\n",
    "hc10 = HillClimbSearch(train10, scoring_method=BicScore(train10))\n",
    "best_model10 = hc10.estimate()"
   ]
  },
  {
   "cell_type": "code",
   "execution_count": 198,
   "metadata": {
    "collapsed": false
   },
   "outputs": [
    {
     "data": {
      "text/plain": [
       "[(u'WorkExpIndiv', u'WorkersEquiv'),\n",
       " (u'WorkExpIndiv', u'FoodStamps'),\n",
       " (u'WorkExpIndiv', u'Childcare'),\n",
       " ('Pov_risk', u'MOOP'),\n",
       " ('Pov_risk', u'FoodStamps'),\n",
       " ('Pov_risk', u'EducAttain'),\n",
       " (u'HousingStatus', u'PovunitType'),\n",
       " (u'HousingStatus', u'MV'),\n",
       " (u'WorkersEquiv', u'SchoolLunch'),\n",
       " (u'WorkersEquiv', 'Pov_risk'),\n",
       " (u'WorkersEquiv', u'Commuting'),\n",
       " (u'WorkersEquiv', u'EducAttain'),\n",
       " (u'SchoolLunch', u'CitizenStatus'),\n",
       " (u'SchoolLunch', u'FoodStamps'),\n",
       " (u'SchoolLunch', 'Pov_risk'),\n",
       " (u'SchoolLunch', u'WIC'),\n",
       " (u'PovunitType', u'WIC'),\n",
       " (u'PovunitType', u'WorkersEquiv'),\n",
       " (u'PovunitType', u'SchoolLunch'),\n",
       " (u'PovunitType', u'Childcare'),\n",
       " (u'PovunitType', u'HEAP'),\n",
       " (u'PovunitType', u'Commuting'),\n",
       " (u'MV', u'WorkExpIndiv'),\n",
       " (u'MV', u'CitizenStatus'),\n",
       " (u'HEAP', u'MOOP'),\n",
       " (u'HEAP', u'WIC'),\n",
       " (u'FoodStamps', u'EducAttain'),\n",
       " (u'FoodStamps', u'HEAP'),\n",
       " (u'CitizenStatus', 'Pov_risk'),\n",
       " (u'Housing', u'PovunitType'),\n",
       " (u'Housing', u'WorkExpIndiv'),\n",
       " (u'Housing', u'FoodStamps'),\n",
       " (u'Housing', u'HousingStatus')]"
      ]
     },
     "execution_count": 198,
     "metadata": {},
     "output_type": "execute_result"
    }
   ],
   "source": [
    "best_model10.edges()"
   ]
  },
  {
   "cell_type": "code",
   "execution_count": 176,
   "metadata": {
    "collapsed": true
   },
   "outputs": [],
   "source": [
    "puma_11 = pd.read_csv(\"../Data/Cleaned/puma_11.csv\")\n",
    "puma_11.drop(['Unnamed: 0'], axis=1, inplace=True)\n",
    "\n",
    "X11 = features(puma_11)\n",
    "\n",
    "train11,test11=train_test_split(X11,random_state=9,test_size=0.33)\n",
    "hc11 = HillClimbSearch(train11, scoring_method=BicScore(train11))\n",
    "best_model11 = hc11.estimate()"
   ]
  },
  {
   "cell_type": "code",
   "execution_count": 199,
   "metadata": {
    "collapsed": false
   },
   "outputs": [
    {
     "data": {
      "text/plain": [
       "[(u'WorkExpIndiv', u'SchoolLunch'),\n",
       " (u'WorkExpIndiv', u'PovunitType'),\n",
       " (u'WorkExpIndiv', u'WorkersEquiv'),\n",
       " (u'WorkExpIndiv', u'MV'),\n",
       " (u'WorkExpIndiv', u'Childcare'),\n",
       " (u'WorkExpIndiv', u'HEAP'),\n",
       " ('Pov_risk', u'MOOP'),\n",
       " ('Pov_risk', u'CitizenStatus'),\n",
       " ('Pov_risk', u'HousingStatus'),\n",
       " ('Pov_risk', u'EducAttain'),\n",
       " (u'HousingStatus', u'Housing'),\n",
       " (u'HousingStatus', u'MV'),\n",
       " (u'HousingStatus', u'HEAP'),\n",
       " (u'WorkersEquiv', 'Pov_risk'),\n",
       " (u'WorkersEquiv', u'Commuting'),\n",
       " (u'WorkersEquiv', u'EducAttain'),\n",
       " (u'WorkersEquiv', u'HousingStatus'),\n",
       " (u'SchoolLunch', u'PovunitType'),\n",
       " (u'SchoolLunch', 'Pov_risk'),\n",
       " (u'SchoolLunch', u'WIC'),\n",
       " (u'SchoolLunch', u'HEAP'),\n",
       " (u'PovunitType', u'WorkersEquiv'),\n",
       " (u'PovunitType', u'Childcare'),\n",
       " (u'PovunitType', u'Commuting'),\n",
       " (u'PovunitType', u'WIC'),\n",
       " (u'PovunitType', u'FoodStamps'),\n",
       " (u'MV', u'CitizenStatus'),\n",
       " (u'HEAP', u'MOOP'),\n",
       " (u'HEAP', u'FoodStamps'),\n",
       " (u'FoodStamps', u'Housing'),\n",
       " (u'FoodStamps', u'WIC'),\n",
       " (u'Housing', u'EducAttain')]"
      ]
     },
     "execution_count": 199,
     "metadata": {},
     "output_type": "execute_result"
    }
   ],
   "source": [
    "best_model11.edges()"
   ]
  },
  {
   "cell_type": "code",
   "execution_count": 177,
   "metadata": {
    "collapsed": true
   },
   "outputs": [],
   "source": [
    "puma_12 = pd.read_csv(\"../Data/Cleaned/puma_12.csv\")\n",
    "puma_12.drop(['Unnamed: 0'], axis=1, inplace=True)\n",
    "\n",
    "X12 = features(puma_12)\n",
    "\n",
    "train12,test12=train_test_split(X12,random_state=9,test_size=0.33)\n",
    "hc12 = HillClimbSearch(train12, scoring_method=BicScore(train12))\n",
    "best_model12 = hc12.estimate()"
   ]
  },
  {
   "cell_type": "code",
   "execution_count": 200,
   "metadata": {
    "collapsed": false
   },
   "outputs": [
    {
     "data": {
      "text/plain": [
       "[(u'WorkExpIndiv', u'WorkersEquiv'),\n",
       " ('Pov_risk', u'MOOP'),\n",
       " ('Pov_risk', u'CitizenStatus'),\n",
       " ('Pov_risk', u'EducAttain'),\n",
       " (u'HousingStatus', u'MV'),\n",
       " (u'HousingStatus', u'HEAP'),\n",
       " (u'WorkersEquiv', 'Pov_risk'),\n",
       " (u'WorkersEquiv', u'Commuting'),\n",
       " (u'WorkersEquiv', u'EducAttain'),\n",
       " (u'SchoolLunch', 'Pov_risk'),\n",
       " (u'SchoolLunch', u'WIC'),\n",
       " (u'SchoolLunch', u'PovunitType'),\n",
       " (u'SchoolLunch', u'HEAP'),\n",
       " (u'SchoolLunch', u'FoodStamps'),\n",
       " (u'SchoolLunch', u'Housing'),\n",
       " (u'PovunitType', u'WIC'),\n",
       " (u'PovunitType', u'HousingStatus'),\n",
       " (u'PovunitType', u'Housing'),\n",
       " (u'PovunitType', u'WorkersEquiv'),\n",
       " (u'PovunitType', u'Childcare'),\n",
       " (u'PovunitType', u'Commuting'),\n",
       " (u'MV', u'WorkExpIndiv'),\n",
       " (u'MV', u'CitizenStatus'),\n",
       " (u'HEAP', u'FoodStamps'),\n",
       " (u'FoodStamps', u'WorkExpIndiv'),\n",
       " (u'FoodStamps', 'Pov_risk'),\n",
       " (u'FoodStamps', u'WIC'),\n",
       " (u'FoodStamps', u'EducAttain'),\n",
       " (u'CitizenStatus', u'MOOP'),\n",
       " (u'Housing', u'FoodStamps'),\n",
       " (u'Housing', u'HEAP'),\n",
       " (u'Housing', u'HousingStatus'),\n",
       " (u'Housing', u'WorkExpIndiv')]"
      ]
     },
     "execution_count": 200,
     "metadata": {},
     "output_type": "execute_result"
    }
   ],
   "source": [
    "best_model12.edges()"
   ]
  },
  {
   "cell_type": "code",
   "execution_count": 178,
   "metadata": {
    "collapsed": true
   },
   "outputs": [],
   "source": [
    "puma_13 = pd.read_csv(\"../Data/Cleaned/puma_13.csv\")\n",
    "puma_13.drop(['Unnamed: 0'], axis=1, inplace=True)\n",
    "\n",
    "X13 = features(puma_13)\n",
    "\n",
    "train13,test13=train_test_split(X13,random_state=9,test_size=0.33)\n",
    "hc13 = HillClimbSearch(train13, scoring_method=BicScore(train13))\n",
    "best_model13 = hc13.estimate()"
   ]
  },
  {
   "cell_type": "code",
   "execution_count": 201,
   "metadata": {
    "collapsed": false
   },
   "outputs": [
    {
     "data": {
      "text/plain": [
       "[(u'WorkExpIndiv', u'WorkersEquiv'),\n",
       " (u'WorkExpIndiv', u'FoodStamps'),\n",
       " ('Pov_risk', u'MOOP'),\n",
       " ('Pov_risk', u'FoodStamps'),\n",
       " ('Pov_risk', u'SchoolLunch'),\n",
       " ('Pov_risk', u'HEAP'),\n",
       " ('Pov_risk', u'EducAttain'),\n",
       " (u'WIC', u'PovunitType'),\n",
       " (u'WIC', 'Pov_risk'),\n",
       " (u'WIC', u'FoodStamps'),\n",
       " (u'WIC', u'HEAP'),\n",
       " (u'HousingStatus', u'Housing'),\n",
       " (u'WorkersEquiv', 'Pov_risk'),\n",
       " (u'WorkersEquiv', u'Commuting'),\n",
       " (u'WorkersEquiv', u'EducAttain'),\n",
       " (u'PovunitType', u'Commuting'),\n",
       " (u'PovunitType', u'WorkersEquiv'),\n",
       " (u'PovunitType', u'SchoolLunch'),\n",
       " (u'PovunitType', u'Childcare'),\n",
       " (u'PovunitType', u'MV'),\n",
       " (u'MV', u'WorkExpIndiv'),\n",
       " (u'MV', u'CitizenStatus'),\n",
       " (u'MV', u'HousingStatus'),\n",
       " (u'Childcare', u'WorkExpIndiv'),\n",
       " (u'HEAP', u'SchoolLunch'),\n",
       " (u'HEAP', u'EducAttain'),\n",
       " (u'HEAP', u'HousingStatus'),\n",
       " (u'FoodStamps', u'MOOP'),\n",
       " (u'FoodStamps', u'Housing'),\n",
       " (u'FoodStamps', u'HEAP'),\n",
       " (u'CitizenStatus', 'Pov_risk'),\n",
       " (u'Commuting', u'MOOP'),\n",
       " (u'Housing', u'MOOP')]"
      ]
     },
     "execution_count": 201,
     "metadata": {},
     "output_type": "execute_result"
    }
   ],
   "source": [
    "best_model13.edges()"
   ]
  },
  {
   "cell_type": "code",
   "execution_count": 179,
   "metadata": {
    "collapsed": true
   },
   "outputs": [],
   "source": [
    "puma_14 = pd.read_csv(\"../Data/Cleaned/puma_14.csv\")\n",
    "puma_14.drop(['Unnamed: 0'], axis=1, inplace=True)\n",
    "\n",
    "X14 = features(puma_14)\n",
    "\n",
    "train14,test14=train_test_split(X14,random_state=9,test_size=0.33)\n",
    "hc14 = HillClimbSearch(train14, scoring_method=BicScore(train14))\n",
    "best_model14 = hc14.estimate()"
   ]
  },
  {
   "cell_type": "code",
   "execution_count": 202,
   "metadata": {
    "collapsed": false
   },
   "outputs": [
    {
     "data": {
      "text/plain": [
       "[(u'WorkExpIndiv', u'FoodStamps'),\n",
       " (u'WorkExpIndiv', u'MV'),\n",
       " (u'WorkExpIndiv', u'Childcare'),\n",
       " (u'WorkExpIndiv', u'HEAP'),\n",
       " ('Pov_risk', u'HousingStatus'),\n",
       " ('Pov_risk', u'WorkersEquiv'),\n",
       " ('Pov_risk', u'MOOP'),\n",
       " ('Pov_risk', u'SchoolLunch'),\n",
       " ('Pov_risk', u'HEAP'),\n",
       " ('Pov_risk', u'CitizenStatus'),\n",
       " (u'HousingStatus', u'PovunitType'),\n",
       " (u'HousingStatus', u'MV'),\n",
       " (u'HousingStatus', u'FoodStamps'),\n",
       " (u'WorkersEquiv', u'WorkExpIndiv'),\n",
       " (u'WorkersEquiv', u'Commuting'),\n",
       " (u'SchoolLunch', u'WIC'),\n",
       " (u'SchoolLunch', u'HEAP'),\n",
       " (u'PovunitType', u'WorkExpIndiv'),\n",
       " (u'PovunitType', u'WIC'),\n",
       " (u'PovunitType', u'WorkersEquiv'),\n",
       " (u'PovunitType', u'SchoolLunch'),\n",
       " (u'PovunitType', u'Childcare'),\n",
       " (u'PovunitType', u'Commuting'),\n",
       " (u'MV', u'CitizenStatus'),\n",
       " (u'HEAP', u'FoodStamps'),\n",
       " (u'FoodStamps', u'MOOP'),\n",
       " (u'FoodStamps', u'WIC'),\n",
       " (u'Commuting', u'MOOP'),\n",
       " (u'Housing', 'Pov_risk'),\n",
       " (u'Housing', u'HousingStatus'),\n",
       " (u'Housing', u'WorkersEquiv'),\n",
       " (u'Housing', u'PovunitType'),\n",
       " (u'Housing', u'MOOP'),\n",
       " (u'Housing', u'HEAP'),\n",
       " (u'Housing', u'EducAttain'),\n",
       " (u'EducAttain', 'Pov_risk')]"
      ]
     },
     "execution_count": 202,
     "metadata": {},
     "output_type": "execute_result"
    }
   ],
   "source": [
    "best_model14.edges()"
   ]
  },
  {
   "cell_type": "code",
   "execution_count": null,
   "metadata": {
    "collapsed": true
   },
   "outputs": [],
   "source": []
  },
  {
   "cell_type": "code",
   "execution_count": 101,
   "metadata": {
    "collapsed": true
   },
   "outputs": [],
   "source": []
  },
  {
   "cell_type": "code",
   "execution_count": 106,
   "metadata": {
    "collapsed": false
   },
   "outputs": [
    {
     "data": {
      "image/png": "[encoded data removed]",
      "text/plain": [
       "<matplotlib.figure.Figure at 0x7f9767a51550>"
      ]
     },
     "metadata": {},
     "output_type": "display_data"
    }
   ],
   "source": [
    "G = nx.DiGraph()\n",
    "G.add_edges_from(best_model.edges())\n",
    "nx.draw(G, with_labels=True, arrows=True, node_size=700)"
   ]
  },
  {
   "cell_type": "markdown",
   "metadata": {
    "collapsed": true
   },
   "source": [
    "# Bayes Net Updated Columns"
   ]
  },
  {
   "cell_type": "code",
   "execution_count": 4,
   "metadata": {
    "collapsed": true
   },
   "outputs": [],
   "source": [
    "cols = ['WorkersEquiv', 'SchoolLunch', 'FoodStamps', 'MOOP', \n",
    "        'EducAttain', 'HousingStatus', 'HEAP', 'Commuting', 'Pov_risk']"
   ]
  },
  {
   "cell_type": "code",
   "execution_count": 66,
   "metadata": {
    "collapsed": true
   },
   "outputs": [],
   "source": [
    "puma_05 = pd.read_csv(\"../Data/Cleaned/puma_05.csv\")\n",
    "puma_05.drop(['Unnamed: 0'], axis=1, inplace=True)\n",
    "\n",
    "X5 = features(puma_05)\n",
    "X5 = X5.loc[:,cols] \n",
    "\n",
    "train5,test5=train_test_split(X5,random_state=9,test_size=0.33)\n",
    "hc5 = HillClimbSearch(train5, scoring_method=BicScore(train5))\n",
    "best_model5 = hc5.estimate()"
   ]
  },
  {
   "cell_type": "code",
   "execution_count": 67,
   "metadata": {
    "collapsed": false
   },
   "outputs": [
    {
     "data": {
      "text/plain": [
       "[('Pov_risk', 'MOOP'),\n",
       " ('Pov_risk', 'FoodStamps'),\n",
       " ('Pov_risk', 'HEAP'),\n",
       " ('Pov_risk', 'EducAttain'),\n",
       " ('WorkersEquiv', 'HEAP'),\n",
       " ('WorkersEquiv', 'SchoolLunch'),\n",
       " ('WorkersEquiv', 'Pov_risk'),\n",
       " ('WorkersEquiv', 'EducAttain'),\n",
       " ('WorkersEquiv', 'HousingStatus'),\n",
       " ('SchoolLunch', 'Pov_risk'),\n",
       " ('SchoolLunch', 'HEAP'),\n",
       " ('HEAP', 'MOOP'),\n",
       " ('HEAP', 'FoodStamps'),\n",
       " ('FoodStamps', 'HousingStatus'),\n",
       " ('Commuting', 'WorkersEquiv'),\n",
       " ('Commuting', 'FoodStamps')]"
      ]
     },
     "execution_count": 67,
     "metadata": {},
     "output_type": "execute_result"
    }
   ],
   "source": [
    "best_model5.edges()"
   ]
  },
  {
   "cell_type": "code",
   "execution_count": 72,
   "metadata": {
    "collapsed": false
   },
   "outputs": [
    {
     "data": {
      "image/png": "[encoded data removed]",
      "text/plain": [
       "<matplotlib.figure.Figure at 0x7f712023b610>"
      ]
     },
     "metadata": {},
     "output_type": "display_data"
    }
   ],
   "source": [
    "G = nx.DiGraph()\n",
    "G.add_edges_from(best_model5.edges())\n",
    "nx.draw(G, with_labels=True, arrows=True, node_size=700)"
   ]
  },
  {
   "cell_type": "code",
   "execution_count": 73,
   "metadata": {
    "collapsed": false
   },
   "outputs": [],
   "source": [
    "best_model5.fit(train5, estimator=BayesianEstimator, prior_type='BDeu', equivalent_sample_size=10)"
   ]
  },
  {
   "cell_type": "code",
   "execution_count": 74,
   "metadata": {
    "collapsed": false,
    "scrolled": true
   },
   "outputs": [
    {
     "name": "stdout",
     "output_type": "stream",
     "text": [
      "CPD of Pov_risk:\n",
      "+---------------+------------------+------------------+------------------+------------------+------------------+------------------+------------------+------------------+------------------+------------------+\n",
      "| SchoolLunch   | SchoolLunch(0.0) | SchoolLunch(0.0) | SchoolLunch(0.0) | SchoolLunch(0.0) | SchoolLunch(0.0) | SchoolLunch(1.0) | SchoolLunch(1.0) | SchoolLunch(1.0) | SchoolLunch(1.0) | SchoolLunch(1.0) |\n",
      "+---------------+------------------+------------------+------------------+------------------+------------------+------------------+------------------+------------------+------------------+------------------+\n",
      "| WorkersEquiv  | WorkersEquiv(1)  | WorkersEquiv(2)  | WorkersEquiv(3)  | WorkersEquiv(4)  | WorkersEquiv(5)  | WorkersEquiv(1)  | WorkersEquiv(2)  | WorkersEquiv(3)  | WorkersEquiv(4)  | WorkersEquiv(5)  |\n",
      "+---------------+------------------+------------------+------------------+------------------+------------------+------------------+------------------+------------------+------------------+------------------+\n",
      "| Pov_risk(0.0) | 0.0274178403756  | 0.0538613260507  | 0.0697632058288  | 0.2936357908     | 0.394911902193   | 0.205314009662   | 0.388257575758   | 0.330833333333   | 0.527613412229   | 0.798309178744   |\n",
      "+---------------+------------------+------------------+------------------+------------------+------------------+------------------+------------------+------------------+------------------+------------------+\n",
      "| Pov_risk(1.0) | 0.0876995305164  | 0.12805340616    | 0.155009107468   | 0.200535601764   | 0.254135203164   | 0.444444444444   | 0.445075757576   | 0.510833333333   | 0.403353057199   | 0.182367149758   |\n",
      "+---------------+------------------+------------------+------------------+------------------+------------------+------------------+------------------+------------------+------------------+------------------+\n",
      "| Pov_risk(2.0) | 0.884882629108   | 0.818085267789   | 0.775227686703   | 0.505828607435   | 0.350952894642   | 0.350241545894   | 0.166666666667   | 0.158333333333   | 0.069033530572   | 0.0193236714976  |\n",
      "+---------------+------------------+------------------+------------------+------------------+------------------+------------------+------------------+------------------+------------------+------------------+\n",
      "CPD of HousingStatus:\n",
      "+------------------+------------------+------------------+-----------------+-----------------+-----------------+-----------------+-----------------+-----------------+-----------------+-----------------+\n",
      "| FoodStamps       | FoodStamps(0.0)  | FoodStamps(0.0)  | FoodStamps(0.0) | FoodStamps(0.0) | FoodStamps(0.0) | FoodStamps(1.0) | FoodStamps(1.0) | FoodStamps(1.0) | FoodStamps(1.0) | FoodStamps(1.0) |\n",
      "+------------------+------------------+------------------+-----------------+-----------------+-----------------+-----------------+-----------------+-----------------+-----------------+-----------------+\n",
      "| WorkersEquiv     | WorkersEquiv(1)  | WorkersEquiv(2)  | WorkersEquiv(3) | WorkersEquiv(4) | WorkersEquiv(5) | WorkersEquiv(1) | WorkersEquiv(2) | WorkersEquiv(3) | WorkersEquiv(4) | WorkersEquiv(5) |\n",
      "+------------------+------------------+------------------+-----------------+-----------------+-----------------+-----------------+-----------------+-----------------+-----------------+-----------------+\n",
      "| HousingStatus(1) | 0.0114472349061  | 0.0144905736061  | 0.021680950233  | 0.0334245950262 | 0.0518162393162 | 0.0277777777778 | 0.070771408351  | 0.0852359208524 | 0.14448836188   | 0.137586805556  |\n",
      "+------------------+------------------+------------------+-----------------+-----------------+-----------------+-----------------+-----------------+-----------------+-----------------+-----------------+\n",
      "| HousingStatus(2) | 0.00631024860477 | 0.00591656638588 | 0.0116674184333 | 0.011350673055  | 0.0107659434583 | 0.006038647343  | 0.0070771408351 | 0.0194824961948 | 0.0199824330259 | 0.0227430555556 |\n",
      "+------------------+------------------+------------------+-----------------+-----------------+-----------------+-----------------+-----------------+-----------------+-----------------+-----------------+\n",
      "| HousingStatus(3) | 0.0225773718924  | 0.0311873245086  | 0.0468500977297 | 0.0878393794205 | 0.106180144642  | 0.0875603864734 | 0.140835102619  | 0.192085235921  | 0.265041721563  | 0.293836805556  |\n",
      "+------------------+------------------+------------------+-----------------+-----------------+-----------------+-----------------+-----------------+-----------------+-----------------+-----------------+\n",
      "| HousingStatus(4) | 0.214643581938   | 0.286602486963   | 0.317756728312  | 0.329112480037  | 0.223044049967  | 0.304951690821  | 0.389242745931  | 0.331811263318  | 0.259112867809  | 0.282118055556  |\n",
      "+------------------+------------------+------------------+-----------------+-----------------+-----------------+-----------------+-----------------+-----------------+-----------------+-----------------+\n",
      "| HousingStatus(5) | 0.0100202942669  | 0.0113317288408  | 0.0162682303413 | 0.0164841432809 | 0.0248191978961 | 0.0223429951691 | 0.0325548478415 | 0.0222222222222 | 0.0575318401405 | 0.0782118055556 |\n",
      "+------------------+------------------+------------------+-----------------+-----------------+-----------------+-----------------+-----------------+-----------------+-----------------+-----------------+\n",
      "| HousingStatus(6) | 0.189244038559   | 0.218912956278   | 0.217892046309  | 0.180241843486  | 0.10248191979   | 0.190821256039  | 0.121726822364  | 0.175646879756  | 0.142512077295  | 0.0953993055556 |\n",
      "+------------------+------------------+------------------+-----------------+-----------------+-----------------+-----------------+-----------------+-----------------+-----------------+-----------------+\n",
      "| HousingStatus(7) | 0.0125887874176  | 0.0162956277577  | 0.0146444143738 | 0.0159707962583 | 0.0148339907955 | 0.006038647343  | 0.0198159943383 | 0.0167427701674 | 0.016029863856  | 0.0157118055556 |\n",
      "+------------------+------------------+------------------+-----------------+-----------------+-----------------+-----------------+-----------------+-----------------+-----------------+-----------------+\n",
      "| HousingStatus(8) | 0.106481481481   | 0.110158443642   | 0.120733724252  | 0.157654574492  | 0.349153517423  | 0.0712560386473 | 0.0644019815994 | 0.0468797564688 | 0.0456741326307 | 0.0547743055556 |\n",
      "+------------------+------------------+------------------+-----------------+-----------------+-----------------+-----------------+-----------------+-----------------+-----------------+-----------------+\n",
      "| HousingStatus(9) | 0.426686960934   | 0.305104292018   | 0.232506390017  | 0.167921514944  | 0.116904996713  | 0.283212560386  | 0.153573956122  | 0.109893455099  | 0.0496267018006 | 0.0196180555556 |\n",
      "+------------------+------------------+------------------+-----------------+-----------------+-----------------+-----------------+-----------------+-----------------+-----------------+-----------------+\n",
      "CPD of WorkersEquiv:\n",
      "+-----------------+-----------------+------------------+\n",
      "| Commuting       | Commuting(0.0)  | Commuting(1.0)   |\n",
      "+-----------------+-----------------+------------------+\n",
      "| WorkersEquiv(1) | 0.025110486139  | 0.307659096796   |\n",
      "+-----------------+-----------------+------------------+\n",
      "| WorkersEquiv(2) | 0.0498192044998 | 0.183490199465   |\n",
      "+-----------------+-----------------+------------------+\n",
      "| WorkersEquiv(3) | 0.0787464845319 | 0.316725671358   |\n",
      "+-----------------+-----------------+------------------+\n",
      "| WorkersEquiv(4) | 0.055644837284  | 0.187980312581   |\n",
      "+-----------------+-----------------+------------------+\n",
      "| WorkersEquiv(5) | 0.790678987545  | 0.00414471979967 |\n",
      "+-----------------+-----------------+------------------+\n",
      "CPD of MOOP:\n",
      "+-----------+-----------------+-----------------+----------------+---------------+----------------+-----------------+\n",
      "| HEAP      | HEAP(0.0)       | HEAP(0.0)       | HEAP(0.0)      | HEAP(1.0)     | HEAP(1.0)      | HEAP(1.0)       |\n",
      "+-----------+-----------------+-----------------+----------------+---------------+----------------+-----------------+\n",
      "| Pov_risk  | Pov_risk(0.0)   | Pov_risk(1.0)   | Pov_risk(2.0)  | Pov_risk(0.0) | Pov_risk(1.0)  | Pov_risk(2.0)   |\n",
      "+-----------+-----------------+-----------------+----------------+---------------+----------------+-----------------+\n",
      "| MOOP(0.0) | 0.0764174849541 | 0.0573160046729 | 0.024700394934 | 0.14062982402 | 0.122418244406 | 0.0699367088608 |\n",
      "+-----------+-----------------+-----------------+----------------+---------------+----------------+-----------------+\n",
      "| MOOP(1.0) | 0.923582515046  | 0.942683995327  | 0.975299605066 | 0.85937017598 | 0.877581755594 | 0.930063291139  |\n",
      "+-----------+-----------------+-----------------+----------------+---------------+----------------+-----------------+\n",
      "CPD of SchoolLunch:\n",
      "+------------------+-----------------+-----------------+-----------------+-----------------+-----------------+\n",
      "| WorkersEquiv     | WorkersEquiv(1) | WorkersEquiv(2) | WorkersEquiv(3) | WorkersEquiv(4) | WorkersEquiv(5) |\n",
      "+------------------+-----------------+-----------------+-----------------+-----------------+-----------------+\n",
      "| SchoolLunch(0.0) | 0.962581344902  | 0.925832279815  | 0.901477832512  | 0.862265688672  | 0.930722891566  |\n",
      "+------------------+-----------------+-----------------+-----------------+-----------------+-----------------+\n",
      "| SchoolLunch(1.0) | 0.0374186550976 | 0.0741677201854 | 0.0985221674877 | 0.137734311328  | 0.0692771084337 |\n",
      "+------------------+-----------------+-----------------+-----------------+-----------------+-----------------+\n",
      "CPD of HEAP:\n",
      "+--------------+------------------+------------------+------------------+------------------+------------------+------------------+------------------+------------------+------------------+------------------+------------------+------------------+------------------+------------------+------------------+------------------+------------------+------------------+------------------+------------------+------------------+------------------+------------------+------------------+------------------+------------------+------------------+------------------+------------------+------------------+\n",
      "| Pov_risk     | Pov_risk(0.0)    | Pov_risk(0.0)    | Pov_risk(0.0)    | Pov_risk(0.0)    | Pov_risk(0.0)    | Pov_risk(0.0)    | Pov_risk(0.0)    | Pov_risk(0.0)    | Pov_risk(0.0)    | Pov_risk(0.0)    | Pov_risk(1.0)    | Pov_risk(1.0)    | Pov_risk(1.0)    | Pov_risk(1.0)    | Pov_risk(1.0)    | Pov_risk(1.0)    | Pov_risk(1.0)    | Pov_risk(1.0)    | Pov_risk(1.0)    | Pov_risk(1.0)    | Pov_risk(2.0)    | Pov_risk(2.0)    | Pov_risk(2.0)    | Pov_risk(2.0)    | Pov_risk(2.0)    | Pov_risk(2.0)    | Pov_risk(2.0)    | Pov_risk(2.0)    | Pov_risk(2.0)    | Pov_risk(2.0)    |\n",
      "+--------------+------------------+------------------+------------------+------------------+------------------+------------------+------------------+------------------+------------------+------------------+------------------+------------------+------------------+------------------+------------------+------------------+------------------+------------------+------------------+------------------+------------------+------------------+------------------+------------------+------------------+------------------+------------------+------------------+------------------+------------------+\n",
      "| SchoolLunch  | SchoolLunch(0.0) | SchoolLunch(0.0) | SchoolLunch(0.0) | SchoolLunch(0.0) | SchoolLunch(0.0) | SchoolLunch(1.0) | SchoolLunch(1.0) | SchoolLunch(1.0) | SchoolLunch(1.0) | SchoolLunch(1.0) | SchoolLunch(0.0) | SchoolLunch(0.0) | SchoolLunch(0.0) | SchoolLunch(0.0) | SchoolLunch(0.0) | SchoolLunch(1.0) | SchoolLunch(1.0) | SchoolLunch(1.0) | SchoolLunch(1.0) | SchoolLunch(1.0) | SchoolLunch(0.0) | SchoolLunch(0.0) | SchoolLunch(0.0) | SchoolLunch(0.0) | SchoolLunch(0.0) | SchoolLunch(1.0) | SchoolLunch(1.0) | SchoolLunch(1.0) | SchoolLunch(1.0) | SchoolLunch(1.0) |\n",
      "+--------------+------------------+------------------+------------------+------------------+------------------+------------------+------------------+------------------+------------------+------------------+------------------+------------------+------------------+------------------+------------------+------------------+------------------+------------------+------------------+------------------+------------------+------------------+------------------+------------------+------------------+------------------+------------------+------------------+------------------+------------------+\n",
      "| WorkersEquiv | WorkersEquiv(1)  | WorkersEquiv(2)  | WorkersEquiv(3)  | WorkersEquiv(4)  | WorkersEquiv(5)  | WorkersEquiv(1)  | WorkersEquiv(2)  | WorkersEquiv(3)  | WorkersEquiv(4)  | WorkersEquiv(5)  | WorkersEquiv(1)  | WorkersEquiv(2)  | WorkersEquiv(3)  | WorkersEquiv(4)  | WorkersEquiv(5)  | WorkersEquiv(1)  | WorkersEquiv(2)  | WorkersEquiv(3)  | WorkersEquiv(4)  | WorkersEquiv(5)  | WorkersEquiv(1)  | WorkersEquiv(2)  | WorkersEquiv(3)  | WorkersEquiv(4)  | WorkersEquiv(5)  | WorkersEquiv(1)  | WorkersEquiv(2)  | WorkersEquiv(3)  | WorkersEquiv(4)  | WorkersEquiv(5)  |\n",
      "+--------------+------------------+------------------+------------------+------------------+------------------+------------------+------------------+------------------+------------------+------------------+------------------+------------------+------------------+------------------+------------------+------------------+------------------+------------------+------------------+------------------+------------------+------------------+------------------+------------------+------------------+------------------+------------------+------------------+------------------+------------------+\n",
      "| HEAP(0.0)    | 0.957191780822   | 0.939436619718   | 0.889686684073   | 0.792113733906   | 0.590826314591   | 0.852941176471   | 0.821951219512   | 0.688916876574   | 0.427102803738   | 0.309379727685   | 0.948072805139   | 0.906990521327   | 0.902761457109   | 0.799293008641   | 0.630527060488   | 0.671195652174   | 0.665957446809   | 0.632137030995   | 0.382640586797   | 0.241721854305   | 0.973525042445   | 0.966524480712   | 0.96681156015    | 0.937246963563   | 0.930712090164   | 0.148275862069   | 0.278409090909   | 0.255263157895   | 0.221428571429   | 0.21875          |\n",
      "+--------------+------------------+------------------+------------------+------------------+------------------+------------------+------------------+------------------+------------------+------------------+------------------+------------------+------------------+------------------+------------------+------------------+------------------+------------------+------------------+------------------+------------------+------------------+------------------+------------------+------------------+------------------+------------------+------------------+------------------+------------------+\n",
      "| HEAP(1.0)    | 0.0428082191781  | 0.0605633802817  | 0.110313315927   | 0.207886266094   | 0.409173685409   | 0.147058823529   | 0.178048780488   | 0.311083123426   | 0.572897196262   | 0.690620272315   | 0.0519271948608  | 0.093009478673   | 0.0972385428907  | 0.200706991359   | 0.369472939512   | 0.328804347826   | 0.334042553191   | 0.367862969005   | 0.617359413203   | 0.758278145695   | 0.0264749575552  | 0.0334755192878  | 0.0331884398496  | 0.0627530364372  | 0.0692879098361  | 0.851724137931   | 0.721590909091   | 0.744736842105   | 0.778571428571   | 0.78125          |\n",
      "+--------------+------------------+------------------+------------------+------------------+------------------+------------------+------------------+------------------+------------------+------------------+------------------+------------------+------------------+------------------+------------------+------------------+------------------+------------------+------------------+------------------+------------------+------------------+------------------+------------------+------------------+------------------+------------------+------------------+------------------+------------------+\n",
      "CPD of FoodStamps:\n",
      "+-----------------+-----------------+-----------------+------------------+------------------+-----------------+----------------+----------------+-----------------+-----------------+-----------------+-----------------+-----------------+\n",
      "| Commuting       | Commuting(0.0)  | Commuting(0.0)  | Commuting(0.0)   | Commuting(0.0)   | Commuting(0.0)  | Commuting(0.0) | Commuting(1.0) | Commuting(1.0)  | Commuting(1.0)  | Commuting(1.0)  | Commuting(1.0)  | Commuting(1.0)  |\n",
      "+-----------------+-----------------+-----------------+------------------+------------------+-----------------+----------------+----------------+-----------------+-----------------+-----------------+-----------------+-----------------+\n",
      "| HEAP            | HEAP(0.0)       | HEAP(0.0)       | HEAP(0.0)        | HEAP(1.0)        | HEAP(1.0)       | HEAP(1.0)      | HEAP(0.0)      | HEAP(0.0)       | HEAP(0.0)       | HEAP(1.0)       | HEAP(1.0)       | HEAP(1.0)       |\n",
      "+-----------------+-----------------+-----------------+------------------+------------------+-----------------+----------------+----------------+-----------------+-----------------+-----------------+-----------------+-----------------+\n",
      "| Pov_risk        | Pov_risk(0.0)   | Pov_risk(1.0)   | Pov_risk(2.0)    | Pov_risk(0.0)    | Pov_risk(1.0)   | Pov_risk(2.0)  | Pov_risk(0.0)  | Pov_risk(1.0)   | Pov_risk(2.0)   | Pov_risk(0.0)   | Pov_risk(1.0)   | Pov_risk(2.0)   |\n",
      "+-----------------+-----------------+-----------------+------------------+------------------+-----------------+----------------+----------------+-----------------+-----------------+-----------------+-----------------+-----------------+\n",
      "| FoodStamps(0.0) | 0.960322529139  | 0.947362411509  | 0.991863840267   | 0.00180505415162 | 0.0275875956504 | 0.274436090226 | 0.976983503535 | 0.986851990984  | 0.991461741425  | 0.0217637083098 | 0.0205542725173 | 0.0947895791583 |\n",
      "+-----------------+-----------------+-----------------+------------------+------------------+-----------------+----------------+----------------+-----------------+-----------------+-----------------+-----------------+-----------------+\n",
      "| FoodStamps(1.0) | 0.0396774708606 | 0.0526375884905 | 0.00813615973261 | 0.998194945848   | 0.97241240435   | 0.725563909774 | 0.023016496465 | 0.0131480090158 | 0.0085382585752 | 0.97823629169   | 0.979445727483  | 0.905210420842  |\n",
      "+-----------------+-----------------+-----------------+------------------+------------------+-----------------+----------------+----------------+-----------------+-----------------+-----------------+-----------------+-----------------+\n",
      "CPD of Commuting:\n",
      "+----------------+----------+\n",
      "| Commuting(0.0) | 0.300622 |\n",
      "+----------------+----------+\n",
      "| Commuting(1.0) | 0.699378 |\n",
      "+----------------+----------+\n",
      "CPD of EducAttain:\n",
      "+---------------+-----------------+-----------------+-----------------+-----------------+-----------------+-----------------+-----------------+-----------------+-----------------+-----------------+-----------------+-----------------+-----------------+-----------------+-----------------+\n",
      "| Pov_risk      | Pov_risk(0.0)   | Pov_risk(0.0)   | Pov_risk(0.0)   | Pov_risk(0.0)   | Pov_risk(0.0)   | Pov_risk(1.0)   | Pov_risk(1.0)   | Pov_risk(1.0)   | Pov_risk(1.0)   | Pov_risk(1.0)   | Pov_risk(2.0)   | Pov_risk(2.0)   | Pov_risk(2.0)   | Pov_risk(2.0)   | Pov_risk(2.0)   |\n",
      "+---------------+-----------------+-----------------+-----------------+-----------------+-----------------+-----------------+-----------------+-----------------+-----------------+-----------------+-----------------+-----------------+-----------------+-----------------+-----------------+\n",
      "| WorkersEquiv  | WorkersEquiv(1) | WorkersEquiv(2) | WorkersEquiv(3) | WorkersEquiv(4) | WorkersEquiv(5) | WorkersEquiv(1) | WorkersEquiv(2) | WorkersEquiv(3) | WorkersEquiv(4) | WorkersEquiv(5) | WorkersEquiv(1) | WorkersEquiv(2) | WorkersEquiv(3) | WorkersEquiv(4) | WorkersEquiv(5) |\n",
      "+---------------+-----------------+-----------------+-----------------+-----------------+-----------------+-----------------+-----------------+-----------------+-----------------+-----------------+-----------------+-----------------+-----------------+-----------------+-----------------+\n",
      "| EducAttain(1) | 0.0968169761273 | 0.124107142857  | 0.17067927773   | 0.201542309296  | 0.352690937871  | 0.0943649373882 | 0.111677479147  | 0.171274298056  | 0.167954815696  | 0.363834788449  | 0.0251332427631 | 0.031295620438  | 0.0462537347736 | 0.0540993599512 | 0.135586734694  |\n",
      "+---------------+-----------------+-----------------+-----------------+-----------------+-----------------+-----------------+-----------------+-----------------+-----------------+-----------------+-----------------+-----------------+-----------------+-----------------+-----------------+\n",
      "| EducAttain(2) | 0.279840848806  | 0.333035714286  | 0.294496990542  | 0.252813672363  | 0.299861495845  | 0.295617173524  | 0.275718257646  | 0.296976241901  | 0.253567181926  | 0.341672263264  | 0.103824851082  | 0.100273722628  | 0.170363134912  | 0.138220054861  | 0.324617346939  |\n",
      "+---------------+-----------------+-----------------+-----------------+-----------------+-----------------+-----------------+-----------------+-----------------+-----------------+-----------------+-----------------+-----------------+-----------------+-----------------+-----------------+\n",
      "| EducAttain(3) | 0.303713527851  | 0.26875         | 0.312553740327  | 0.277824093372  | 0.184705184013  | 0.327817531306  | 0.331325301205  | 0.313822894168  | 0.285671819263  | 0.167394224312  | 0.241456787543  | 0.178010948905  | 0.25275798667   | 0.230569948187  | 0.19068877551   |\n",
      "+---------------+-----------------+-----------------+-----------------+-----------------+-----------------+-----------------+-----------------+-----------------+-----------------+-----------------+-----------------+-----------------+-----------------+-----------------+-----------------+\n",
      "| EducAttain(4) | 0.319628647215  | 0.274107142857  | 0.222269991402  | 0.267819924969  | 0.162742382271  | 0.282200357782  | 0.281278962002  | 0.217926565875  | 0.292806183115  | 0.127098723976  | 0.629585118612  | 0.690419708029  | 0.530625143645  | 0.577110637001  | 0.349107142857  |\n",
      "+---------------+-----------------+-----------------+-----------------+-----------------+-----------------+-----------------+-----------------+-----------------+-----------------+-----------------+-----------------+-----------------+-----------------+-----------------+-----------------+\n"
     ]
    }
   ],
   "source": [
    "for cpd in best_model5.get_cpds():\n",
    "    print(\"CPD of {variable}:\".format(variable=cpd.variable))\n",
    "    print(cpd)"
   ]
  },
  {
   "cell_type": "code",
   "execution_count": 85,
   "metadata": {
    "collapsed": false
   },
   "outputs": [],
   "source": [
    "test5 = test5.astype(int)\n",
    "test5.reset_index(inplace=True, drop=True)"
   ]
  },
  {
   "cell_type": "code",
   "execution_count": 87,
   "metadata": {
    "collapsed": false
   },
   "outputs": [],
   "source": [
    "# print (best_model5.predict(test5.loc[:,['WorkersEquiv', 'SchoolLunch', 'FoodStamps', 'MOOP', 'EducAttain',\n",
    "#        'HousingStatus', 'HEAP', 'Commuting']]).Pov_risk==test5.Pov_risk).sum()*1.0/len(test5)"
   ]
  },
  {
   "cell_type": "code",
   "execution_count": null,
   "metadata": {
    "collapsed": true
   },
   "outputs": [],
   "source": []
  },
  {
   "cell_type": "code",
   "execution_count": 97,
   "metadata": {
    "collapsed": true
   },
   "outputs": [],
   "source": [
    "puma_06 = pd.read_csv(\"../Data/Cleaned/puma_06.csv\")\n",
    "puma_06.drop(['Unnamed: 0'], axis=1, inplace=True)\n",
    "\n",
    "X6 = features(puma_06)\n",
    "X6 = X6.loc[:,cols]\n",
    "X6.dropna(inplace=True)\n",
    "\n",
    "train6,test6=train_test_split(X6,random_state=9,test_size=0.33)\n",
    "hc6 = HillClimbSearch(train6, scoring_method=BicScore(train6))\n",
    "best_model6 = hc6.estimate()"
   ]
  },
  {
   "cell_type": "code",
   "execution_count": 98,
   "metadata": {
    "collapsed": false
   },
   "outputs": [
    {
     "data": {
      "text/plain": [
       "[('Pov_risk', 'MOOP'),\n",
       " ('Pov_risk', 'FoodStamps'),\n",
       " ('Pov_risk', 'HEAP'),\n",
       " ('Pov_risk', 'EducAttain'),\n",
       " ('WorkersEquiv', 'HEAP'),\n",
       " ('WorkersEquiv', 'SchoolLunch'),\n",
       " ('WorkersEquiv', 'Pov_risk'),\n",
       " ('WorkersEquiv', 'EducAttain'),\n",
       " ('WorkersEquiv', 'HousingStatus'),\n",
       " ('SchoolLunch', 'Pov_risk'),\n",
       " ('SchoolLunch', 'HEAP'),\n",
       " ('HEAP', 'MOOP'),\n",
       " ('HEAP', 'FoodStamps'),\n",
       " ('FoodStamps', 'EducAttain'),\n",
       " ('FoodStamps', 'HousingStatus'),\n",
       " ('Commuting', 'WorkersEquiv')]"
      ]
     },
     "execution_count": 98,
     "metadata": {},
     "output_type": "execute_result"
    }
   ],
   "source": [
    "best_model6.edges()"
   ]
  },
  {
   "cell_type": "code",
   "execution_count": 99,
   "metadata": {
    "collapsed": false
   },
   "outputs": [],
   "source": [
    "best_model6.fit(train6, estimator=BayesianEstimator, prior_type='BDeu', equivalent_sample_size=10)"
   ]
  },
  {
   "cell_type": "code",
   "execution_count": 100,
   "metadata": {
    "collapsed": false,
    "scrolled": true
   },
   "outputs": [
    {
     "name": "stdout",
     "output_type": "stream",
     "text": [
      "CPD of Pov_risk:\n",
      "+---------------+------------------+------------------+------------------+------------------+------------------+------------------+------------------+------------------+------------------+------------------+\n",
      "| SchoolLunch   | SchoolLunch(0.0) | SchoolLunch(0.0) | SchoolLunch(0.0) | SchoolLunch(0.0) | SchoolLunch(0.0) | SchoolLunch(1.0) | SchoolLunch(1.0) | SchoolLunch(1.0) | SchoolLunch(1.0) | SchoolLunch(1.0) |\n",
      "+---------------+------------------+------------------+------------------+------------------+------------------+------------------+------------------+------------------+------------------+------------------+\n",
      "| WorkersEquiv  | WorkersEquiv(1)  | WorkersEquiv(2)  | WorkersEquiv(3)  | WorkersEquiv(4)  | WorkersEquiv(5)  | WorkersEquiv(1)  | WorkersEquiv(2)  | WorkersEquiv(3)  | WorkersEquiv(4)  | WorkersEquiv(5)  |\n",
      "+---------------+------------------+------------------+------------------+------------------+------------------+------------------+------------------+------------------+------------------+------------------+\n",
      "| Pov_risk(0.0) | 0.0202421992398  | 0.0740740740741  | 0.0755000885112  | 0.290296187203   | 0.384390154634   | 0.230019493177   | 0.36798679868    | 0.343378995434   | 0.548689138577   | 0.81838316722    |\n",
      "+---------------+------------------+------------------+------------------+------------------+------------------+------------------+------------------+------------------+------------------+------------------+\n",
      "| Pov_risk(1.0) | 0.101122602316   | 0.126493428913   | 0.160470879802   | 0.220585828833   | 0.263610577363   | 0.446393762183   | 0.506600660066   | 0.510502283105   | 0.340823970037   | 0.157253599114   |\n",
      "+---------------+------------------+------------------+------------------+------------------+------------------+------------------+------------------+------------------+------------------+------------------+\n",
      "| Pov_risk(2.0) | 0.878635198444   | 0.799432497013   | 0.764029031687   | 0.489117983963   | 0.351999268003   | 0.323586744639   | 0.125412541254   | 0.146118721461   | 0.110486891386   | 0.0243632336656  |\n",
      "+---------------+------------------+------------------+------------------+------------------+------------------+------------------+------------------+------------------+------------------+------------------+\n",
      "CPD of HousingStatus:\n",
      "+------------------+------------------+-----------------+-----------------+-----------------+-----------------+------------------+------------------+-----------------+-----------------+-----------------+\n",
      "| FoodStamps       | FoodStamps(0.0)  | FoodStamps(0.0) | FoodStamps(0.0) | FoodStamps(0.0) | FoodStamps(0.0) | FoodStamps(1.0)  | FoodStamps(1.0)  | FoodStamps(1.0) | FoodStamps(1.0) | FoodStamps(1.0) |\n",
      "+------------------+------------------+-----------------+-----------------+-----------------+-----------------+------------------+------------------+-----------------+-----------------+-----------------+\n",
      "| WorkersEquiv     | WorkersEquiv(1)  | WorkersEquiv(2) | WorkersEquiv(3) | WorkersEquiv(4) | WorkersEquiv(5) | WorkersEquiv(1)  | WorkersEquiv(2)  | WorkersEquiv(3) | WorkersEquiv(4) | WorkersEquiv(5) |\n",
      "+------------------+------------------+-----------------+-----------------+-----------------+-----------------+------------------+------------------+-----------------+-----------------+-----------------+\n",
      "| HousingStatus(1) | 0.0116390688745  | 0.0137903861308 | 0.0282435749564 | 0.0319739952719 | 0.0538681703618 | 0.0298786181139  | 0.0511860174782  | 0.0912061794415 | 0.0996317955382 | 0.143046248035  |\n",
      "+------------------+------------------+-----------------+-----------------+-----------------+-----------------+------------------+------------------+-----------------+-----------------+-----------------+\n",
      "| HousingStatus(2) | 0.00866930645548 | 0.0062549251379 | 0.0138704048739 | 0.0128250591017 | 0.0158058866248 | 0.0046685340803  | 0.00624219725343 | 0.016339869281  | 0.0216590859866 | 0.0291221974022 |\n",
      "+------------------+------------------+-----------------+-----------------+-----------------+-----------------+------------------+------------------+-----------------+-----------------+-----------------+\n",
      "| HousingStatus(3) | 0.0221682265419  | 0.0386130811663 | 0.0537958773253 | 0.0910165484634 | 0.100773206886  | 0.0760971055089  | 0.186017478152   | 0.203505644682  | 0.316006064544  | 0.305369405146  |\n",
      "+------------------+------------------+-----------------+-----------------+-----------------+-----------------+------------------+------------------+-----------------+-----------------+-----------------+\n",
      "| HousingStatus(4) | 0.216282697384   | 0.288169818755  | 0.320764203117  | 0.31548463357   | 0.214960058097  | 0.269374416433   | 0.315230961298   | 0.323826500297  | 0.288715616201  | 0.277819144535  |\n",
      "+------------------+------------------+-----------------+-----------------+-----------------+-----------------+------------------+------------------+-----------------+-----------------+-----------------+\n",
      "| HousingStatus(5) | 0.0078593712503  | 0.0115740740741 | 0.0197261408334 | 0.0160165484634 | 0.0277243795122 | 0.0298786181139  | 0.0343320848939  | 0.0297088532383 | 0.0275070392029 | 0.064118474394  |\n",
      "+------------------+------------------+-----------------+-----------------+-----------------+-----------------+------------------+------------------+-----------------+-----------------+-----------------+\n",
      "| HousingStatus(6) | 0.186585073194   | 0.20439322301   | 0.195664389436  | 0.167080378251  | 0.100388739374  | 0.160130718954   | 0.169163545568   | 0.160724896019  | 0.14446610353   | 0.108049971043  |\n",
      "+------------------+------------------+-----------------+-----------------+-----------------+-----------------+------------------+------------------+-----------------+-----------------+-----------------+\n",
      "| HousingStatus(7) | 0.0113690904728  | 0.0151201733649 | 0.0159997634046 | 0.0154846335697 | 0.0246486394122 | 0.00887021475257 | 0.0118601747815  | 0.0136660724896 | 0.0158111327702 | 0.0142301646397 |\n",
      "+------------------+------------------+-----------------+-----------------+-----------------+-----------------+------------------+------------------+-----------------+-----------------+-----------------+\n",
      "| HousingStatus(8) | 0.109641228702   | 0.105988967691  | 0.119273652146  | 0.168676122931  | 0.351061557521  | 0.0845004668534  | 0.0680399500624  | 0.064468211527  | 0.0392029456357 | 0.0395466203359 |\n",
      "+------------------+------------------+-----------------+-----------------+-----------------+-----------------+------------------+------------------+-----------------+-----------------+-----------------+\n",
      "| HousingStatus(9) | 0.425785937125   | 0.31609535067   | 0.232661993908  | 0.181442080378  | 0.110769362211  | 0.33660130719    | 0.157927590512   | 0.0965537730244 | 0.0470002165909 | 0.0186977744684 |\n",
      "+------------------+------------------+-----------------+-----------------+-----------------+-----------------+------------------+------------------+-----------------+-----------------+-----------------+\n",
      "CPD of WorkersEquiv:\n",
      "+-----------------+-----------------+------------------+\n",
      "| Commuting       | Commuting(0.0)  | Commuting(1.0)   |\n",
      "+-----------------+-----------------+------------------+\n",
      "| WorkersEquiv(1) | 0.0381972191146 | 0.349768584113   |\n",
      "+-----------------+-----------------+------------------+\n",
      "| WorkersEquiv(2) | 0.0669649992009 | 0.190327760461   |\n",
      "+-----------------+-----------------+------------------+\n",
      "| WorkersEquiv(3) | 0.105961323318  | 0.327571550014   |\n",
      "+-----------------+-----------------+------------------+\n",
      "| WorkersEquiv(4) | 0.167172766502  | 0.127231510343   |\n",
      "+-----------------+-----------------+------------------+\n",
      "| WorkersEquiv(5) | 0.621703691865  | 0.00510059506942 |\n",
      "+-----------------+-----------------+------------------+\n",
      "CPD of MOOP:\n",
      "+-----------+-----------------+-----------------+-----------------+----------------+----------------+-----------------+\n",
      "| HEAP      | HEAP(0.0)       | HEAP(0.0)       | HEAP(0.0)       | HEAP(1.0)      | HEAP(1.0)      | HEAP(1.0)       |\n",
      "+-----------+-----------------+-----------------+-----------------+----------------+----------------+-----------------+\n",
      "| Pov_risk  | Pov_risk(0.0)   | Pov_risk(1.0)   | Pov_risk(2.0)   | Pov_risk(0.0)  | Pov_risk(1.0)  | Pov_risk(2.0)   |\n",
      "+-----------+-----------------+-----------------+-----------------+----------------+----------------+-----------------+\n",
      "| MOOP(0.0) | 0.0777371101209 | 0.0562079335529 | 0.0298062342039 | 0.135759589248 | 0.114107883817 | 0.0549754299754 |\n",
      "+-----------+-----------------+-----------------+-----------------+----------------+----------------+-----------------+\n",
      "| MOOP(1.0) | 0.922262889879  | 0.943792066447  | 0.970193765796  | 0.864240410752 | 0.885892116183 | 0.945024570025  |\n",
      "+-----------+-----------------+-----------------+-----------------+----------------+----------------+-----------------+\n",
      "CPD of SchoolLunch:\n",
      "+------------------+-----------------+-----------------+-----------------+-----------------+-----------------+\n",
      "| WorkersEquiv     | WorkersEquiv(1) | WorkersEquiv(2) | WorkersEquiv(3) | WorkersEquiv(4) | WorkersEquiv(5) |\n",
      "+------------------+-----------------+-----------------+-----------------+-----------------+-----------------+\n",
      "| SchoolLunch(0.0) | 0.956621004566  | 0.91700903862   | 0.911643669814  | 0.851232762223  | 0.923681541582  |\n",
      "+------------------+-----------------+-----------------+-----------------+-----------------+-----------------+\n",
      "| SchoolLunch(1.0) | 0.0433789954338 | 0.0829909613804 | 0.0883563301864 | 0.148767237777  | 0.0763184584178 |\n",
      "+------------------+-----------------+-----------------+-----------------+-----------------+-----------------+\n",
      "CPD of HEAP:\n",
      "+--------------+------------------+------------------+------------------+------------------+------------------+------------------+------------------+------------------+------------------+------------------+------------------+------------------+------------------+------------------+------------------+------------------+------------------+------------------+------------------+------------------+------------------+------------------+------------------+------------------+------------------+------------------+------------------+------------------+------------------+------------------+\n",
      "| Pov_risk     | Pov_risk(0.0)    | Pov_risk(0.0)    | Pov_risk(0.0)    | Pov_risk(0.0)    | Pov_risk(0.0)    | Pov_risk(0.0)    | Pov_risk(0.0)    | Pov_risk(0.0)    | Pov_risk(0.0)    | Pov_risk(0.0)    | Pov_risk(1.0)    | Pov_risk(1.0)    | Pov_risk(1.0)    | Pov_risk(1.0)    | Pov_risk(1.0)    | Pov_risk(1.0)    | Pov_risk(1.0)    | Pov_risk(1.0)    | Pov_risk(1.0)    | Pov_risk(1.0)    | Pov_risk(2.0)    | Pov_risk(2.0)    | Pov_risk(2.0)    | Pov_risk(2.0)    | Pov_risk(2.0)    | Pov_risk(2.0)    | Pov_risk(2.0)    | Pov_risk(2.0)    | Pov_risk(2.0)    | Pov_risk(2.0)    |\n",
      "+--------------+------------------+------------------+------------------+------------------+------------------+------------------+------------------+------------------+------------------+------------------+------------------+------------------+------------------+------------------+------------------+------------------+------------------+------------------+------------------+------------------+------------------+------------------+------------------+------------------+------------------+------------------+------------------+------------------+------------------+------------------+\n",
      "| SchoolLunch  | SchoolLunch(0.0) | SchoolLunch(0.0) | SchoolLunch(0.0) | SchoolLunch(0.0) | SchoolLunch(0.0) | SchoolLunch(1.0) | SchoolLunch(1.0) | SchoolLunch(1.0) | SchoolLunch(1.0) | SchoolLunch(1.0) | SchoolLunch(0.0) | SchoolLunch(0.0) | SchoolLunch(0.0) | SchoolLunch(0.0) | SchoolLunch(0.0) | SchoolLunch(1.0) | SchoolLunch(1.0) | SchoolLunch(1.0) | SchoolLunch(1.0) | SchoolLunch(1.0) | SchoolLunch(0.0) | SchoolLunch(0.0) | SchoolLunch(0.0) | SchoolLunch(0.0) | SchoolLunch(0.0) | SchoolLunch(1.0) | SchoolLunch(1.0) | SchoolLunch(1.0) | SchoolLunch(1.0) | SchoolLunch(1.0) |\n",
      "+--------------+------------------+------------------+------------------+------------------+------------------+------------------+------------------+------------------+------------------+------------------+------------------+------------------+------------------+------------------+------------------+------------------+------------------+------------------+------------------+------------------+------------------+------------------+------------------+------------------+------------------+------------------+------------------+------------------+------------------+------------------+\n",
      "| WorkersEquiv | WorkersEquiv(1)  | WorkersEquiv(2)  | WorkersEquiv(3)  | WorkersEquiv(4)  | WorkersEquiv(5)  | WorkersEquiv(1)  | WorkersEquiv(2)  | WorkersEquiv(3)  | WorkersEquiv(4)  | WorkersEquiv(5)  | WorkersEquiv(1)  | WorkersEquiv(2)  | WorkersEquiv(3)  | WorkersEquiv(4)  | WorkersEquiv(5)  | WorkersEquiv(1)  | WorkersEquiv(2)  | WorkersEquiv(3)  | WorkersEquiv(4)  | WorkersEquiv(5)  | WorkersEquiv(1)  | WorkersEquiv(2)  | WorkersEquiv(3)  | WorkersEquiv(4)  | WorkersEquiv(5)  | WorkersEquiv(1)  | WorkersEquiv(2)  | WorkersEquiv(3)  | WorkersEquiv(4)  | WorkersEquiv(5)  |\n",
      "+--------------+------------------+------------------+------------------+------------------+------------------+------------------+------------------+------------------+------------------+------------------+------------------+------------------+------------------+------------------+------------------+------------------+------------------+------------------+------------------+------------------+------------------+------------------+------------------+------------------+------------------+------------------+------------------+------------------+------------------+------------------+\n",
      "| HEAP(0.0)    | 0.945414847162   | 0.908266129032   | 0.897420867526   | 0.779875986471   | 0.578552725542   | 0.843220338983   | 0.822869955157   | 0.695478723404   | 0.476962457338   | 0.288903924222   | 0.931381118881   | 0.871900826446   | 0.88389409818    | 0.785979228487   | 0.579139187782   | 0.539301310044   | 0.64657980456    | 0.628801431127   | 0.396978021978   | 0.214788732394   | 0.968863179074   | 0.969643190734   | 0.964145041705   | 0.941619270659   | 0.93202495451    | 0.274096385542   | 0.164473684211   | 0.321875         | 0.182203389831   | 0.0227272727273  |\n",
      "+--------------+------------------+------------------+------------------+------------------+------------------+------------------+------------------+------------------+------------------+------------------+------------------+------------------+------------------+------------------+------------------+------------------+------------------+------------------+------------------+------------------+------------------+------------------+------------------+------------------+------------------+------------------+------------------+------------------+------------------+------------------+\n",
      "| HEAP(1.0)    | 0.0545851528384  | 0.0917338709677  | 0.102579132474   | 0.220124013529   | 0.421447274458   | 0.156779661017   | 0.177130044843   | 0.304521276596   | 0.523037542662   | 0.711096075778   | 0.0686188811189  | 0.128099173554   | 0.11610590182    | 0.214020771513   | 0.420860812218   | 0.460698689956   | 0.35342019544    | 0.371198568873   | 0.603021978022   | 0.785211267606   | 0.0311368209256  | 0.0303568092658  | 0.0358549582947  | 0.0583807293409  | 0.06797504549    | 0.725903614458   | 0.835526315789   | 0.678125         | 0.817796610169   | 0.977272727273   |\n",
      "+--------------+------------------+------------------+------------------+------------------+------------------+------------------+------------------+------------------+------------------+------------------+------------------+------------------+------------------+------------------+------------------+------------------+------------------+------------------+------------------+------------------+------------------+------------------+------------------+------------------+------------------+------------------+------------------+------------------+------------------+------------------+\n",
      "CPD of FoodStamps:\n",
      "+-----------------+----------------+-----------------+------------------+------------------+-----------------+----------------+\n",
      "| HEAP            | HEAP(0.0)      | HEAP(0.0)       | HEAP(0.0)        | HEAP(1.0)        | HEAP(1.0)       | HEAP(1.0)      |\n",
      "+-----------------+----------------+-----------------+------------------+------------------+-----------------+----------------+\n",
      "| Pov_risk        | Pov_risk(0.0)  | Pov_risk(1.0)   | Pov_risk(2.0)    | Pov_risk(0.0)    | Pov_risk(1.0)   | Pov_risk(2.0)  |\n",
      "+-----------------+----------------+-----------------+------------------+------------------+-----------------+----------------+\n",
      "| FoodStamps(0.0) | 0.975254614895 | 0.972146641844  | 0.99051390059    | 0.00619148293567 | 0.0269709543568 | 0.117628992629 |\n",
      "+-----------------+----------------+-----------------+------------------+------------------+-----------------+----------------+\n",
      "| FoodStamps(1.0) | 0.024745385105 | 0.0278533581555 | 0.00948609941028 | 0.993808517064   | 0.973029045643  | 0.882371007371 |\n",
      "+-----------------+----------------+-----------------+------------------+------------------+-----------------+----------------+\n",
      "CPD of Commuting:\n",
      "+----------------+----------+\n",
      "| Commuting(0.0) | 0.371468 |\n",
      "+----------------+----------+\n",
      "| Commuting(1.0) | 0.628532 |\n",
      "+----------------+----------+\n",
      "CPD of EducAttain:\n",
      "+---------------+-----------------+-----------------+-----------------+-----------------+-----------------+-----------------+-----------------+-----------------+-----------------+-----------------+-----------------+-----------------+-----------------+-----------------+-----------------+-----------------+-----------------+-----------------+-----------------+-----------------+-----------------+-----------------+-----------------+-----------------+-----------------+-----------------+-----------------+-----------------+-----------------+-----------------+\n",
      "| FoodStamps    | FoodStamps(0.0) | FoodStamps(0.0) | FoodStamps(0.0) | FoodStamps(0.0) | FoodStamps(0.0) | FoodStamps(0.0) | FoodStamps(0.0) | FoodStamps(0.0) | FoodStamps(0.0) | FoodStamps(0.0) | FoodStamps(0.0) | FoodStamps(0.0) | FoodStamps(0.0) | FoodStamps(0.0) | FoodStamps(0.0) | FoodStamps(1.0) | FoodStamps(1.0) | FoodStamps(1.0) | FoodStamps(1.0) | FoodStamps(1.0) | FoodStamps(1.0) | FoodStamps(1.0) | FoodStamps(1.0) | FoodStamps(1.0) | FoodStamps(1.0) | FoodStamps(1.0) | FoodStamps(1.0) | FoodStamps(1.0) | FoodStamps(1.0) | FoodStamps(1.0) |\n",
      "+---------------+-----------------+-----------------+-----------------+-----------------+-----------------+-----------------+-----------------+-----------------+-----------------+-----------------+-----------------+-----------------+-----------------+-----------------+-----------------+-----------------+-----------------+-----------------+-----------------+-----------------+-----------------+-----------------+-----------------+-----------------+-----------------+-----------------+-----------------+-----------------+-----------------+-----------------+\n",
      "| Pov_risk      | Pov_risk(0.0)   | Pov_risk(0.0)   | Pov_risk(0.0)   | Pov_risk(0.0)   | Pov_risk(0.0)   | Pov_risk(1.0)   | Pov_risk(1.0)   | Pov_risk(1.0)   | Pov_risk(1.0)   | Pov_risk(1.0)   | Pov_risk(2.0)   | Pov_risk(2.0)   | Pov_risk(2.0)   | Pov_risk(2.0)   | Pov_risk(2.0)   | Pov_risk(0.0)   | Pov_risk(0.0)   | Pov_risk(0.0)   | Pov_risk(0.0)   | Pov_risk(0.0)   | Pov_risk(1.0)   | Pov_risk(1.0)   | Pov_risk(1.0)   | Pov_risk(1.0)   | Pov_risk(1.0)   | Pov_risk(2.0)   | Pov_risk(2.0)   | Pov_risk(2.0)   | Pov_risk(2.0)   | Pov_risk(2.0)   |\n",
      "+---------------+-----------------+-----------------+-----------------+-----------------+-----------------+-----------------+-----------------+-----------------+-----------------+-----------------+-----------------+-----------------+-----------------+-----------------+-----------------+-----------------+-----------------+-----------------+-----------------+-----------------+-----------------+-----------------+-----------------+-----------------+-----------------+-----------------+-----------------+-----------------+-----------------+-----------------+\n",
      "| WorkersEquiv  | WorkersEquiv(1) | WorkersEquiv(2) | WorkersEquiv(3) | WorkersEquiv(4) | WorkersEquiv(5) | WorkersEquiv(1) | WorkersEquiv(2) | WorkersEquiv(3) | WorkersEquiv(4) | WorkersEquiv(5) | WorkersEquiv(1) | WorkersEquiv(2) | WorkersEquiv(3) | WorkersEquiv(4) | WorkersEquiv(5) | WorkersEquiv(1) | WorkersEquiv(2) | WorkersEquiv(3) | WorkersEquiv(4) | WorkersEquiv(5) | WorkersEquiv(1) | WorkersEquiv(2) | WorkersEquiv(3) | WorkersEquiv(4) | WorkersEquiv(5) | WorkersEquiv(1) | WorkersEquiv(2) | WorkersEquiv(3) | WorkersEquiv(4) | WorkersEquiv(5) |\n",
      "+---------------+-----------------+-----------------+-----------------+-----------------+-----------------+-----------------+-----------------+-----------------+-----------------+-----------------+-----------------+-----------------+-----------------+-----------------+-----------------+-----------------+-----------------+-----------------+-----------------+-----------------+-----------------+-----------------+-----------------+-----------------+-----------------+-----------------+-----------------+-----------------+-----------------+-----------------+\n",
      "| EducAttain(1) | 0.0760188087774 | 0.123422712934  | 0.164306640625  | 0.129872107186  | 0.265711462451  | 0.110093696763  | 0.133456659619  | 0.116239539749  | 0.115204429302  | 0.323004836759  | 0.02123401601   | 0.0231784888204 | 0.0363827234553 | 0.0319582152975 | 0.118610113291  | 0.4375          | 0.179411764706  | 0.35243902439   | 0.188370473538  | 0.425829875519  | 0.227386934673  | 0.203125        | 0.215760869565  | 0.262546468401  | 0.497626004383  | 0.0682751540041 | 0.0259336099585 | 0.171225382932  | 0.138692579505  | 0.349           |\n",
      "+---------------+-----------------+-----------------+-----------------+-----------------+-----------------+-----------------+-----------------+-----------------+-----------------+-----------------+-----------------+-----------------+-----------------+-----------------+-----------------+-----------------+-----------------+-----------------+-----------------+-----------------+-----------------+-----------------+-----------------+-----------------+-----------------+-----------------+-----------------+-----------------+-----------------+-----------------+\n",
      "| EducAttain(2) | 0.33934169279   | 0.2511829653    | 0.337158203125  | 0.237667478685  | 0.343972332016  | 0.294080068143  | 0.247621564482  | 0.328059623431  | 0.1816439523    | 0.34477025393   | 0.100764112694  | 0.089099845798  | 0.153359328134  | 0.15625         | 0.296007184305  | 0.223214285714  | 0.355882352941  | 0.35243902439   | 0.384749303621  | 0.276452282158  | 0.302763819095  | 0.289663461538  | 0.359239130435  | 0.312732342007  | 0.24561723886   | 0.172997946612  | 0.21265560166   | 0.25            | 0.371908127208  | 0.133           |\n",
      "+---------------+-----------------+-----------------+-----------------+-----------------+-----------------+-----------------+-----------------+-----------------+-----------------+-----------------+-----------------+-----------------+-----------------+-----------------+-----------------+-----------------+-----------------+-----------------+-----------------+-----------------+-----------------+-----------------+-----------------+-----------------+-----------------+-----------------+-----------------+-----------------+-----------------+-----------------+\n",
      "| EducAttain(3) | 0.264106583072  | 0.270110410095  | 0.260986328125  | 0.286997563946  | 0.182707509881  | 0.30430153322   | 0.317389006342  | 0.32335251046   | 0.294080068143  | 0.201481257557  | 0.227700384655  | 0.182777563608  | 0.250899820036  | 0.208303824363  | 0.218085106383  | 0.116071428571  | 0.355882352941  | 0.191463414634  | 0.330431754875  | 0.184336099585  | 0.332914572864  | 0.376201923077  | 0.307065217391  | 0.318308550186  | 0.153579254931  | 0.345482546201  | 0.337136929461  | 0.289387308534  | 0.265901060071  | 0.217           |\n",
      "+---------------+-----------------+-----------------+-----------------+-----------------+-----------------+-----------------+-----------------+-----------------+-----------------+-----------------+-----------------+-----------------+-----------------+-----------------+-----------------+-----------------+-----------------+-----------------+-----------------+-----------------+-----------------+-----------------+-----------------+-----------------+-----------------+-----------------+-----------------+-----------------+-----------------+-----------------+\n",
      "| EducAttain(4) | 0.320532915361  | 0.355283911672  | 0.237548828125  | 0.345462850183  | 0.207608695652  | 0.291524701874  | 0.301532769556  | 0.23234832636   | 0.409071550256  | 0.130743651753  | 0.650301486641  | 0.704944101773  | 0.559358128374  | 0.60348796034   | 0.367297596021  | 0.223214285714  | 0.108823529412  | 0.103658536585  | 0.0964484679666 | 0.113381742739  | 0.136934673367  | 0.131009615385  | 0.117934782609  | 0.106412639405  | 0.103177501826  | 0.413244353183  | 0.424273858921  | 0.289387308534  | 0.223498233216  | 0.301           |\n",
      "+---------------+-----------------+-----------------+-----------------+-----------------+-----------------+-----------------+-----------------+-----------------+-----------------+-----------------+-----------------+-----------------+-----------------+-----------------+-----------------+-----------------+-----------------+-----------------+-----------------+-----------------+-----------------+-----------------+-----------------+-----------------+-----------------+-----------------+-----------------+-----------------+-----------------+-----------------+\n"
     ]
    }
   ],
   "source": [
    "for cpd in best_model6.get_cpds():\n",
    "    print(\"CPD of {variable}:\".format(variable=cpd.variable))\n",
    "    print(cpd)"
   ]
  },
  {
   "cell_type": "code",
   "execution_count": 106,
   "metadata": {
    "collapsed": false
   },
   "outputs": [],
   "source": [
    "test6_t = test6.loc[:,['WorkersEquiv', 'SchoolLunch', 'FoodStamps', 'MOOP', 'EducAttain',\n",
    "       'HousingStatus', 'HEAP', 'Commuting']]"
   ]
  },
  {
   "cell_type": "code",
   "execution_count": 109,
   "metadata": {
    "collapsed": false
   },
   "outputs": [],
   "source": [
    "# test6 = test6.astype(int)\n",
    "# test6.reset_index(inplace=True, drop=True)\n",
    "# best_model6.predict(test6_t.loc[:,['WorkersEquiv', 'SchoolLunch', 'FoodStamps', 'MOOP', 'EducAttain',\n",
    "#        'HousingStatus', 'HEAP', 'Commuting']]).Pov_risk"
   ]
  },
  {
   "cell_type": "code",
   "execution_count": 105,
   "metadata": {
    "collapsed": false
   },
   "outputs": [
    {
     "data": {
      "text/html": [
       "<div>\n",
       "<table border=\"1\" class=\"dataframe\">\n",
       "  <thead>\n",
       "    <tr style=\"text-align: right;\">\n",
       "      <th></th>\n",
       "      <th>WorkersEquiv</th>\n",
       "      <th>SchoolLunch</th>\n",
       "      <th>FoodStamps</th>\n",
       "      <th>MOOP</th>\n",
       "      <th>EducAttain</th>\n",
       "      <th>HousingStatus</th>\n",
       "      <th>HEAP</th>\n",
       "      <th>Commuting</th>\n",
       "      <th>Pov_risk</th>\n",
       "    </tr>\n",
       "  </thead>\n",
       "  <tbody>\n",
       "    <tr>\n",
       "      <th>5</th>\n",
       "      <td>1</td>\n",
       "      <td>0</td>\n",
       "      <td>0</td>\n",
       "      <td>1</td>\n",
       "      <td>4</td>\n",
       "      <td>9</td>\n",
       "      <td>0</td>\n",
       "      <td>1</td>\n",
       "      <td>2</td>\n",
       "    </tr>\n",
       "  </tbody>\n",
       "</table>\n",
       "</div>"
      ],
      "text/plain": [
       "   WorkersEquiv  SchoolLunch  FoodStamps  MOOP  EducAttain  HousingStatus  \\\n",
       "5             1            0           0     1           4              9   \n",
       "\n",
       "   HEAP  Commuting  Pov_risk  \n",
       "5     0          1         2  "
      ]
     },
     "execution_count": 105,
     "metadata": {},
     "output_type": "execute_result"
    }
   ],
   "source": [
    "test6[test6.index == 5]"
   ]
  },
  {
   "cell_type": "code",
   "execution_count": null,
   "metadata": {
    "collapsed": true
   },
   "outputs": [],
   "source": [
    "puma_07 = pd.read_csv(\"../Data/Cleaned/puma_07.csv\")\n",
    "puma_07.drop(['Unnamed: 0'], axis=1, inplace=True)\n",
    "\n",
    "X7 = features(puma_07)\n",
    "X7 = X7.loc[:,cols] \n",
    "\n",
    "train7,test7=train_test_split(X7,random_state=9,test_size=0.33)\n",
    "hc7 = HillClimbSearch(train7, scoring_method=BicScore(train7))\n",
    "best_model7 = hc7.estimate()"
   ]
  },
  {
   "cell_type": "code",
   "execution_count": null,
   "metadata": {
    "collapsed": true
   },
   "outputs": [],
   "source": [
    "puma_08 = pd.read_csv(\"../Data/Cleaned/puma_08.csv\")\n",
    "puma_08.drop(['Unnamed: 0'], axis=1, inplace=True)\n",
    "\n",
    "X8 = features(puma_08)\n",
    "X8 = X8.loc[:,cols] \n",
    "\n",
    "train8,test8=train_test_split(X8,random_state=9,test_size=0.33)\n",
    "hc8 = HillClimbSearch(train8, scoring_method=BicScore(train8))\n",
    "best_model8 = hc8.estimate()"
   ]
  },
  {
   "cell_type": "code",
   "execution_count": null,
   "metadata": {
    "collapsed": true
   },
   "outputs": [],
   "source": [
    "puma_09 = pd.read_csv(\"../Data/Cleaned/puma_09.csv\")\n",
    "puma_09.drop(['Unnamed: 0'], axis=1, inplace=True)\n",
    "\n",
    "X9 = features(puma_09)\n",
    "X9 = X9.loc[:,cols] \n",
    "\n",
    "train9,test9=train_test_split(X9,random_state=9,test_size=0.33)\n",
    "hc9 = HillClimbSearch(train9, scoring_method=BicScore(train9))\n",
    "best_model9 = hc9.estimate()"
   ]
  },
  {
   "cell_type": "code",
   "execution_count": null,
   "metadata": {
    "collapsed": true
   },
   "outputs": [],
   "source": [
    "puma_10 = pd.read_csv(\"../Data/Cleaned/puma_10.csv\")\n",
    "puma_10.drop(['Unnamed: 0'], axis=1, inplace=True)\n",
    "\n",
    "X10 = features(puma_10)\n",
    "X10 = X10.loc[:,cols] \n",
    "\n",
    "train10,test10=train_test_split(X10,random_state=9,test_size=0.33)\n",
    "hc10 = HillClimbSearch(train10, scoring_method=BicScore(train10))\n",
    "best_model10 = hc10.estimate()"
   ]
  },
  {
   "cell_type": "code",
   "execution_count": null,
   "metadata": {
    "collapsed": true
   },
   "outputs": [],
   "source": [
    "puma_11 = pd.read_csv(\"../Data/Cleaned/puma_11.csv\")\n",
    "puma_11.drop(['Unnamed: 0'], axis=1, inplace=True)\n",
    "\n",
    "X11 = features(puma_11)\n",
    "X11 = X11.loc[:,cols] \n",
    "\n",
    "train11,test11=train_test_split(X11,random_state=9,test_size=0.33)\n",
    "hc11 = HillClimbSearch(train11, scoring_method=BicScore(train11))\n",
    "best_model11 = hc11.estimate()"
   ]
  },
  {
   "cell_type": "code",
   "execution_count": null,
   "metadata": {
    "collapsed": true
   },
   "outputs": [],
   "source": [
    "puma_12 = pd.read_csv(\"../Data/Cleaned/puma_12.csv\")\n",
    "puma_12.drop(['Unnamed: 0'], axis=1, inplace=True)\n",
    "\n",
    "X12 = features(puma_12)\n",
    "X12 = X12.loc[:,cols] \n",
    "\n",
    "train12,test12=train_test_split(X12,random_state=9,test_size=0.33)\n",
    "hc12 = HillClimbSearch(train12, scoring_method=BicScore(train12))\n",
    "best_model12 = hc12.estimate()"
   ]
  },
  {
   "cell_type": "code",
   "execution_count": null,
   "metadata": {
    "collapsed": true
   },
   "outputs": [],
   "source": [
    "puma_13 = pd.read_csv(\"../Data/Cleaned/puma_13.csv\")\n",
    "puma_13.drop(['Unnamed: 0'], axis=1, inplace=True)\n",
    "\n",
    "X13 = features(puma_13)\n",
    "X13 = X13.loc[:,cols] \n",
    "\n",
    "train13,test13=train_test_split(X13,random_state=9,test_size=0.33)\n",
    "hc13 = HillClimbSearch(train13, scoring_method=BicScore(train13))\n",
    "best_model13 = hc13.estimate()"
   ]
  },
  {
   "cell_type": "code",
   "execution_count": 5,
   "metadata": {
    "collapsed": true
   },
   "outputs": [],
   "source": [
    "puma_14 = pd.read_csv(\"../Data/Cleaned/puma_14.csv\")\n",
    "puma_14.drop(['Unnamed: 0'], axis=1, inplace=True)\n",
    "\n",
    "X14 = features(puma_14)\n",
    "X14 = X14.loc[:,cols] \n",
    "\n",
    "\n",
    "X14.HousingStatus.replace({1:0, 2:1,3:2, 4:3,5:4, 6:5,7:6, 8:7,9:8}, inplace=True)\n",
    "X14.WorkersEquiv.replace({1:0, 2:1,3:2, 4:3,5:4}, inplace=True)\n",
    "X14.EducAttain.replace({1:0, 2:1,3:2, 4:3}, inplace=True)\n",
    "\n",
    "train14,test14=train_test_split(X14,random_state=1506,test_size=0.33)\n",
    "hc14 = HillClimbSearch(train14, scoring_method=BicScore(train14))\n",
    "best_model14 = hc14.estimate()"
   ]
  },
  {
   "cell_type": "code",
   "execution_count": 22,
   "metadata": {
    "collapsed": false
   },
   "outputs": [
    {
     "data": {
      "text/plain": [
       "[('Pov_risk', 'WorkersEquiv'),\n",
       " ('Pov_risk', 'FoodStamps'),\n",
       " ('Pov_risk', 'SchoolLunch'),\n",
       " ('Pov_risk', 'EducAttain'),\n",
       " ('HousingStatus', 'HEAP'),\n",
       " ('WorkersEquiv', 'SchoolLunch'),\n",
       " ('WorkersEquiv', 'Commuting'),\n",
       " ('WorkersEquiv', 'HousingStatus'),\n",
       " ('MOOP', 'WorkersEquiv'),\n",
       " ('MOOP', 'FoodStamps'),\n",
       " ('MOOP', 'Pov_risk'),\n",
       " ('HEAP', 'SchoolLunch'),\n",
       " ('FoodStamps', 'EducAttain'),\n",
       " ('FoodStamps', 'HousingStatus'),\n",
       " ('FoodStamps', 'HEAP'),\n",
       " ('EducAttain', 'WorkersEquiv')]"
      ]
     },
     "execution_count": 22,
     "metadata": {},
     "output_type": "execute_result"
    }
   ],
   "source": [
    "best_model14.edges()"
   ]
  },
  {
   "cell_type": "code",
   "execution_count": 23,
   "metadata": {
    "collapsed": false
   },
   "outputs": [
    {
     "data": {
      "text/plain": [
       "Index([u'WorkersEquiv', u'SchoolLunch', u'FoodStamps', u'MOOP', u'EducAttain',\n",
       "       u'HousingStatus', u'HEAP', u'Commuting', u'Pov_risk'],\n",
       "      dtype='object')"
      ]
     },
     "execution_count": 23,
     "metadata": {},
     "output_type": "execute_result"
    }
   ],
   "source": [
    "test14.columns"
   ]
  },
  {
   "cell_type": "code",
   "execution_count": 10,
   "metadata": {
    "collapsed": true
   },
   "outputs": [],
   "source": [
    "test14 = test14.astype(int)\n",
    "test14.reset_index(inplace=True, drop=True)"
   ]
  },
  {
   "cell_type": "code",
   "execution_count": 24,
   "metadata": {
    "collapsed": false
   },
   "outputs": [
    {
     "name": "stderr",
     "output_type": "stream",
     "text": [
      "WARNING:root:Replacing existing CPD for Pov_risk\n",
      "WARNING:root:Replacing existing CPD for HousingStatus\n",
      "WARNING:root:Replacing existing CPD for WorkersEquiv\n",
      "WARNING:root:Replacing existing CPD for MOOP\n",
      "WARNING:root:Replacing existing CPD for SchoolLunch\n",
      "WARNING:root:Replacing existing CPD for HEAP\n",
      "WARNING:root:Replacing existing CPD for FoodStamps\n",
      "WARNING:root:Replacing existing CPD for Commuting\n",
      "WARNING:root:Replacing existing CPD for EducAttain\n"
     ]
    }
   ],
   "source": [
    "best_model14.fit(train14, estimator=BayesianEstimator)"
   ]
  },
  {
   "cell_type": "code",
   "execution_count": 25,
   "metadata": {
    "collapsed": false,
    "scrolled": false
   },
   "outputs": [
    {
     "name": "stdout",
     "output_type": "stream",
     "text": [
      "CPDPov_risk\n",
      "+---------------+----------------+-----------------+\n",
      "| MOOP          | MOOP(0.0)      | MOOP(1.0)       |\n",
      "+---------------+----------------+-----------------+\n",
      "| Pov_risk(0.0) | 0.639512979554 | 0.0809009072451 |\n",
      "+---------------+----------------+-----------------+\n",
      "| Pov_risk(1.0) | 0.263772111188 | 0.203361383989  |\n",
      "+---------------+----------------+-----------------+\n",
      "| Pov_risk(2.0) | 0.096714909258 | 0.715737708766  |\n",
      "+---------------+----------------+-----------------+\n",
      "CPDHousingStatus\n",
      "+------------------+------------------+------------------+-----------------+-----------------+------------------+-----------------+------------------+-----------------+------------------+-----------------+\n",
      "| FoodStamps       | FoodStamps(0.0)  | FoodStamps(0.0)  | FoodStamps(0.0) | FoodStamps(0.0) | FoodStamps(0.0)  | FoodStamps(1.0) | FoodStamps(1.0)  | FoodStamps(1.0) | FoodStamps(1.0)  | FoodStamps(1.0) |\n",
      "+------------------+------------------+------------------+-----------------+-----------------+------------------+-----------------+------------------+-----------------+------------------+-----------------+\n",
      "| WorkersEquiv     | WorkersEquiv(0)  | WorkersEquiv(1)  | WorkersEquiv(2) | WorkersEquiv(3) | WorkersEquiv(4)  | WorkersEquiv(0) | WorkersEquiv(1)  | WorkersEquiv(2) | WorkersEquiv(3)  | WorkersEquiv(4) |\n",
      "+------------------+------------------+------------------+-----------------+-----------------+------------------+-----------------+------------------+-----------------+------------------+-----------------+\n",
      "| HousingStatus(0) | 0.00854486402096 | 0.0165833768429  | 0.0251671549846 | 0.0285252013647 | 0.0449030477081  | 0.0270021831552 | 0.0760411397741  | 0.0816242484145 | 0.166372721928   | 0.198076226241  |\n",
      "+------------------+------------------+------------------+-----------------+-----------------+------------------+-----------------+------------------+-----------------+------------------+-----------------+\n",
      "| HousingStatus(1) | 0.00578485900277 | 0.00539519156659 | 0.0111035985275 | 0.0088987372938 | 0.00523163917273 | 0.0125244168677 | 0.00623840836284 | 0.0134255827362 | 0.00613084740069 | 0.0166353724018 |\n",
      "+------------------+------------------+------------------+-----------------+-----------------+------------------+-----------------+------------------+-----------------+------------------+-----------------+\n",
      "| HousingStatus(2) | 0.0170757886226  | 0.0277715621193  | 0.0376079933889 | 0.0829728113679 | 0.0641376700283  | 0.0559577157302 | 0.106390153431   | 0.12017132032   | 0.210212480054   | 0.218829265079  |\n",
      "+------------------+------------------+------------------+-----------------+-----------------+------------------+-----------------+------------------+-----------------+------------------+-----------------+\n",
      "| HousingStatus(3) | 0.196225205258   | 0.251982795057   | 0.279663436256  | 0.265942105448  | 0.177541797458   | 0.237963920487  | 0.297588939471   | 0.295115723581  | 0.243470227597   | 0.219422209046  |\n",
      "+------------------+------------------+------------------+-----------------+-----------------+------------------+-----------------+------------------+-----------------+------------------+-----------------+\n",
      "| HousingStatus(4) | 0.00678849719121 | 0.0107655204992  | 0.0116445045451 | 0.0133305195034 | 0.0192568846145  | 0.0311386878088 | 0.0274827179228  | 0.0282513796228 | 0.0484588897287  | 0.0587343940442 |\n",
      "+------------------+------------------+------------------+-----------------+-----------------+------------------+-----------------+------------------+-----------------+------------------+-----------------+\n",
      "| HousingStatus(5) | 0.234614365966   | 0.258248178812   | 0.22503192848   | 0.198832260561  | 0.11663216011    | 0.23589566816   | 0.249030517619   | 0.263981550119  | 0.187536743092   | 0.164278420134  |\n",
      "+------------------+------------------+------------------+-----------------+-----------------+------------------+-----------------+------------------+-----------------+------------------+-----------------+\n",
      "| HousingStatus(6) | 0.017828517264   | 0.0134506849656  | 0.0219217188791 | 0.0158629664803 | 0.0276720318796  | 0.0145926691945 | 0.00623840836284 | 0.0134255827362 | 0.0136894263878  | 0.0201930362025 |\n",
      "+------------------+------------------+------------------+-----------------+-----------------+------------------+-----------------+------------------+-----------------+------------------+-----------------+\n",
      "| HousingStatus(7) | 0.125970532068   | 0.128465229606   | 0.144977837878  | 0.199465372305  | 0.399541396736   | 0.0993910145927 | 0.0821109425055  | 0.0712461905939 | 0.0575291845133  | 0.0646638337122 |\n",
      "+------------------+------------------+------------------+-----------------+-----------------+------------------+-----------------+------------------+-----------------+------------------+-----------------+\n",
      "| HousingStatus(8) | 0.387167370607   | 0.287337460531   | 0.24288182706   | 0.186170025676  | 0.145083372292   | 0.285533724003  | 0.148878772551   | 0.112758421876  | 0.0665994792979  | 0.03916724314   |\n",
      "+------------------+------------------+------------------+-----------------+-----------------+------------------+-----------------+------------------+-----------------+------------------+-----------------+\n",
      "CPDWorkersEquiv\n",
      "+-----------------+-----------------+-----------------+-----------------+---------------+-----------------+-----------------+-----------------+-----------------+-----------------+----------------+----------------+-----------------+-----------------+-----------------+----------------+----------------+----------------+-----------------+-----------------+-----------------+-----------------+----------------+----------------+-----------------+\n",
      "| EducAttain      | EducAttain(0)   | EducAttain(0)   | EducAttain(0)   | EducAttain(0) | EducAttain(0)   | EducAttain(0)   | EducAttain(1)   | EducAttain(1)   | EducAttain(1)   | EducAttain(1)  | EducAttain(1)  | EducAttain(1)   | EducAttain(2)   | EducAttain(2)   | EducAttain(2)  | EducAttain(2)  | EducAttain(2)  | EducAttain(2)   | EducAttain(3)   | EducAttain(3)   | EducAttain(3)   | EducAttain(3)  | EducAttain(3)  | EducAttain(3)   |\n",
      "+-----------------+-----------------+-----------------+-----------------+---------------+-----------------+-----------------+-----------------+-----------------+-----------------+----------------+----------------+-----------------+-----------------+-----------------+----------------+----------------+----------------+-----------------+-----------------+-----------------+-----------------+----------------+----------------+-----------------+\n",
      "| MOOP            | MOOP(0.0)       | MOOP(0.0)       | MOOP(0.0)       | MOOP(1.0)     | MOOP(1.0)       | MOOP(1.0)       | MOOP(0.0)       | MOOP(0.0)       | MOOP(0.0)       | MOOP(1.0)      | MOOP(1.0)      | MOOP(1.0)       | MOOP(0.0)       | MOOP(0.0)       | MOOP(0.0)      | MOOP(1.0)      | MOOP(1.0)      | MOOP(1.0)       | MOOP(0.0)       | MOOP(0.0)       | MOOP(0.0)       | MOOP(1.0)      | MOOP(1.0)      | MOOP(1.0)       |\n",
      "+-----------------+-----------------+-----------------+-----------------+---------------+-----------------+-----------------+-----------------+-----------------+-----------------+----------------+----------------+-----------------+-----------------+-----------------+----------------+----------------+----------------+-----------------+-----------------+-----------------+-----------------+----------------+----------------+-----------------+\n",
      "| Pov_risk        | Pov_risk(0.0)   | Pov_risk(1.0)   | Pov_risk(2.0)   | Pov_risk(0.0) | Pov_risk(1.0)   | Pov_risk(2.0)   | Pov_risk(0.0)   | Pov_risk(1.0)   | Pov_risk(2.0)   | Pov_risk(0.0)  | Pov_risk(1.0)  | Pov_risk(2.0)   | Pov_risk(0.0)   | Pov_risk(1.0)   | Pov_risk(2.0)  | Pov_risk(0.0)  | Pov_risk(1.0)  | Pov_risk(2.0)   | Pov_risk(0.0)   | Pov_risk(1.0)   | Pov_risk(2.0)   | Pov_risk(0.0)  | Pov_risk(1.0)  | Pov_risk(2.0)   |\n",
      "+-----------------+-----------------+-----------------+-----------------+---------------+-----------------+-----------------+-----------------+-----------------+-----------------+----------------+----------------+-----------------+-----------------+-----------------+----------------+----------------+----------------+-----------------+-----------------+-----------------+-----------------+----------------+----------------+-----------------+\n",
      "| WorkersEquiv(0) | 0.0127981825066 | 0.018057006417  | 0.285081240768  | 0.06176       | 0.0756567001574 | 0.109697053534  | 0.0159086408344 | 0.0554549942406 | 0.173184357542  | 0.109958822632 | 0.136257874127 | 0.201716431253  | 0.0327902379167 | 0.0736262054186 | 0.27691537306  | 0.169772522812 | 0.237163349641 | 0.342704014562  | 0.0323243499565 | 0.0528332877087 | 0.395504117516  | 0.144920367989 | 0.20064363295  | 0.392339901942  |\n",
      "+-----------------+-----------------+-----------------+-----------------+---------------+-----------------+-----------------+-----------------+-----------------+-----------------+----------------+----------------+-----------------+-----------------+-----------------+----------------+----------------+----------------+-----------------+-----------------+-----------------+-----------------+----------------+----------------+-----------------+\n",
      "| WorkersEquiv(1) | 0.0182506626278 | 0.0646172213103 | 0.143279172821  | 0.0848        | 0.0988984384457 | 0.0897772859317 | 0.0460096375998 | 0.0949481652131 | 0.0391061452514 | 0.153881348178 | 0.123999772998 | 0.0987305560522 | 0.060603994819  | 0.11403643043   | 0.168753129695 | 0.17285695926  | 0.161924666318 | 0.139326524421  | 0.0512921836719 | 0.125102655352  | 0.203204985533  | 0.135423879711 | 0.173825593349 | 0.193762437772  |\n",
      "+-----------------+-----------------+-----------------+-----------------+---------------+-----------------+-----------------+-----------------+-----------------+-----------------+----------------+----------------+-----------------+-----------------+-----------------+----------------+----------------+----------------+-----------------+-----------------+-----------------+-----------------+----------------+----------------+-----------------+\n",
      "| WorkersEquiv(2) | 0.0945853843241 | 0.10401432622   | 0.249630723781  | 0.2           | 0.191865391599  | 0.222575736616  | 0.115717209057  | 0.197630409742  | 0.498802873105  | 0.208784505109 | 0.258838885421 | 0.326157697121  | 0.10641488854   | 0.227919791826  | 0.2889334001   | 0.277727798483 | 0.304422172612 | 0.292709070685  | 0.0949182012171 | 0.138242540378  | 0.31537947919   | 0.258878227322 | 0.298261297099 | 0.259151375139  |\n",
      "+-----------------+-----------------+-----------------+-----------------+---------------+-----------------+-----------------+-----------------+-----------------+-----------------+----------------+----------------+-----------------+-----------------+-----------------+----------------+----------------+----------------+-----------------+-----------------+-----------------+-----------------+----------------+----------------+-----------------+\n",
      "| WorkersEquiv(3) | 0.156380159031  | 0.111177436204  | 0.0723781388479 | 0.1232        | 0.0872775693015 | 0.0964172084659 | 0.244042511057  | 0.193681092644  | 0.134876296887  | 0.153881348178 | 0.126723795471 | 0.0892901841588 | 0.296202876815  | 0.268330016838  | 0.132699048573 | 0.188279141499 | 0.147104925664 | 0.0718576195773 | 0.352880739746  | 0.309061045716  | 0.0536389939907 | 0.232762884558 | 0.185625530774 | 0.0723258398046 |\n",
      "+-----------------+-----------------+-----------------+-----------------+---------------+-----------------+-----------------+-----------------+-----------------+-----------------+----------------+----------------+-----------------+-----------------+-----------------+----------------+----------------+----------------+-----------------+-----------------+-----------------+-----------------+----------------+----------------+-----------------+\n",
      "| WorkersEquiv(4) | 0.717985611511  | 0.702134009849  | 0.249630723781  | 0.53024       | 0.546301900496  | 0.481532715452  | 0.578322001452  | 0.45828533816   | 0.154030327215  | 0.373493975904 | 0.354179671982 | 0.284105131414  | 0.503988001909  | 0.316087555488  | 0.132699048573 | 0.191363577946 | 0.149384885764 | 0.153402770755  | 0.468584525409  | 0.374760470846  | 0.0322724237703 | 0.228014640419 | 0.141643945828 | 0.0824204453429 |\n",
      "+-----------------+-----------------+-----------------+-----------------+---------------+-----------------+-----------------+-----------------+-----------------+-----------------+----------------+----------------+-----------------+-----------------+-----------------+----------------+----------------+----------------+-----------------+-----------------+-----------------+-----------------+----------------+----------------+-----------------+\n",
      "CPDMOOP\n",
      "+-----------+----------+\n",
      "| MOOP(0.0) | 0.203472 |\n",
      "+-----------+----------+\n",
      "| MOOP(1.0) | 0.796528 |\n",
      "+-----------+----------+\n",
      "CPDSchoolLunch\n",
      "+------------------+-----------------+-----------------+-----------------+-----------------+-----------------+-----------------+-----------------+-----------------+-----------------+-----------------+-----------------+------------------+------------------+------------------+-------------------+-----------------+-----------------+-----------------+-----------------+-----------------+-----------------+-----------------+-----------------+-----------------+-----------------+-----------------+-----------------+-----------------+-----------------+-----------------+\n",
      "| HEAP             | HEAP(0.0)       | HEAP(0.0)       | HEAP(0.0)       | HEAP(0.0)       | HEAP(0.0)       | HEAP(0.0)       | HEAP(0.0)       | HEAP(0.0)       | HEAP(0.0)       | HEAP(0.0)       | HEAP(0.0)       | HEAP(0.0)        | HEAP(0.0)        | HEAP(0.0)        | HEAP(0.0)         | HEAP(1.0)       | HEAP(1.0)       | HEAP(1.0)       | HEAP(1.0)       | HEAP(1.0)       | HEAP(1.0)       | HEAP(1.0)       | HEAP(1.0)       | HEAP(1.0)       | HEAP(1.0)       | HEAP(1.0)       | HEAP(1.0)       | HEAP(1.0)       | HEAP(1.0)       | HEAP(1.0)       |\n",
      "+------------------+-----------------+-----------------+-----------------+-----------------+-----------------+-----------------+-----------------+-----------------+-----------------+-----------------+-----------------+------------------+------------------+------------------+-------------------+-----------------+-----------------+-----------------+-----------------+-----------------+-----------------+-----------------+-----------------+-----------------+-----------------+-----------------+-----------------+-----------------+-----------------+-----------------+\n",
      "| Pov_risk         | Pov_risk(0.0)   | Pov_risk(0.0)   | Pov_risk(0.0)   | Pov_risk(0.0)   | Pov_risk(0.0)   | Pov_risk(1.0)   | Pov_risk(1.0)   | Pov_risk(1.0)   | Pov_risk(1.0)   | Pov_risk(1.0)   | Pov_risk(2.0)   | Pov_risk(2.0)    | Pov_risk(2.0)    | Pov_risk(2.0)    | Pov_risk(2.0)     | Pov_risk(0.0)   | Pov_risk(0.0)   | Pov_risk(0.0)   | Pov_risk(0.0)   | Pov_risk(0.0)   | Pov_risk(1.0)   | Pov_risk(1.0)   | Pov_risk(1.0)   | Pov_risk(1.0)   | Pov_risk(1.0)   | Pov_risk(2.0)   | Pov_risk(2.0)   | Pov_risk(2.0)   | Pov_risk(2.0)   | Pov_risk(2.0)   |\n",
      "+------------------+-----------------+-----------------+-----------------+-----------------+-----------------+-----------------+-----------------+-----------------+-----------------+-----------------+-----------------+------------------+------------------+------------------+-------------------+-----------------+-----------------+-----------------+-----------------+-----------------+-----------------+-----------------+-----------------+-----------------+-----------------+-----------------+-----------------+-----------------+-----------------+-----------------+\n",
      "| WorkersEquiv     | WorkersEquiv(0) | WorkersEquiv(1) | WorkersEquiv(2) | WorkersEquiv(3) | WorkersEquiv(4) | WorkersEquiv(0) | WorkersEquiv(1) | WorkersEquiv(2) | WorkersEquiv(3) | WorkersEquiv(4) | WorkersEquiv(0) | WorkersEquiv(1)  | WorkersEquiv(2)  | WorkersEquiv(3)  | WorkersEquiv(4)   | WorkersEquiv(0) | WorkersEquiv(1) | WorkersEquiv(2) | WorkersEquiv(3) | WorkersEquiv(4) | WorkersEquiv(0) | WorkersEquiv(1) | WorkersEquiv(2) | WorkersEquiv(3) | WorkersEquiv(4) | WorkersEquiv(0) | WorkersEquiv(1) | WorkersEquiv(2) | WorkersEquiv(3) | WorkersEquiv(4) |\n",
      "+------------------+-----------------+-----------------+-----------------+-----------------+-----------------+-----------------+-----------------+-----------------+-----------------+-----------------+-----------------+------------------+------------------+------------------+-------------------+-----------------+-----------------+-----------------+-----------------+-----------------+-----------------+-----------------+-----------------+-----------------+-----------------+-----------------+-----------------+-----------------+-----------------+-----------------+\n",
      "| SchoolLunch(0.0) | 0.81004784689   | 0.802521008403  | 0.814405010438  | 0.880417335474  | 0.967764332474  | 0.925844930417  | 0.86322257624   | 0.883558282209  | 0.904187528448  | 0.981805745554  | 0.997011607804  | 0.995660165424   | 0.994178941275   | 0.992634629317   | 0.999931815083    | 0.587804878049  | 0.412052117264  | 0.512178619756  | 0.622883670126  | 0.803419689119  | 0.510055865922  | 0.425886143931  | 0.457771260997  | 0.567524115756  | 0.899341908465  | 0.619434258774  | 0.716056670602  | 0.698193111237  | 0.712520593081  | 0.945810055866  |\n",
      "+------------------+-----------------+-----------------+-----------------+-----------------+-----------------+-----------------+-----------------+-----------------+-----------------+-----------------+-----------------+------------------+------------------+------------------+-------------------+-----------------+-----------------+-----------------+-----------------+-----------------+-----------------+-----------------+-----------------+-----------------+-----------------+-----------------+-----------------+-----------------+-----------------+-----------------+\n",
      "| SchoolLunch(1.0) | 0.18995215311   | 0.197478991597  | 0.185594989562  | 0.119582664526  | 0.0322356675263 | 0.0741550695825 | 0.13677742376   | 0.116441717791  | 0.0958124715521 | 0.018194254446  | 0.0029883921956 | 0.00433983457572 | 0.00582105872516 | 0.00736537068341 | 6.81849174962e-05 | 0.412195121951  | 0.587947882736  | 0.487821380244  | 0.377116329874  | 0.196580310881  | 0.489944134078  | 0.574113856069  | 0.542228739003  | 0.432475884244  | 0.100658091535  | 0.380565741226  | 0.283943329398  | 0.301806888763  | 0.287479406919  | 0.0541899441341 |\n",
      "+------------------+-----------------+-----------------+-----------------+-----------------+-----------------+-----------------+-----------------+-----------------+-----------------+-----------------+-----------------+------------------+------------------+------------------+-------------------+-----------------+-----------------+-----------------+-----------------+-----------------+-----------------+-----------------+-----------------+-----------------+-----------------+-----------------+-----------------+-----------------+-----------------+-----------------+\n",
      "CPDHEAP\n",
      "+---------------+------------------+------------------+------------------+------------------+------------------+------------------+------------------+------------------+------------------+------------------+------------------+------------------+------------------+------------------+------------------+------------------+------------------+------------------+\n",
      "| FoodStamps    | FoodStamps(0.0)  | FoodStamps(0.0)  | FoodStamps(0.0)  | FoodStamps(0.0)  | FoodStamps(0.0)  | FoodStamps(0.0)  | FoodStamps(0.0)  | FoodStamps(0.0)  | FoodStamps(0.0)  | FoodStamps(1.0)  | FoodStamps(1.0)  | FoodStamps(1.0)  | FoodStamps(1.0)  | FoodStamps(1.0)  | FoodStamps(1.0)  | FoodStamps(1.0)  | FoodStamps(1.0)  | FoodStamps(1.0)  |\n",
      "+---------------+------------------+------------------+------------------+------------------+------------------+------------------+------------------+------------------+------------------+------------------+------------------+------------------+------------------+------------------+------------------+------------------+------------------+------------------+\n",
      "| HousingStatus | HousingStatus(0) | HousingStatus(1) | HousingStatus(2) | HousingStatus(3) | HousingStatus(4) | HousingStatus(5) | HousingStatus(6) | HousingStatus(7) | HousingStatus(8) | HousingStatus(0) | HousingStatus(1) | HousingStatus(2) | HousingStatus(3) | HousingStatus(4) | HousingStatus(5) | HousingStatus(6) | HousingStatus(7) | HousingStatus(8) |\n",
      "+---------------+------------------+------------------+------------------+------------------+------------------+------------------+------------------+------------------+------------------+------------------+------------------+------------------+------------------+------------------+------------------+------------------+------------------+------------------+\n",
      "| HEAP(0.0)     | 0.95287912848    | 0.988972565896   | 0.824838869608   | 0.97127362451    | 0.907281388227   | 0.97723548138    | 0.995877739795   | 0.992363758927   | 0.99488166164    | 0.28502740151    | 0.0839909808343  | 0.215175296426   | 0.0340715000883  | 0.0294867708001  | 0.0259763525618  | 0.0349048050771  | 0.159609455293   | 0.102172942402   |\n",
      "+---------------+------------------+------------------+------------------+------------------+------------------+------------------+------------------+------------------+------------------+------------------+------------------+------------------+------------------+------------------+------------------+------------------+------------------+------------------+\n",
      "| HEAP(1.0)     | 0.04712087152    | 0.0110274341044  | 0.175161130392   | 0.0287263754905  | 0.0927186117727  | 0.0227645186204  | 0.00412226020511 | 0.0076362410735  | 0.00511833836005 | 0.71497259849    | 0.916009019166   | 0.784824703574   | 0.965928499912   | 0.9705132292     | 0.974023647438   | 0.965095194923   | 0.840390544707   | 0.897827057598   |\n",
      "+---------------+------------------+------------------+------------------+------------------+------------------+------------------+------------------+------------------+------------------+------------------+------------------+------------------+------------------+------------------+------------------+------------------+------------------+------------------+\n",
      "CPDFoodStamps\n",
      "+-----------------+----------------+----------------+----------------+----------------+----------------+-----------------+\n",
      "| MOOP            | MOOP(0.0)      | MOOP(0.0)      | MOOP(0.0)      | MOOP(1.0)      | MOOP(1.0)      | MOOP(1.0)       |\n",
      "+-----------------+----------------+----------------+----------------+----------------+----------------+-----------------+\n",
      "| Pov_risk        | Pov_risk(0.0)  | Pov_risk(1.0)  | Pov_risk(2.0)  | Pov_risk(0.0)  | Pov_risk(1.0)  | Pov_risk(2.0)   |\n",
      "+-----------------+----------------+----------------+----------------+----------------+----------------+-----------------+\n",
      "| FoodStamps(0.0) | 0.514009627128 | 0.266939557568 | 0.762232779097 | 0.817713622516 | 0.719368615456 | 0.911114572914  |\n",
      "+-----------------+----------------+----------------+----------------+----------------+----------------+-----------------+\n",
      "| FoodStamps(1.0) | 0.485990372872 | 0.733060442432 | 0.237767220903 | 0.182286377484 | 0.280631384544 | 0.0888854270862 |\n",
      "+-----------------+----------------+----------------+----------------+----------------+----------------+-----------------+\n",
      "CPDCommuting\n",
      "+----------------+-----------------+-----------------+-----------------+-----------------+-----------------+\n",
      "| WorkersEquiv   | WorkersEquiv(0) | WorkersEquiv(1) | WorkersEquiv(2) | WorkersEquiv(3) | WorkersEquiv(4) |\n",
      "+----------------+-----------------+-----------------+-----------------+-----------------+-----------------+\n",
      "| Commuting(0.0) | 0.0408368762587 | 0.113299531981  | 0.104871912168  | 0.11802766622   | 0.981707317073  |\n",
      "+----------------+-----------------+-----------------+-----------------+-----------------+-----------------+\n",
      "| Commuting(1.0) | 0.959163123741  | 0.886700468019  | 0.895128087832  | 0.88197233378   | 0.0182926829268 |\n",
      "+----------------+-----------------+-----------------+-----------------+-----------------+-----------------+\n",
      "CPDEducAttain\n",
      "+---------------+-----------------+-----------------+-----------------+-----------------+-----------------+-----------------+\n",
      "| FoodStamps    | FoodStamps(0.0) | FoodStamps(0.0) | FoodStamps(0.0) | FoodStamps(1.0) | FoodStamps(1.0) | FoodStamps(1.0) |\n",
      "+---------------+-----------------+-----------------+-----------------+-----------------+-----------------+-----------------+\n",
      "| Pov_risk      | Pov_risk(0.0)   | Pov_risk(1.0)   | Pov_risk(2.0)   | Pov_risk(0.0)   | Pov_risk(1.0)   | Pov_risk(2.0)   |\n",
      "+---------------+-----------------+-----------------+-----------------+-----------------+-----------------+-----------------+\n",
      "| EducAttain(0) | 0.129563755766  | 0.0999678502536 | 0.0260508685081 | 0.302362548311  | 0.258102745012  | 0.0822918425942 |\n",
      "+---------------+-----------------+-----------------+-----------------+-----------------+-----------------+-----------------+\n",
      "| EducAttain(1) | 0.251524509421  | 0.241855397585  | 0.105082477653  | 0.275433237751  | 0.2799305479    | 0.219093058605  |\n",
      "+---------------+-----------------+-----------------+-----------------+-----------------+-----------------+-----------------+\n",
      "| EducAttain(2) | 0.267942303182  | 0.307440880189  | 0.193665051516  | 0.272441092133  | 0.285883585051  | 0.302187130552  |\n",
      "+---------------+-----------------+-----------------+-----------------+-----------------+-----------------+-----------------+\n",
      "| EducAttain(3) | 0.350969431632  | 0.350735871973  | 0.675201602323  | 0.149763121805  | 0.176083122037  | 0.396427968249  |\n",
      "+---------------+-----------------+-----------------+-----------------+-----------------+-----------------+-----------------+\n"
     ]
    }
   ],
   "source": [
    "for cpd in best_model14.get_cpds():\n",
    "    print \"CPD{0}\".format(cpd.variable)\n",
    "    print cpd"
   ]
  },
  {
   "cell_type": "code",
   "execution_count": 11,
   "metadata": {
    "collapsed": false,
    "scrolled": true
   },
   "outputs": [
    {
     "ename": "IndexError",
     "evalue": "list index out of range",
     "output_type": "error",
     "traceback": [
      "\u001b[0;31m\u001b[0m",
      "\u001b[0;31mIndexError\u001b[0mTraceback (most recent call last)",
      "\u001b[0;32m<ipython-input-11-27ef280ec7ff>\u001b[0m in \u001b[0;36m<module>\u001b[0;34m()\u001b[0m\n\u001b[1;32m      1\u001b[0m y_pred = best_model14.predict(test14.loc[:,[u'WorkersEquiv', u'SchoolLunch', u'FoodStamps', u'MOOP', u'EducAttain',\n\u001b[0;32m----> 2\u001b[0;31m        u'HousingStatus', u'HEAP', u'Commuting']])\n\u001b[0m",
      "\u001b[0;32m/home/cusp/vys217/.conda/envs/JVEvys217/lib/python2.7/site-packages/pgmpy-0.1.3-py2.7.egg/pgmpy/models/BayesianModel.pyc\u001b[0m in \u001b[0;36mpredict\u001b[0;34m(self, data)\u001b[0m\n\u001b[1;32m    746\u001b[0m \u001b[0;34m\u001b[0m\u001b[0m\n\u001b[1;32m    747\u001b[0m         \u001b[0;31m# Send state_names dict from one of the estimated CPDs to the inference class.\u001b[0m\u001b[0;34m\u001b[0m\u001b[0;34m\u001b[0m\u001b[0m\n\u001b[0;32m--> 748\u001b[0;31m         \u001b[0mmodel_inference\u001b[0m \u001b[0;34m=\u001b[0m \u001b[0mVariableElimination\u001b[0m\u001b[0;34m(\u001b[0m\u001b[0mself\u001b[0m\u001b[0;34m,\u001b[0m \u001b[0mstate_names\u001b[0m\u001b[0;34m=\u001b[0m\u001b[0mself\u001b[0m\u001b[0;34m.\u001b[0m\u001b[0mget_cpds\u001b[0m\u001b[0;34m(\u001b[0m\u001b[0;34m)\u001b[0m\u001b[0;34m[\u001b[0m\u001b[0;36m0\u001b[0m\u001b[0;34m]\u001b[0m\u001b[0;34m.\u001b[0m\u001b[0mstate_names\u001b[0m\u001b[0;34m)\u001b[0m\u001b[0;34m\u001b[0m\u001b[0m\n\u001b[0m\u001b[1;32m    749\u001b[0m         \u001b[0;32mfor\u001b[0m \u001b[0mindex\u001b[0m\u001b[0;34m,\u001b[0m \u001b[0mdata_point\u001b[0m \u001b[0;32min\u001b[0m \u001b[0mdata\u001b[0m\u001b[0;34m.\u001b[0m\u001b[0miterrows\u001b[0m\u001b[0;34m(\u001b[0m\u001b[0;34m)\u001b[0m\u001b[0;34m:\u001b[0m\u001b[0;34m\u001b[0m\u001b[0m\n\u001b[1;32m    750\u001b[0m             \u001b[0mstates_dict\u001b[0m \u001b[0;34m=\u001b[0m \u001b[0mmodel_inference\u001b[0m\u001b[0;34m.\u001b[0m\u001b[0mmap_query\u001b[0m\u001b[0;34m(\u001b[0m\u001b[0mvariables\u001b[0m\u001b[0;34m=\u001b[0m\u001b[0mmissing_variables\u001b[0m\u001b[0;34m,\u001b[0m \u001b[0mevidence\u001b[0m\u001b[0;34m=\u001b[0m\u001b[0mdata_point\u001b[0m\u001b[0;34m.\u001b[0m\u001b[0mto_dict\u001b[0m\u001b[0;34m(\u001b[0m\u001b[0;34m)\u001b[0m\u001b[0;34m)\u001b[0m\u001b[0;34m\u001b[0m\u001b[0m\n",
      "\u001b[0;31mIndexError\u001b[0m: list index out of range"
     ]
    }
   ],
   "source": [
    "y_pred = best_model14.predict(test14.loc[:,[u'WorkersEquiv', u'SchoolLunch', u'FoodStamps', u'MOOP', u'EducAttain',\n",
    "       u'HousingStatus', u'HEAP', u'Commuting']])"
   ]
  },
  {
   "cell_type": "code",
   "execution_count": null,
   "metadata": {
    "collapsed": true
   },
   "outputs": [],
   "source": []
  },
  {
   "cell_type": "code",
   "execution_count": null,
   "metadata": {
    "collapsed": true
   },
   "outputs": [],
   "source": []
  },
  {
   "cell_type": "code",
   "execution_count": null,
   "metadata": {
    "collapsed": true
   },
   "outputs": [],
   "source": []
  },
  {
   "cell_type": "code",
   "execution_count": 26,
   "metadata": {
    "collapsed": false
   },
   "outputs": [
    {
     "name": "stderr",
     "output_type": "stream",
     "text": [
      "/home/cusp/vys217/.conda/envs/JVEvys217/lib/python2.7/site-packages/IPython/core/interactiveshell.py:2717: DtypeWarning: Columns (12) have mixed types. Specify dtype option on import or set low_memory=False.\n",
      "  interactivity=interactivity, compiler=compiler, result=result)\n"
     ]
    }
   ],
   "source": [
    "puma_all = pd.read_csv(\"../Data/Cleaned/puma_all.csv\")"
   ]
  },
  {
   "cell_type": "code",
   "execution_count": 27,
   "metadata": {
    "collapsed": true
   },
   "outputs": [],
   "source": [
    "puma_all.drop(['Unnamed: 0'], axis=1, inplace=True)"
   ]
  },
  {
   "cell_type": "code",
   "execution_count": 28,
   "metadata": {
    "collapsed": false
   },
   "outputs": [
    {
     "data": {
      "text/plain": [
       "Index([u'SERIALNO', u'Official_Poverty', u'CEO_Income', u'FICAtax',\n",
       "       u'PovunitType', u'WorkExpIndiv', u'Povunit', u'IncomeTax',\n",
       "       u'SchoolBreakfast', u'HEAP', u'CitizenStatus', u'Official_Threshold',\n",
       "       u'AgeCateg_2', u'AgeCateg_3', u'CEO_Poverty', u'PUMA', u'WIC',\n",
       "       u'HousingStatus', u'WorkersEquiv', u'SchoolLunch', u'CEO_Threshold',\n",
       "       u'AgeCateg_1', u'Boro', u'MOOP', u'MV', u'Childcare', u'EducAttain',\n",
       "       u'NP', u'FoodStamps', u'PreTaxIncome', u'Commuting', u'Housing',\n",
       "       u'Ethnicity', u'Threshold1', u'year', u'unique_key', u'Pov_risk'],\n",
       "      dtype='object')"
      ]
     },
     "execution_count": 28,
     "metadata": {},
     "output_type": "execute_result"
    }
   ],
   "source": [
    "puma_all.columns"
   ]
  },
  {
   "cell_type": "code",
   "execution_count": 29,
   "metadata": {
    "collapsed": false
   },
   "outputs": [],
   "source": [
    "X = features_all(puma_all)"
   ]
  },
  {
   "cell_type": "code",
   "execution_count": 30,
   "metadata": {
    "collapsed": false
   },
   "outputs": [
    {
     "data": {
      "text/plain": [
       "Index([u'HEAP', u'HousingStatus', u'WorkersEquiv', u'SchoolLunch', u'MOOP',\n",
       "       u'EducAttain', u'FoodStamps', u'Housing', u'year', u'Pov_risk'],\n",
       "      dtype='object')"
      ]
     },
     "execution_count": 30,
     "metadata": {},
     "output_type": "execute_result"
    }
   ],
   "source": [
    "X.columns"
   ]
  },
  {
   "cell_type": "code",
   "execution_count": 31,
   "metadata": {
    "collapsed": false
   },
   "outputs": [
    {
     "data": {
      "text/plain": [
       "array([4, 9, 1, 6, 8, 3, 7, 2, 5])"
      ]
     },
     "execution_count": 31,
     "metadata": {},
     "output_type": "execute_result"
    }
   ],
   "source": [
    "X.HousingStatus.unique()"
   ]
  },
  {
   "cell_type": "code",
   "execution_count": 32,
   "metadata": {
    "collapsed": true
   },
   "outputs": [],
   "source": [
    "X.HousingStatus.replace({1:0, 2:1,3:2, 4:3,5:4, 6:5,7:6, 8:7,9:8}, inplace=True)\n",
    "X.WorkersEquiv.replace({1:0, 2:1,3:2, 4:3,5:4}, inplace=True)\n",
    "X.EducAttain.replace({1:0, 2:1,3:2, 4:3}, inplace=True)"
   ]
  },
  {
   "cell_type": "code",
   "execution_count": 33,
   "metadata": {
    "collapsed": false
   },
   "outputs": [
    {
     "data": {
      "text/plain": [
       "array([3, 1, 4, 2, 5])"
      ]
     },
     "execution_count": 33,
     "metadata": {},
     "output_type": "execute_result"
    }
   ],
   "source": [
    "X.WorkersEquiv.unique()"
   ]
  },
  {
   "cell_type": "code",
   "execution_count": 34,
   "metadata": {
    "collapsed": true
   },
   "outputs": [],
   "source": []
  },
  {
   "cell_type": "code",
   "execution_count": 35,
   "metadata": {
    "collapsed": false
   },
   "outputs": [
    {
     "data": {
      "text/plain": [
       "array([ 0.,  1.])"
      ]
     },
     "execution_count": 35,
     "metadata": {},
     "output_type": "execute_result"
    }
   ],
   "source": [
    "X.SchoolLunch.unique()"
   ]
  },
  {
   "cell_type": "code",
   "execution_count": 36,
   "metadata": {
    "collapsed": false
   },
   "outputs": [
    {
     "data": {
      "text/plain": [
       "array([4, 2, 3, 1])"
      ]
     },
     "execution_count": 36,
     "metadata": {},
     "output_type": "execute_result"
    }
   ],
   "source": [
    "X.EducAttain.unique()"
   ]
  },
  {
   "cell_type": "code",
   "execution_count": 37,
   "metadata": {
    "collapsed": true
   },
   "outputs": [],
   "source": []
  },
  {
   "cell_type": "code",
   "execution_count": 38,
   "metadata": {
    "collapsed": false
   },
   "outputs": [
    {
     "data": {
      "text/plain": [
       "array([ 0.,  1.])"
      ]
     },
     "execution_count": 38,
     "metadata": {},
     "output_type": "execute_result"
    }
   ],
   "source": [
    "X.Housing.unique()"
   ]
  },
  {
   "cell_type": "code",
   "execution_count": 39,
   "metadata": {
    "collapsed": true
   },
   "outputs": [],
   "source": [
    "X.year.replace({2005:0, 2006:1,2007:2, 2008:3,2009:4, 2010:5,2011:6, 2012:7,2013:8, 2014:9}, inplace=True)"
   ]
  },
  {
   "cell_type": "code",
   "execution_count": 41,
   "metadata": {
    "collapsed": false
   },
   "outputs": [],
   "source": [
    "X = X[X.year == 9]"
   ]
  },
  {
   "cell_type": "code",
   "execution_count": 43,
   "metadata": {
    "collapsed": false
   },
   "outputs": [],
   "source": [
    "X.reset_index(inplace=True, drop=True)"
   ]
  },
  {
   "cell_type": "code",
   "execution_count": 44,
   "metadata": {
    "collapsed": true
   },
   "outputs": [],
   "source": [
    "X = X.astype(int)"
   ]
  },
  {
   "cell_type": "code",
   "execution_count": 46,
   "metadata": {
    "collapsed": false
   },
   "outputs": [],
   "source": [
    "train_all,test_all=train_test_split(X,random_state=51,test_size=0.25)\n",
    "hc_all = HillClimbSearch(train_all, scoring_method=BicScore(train_all))\n",
    "best_model_all = hc_all.estimate()"
   ]
  },
  {
   "cell_type": "code",
   "execution_count": 62,
   "metadata": {
    "collapsed": false
   },
   "outputs": [
    {
     "data": {
      "text/plain": [
       "Index([u'HEAP', u'HousingStatus', u'WorkersEquiv', u'SchoolLunch', u'MOOP',\n",
       "       u'EducAttain', u'FoodStamps', u'Housing', u'year', u'Pov_risk'],\n",
       "      dtype='object')"
      ]
     },
     "execution_count": 62,
     "metadata": {},
     "output_type": "execute_result"
    }
   ],
   "source": [
    "X.columns"
   ]
  },
  {
   "cell_type": "code",
   "execution_count": 61,
   "metadata": {
    "collapsed": false
   },
   "outputs": [
    {
     "data": {
      "text/plain": [
       "[(u'Pov_risk', u'WorkersEquiv'),\n",
       " (u'Pov_risk', u'SchoolLunch'),\n",
       " (u'Pov_risk', u'EducAttain'),\n",
       " (u'HousingStatus', u'Housing'),\n",
       " (u'WorkersEquiv', u'EducAttain'),\n",
       " (u'WorkersEquiv', u'HousingStatus'),\n",
       " (u'MOOP', u'WorkersEquiv'),\n",
       " (u'MOOP', u'Pov_risk'),\n",
       " (u'SchoolLunch', u'WorkersEquiv'),\n",
       " (u'SchoolLunch', u'Housing'),\n",
       " (u'HEAP', u'MOOP'),\n",
       " (u'HEAP', u'FoodStamps'),\n",
       " (u'HEAP', u'SchoolLunch'),\n",
       " (u'HEAP', u'Pov_risk'),\n",
       " (u'HEAP', u'HousingStatus'),\n",
       " (u'FoodStamps', u'Pov_risk'),\n",
       " (u'FoodStamps', u'HousingStatus'),\n",
       " (u'FoodStamps', u'WorkersEquiv'),\n",
       " (u'FoodStamps', u'Housing'),\n",
       " (u'FoodStamps', u'MOOP'),\n",
       " (u'FoodStamps', u'SchoolLunch'),\n",
       " (u'FoodStamps', u'EducAttain')]"
      ]
     },
     "execution_count": 61,
     "metadata": {},
     "output_type": "execute_result"
    }
   ],
   "source": [
    "best_model_all.edges()"
   ]
  },
  {
   "cell_type": "code",
   "execution_count": 48,
   "metadata": {
    "collapsed": false
   },
   "outputs": [],
   "source": [
    "best_model_all.fit(train_all, estimator=BayesianEstimator, prior_type='BDeu', equivalent_sample_size=10)\n",
    "\n",
    "test_all = test_all.astype(int)\n",
    "test_all.reset_index(inplace=True, drop=True)"
   ]
  },
  {
   "cell_type": "code",
   "execution_count": 50,
   "metadata": {
    "collapsed": false
   },
   "outputs": [],
   "source": [
    "y_pred = best_model_all.predict(test_all.loc[:,[u'HEAP', u'HousingStatus', u'WorkersEquiv', u'SchoolLunch', u'MOOP',\n",
    "       u'EducAttain', u'FoodStamps', u'Housing']])"
   ]
  },
  {
   "cell_type": "code",
   "execution_count": 56,
   "metadata": {
    "collapsed": false
   },
   "outputs": [
    {
     "data": {
      "text/plain": [
       "0.7368816719290332"
      ]
     },
     "execution_count": 56,
     "metadata": {},
     "output_type": "execute_result"
    }
   ],
   "source": [
    "((y_pred.Pov_risk == test_all.Pov_risk).sum()*1.0)/len(test_all)"
   ]
  },
  {
   "cell_type": "code",
   "execution_count": null,
   "metadata": {
    "collapsed": true
   },
   "outputs": [],
   "source": []
  },
  {
   "cell_type": "code",
   "execution_count": 57,
   "metadata": {
    "collapsed": true
   },
   "outputs": [],
   "source": [
    "est = BayesianEstimator(best_model_all, train_all)\n",
    "print est.estimate_cpd('Pov_risk', prior_type='BDeu', equivalent_sample_size=10)"
   ]
  },
  {
   "cell_type": "code",
   "execution_count": 59,
   "metadata": {
    "collapsed": false
   },
   "outputs": [
    {
     "name": "stdout",
     "output_type": "stream",
     "text": [
      "+-------------+----------------+-----------------+-----------------+----------------+-----------------+-----------------+-----------------+----------------+\n",
      "| FoodStamps  | FoodStamps(0)  | FoodStamps(0)   | FoodStamps(0)   | FoodStamps(0)  | FoodStamps(1)   | FoodStamps(1)   | FoodStamps(1)   | FoodStamps(1)  |\n",
      "+-------------+----------------+-----------------+-----------------+----------------+-----------------+-----------------+-----------------+----------------+\n",
      "| HEAP        | HEAP(0)        | HEAP(0)         | HEAP(1)         | HEAP(1)        | HEAP(0)         | HEAP(0)         | HEAP(1)         | HEAP(1)        |\n",
      "+-------------+----------------+-----------------+-----------------+----------------+-----------------+-----------------+-----------------+----------------+\n",
      "| MOOP        | MOOP(0)        | MOOP(1)         | MOOP(0)         | MOOP(1)        | MOOP(0)         | MOOP(1)         | MOOP(0)         | MOOP(1)        |\n",
      "+-------------+----------------+-----------------+-----------------+----------------+-----------------+-----------------+-----------------+----------------+\n",
      "| Pov_risk(0) | 0.693133548056 | 0.0753821693485 | 0.795189003436  | 0.158715310259 | 0.530350329518  | 0.0981796478663 | 0.604196471149  | 0.109540950096 |\n",
      "+-------------+----------------+-----------------+-----------------+----------------+-----------------+-----------------+-----------------+----------------+\n",
      "| Pov_risk(1) | 0.137469075293 | 0.168773160607  | 0.168384879725  | 0.319613345806 | 0.442941380506  | 0.424052521635  | 0.353968873282  | 0.406568013154 |\n",
      "+-------------+----------------+-----------------+-----------------+----------------+-----------------+-----------------+-----------------+----------------+\n",
      "| Pov_risk(2) | 0.169397376651 | 0.755844670044  | 0.0364261168385 | 0.521671343935 | 0.0267082899757 | 0.477767830498  | 0.0418346555686 | 0.483891036751 |\n",
      "+-------------+----------------+-----------------+-----------------+----------------+-----------------+-----------------+-----------------+----------------+\n"
     ]
    }
   ],
   "source": []
  },
  {
   "cell_type": "code",
   "execution_count": 60,
   "metadata": {
    "collapsed": false
   },
   "outputs": [
    {
     "name": "stdout",
     "output_type": "stream",
     "text": [
      "+---------------+-----------------+-----------------+\n",
      "| HEAP          | HEAP(0)         | HEAP(1)         |\n",
      "+---------------+-----------------+-----------------+\n",
      "| FoodStamps(0) | 0.9670681458    | 0.0928093645485 |\n",
      "+---------------+-----------------+-----------------+\n",
      "| FoodStamps(1) | 0.0329318541997 | 0.907190635452  |\n",
      "+---------------+-----------------+-----------------+\n"
     ]
    }
   ],
   "source": [
    "print est.estimate_cpd('FoodStamps', prior_type='BDeu', equivalent_sample_size=10)"
   ]
  },
  {
   "cell_type": "code",
   "execution_count": null,
   "metadata": {
    "collapsed": true
   },
   "outputs": [],
   "source": []
  },
  {
   "cell_type": "code",
   "execution_count": null,
   "metadata": {
    "collapsed": true
   },
   "outputs": [],
   "source": []
  },
  {
   "cell_type": "code",
   "execution_count": null,
   "metadata": {
    "collapsed": true
   },
   "outputs": [],
   "source": []
  },
  {
   "cell_type": "code",
   "execution_count": null,
   "metadata": {
    "collapsed": true
   },
   "outputs": [],
   "source": []
  },
  {
   "cell_type": "code",
   "execution_count": null,
   "metadata": {
    "collapsed": true
   },
   "outputs": [],
   "source": []
  },
  {
   "cell_type": "code",
   "execution_count": null,
   "metadata": {
    "collapsed": true
   },
   "outputs": [],
   "source": []
  },
  {
   "cell_type": "code",
   "execution_count": null,
   "metadata": {
    "collapsed": true
   },
   "outputs": [],
   "source": []
  },
  {
   "cell_type": "code",
   "execution_count": null,
   "metadata": {
    "collapsed": true
   },
   "outputs": [],
   "source": [
    "[(u'WorkersEquiv', u'Pov_risk' ),\n",
    " ( u'FoodStamps', u'Pov_risk'),\n",
    " ( u'SchoolLunch', u'Pov_risk'),\n",
    " ( u'EducAttain', u'Pov_risk'),\n",
    " ( u'MOOP', u'Pov_risk'),\n",
    " (u'HousingStatus', u'WorkersEquiv'),\n",
    " (u'HousingStatus', u'FoodStamps'),\n",
    " (u'HousingStatus', u'Pov_risk'),\n",
    " (u'HousingStatus', u'HEAP'),\n",
    " (u'WorkersEquiv', u'SchoolLunch'),\n",
    " (u'WorkersEquiv', u'EducAttain'),\n",
    " (u'Housing', u'Pov_risk'),\n",
    " (u'Housing', u'HousingStatus'),\n",
    " (u'Housing', u'MOOP'),\n",
    " (u'Housing', u'SchoolLunch'),\n",
    " (u'Housing', u'FoodStamps'),\n",
    " (u'Housing', u'EducAttain'),\n",
    " (u'HEAP', u'SchoolLunch'),\n",
    " (u'year', u'MOOP'),\n",
    " (u'year', u'HEAP'),\n",
    " (u'year',u'EducAttain')]"
   ]
  },
  {
   "cell_type": "code",
   "execution_count": null,
   "metadata": {
    "collapsed": true
   },
   "outputs": [],
   "source": []
  },
  {
   "cell_type": "code",
   "execution_count": null,
   "metadata": {
    "collapsed": true
   },
   "outputs": [],
   "source": []
  },
  {
   "cell_type": "code",
   "execution_count": null,
   "metadata": {
    "collapsed": true
   },
   "outputs": [],
   "source": []
  }
 ],
 "metadata": {
  "kernelspec": {
   "display_name": "kJVEvys217",
   "language": "python",
   "name": "kjvevys217"
  },
  "language_info": {
   "codemirror_mode": {
    "name": "ipython",
    "version": 2
   },
   "file_extension": ".py",
   "mimetype": "text/x-python",
   "name": "python",
   "nbconvert_exporter": "python",
   "pygments_lexer": "ipython2",
   "version": "2.7.13"
  }
 },
 "nbformat": 4,
 "nbformat_minor": 0
}
