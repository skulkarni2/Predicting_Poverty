{
 "cells": [
  {
   "cell_type": "code",
   "execution_count": 1,
   "metadata": {
    "collapsed": false
   },
   "outputs": [],
   "source": [
    "import numpy\n",
    "import pandas as pd\n",
    "import numpy as np\n",
    "from pgmpy.estimators import BdeuScore, K2Score, BicScore\n",
    "from pgmpy.models import BayesianModel\n",
    "from pgmpy.estimators import HillClimbSearch\n",
    "from pgmpy.estimators import BayesianEstimator\n",
    "import networkx as nx\n",
    "import pandas as pd\n",
    "import matplotlib.pyplot as plt\n",
    "from sklearn.model_selection import train_test_split\n",
    "%matplotlib inline"
   ]
  },
  {
   "cell_type": "code",
   "execution_count": 2,
   "metadata": {
    "collapsed": true
   },
   "outputs": [],
   "source": [
    "puma_05 = pd.read_csv(\"../Data/Cleaned/puma_05.csv\")"
   ]
  },
  {
   "cell_type": "code",
   "execution_count": 3,
   "metadata": {
    "collapsed": false
   },
   "outputs": [],
   "source": [
    "puma_05.drop(['Unnamed: 0'], axis=1, inplace=True)"
   ]
  },
  {
   "cell_type": "code",
   "execution_count": 4,
   "metadata": {
    "collapsed": false
   },
   "outputs": [
    {
     "data": {
      "text/plain": [
       "Index([u'SERIALNO', u'Official_Poverty', u'CEO_Income', u'FICAtax',\n",
       "       u'PovunitType', u'EducAttain_2', u'WorkExpIndiv', u'Povunit',\n",
       "       u'IncomeTax', u'ACR', u'SchoolBreakfast', u'HEAP', u'CitizenStatus',\n",
       "       u'Official_Threshold', u'AgeCateg_2', u'AgeCateg_3', u'EducAttain_4',\n",
       "       u'CEO_Poverty', u'PUMA', u'WIC', u'EducAttain_ ', u'HousingStatus',\n",
       "       u'WorkersEquiv', u'SchoolLunch', u'CEO_Threshold', u'AgeCateg_1',\n",
       "       u'Boro', u'MOOP', u'MV', u'Childcare', u'EducAttain_3', u'PreTaxIncome',\n",
       "       u'NP', u'EducAttain_1', u'FoodStamps', u'JWTR', u'Commuting',\n",
       "       u'Housing', u'Ethnicity'],\n",
       "      dtype='object')"
      ]
     },
     "execution_count": 4,
     "metadata": {},
     "output_type": "execute_result"
    }
   ],
   "source": [
    "puma_05.columns"
   ]
  },
  {
   "cell_type": "code",
   "execution_count": 43,
   "metadata": {
    "collapsed": false
   },
   "outputs": [],
   "source": [
    "thresholds = pd.Series(puma_05.CEO_Threshold.unique())"
   ]
  },
  {
   "cell_type": "code",
   "execution_count": 44,
   "metadata": {
    "collapsed": false
   },
   "outputs": [
    {
     "data": {
      "text/plain": [
       "<matplotlib.collections.LineCollection at 0x7f3f75ef9d50>"
      ]
     },
     "execution_count": 44,
     "metadata": {},
     "output_type": "execute_result"
    },
    {
     "data": {
      "image/png": "[encoded data removed]",
      "text/plain": [
       "<matplotlib.figure.Figure at 0x7f3f729c3250>"
      ]
     },
     "metadata": {},
     "output_type": "display_data"
    }
   ],
   "source": [
    "thresholds.hist(bins=35)\n",
    "plt.vlines(x=thresholds.median(), ymin=0, ymax=18, color = 'red')\n",
    "plt.vlines(x=thresholds.mean(), ymin=0, ymax=18, color = 'yellow')"
   ]
  },
  {
   "cell_type": "code",
   "execution_count": 110,
   "metadata": {
    "collapsed": false
   },
   "outputs": [
    {
     "data": {
      "text/html": [
       "<div>\n",
       "<table border=\"1\" class=\"dataframe\">\n",
       "  <thead>\n",
       "    <tr style=\"text-align: right;\">\n",
       "      <th></th>\n",
       "      <th>SERIALNO</th>\n",
       "      <th>PUMA</th>\n",
       "      <th>Official_Poverty</th>\n",
       "      <th>AgeCateg</th>\n",
       "      <th>CitizenStatus</th>\n",
       "      <th>CEO_Poverty</th>\n",
       "      <th>Official_Threshold</th>\n",
       "      <th>MOOP</th>\n",
       "      <th>Nabe</th>\n",
       "      <th>EducAttain</th>\n",
       "      <th>...</th>\n",
       "      <th>CD</th>\n",
       "      <th>CEO_Income</th>\n",
       "      <th>Housing</th>\n",
       "      <th>CEO_Threshold</th>\n",
       "      <th>IncomeTax</th>\n",
       "      <th>HousingStatus</th>\n",
       "      <th>WIC</th>\n",
       "      <th>Childcare</th>\n",
       "      <th>Povunit</th>\n",
       "      <th>WorkersEquiv</th>\n",
       "    </tr>\n",
       "  </thead>\n",
       "  <tbody>\n",
       "    <tr>\n",
       "      <th>7359</th>\n",
       "      <td>370930</td>\n",
       "      <td>3706</td>\n",
       "      <td>2</td>\n",
       "      <td>2</td>\n",
       "      <td>1</td>\n",
       "      <td>2</td>\n",
       "      <td>37757</td>\n",
       "      <td>0.0</td>\n",
       "      <td>6</td>\n",
       "      <td>1</td>\n",
       "      <td>...</td>\n",
       "      <td>5</td>\n",
       "      <td>146578.838247</td>\n",
       "      <td>5201.448444</td>\n",
       "      <td>72117.007717</td>\n",
       "      <td>-9017.567239</td>\n",
       "      <td>4</td>\n",
       "      <td>0.0</td>\n",
       "      <td>0.0</td>\n",
       "      <td>1</td>\n",
       "      <td>1</td>\n",
       "    </tr>\n",
       "  </tbody>\n",
       "</table>\n",
       "<p>1 rows × 32 columns</p>\n",
       "</div>"
      ],
      "text/plain": [
       "      SERIALNO  PUMA  Official_Poverty  AgeCateg  CitizenStatus  CEO_Poverty  \\\n",
       "7359    370930  3706                 2         2              1            2   \n",
       "\n",
       "      Official_Threshold  MOOP  Nabe  EducAttain      ...       CD  \\\n",
       "7359               37757   0.0     6           1      ...        5   \n",
       "\n",
       "         CEO_Income      Housing  CEO_Threshold    IncomeTax  HousingStatus  \\\n",
       "7359  146578.838247  5201.448444   72117.007717 -9017.567239              4   \n",
       "\n",
       "      WIC  Childcare  Povunit  WorkersEquiv  \n",
       "7359  0.0        0.0        1             1  \n",
       "\n",
       "[1 rows x 32 columns]"
      ]
     },
     "execution_count": 110,
     "metadata": {},
     "output_type": "execute_result"
    }
   ],
   "source": [
    "puma_05[puma_05.CEO_Threshold == puma_05.CEO_Threshold.max()]"
   ]
  },
  {
   "cell_type": "code",
   "execution_count": null,
   "metadata": {
    "collapsed": true
   },
   "outputs": [],
   "source": []
  },
  {
   "cell_type": "code",
   "execution_count": null,
   "metadata": {
    "collapsed": true
   },
   "outputs": [],
   "source": []
  },
  {
   "cell_type": "code",
   "execution_count": null,
   "metadata": {
    "collapsed": true
   },
   "outputs": [],
   "source": []
  },
  {
   "cell_type": "code",
   "execution_count": null,
   "metadata": {
    "collapsed": true
   },
   "outputs": [],
   "source": []
  },
  {
   "cell_type": "code",
   "execution_count": 45,
   "metadata": {
    "collapsed": false
   },
   "outputs": [
    {
     "data": {
      "text/plain": [
       "count      131.000000\n",
       "mean     26200.793166\n",
       "std      10917.609603\n",
       "min      11369.675603\n",
       "25%      19059.902619\n",
       "50%      23272.281307\n",
       "75%      31344.462632\n",
       "max      72117.007717\n",
       "dtype: float64"
      ]
     },
     "execution_count": 45,
     "metadata": {},
     "output_type": "execute_result"
    }
   ],
   "source": [
    "thresholds.describe()"
   ]
  },
  {
   "cell_type": "code",
   "execution_count": 46,
   "metadata": {
    "collapsed": false
   },
   "outputs": [
    {
     "data": {
      "text/plain": [
       "58369.204870079979"
      ]
     },
     "execution_count": 46,
     "metadata": {},
     "output_type": "execute_result"
    }
   ],
   "source": [
    "thresholds.quantile(0.99)"
   ]
  },
  {
   "cell_type": "code",
   "execution_count": 47,
   "metadata": {
    "collapsed": false
   },
   "outputs": [],
   "source": [
    "thresholds_of = pd.Series(puma_05.Official_Threshold.unique())"
   ]
  },
  {
   "cell_type": "code",
   "execution_count": 48,
   "metadata": {
    "collapsed": false
   },
   "outputs": [
    {
     "data": {
      "text/plain": [
       "<matplotlib.axes._subplots.AxesSubplot at 0x7f3f72ccd250>"
      ]
     },
     "execution_count": 48,
     "metadata": {},
     "output_type": "execute_result"
    },
    {
     "data": {
      "image/png": "[encoded data removed]",
      "text/plain": [
       "<matplotlib.figure.Figure at 0x7f3f76edfd90>"
      ]
     },
     "metadata": {},
     "output_type": "display_data"
    }
   ],
   "source": [
    "thresholds_of.hist(bins=30)"
   ]
  },
  {
   "cell_type": "code",
   "execution_count": 49,
   "metadata": {
    "collapsed": true
   },
   "outputs": [],
   "source": [
    "puma_14 = pd.read_csv(\"../Data/Cleaned/puma_14.csv\")"
   ]
  },
  {
   "cell_type": "code",
   "execution_count": 50,
   "metadata": {
    "collapsed": false
   },
   "outputs": [],
   "source": [
    "puma_14.drop(['Unnamed: 0'], axis=1, inplace=True)"
   ]
  },
  {
   "cell_type": "code",
   "execution_count": 51,
   "metadata": {
    "collapsed": true
   },
   "outputs": [],
   "source": [
    "thresholds_14 = pd.Series(puma_14.CEO_Threshold.unique())"
   ]
  },
  {
   "cell_type": "code",
   "execution_count": 52,
   "metadata": {
    "collapsed": false
   },
   "outputs": [
    {
     "data": {
      "text/plain": [
       "<matplotlib.collections.LineCollection at 0x7f3f726b70d0>"
      ]
     },
     "execution_count": 52,
     "metadata": {},
     "output_type": "execute_result"
    },
    {
     "data": {
      "image/png": "[encoded data removed]",
      "text/plain": [
       "<matplotlib.figure.Figure at 0x7f3f726f4e50>"
      ]
     },
     "metadata": {},
     "output_type": "display_data"
    }
   ],
   "source": [
    "thresholds_14.hist(bins=35, figsize=(10,5))\n",
    "plt.vlines(x=thresholds_14.median(), ymin=0, ymax=18, color = 'red')\n",
    "plt.vlines(x=thresholds_14.mean(), ymin=0, ymax=18, color = 'yellow')"
   ]
  },
  {
   "cell_type": "code",
   "execution_count": 53,
   "metadata": {
    "collapsed": true
   },
   "outputs": [],
   "source": [
    "thresholds_14_of = pd.Series(puma_14.Official_Threshold.unique())"
   ]
  },
  {
   "cell_type": "code",
   "execution_count": 54,
   "metadata": {
    "collapsed": false
   },
   "outputs": [
    {
     "data": {
      "text/plain": [
       "<matplotlib.axes._subplots.AxesSubplot at 0x7f3f7253a150>"
      ]
     },
     "execution_count": 54,
     "metadata": {},
     "output_type": "execute_result"
    },
    {
     "data": {
      "image/png": "[encoded data removed]",
      "text/plain": [
       "<matplotlib.figure.Figure at 0x7f3f76f85ed0>"
      ]
     },
     "metadata": {},
     "output_type": "display_data"
    }
   ],
   "source": [
    "thresholds_14_of.hist(bins=35)"
   ]
  },
  {
   "cell_type": "code",
   "execution_count": 55,
   "metadata": {
    "collapsed": true
   },
   "outputs": [],
   "source": [
    "puma_10 = pd.read_csv(\"../Data/Cleaned/puma_10.csv\")"
   ]
  },
  {
   "cell_type": "code",
   "execution_count": 56,
   "metadata": {
    "collapsed": true
   },
   "outputs": [],
   "source": [
    "puma_10.drop(['Unnamed: 0'], axis=1, inplace=True)"
   ]
  },
  {
   "cell_type": "code",
   "execution_count": 57,
   "metadata": {
    "collapsed": true
   },
   "outputs": [],
   "source": [
    "thresholds_10 = pd.Series(puma_10.CEO_Threshold.unique())"
   ]
  },
  {
   "cell_type": "code",
   "execution_count": 58,
   "metadata": {
    "collapsed": false
   },
   "outputs": [
    {
     "data": {
      "text/plain": [
       "<matplotlib.collections.LineCollection at 0x7f3f72378b10>"
      ]
     },
     "execution_count": 58,
     "metadata": {},
     "output_type": "execute_result"
    },
    {
     "data": {
      "image/png": "[encoded data removed]",
      "text/plain": [
       "<matplotlib.figure.Figure at 0x7f3f728321d0>"
      ]
     },
     "metadata": {},
     "output_type": "display_data"
    }
   ],
   "source": [
    "thresholds_10.hist(bins=35, figsize=(10,5))\n",
    "plt.vlines(x=thresholds_10.median(), ymin=0, ymax=12, color = 'red')\n",
    "plt.vlines(x=thresholds_10.mean(), ymin=0, ymax=12, color = 'yellow')"
   ]
  },
  {
   "cell_type": "code",
   "execution_count": 78,
   "metadata": {
    "collapsed": false
   },
   "outputs": [],
   "source": [
    "puma_threshold0 = puma_05.groupby('PUMA').agg({'CEO_Threshold':'mean'}).reset_index()\n",
    "puma_threshold0.columns = ['PUMA', 'Threshold0']"
   ]
  },
  {
   "cell_type": "code",
   "execution_count": 79,
   "metadata": {
    "collapsed": false
   },
   "outputs": [],
   "source": [
    "df = pd.merge(puma_05, puma_threshold0, on='PUMA', how='inner')"
   ]
  },
  {
   "cell_type": "code",
   "execution_count": 80,
   "metadata": {
    "collapsed": true
   },
   "outputs": [],
   "source": [
    "df['Threshold1'] = 1.5 * df.Threshold0 "
   ]
  },
  {
   "cell_type": "code",
   "execution_count": 93,
   "metadata": {
    "collapsed": false,
    "scrolled": false
   },
   "outputs": [],
   "source": [
    "for i in xrange(len(df)):\n",
    "    if (df.CEO_Income[i] >= df.Threshold0[i]) & (df.CEO_Income[i] <= df.Threshold1[i]):\n",
    "        df.loc[i,'Pov_risk'] = 1\n",
    "    elif (df.CEO_Income[i] < df.Threshold0[i]):\n",
    "        df.loc[i, 'Pov_risk'] = 0\n",
    "    elif (df.CEO_Income[i] > df.Threshold1[i]):\n",
    "        df.loc[i, 'Pov_risk'] = 2"
   ]
  },
  {
   "cell_type": "code",
   "execution_count": 83,
   "metadata": {
    "collapsed": false
   },
   "outputs": [],
   "source": [
    "def create_thresholds(puma):\n",
    "    \n",
    "    threshold0 = puma.groupby('PUMA').agg({'CEO_Threshold':'mean'}).reset_index()\n",
    "    threshold0.columns = ['PUMA', 'CEO_Threshold_mean']\n",
    "    puma = pd.merge(puma, threshold0, on='PUMA', how='inner')\n",
    "    puma['Threshold1'] = 1.5 * puma.Threshold0 \n",
    "    create_label(puma)"
   ]
  },
  {
   "cell_type": "code",
   "execution_count": 86,
   "metadata": {
    "collapsed": true
   },
   "outputs": [],
   "source": [
    "def create_label(puma):\n",
    "    print puma\n",
    "    if (puma.CEO_Income >= df.Threshold0) & (df.CEO_Income <= df.Threshold1):\n",
    "        df['Pov_risk'] = 1\n",
    "    elif (df.CEO_Income < df.Threshold0):\n",
    "        df['Pov_risk'] = 0\n",
    "    elif (df.CEO_Income > df.Threshold1):\n",
    "        df['Pov_risk'] = 2"
   ]
  },
  {
   "cell_type": "code",
   "execution_count": null,
   "metadata": {
    "collapsed": true
   },
   "outputs": [],
   "source": []
  },
  {
   "cell_type": "markdown",
   "metadata": {},
   "source": [
    "# New check without aggregation"
   ]
  },
  {
   "cell_type": "code",
   "execution_count": 138,
   "metadata": {
    "collapsed": false
   },
   "outputs": [
    {
     "data": {
      "text/plain": [
       "count     24700.000000\n",
       "mean      46680.881789\n",
       "std       48565.104282\n",
       "min      -62079.462714\n",
       "25%       18775.897667\n",
       "50%       33989.774250\n",
       "75%       58077.278595\n",
       "max      631767.710509\n",
       "Name: CEO_Income, dtype: float64"
      ]
     },
     "execution_count": 138,
     "metadata": {},
     "output_type": "execute_result"
    }
   ],
   "source": [
    "puma_05.CEO_Income.describe()"
   ]
  },
  {
   "cell_type": "code",
   "execution_count": 145,
   "metadata": {
    "collapsed": false,
    "scrolled": false
   },
   "outputs": [
    {
     "data": {
      "text/plain": [
       "<matplotlib.axes._subplots.AxesSubplot at 0x7f3f570ff350>"
      ]
     },
     "execution_count": 145,
     "metadata": {},
     "output_type": "execute_result"
    },
    {
     "data": {
      "image/png": "[encoded data removed]",
      "text/plain": [
       "<matplotlib.figure.Figure at 0x7f3f71309cd0>"
      ]
     },
     "metadata": {},
     "output_type": "display_data"
    }
   ],
   "source": [
    "puma_05[puma_05.CEO_Income < 0]['PUMA'].hist()"
   ]
  },
  {
   "cell_type": "code",
   "execution_count": 142,
   "metadata": {
    "collapsed": false
   },
   "outputs": [
    {
     "data": {
      "text/html": [
       "<div>\n",
       "<table border=\"1\" class=\"dataframe\">\n",
       "  <thead>\n",
       "    <tr style=\"text-align: right;\">\n",
       "      <th></th>\n",
       "      <th>SERIALNO</th>\n",
       "      <th>Official_Poverty</th>\n",
       "      <th>CEO_Income</th>\n",
       "      <th>FICAtax</th>\n",
       "      <th>PovunitType</th>\n",
       "      <th>EducAttain_2</th>\n",
       "      <th>WorkExpIndiv</th>\n",
       "      <th>Povunit</th>\n",
       "      <th>IncomeTax</th>\n",
       "      <th>ACR</th>\n",
       "      <th>...</th>\n",
       "      <th>EducAttain_3</th>\n",
       "      <th>PreTaxIncome</th>\n",
       "      <th>NP</th>\n",
       "      <th>EducAttain_1</th>\n",
       "      <th>FoodStamps</th>\n",
       "      <th>JWTR</th>\n",
       "      <th>Commuting</th>\n",
       "      <th>Housing</th>\n",
       "      <th>Ethnicity</th>\n",
       "      <th>Threshold1</th>\n",
       "    </tr>\n",
       "  </thead>\n",
       "  <tbody>\n",
       "    <tr>\n",
       "      <th>20</th>\n",
       "      <td>812</td>\n",
       "      <td>1</td>\n",
       "      <td>-4.0</td>\n",
       "      <td>0.0</td>\n",
       "      <td>8</td>\n",
       "      <td>1</td>\n",
       "      <td>3</td>\n",
       "      <td>1</td>\n",
       "      <td>0.0</td>\n",
       "      <td>0</td>\n",
       "      <td>...</td>\n",
       "      <td>1</td>\n",
       "      <td>0.0</td>\n",
       "      <td>1</td>\n",
       "      <td>1</td>\n",
       "      <td>0.0</td>\n",
       "      <td>0</td>\n",
       "      <td>0.0</td>\n",
       "      <td>0.0</td>\n",
       "      <td>3</td>\n",
       "      <td>17054.513405</td>\n",
       "    </tr>\n",
       "  </tbody>\n",
       "</table>\n",
       "<p>1 rows × 40 columns</p>\n",
       "</div>"
      ],
      "text/plain": [
       "    SERIALNO  Official_Poverty  CEO_Income  FICAtax  PovunitType  \\\n",
       "20       812                 1        -4.0      0.0            8   \n",
       "\n",
       "    EducAttain_2  WorkExpIndiv  Povunit  IncomeTax  ACR      ...       \\\n",
       "20             1             3        1        0.0    0      ...        \n",
       "\n",
       "    EducAttain_3  PreTaxIncome  NP  EducAttain_1  FoodStamps  JWTR  Commuting  \\\n",
       "20             1           0.0   1             1         0.0     0        0.0   \n",
       "\n",
       "    Housing  Ethnicity    Threshold1  \n",
       "20      0.0          3  17054.513405  \n",
       "\n",
       "[1 rows x 40 columns]"
      ]
     },
     "execution_count": 142,
     "metadata": {},
     "output_type": "execute_result"
    }
   ],
   "source": [
    "puma_05[puma_05.SERIALNO == 812]"
   ]
  },
  {
   "cell_type": "code",
   "execution_count": 147,
   "metadata": {
    "collapsed": false
   },
   "outputs": [
    {
     "data": {
      "text/html": [
       "<div>\n",
       "<table border=\"1\" class=\"dataframe\">\n",
       "  <thead>\n",
       "    <tr style=\"text-align: right;\">\n",
       "      <th></th>\n",
       "      <th>SERIALNO</th>\n",
       "      <th>Official_Poverty</th>\n",
       "      <th>CEO_Income</th>\n",
       "      <th>FICAtax</th>\n",
       "      <th>PovunitType</th>\n",
       "      <th>EducAttain_2</th>\n",
       "      <th>WorkExpIndiv</th>\n",
       "      <th>Povunit</th>\n",
       "      <th>IncomeTax</th>\n",
       "      <th>ACR</th>\n",
       "      <th>...</th>\n",
       "      <th>EducAttain_3</th>\n",
       "      <th>PreTaxIncome</th>\n",
       "      <th>NP</th>\n",
       "      <th>EducAttain_1</th>\n",
       "      <th>FoodStamps</th>\n",
       "      <th>JWTR</th>\n",
       "      <th>Commuting</th>\n",
       "      <th>Housing</th>\n",
       "      <th>Ethnicity</th>\n",
       "      <th>Threshold1</th>\n",
       "    </tr>\n",
       "  </thead>\n",
       "  <tbody>\n",
       "    <tr>\n",
       "      <th>344</th>\n",
       "      <td>18471</td>\n",
       "      <td>1</td>\n",
       "      <td>0.0</td>\n",
       "      <td>0.0</td>\n",
       "      <td>8</td>\n",
       "      <td>1</td>\n",
       "      <td>3</td>\n",
       "      <td>1</td>\n",
       "      <td>0.0</td>\n",
       "      <td>0</td>\n",
       "      <td>...</td>\n",
       "      <td>1</td>\n",
       "      <td>0.0</td>\n",
       "      <td>1</td>\n",
       "      <td>1</td>\n",
       "      <td>0.0</td>\n",
       "      <td>0</td>\n",
       "      <td>0.0</td>\n",
       "      <td>0.0</td>\n",
       "      <td>1</td>\n",
       "      <td>17054.513405</td>\n",
       "    </tr>\n",
       "    <tr>\n",
       "      <th>5212</th>\n",
       "      <td>266239</td>\n",
       "      <td>1</td>\n",
       "      <td>0.0</td>\n",
       "      <td>0.0</td>\n",
       "      <td>8</td>\n",
       "      <td>1</td>\n",
       "      <td>3</td>\n",
       "      <td>1</td>\n",
       "      <td>0.0</td>\n",
       "      <td>0</td>\n",
       "      <td>...</td>\n",
       "      <td>1</td>\n",
       "      <td>0.0</td>\n",
       "      <td>1</td>\n",
       "      <td>1</td>\n",
       "      <td>0.0</td>\n",
       "      <td>0</td>\n",
       "      <td>0.0</td>\n",
       "      <td>0.0</td>\n",
       "      <td>3</td>\n",
       "      <td>17054.513405</td>\n",
       "    </tr>\n",
       "    <tr>\n",
       "      <th>5475</th>\n",
       "      <td>280093</td>\n",
       "      <td>1</td>\n",
       "      <td>0.0</td>\n",
       "      <td>0.0</td>\n",
       "      <td>6</td>\n",
       "      <td>2</td>\n",
       "      <td>3</td>\n",
       "      <td>1</td>\n",
       "      <td>0.0</td>\n",
       "      <td>0</td>\n",
       "      <td>...</td>\n",
       "      <td>2</td>\n",
       "      <td>0.0</td>\n",
       "      <td>2</td>\n",
       "      <td>2</td>\n",
       "      <td>0.0</td>\n",
       "      <td>0</td>\n",
       "      <td>0.0</td>\n",
       "      <td>0.0</td>\n",
       "      <td>2</td>\n",
       "      <td>24046.863901</td>\n",
       "    </tr>\n",
       "    <tr>\n",
       "      <th>6279</th>\n",
       "      <td>318905</td>\n",
       "      <td>1</td>\n",
       "      <td>0.0</td>\n",
       "      <td>0.0</td>\n",
       "      <td>8</td>\n",
       "      <td>1</td>\n",
       "      <td>3</td>\n",
       "      <td>1</td>\n",
       "      <td>0.0</td>\n",
       "      <td>0</td>\n",
       "      <td>...</td>\n",
       "      <td>1</td>\n",
       "      <td>0.0</td>\n",
       "      <td>1</td>\n",
       "      <td>1</td>\n",
       "      <td>0.0</td>\n",
       "      <td>0</td>\n",
       "      <td>0.0</td>\n",
       "      <td>0.0</td>\n",
       "      <td>3</td>\n",
       "      <td>17054.513405</td>\n",
       "    </tr>\n",
       "    <tr>\n",
       "      <th>7158</th>\n",
       "      <td>361138</td>\n",
       "      <td>1</td>\n",
       "      <td>0.0</td>\n",
       "      <td>0.0</td>\n",
       "      <td>2</td>\n",
       "      <td>3</td>\n",
       "      <td>3</td>\n",
       "      <td>1</td>\n",
       "      <td>0.0</td>\n",
       "      <td>0</td>\n",
       "      <td>...</td>\n",
       "      <td>3</td>\n",
       "      <td>0.0</td>\n",
       "      <td>3</td>\n",
       "      <td>3</td>\n",
       "      <td>0.0</td>\n",
       "      <td>0</td>\n",
       "      <td>0.0</td>\n",
       "      <td>0.0</td>\n",
       "      <td>3</td>\n",
       "      <td>36797.999658</td>\n",
       "    </tr>\n",
       "    <tr>\n",
       "      <th>9787</th>\n",
       "      <td>492339</td>\n",
       "      <td>1</td>\n",
       "      <td>0.0</td>\n",
       "      <td>0.0</td>\n",
       "      <td>8</td>\n",
       "      <td>1</td>\n",
       "      <td>3</td>\n",
       "      <td>1</td>\n",
       "      <td>0.0</td>\n",
       "      <td>0</td>\n",
       "      <td>...</td>\n",
       "      <td>1</td>\n",
       "      <td>0.0</td>\n",
       "      <td>1</td>\n",
       "      <td>1</td>\n",
       "      <td>0.0</td>\n",
       "      <td>0</td>\n",
       "      <td>0.0</td>\n",
       "      <td>0.0</td>\n",
       "      <td>2</td>\n",
       "      <td>17054.513405</td>\n",
       "    </tr>\n",
       "    <tr>\n",
       "      <th>10859</th>\n",
       "      <td>547390</td>\n",
       "      <td>1</td>\n",
       "      <td>0.0</td>\n",
       "      <td>0.0</td>\n",
       "      <td>8</td>\n",
       "      <td>1</td>\n",
       "      <td>3</td>\n",
       "      <td>1</td>\n",
       "      <td>0.0</td>\n",
       "      <td>0</td>\n",
       "      <td>...</td>\n",
       "      <td>1</td>\n",
       "      <td>0.0</td>\n",
       "      <td>1</td>\n",
       "      <td>1</td>\n",
       "      <td>0.0</td>\n",
       "      <td>0</td>\n",
       "      <td>0.0</td>\n",
       "      <td>0.0</td>\n",
       "      <td>3</td>\n",
       "      <td>17054.513405</td>\n",
       "    </tr>\n",
       "    <tr>\n",
       "      <th>11009</th>\n",
       "      <td>554688</td>\n",
       "      <td>1</td>\n",
       "      <td>0.0</td>\n",
       "      <td>0.0</td>\n",
       "      <td>8</td>\n",
       "      <td>1</td>\n",
       "      <td>3</td>\n",
       "      <td>1</td>\n",
       "      <td>0.0</td>\n",
       "      <td>0</td>\n",
       "      <td>...</td>\n",
       "      <td>1</td>\n",
       "      <td>0.0</td>\n",
       "      <td>1</td>\n",
       "      <td>1</td>\n",
       "      <td>0.0</td>\n",
       "      <td>0</td>\n",
       "      <td>0.0</td>\n",
       "      <td>0.0</td>\n",
       "      <td>1</td>\n",
       "      <td>17054.513405</td>\n",
       "    </tr>\n",
       "    <tr>\n",
       "      <th>12619</th>\n",
       "      <td>639119</td>\n",
       "      <td>1</td>\n",
       "      <td>0.0</td>\n",
       "      <td>0.0</td>\n",
       "      <td>7</td>\n",
       "      <td>2</td>\n",
       "      <td>3</td>\n",
       "      <td>2</td>\n",
       "      <td>0.0</td>\n",
       "      <td>1</td>\n",
       "      <td>...</td>\n",
       "      <td>2</td>\n",
       "      <td>0.0</td>\n",
       "      <td>2</td>\n",
       "      <td>2</td>\n",
       "      <td>0.0</td>\n",
       "      <td>0</td>\n",
       "      <td>0.0</td>\n",
       "      <td>0.0</td>\n",
       "      <td>3</td>\n",
       "      <td>17054.513405</td>\n",
       "    </tr>\n",
       "    <tr>\n",
       "      <th>13770</th>\n",
       "      <td>694311</td>\n",
       "      <td>1</td>\n",
       "      <td>0.0</td>\n",
       "      <td>0.0</td>\n",
       "      <td>8</td>\n",
       "      <td>1</td>\n",
       "      <td>3</td>\n",
       "      <td>1</td>\n",
       "      <td>0.0</td>\n",
       "      <td>0</td>\n",
       "      <td>...</td>\n",
       "      <td>1</td>\n",
       "      <td>0.0</td>\n",
       "      <td>1</td>\n",
       "      <td>1</td>\n",
       "      <td>0.0</td>\n",
       "      <td>0</td>\n",
       "      <td>0.0</td>\n",
       "      <td>0.0</td>\n",
       "      <td>1</td>\n",
       "      <td>17054.513405</td>\n",
       "    </tr>\n",
       "    <tr>\n",
       "      <th>15763</th>\n",
       "      <td>795445</td>\n",
       "      <td>1</td>\n",
       "      <td>0.0</td>\n",
       "      <td>0.0</td>\n",
       "      <td>8</td>\n",
       "      <td>1</td>\n",
       "      <td>3</td>\n",
       "      <td>1</td>\n",
       "      <td>0.0</td>\n",
       "      <td>0</td>\n",
       "      <td>...</td>\n",
       "      <td>1</td>\n",
       "      <td>0.0</td>\n",
       "      <td>1</td>\n",
       "      <td>1</td>\n",
       "      <td>0.0</td>\n",
       "      <td>0</td>\n",
       "      <td>0.0</td>\n",
       "      <td>0.0</td>\n",
       "      <td>5</td>\n",
       "      <td>17054.513405</td>\n",
       "    </tr>\n",
       "    <tr>\n",
       "      <th>16105</th>\n",
       "      <td>813135</td>\n",
       "      <td>1</td>\n",
       "      <td>0.0</td>\n",
       "      <td>0.0</td>\n",
       "      <td>8</td>\n",
       "      <td>1</td>\n",
       "      <td>3</td>\n",
       "      <td>1</td>\n",
       "      <td>0.0</td>\n",
       "      <td>0</td>\n",
       "      <td>...</td>\n",
       "      <td>1</td>\n",
       "      <td>0.0</td>\n",
       "      <td>1</td>\n",
       "      <td>1</td>\n",
       "      <td>0.0</td>\n",
       "      <td>0</td>\n",
       "      <td>0.0</td>\n",
       "      <td>0.0</td>\n",
       "      <td>2</td>\n",
       "      <td>17054.513405</td>\n",
       "    </tr>\n",
       "    <tr>\n",
       "      <th>16268</th>\n",
       "      <td>822195</td>\n",
       "      <td>1</td>\n",
       "      <td>0.0</td>\n",
       "      <td>0.0</td>\n",
       "      <td>8</td>\n",
       "      <td>1</td>\n",
       "      <td>3</td>\n",
       "      <td>1</td>\n",
       "      <td>0.0</td>\n",
       "      <td>0</td>\n",
       "      <td>...</td>\n",
       "      <td>1</td>\n",
       "      <td>0.0</td>\n",
       "      <td>1</td>\n",
       "      <td>1</td>\n",
       "      <td>0.0</td>\n",
       "      <td>0</td>\n",
       "      <td>0.0</td>\n",
       "      <td>0.0</td>\n",
       "      <td>1</td>\n",
       "      <td>17054.513405</td>\n",
       "    </tr>\n",
       "    <tr>\n",
       "      <th>16307</th>\n",
       "      <td>824166</td>\n",
       "      <td>1</td>\n",
       "      <td>0.0</td>\n",
       "      <td>0.0</td>\n",
       "      <td>8</td>\n",
       "      <td>1</td>\n",
       "      <td>3</td>\n",
       "      <td>1</td>\n",
       "      <td>0.0</td>\n",
       "      <td>1</td>\n",
       "      <td>...</td>\n",
       "      <td>1</td>\n",
       "      <td>0.0</td>\n",
       "      <td>1</td>\n",
       "      <td>1</td>\n",
       "      <td>0.0</td>\n",
       "      <td>0</td>\n",
       "      <td>0.0</td>\n",
       "      <td>0.0</td>\n",
       "      <td>4</td>\n",
       "      <td>17054.513405</td>\n",
       "    </tr>\n",
       "    <tr>\n",
       "      <th>17750</th>\n",
       "      <td>897433</td>\n",
       "      <td>1</td>\n",
       "      <td>0.0</td>\n",
       "      <td>0.0</td>\n",
       "      <td>4</td>\n",
       "      <td>3</td>\n",
       "      <td>3</td>\n",
       "      <td>1</td>\n",
       "      <td>0.0</td>\n",
       "      <td>0</td>\n",
       "      <td>...</td>\n",
       "      <td>3</td>\n",
       "      <td>0.0</td>\n",
       "      <td>3</td>\n",
       "      <td>3</td>\n",
       "      <td>0.0</td>\n",
       "      <td>0</td>\n",
       "      <td>0.0</td>\n",
       "      <td>0.0</td>\n",
       "      <td>3</td>\n",
       "      <td>30552.645285</td>\n",
       "    </tr>\n",
       "    <tr>\n",
       "      <th>17760</th>\n",
       "      <td>897836</td>\n",
       "      <td>1</td>\n",
       "      <td>0.0</td>\n",
       "      <td>0.0</td>\n",
       "      <td>8</td>\n",
       "      <td>1</td>\n",
       "      <td>3</td>\n",
       "      <td>1</td>\n",
       "      <td>0.0</td>\n",
       "      <td>0</td>\n",
       "      <td>...</td>\n",
       "      <td>1</td>\n",
       "      <td>0.0</td>\n",
       "      <td>1</td>\n",
       "      <td>1</td>\n",
       "      <td>0.0</td>\n",
       "      <td>0</td>\n",
       "      <td>0.0</td>\n",
       "      <td>0.0</td>\n",
       "      <td>1</td>\n",
       "      <td>17054.513405</td>\n",
       "    </tr>\n",
       "    <tr>\n",
       "      <th>18615</th>\n",
       "      <td>941398</td>\n",
       "      <td>1</td>\n",
       "      <td>0.0</td>\n",
       "      <td>0.0</td>\n",
       "      <td>8</td>\n",
       "      <td>1</td>\n",
       "      <td>3</td>\n",
       "      <td>1</td>\n",
       "      <td>0.0</td>\n",
       "      <td>0</td>\n",
       "      <td>...</td>\n",
       "      <td>1</td>\n",
       "      <td>0.0</td>\n",
       "      <td>1</td>\n",
       "      <td>1</td>\n",
       "      <td>0.0</td>\n",
       "      <td>0</td>\n",
       "      <td>0.0</td>\n",
       "      <td>0.0</td>\n",
       "      <td>1</td>\n",
       "      <td>17054.513405</td>\n",
       "    </tr>\n",
       "    <tr>\n",
       "      <th>18907</th>\n",
       "      <td>955952</td>\n",
       "      <td>1</td>\n",
       "      <td>0.0</td>\n",
       "      <td>0.0</td>\n",
       "      <td>8</td>\n",
       "      <td>1</td>\n",
       "      <td>3</td>\n",
       "      <td>1</td>\n",
       "      <td>0.0</td>\n",
       "      <td>0</td>\n",
       "      <td>...</td>\n",
       "      <td>1</td>\n",
       "      <td>0.0</td>\n",
       "      <td>1</td>\n",
       "      <td>1</td>\n",
       "      <td>0.0</td>\n",
       "      <td>0</td>\n",
       "      <td>0.0</td>\n",
       "      <td>0.0</td>\n",
       "      <td>3</td>\n",
       "      <td>17054.513405</td>\n",
       "    </tr>\n",
       "    <tr>\n",
       "      <th>19010</th>\n",
       "      <td>961357</td>\n",
       "      <td>1</td>\n",
       "      <td>0.0</td>\n",
       "      <td>0.0</td>\n",
       "      <td>8</td>\n",
       "      <td>1</td>\n",
       "      <td>3</td>\n",
       "      <td>1</td>\n",
       "      <td>0.0</td>\n",
       "      <td>0</td>\n",
       "      <td>...</td>\n",
       "      <td>1</td>\n",
       "      <td>0.0</td>\n",
       "      <td>1</td>\n",
       "      <td>1</td>\n",
       "      <td>0.0</td>\n",
       "      <td>0</td>\n",
       "      <td>0.0</td>\n",
       "      <td>0.0</td>\n",
       "      <td>3</td>\n",
       "      <td>17054.513405</td>\n",
       "    </tr>\n",
       "    <tr>\n",
       "      <th>19183</th>\n",
       "      <td>970875</td>\n",
       "      <td>1</td>\n",
       "      <td>0.0</td>\n",
       "      <td>0.0</td>\n",
       "      <td>8</td>\n",
       "      <td>1</td>\n",
       "      <td>3</td>\n",
       "      <td>1</td>\n",
       "      <td>0.0</td>\n",
       "      <td>0</td>\n",
       "      <td>...</td>\n",
       "      <td>1</td>\n",
       "      <td>0.0</td>\n",
       "      <td>1</td>\n",
       "      <td>1</td>\n",
       "      <td>0.0</td>\n",
       "      <td>0</td>\n",
       "      <td>0.0</td>\n",
       "      <td>0.0</td>\n",
       "      <td>1</td>\n",
       "      <td>17054.513405</td>\n",
       "    </tr>\n",
       "    <tr>\n",
       "      <th>19261</th>\n",
       "      <td>975625</td>\n",
       "      <td>1</td>\n",
       "      <td>0.0</td>\n",
       "      <td>0.0</td>\n",
       "      <td>8</td>\n",
       "      <td>1</td>\n",
       "      <td>3</td>\n",
       "      <td>1</td>\n",
       "      <td>0.0</td>\n",
       "      <td>0</td>\n",
       "      <td>...</td>\n",
       "      <td>1</td>\n",
       "      <td>0.0</td>\n",
       "      <td>1</td>\n",
       "      <td>1</td>\n",
       "      <td>0.0</td>\n",
       "      <td>0</td>\n",
       "      <td>0.0</td>\n",
       "      <td>0.0</td>\n",
       "      <td>4</td>\n",
       "      <td>17054.513405</td>\n",
       "    </tr>\n",
       "    <tr>\n",
       "      <th>20613</th>\n",
       "      <td>1048353</td>\n",
       "      <td>1</td>\n",
       "      <td>0.0</td>\n",
       "      <td>0.0</td>\n",
       "      <td>8</td>\n",
       "      <td>1</td>\n",
       "      <td>3</td>\n",
       "      <td>1</td>\n",
       "      <td>0.0</td>\n",
       "      <td>0</td>\n",
       "      <td>...</td>\n",
       "      <td>1</td>\n",
       "      <td>0.0</td>\n",
       "      <td>1</td>\n",
       "      <td>1</td>\n",
       "      <td>0.0</td>\n",
       "      <td>0</td>\n",
       "      <td>0.0</td>\n",
       "      <td>0.0</td>\n",
       "      <td>4</td>\n",
       "      <td>17054.513405</td>\n",
       "    </tr>\n",
       "    <tr>\n",
       "      <th>22890</th>\n",
       "      <td>1163868</td>\n",
       "      <td>1</td>\n",
       "      <td>0.0</td>\n",
       "      <td>0.0</td>\n",
       "      <td>8</td>\n",
       "      <td>1</td>\n",
       "      <td>3</td>\n",
       "      <td>1</td>\n",
       "      <td>0.0</td>\n",
       "      <td>0</td>\n",
       "      <td>...</td>\n",
       "      <td>1</td>\n",
       "      <td>0.0</td>\n",
       "      <td>1</td>\n",
       "      <td>1</td>\n",
       "      <td>0.0</td>\n",
       "      <td>0</td>\n",
       "      <td>0.0</td>\n",
       "      <td>0.0</td>\n",
       "      <td>1</td>\n",
       "      <td>17054.513405</td>\n",
       "    </tr>\n",
       "  </tbody>\n",
       "</table>\n",
       "<p>23 rows × 40 columns</p>\n",
       "</div>"
      ],
      "text/plain": [
       "       SERIALNO  Official_Poverty  CEO_Income  FICAtax  PovunitType  \\\n",
       "344       18471                 1         0.0      0.0            8   \n",
       "5212     266239                 1         0.0      0.0            8   \n",
       "5475     280093                 1         0.0      0.0            6   \n",
       "6279     318905                 1         0.0      0.0            8   \n",
       "7158     361138                 1         0.0      0.0            2   \n",
       "9787     492339                 1         0.0      0.0            8   \n",
       "10859    547390                 1         0.0      0.0            8   \n",
       "11009    554688                 1         0.0      0.0            8   \n",
       "12619    639119                 1         0.0      0.0            7   \n",
       "13770    694311                 1         0.0      0.0            8   \n",
       "15763    795445                 1         0.0      0.0            8   \n",
       "16105    813135                 1         0.0      0.0            8   \n",
       "16268    822195                 1         0.0      0.0            8   \n",
       "16307    824166                 1         0.0      0.0            8   \n",
       "17750    897433                 1         0.0      0.0            4   \n",
       "17760    897836                 1         0.0      0.0            8   \n",
       "18615    941398                 1         0.0      0.0            8   \n",
       "18907    955952                 1         0.0      0.0            8   \n",
       "19010    961357                 1         0.0      0.0            8   \n",
       "19183    970875                 1         0.0      0.0            8   \n",
       "19261    975625                 1         0.0      0.0            8   \n",
       "20613   1048353                 1         0.0      0.0            8   \n",
       "22890   1163868                 1         0.0      0.0            8   \n",
       "\n",
       "       EducAttain_2  WorkExpIndiv  Povunit  IncomeTax  ACR      ...       \\\n",
       "344               1             3        1        0.0    0      ...        \n",
       "5212              1             3        1        0.0    0      ...        \n",
       "5475              2             3        1        0.0    0      ...        \n",
       "6279              1             3        1        0.0    0      ...        \n",
       "7158              3             3        1        0.0    0      ...        \n",
       "9787              1             3        1        0.0    0      ...        \n",
       "10859             1             3        1        0.0    0      ...        \n",
       "11009             1             3        1        0.0    0      ...        \n",
       "12619             2             3        2        0.0    1      ...        \n",
       "13770             1             3        1        0.0    0      ...        \n",
       "15763             1             3        1        0.0    0      ...        \n",
       "16105             1             3        1        0.0    0      ...        \n",
       "16268             1             3        1        0.0    0      ...        \n",
       "16307             1             3        1        0.0    1      ...        \n",
       "17750             3             3        1        0.0    0      ...        \n",
       "17760             1             3        1        0.0    0      ...        \n",
       "18615             1             3        1        0.0    0      ...        \n",
       "18907             1             3        1        0.0    0      ...        \n",
       "19010             1             3        1        0.0    0      ...        \n",
       "19183             1             3        1        0.0    0      ...        \n",
       "19261             1             3        1        0.0    0      ...        \n",
       "20613             1             3        1        0.0    0      ...        \n",
       "22890             1             3        1        0.0    0      ...        \n",
       "\n",
       "       EducAttain_3  PreTaxIncome  NP  EducAttain_1  FoodStamps  JWTR  \\\n",
       "344               1           0.0   1             1         0.0     0   \n",
       "5212              1           0.0   1             1         0.0     0   \n",
       "5475              2           0.0   2             2         0.0     0   \n",
       "6279              1           0.0   1             1         0.0     0   \n",
       "7158              3           0.0   3             3         0.0     0   \n",
       "9787              1           0.0   1             1         0.0     0   \n",
       "10859             1           0.0   1             1         0.0     0   \n",
       "11009             1           0.0   1             1         0.0     0   \n",
       "12619             2           0.0   2             2         0.0     0   \n",
       "13770             1           0.0   1             1         0.0     0   \n",
       "15763             1           0.0   1             1         0.0     0   \n",
       "16105             1           0.0   1             1         0.0     0   \n",
       "16268             1           0.0   1             1         0.0     0   \n",
       "16307             1           0.0   1             1         0.0     0   \n",
       "17750             3           0.0   3             3         0.0     0   \n",
       "17760             1           0.0   1             1         0.0     0   \n",
       "18615             1           0.0   1             1         0.0     0   \n",
       "18907             1           0.0   1             1         0.0     0   \n",
       "19010             1           0.0   1             1         0.0     0   \n",
       "19183             1           0.0   1             1         0.0     0   \n",
       "19261             1           0.0   1             1         0.0     0   \n",
       "20613             1           0.0   1             1         0.0     0   \n",
       "22890             1           0.0   1             1         0.0     0   \n",
       "\n",
       "       Commuting  Housing  Ethnicity    Threshold1  \n",
       "344          0.0      0.0          1  17054.513405  \n",
       "5212         0.0      0.0          3  17054.513405  \n",
       "5475         0.0      0.0          2  24046.863901  \n",
       "6279         0.0      0.0          3  17054.513405  \n",
       "7158         0.0      0.0          3  36797.999658  \n",
       "9787         0.0      0.0          2  17054.513405  \n",
       "10859        0.0      0.0          3  17054.513405  \n",
       "11009        0.0      0.0          1  17054.513405  \n",
       "12619        0.0      0.0          3  17054.513405  \n",
       "13770        0.0      0.0          1  17054.513405  \n",
       "15763        0.0      0.0          5  17054.513405  \n",
       "16105        0.0      0.0          2  17054.513405  \n",
       "16268        0.0      0.0          1  17054.513405  \n",
       "16307        0.0      0.0          4  17054.513405  \n",
       "17750        0.0      0.0          3  30552.645285  \n",
       "17760        0.0      0.0          1  17054.513405  \n",
       "18615        0.0      0.0          1  17054.513405  \n",
       "18907        0.0      0.0          3  17054.513405  \n",
       "19010        0.0      0.0          3  17054.513405  \n",
       "19183        0.0      0.0          1  17054.513405  \n",
       "19261        0.0      0.0          4  17054.513405  \n",
       "20613        0.0      0.0          4  17054.513405  \n",
       "22890        0.0      0.0          1  17054.513405  \n",
       "\n",
       "[23 rows x 40 columns]"
      ]
     },
     "execution_count": 147,
     "metadata": {},
     "output_type": "execute_result"
    }
   ],
   "source": [
    "puma_05[puma_05.CEO_Income == 0]"
   ]
  },
  {
   "cell_type": "code",
   "execution_count": 157,
   "metadata": {
    "collapsed": false
   },
   "outputs": [
    {
     "data": {
      "text/plain": [
       "10170.538186399997"
      ]
     },
     "execution_count": 157,
     "metadata": {},
     "output_type": "execute_result"
    }
   ],
   "source": [
    "puma_05.CEO_Income.quantile(0.1)"
   ]
  },
  {
   "cell_type": "code",
   "execution_count": 5,
   "metadata": {
    "collapsed": false
   },
   "outputs": [],
   "source": [
    "puma_05['Threshold1'] = 1.5 * puma_05.CEO_Threshold "
   ]
  },
  {
   "cell_type": "code",
   "execution_count": 6,
   "metadata": {
    "collapsed": true
   },
   "outputs": [],
   "source": [
    "df = puma_05"
   ]
  },
  {
   "cell_type": "code",
   "execution_count": 7,
   "metadata": {
    "collapsed": true
   },
   "outputs": [],
   "source": [
    "for i in xrange(len(df)):\n",
    "    if (df.CEO_Income[i] >= df.CEO_Threshold[i]) & (df.CEO_Income[i] <= df.Threshold1[i]):\n",
    "        df.loc[i,'Pov_risk'] = 1\n",
    "    elif (df.CEO_Income[i] < df.CEO_Threshold[i]):\n",
    "        df.loc[i, 'Pov_risk'] = 0\n",
    "    elif (df.CEO_Income[i] > df.Threshold1[i]):\n",
    "        df.loc[i, 'Pov_risk'] = 2"
   ]
  },
  {
   "cell_type": "code",
   "execution_count": 8,
   "metadata": {
    "collapsed": false,
    "scrolled": true
   },
   "outputs": [
    {
     "data": {
      "text/html": [
       "<div>\n",
       "<table border=\"1\" class=\"dataframe\">\n",
       "  <thead>\n",
       "    <tr style=\"text-align: right;\">\n",
       "      <th></th>\n",
       "      <th>SERIALNO</th>\n",
       "      <th>Official_Poverty</th>\n",
       "      <th>CEO_Income</th>\n",
       "      <th>FICAtax</th>\n",
       "      <th>PovunitType</th>\n",
       "      <th>EducAttain_2</th>\n",
       "      <th>WorkExpIndiv</th>\n",
       "      <th>Povunit</th>\n",
       "      <th>IncomeTax</th>\n",
       "      <th>ACR</th>\n",
       "      <th>...</th>\n",
       "      <th>PreTaxIncome</th>\n",
       "      <th>NP</th>\n",
       "      <th>EducAttain_1</th>\n",
       "      <th>FoodStamps</th>\n",
       "      <th>JWTR</th>\n",
       "      <th>Commuting</th>\n",
       "      <th>Housing</th>\n",
       "      <th>Ethnicity</th>\n",
       "      <th>Threshold1</th>\n",
       "      <th>Pov_risk</th>\n",
       "    </tr>\n",
       "  </thead>\n",
       "  <tbody>\n",
       "    <tr>\n",
       "      <th>0</th>\n",
       "      <td>36</td>\n",
       "      <td>2</td>\n",
       "      <td>39152.657789</td>\n",
       "      <td>4332.683705</td>\n",
       "      <td>1</td>\n",
       "      <td>3</td>\n",
       "      <td>1</td>\n",
       "      <td>1</td>\n",
       "      <td>7032.332806</td>\n",
       "      <td>1</td>\n",
       "      <td>...</td>\n",
       "      <td>56636.3883</td>\n",
       "      <td>3</td>\n",
       "      <td>3</td>\n",
       "      <td>0.00</td>\n",
       "      <td>1</td>\n",
       "      <td>3171.714</td>\n",
       "      <td>0.000000</td>\n",
       "      <td>1</td>\n",
       "      <td>32388.985032</td>\n",
       "      <td>2.0</td>\n",
       "    </tr>\n",
       "    <tr>\n",
       "      <th>1</th>\n",
       "      <td>158</td>\n",
       "      <td>2</td>\n",
       "      <td>75911.026767</td>\n",
       "      <td>8654.451885</td>\n",
       "      <td>2</td>\n",
       "      <td>2</td>\n",
       "      <td>2</td>\n",
       "      <td>1</td>\n",
       "      <td>26725.011348</td>\n",
       "      <td>0</td>\n",
       "      <td>...</td>\n",
       "      <td>113130.0900</td>\n",
       "      <td>2</td>\n",
       "      <td>2</td>\n",
       "      <td>0.00</td>\n",
       "      <td>4</td>\n",
       "      <td>1823.600</td>\n",
       "      <td>0.000000</td>\n",
       "      <td>3</td>\n",
       "      <td>24046.863901</td>\n",
       "      <td>2.0</td>\n",
       "    </tr>\n",
       "    <tr>\n",
       "      <th>2</th>\n",
       "      <td>194</td>\n",
       "      <td>2</td>\n",
       "      <td>47585.831878</td>\n",
       "      <td>4366.209960</td>\n",
       "      <td>5</td>\n",
       "      <td>2</td>\n",
       "      <td>1</td>\n",
       "      <td>1</td>\n",
       "      <td>10054.308162</td>\n",
       "      <td>1</td>\n",
       "      <td>...</td>\n",
       "      <td>63189.7800</td>\n",
       "      <td>2</td>\n",
       "      <td>2</td>\n",
       "      <td>150.32</td>\n",
       "      <td>1</td>\n",
       "      <td>1383.750</td>\n",
       "      <td>0.000000</td>\n",
       "      <td>3</td>\n",
       "      <td>24046.863901</td>\n",
       "      <td>2.0</td>\n",
       "    </tr>\n",
       "    <tr>\n",
       "      <th>3</th>\n",
       "      <td>197</td>\n",
       "      <td>1</td>\n",
       "      <td>13593.164315</td>\n",
       "      <td>0.000000</td>\n",
       "      <td>4</td>\n",
       "      <td>3</td>\n",
       "      <td>3</td>\n",
       "      <td>1</td>\n",
       "      <td>0.000000</td>\n",
       "      <td>0</td>\n",
       "      <td>...</td>\n",
       "      <td>2242.2180</td>\n",
       "      <td>3</td>\n",
       "      <td>3</td>\n",
       "      <td>3506.00</td>\n",
       "      <td>0</td>\n",
       "      <td>90.240</td>\n",
       "      <td>8110.261315</td>\n",
       "      <td>4</td>\n",
       "      <td>32388.985032</td>\n",
       "      <td>0.0</td>\n",
       "    </tr>\n",
       "    <tr>\n",
       "      <th>4</th>\n",
       "      <td>207</td>\n",
       "      <td>2</td>\n",
       "      <td>114849.535408</td>\n",
       "      <td>15397.205520</td>\n",
       "      <td>3</td>\n",
       "      <td>4</td>\n",
       "      <td>1</td>\n",
       "      <td>1</td>\n",
       "      <td>43874.879072</td>\n",
       "      <td>1</td>\n",
       "      <td>...</td>\n",
       "      <td>181415.8200</td>\n",
       "      <td>4</td>\n",
       "      <td>4</td>\n",
       "      <td>0.00</td>\n",
       "      <td>1</td>\n",
       "      <td>7259.200</td>\n",
       "      <td>0.000000</td>\n",
       "      <td>3</td>\n",
       "      <td>40990.853747</td>\n",
       "      <td>2.0</td>\n",
       "    </tr>\n",
       "  </tbody>\n",
       "</table>\n",
       "<p>5 rows × 41 columns</p>\n",
       "</div>"
      ],
      "text/plain": [
       "   SERIALNO  Official_Poverty     CEO_Income       FICAtax  PovunitType  \\\n",
       "0        36                 2   39152.657789   4332.683705            1   \n",
       "1       158                 2   75911.026767   8654.451885            2   \n",
       "2       194                 2   47585.831878   4366.209960            5   \n",
       "3       197                 1   13593.164315      0.000000            4   \n",
       "4       207                 2  114849.535408  15397.205520            3   \n",
       "\n",
       "   EducAttain_2  WorkExpIndiv  Povunit     IncomeTax  ACR    ...     \\\n",
       "0             3             1        1   7032.332806    1    ...      \n",
       "1             2             2        1  26725.011348    0    ...      \n",
       "2             2             1        1  10054.308162    1    ...      \n",
       "3             3             3        1      0.000000    0    ...      \n",
       "4             4             1        1  43874.879072    1    ...      \n",
       "\n",
       "   PreTaxIncome  NP  EducAttain_1  FoodStamps  JWTR  Commuting      Housing  \\\n",
       "0    56636.3883   3             3        0.00     1   3171.714     0.000000   \n",
       "1   113130.0900   2             2        0.00     4   1823.600     0.000000   \n",
       "2    63189.7800   2             2      150.32     1   1383.750     0.000000   \n",
       "3     2242.2180   3             3     3506.00     0     90.240  8110.261315   \n",
       "4   181415.8200   4             4        0.00     1   7259.200     0.000000   \n",
       "\n",
       "   Ethnicity    Threshold1  Pov_risk  \n",
       "0          1  32388.985032       2.0  \n",
       "1          3  24046.863901       2.0  \n",
       "2          3  24046.863901       2.0  \n",
       "3          4  32388.985032       0.0  \n",
       "4          3  40990.853747       2.0  \n",
       "\n",
       "[5 rows x 41 columns]"
      ]
     },
     "execution_count": 8,
     "metadata": {},
     "output_type": "execute_result"
    }
   ],
   "source": [
    "df.head()"
   ]
  },
  {
   "cell_type": "code",
   "execution_count": 13,
   "metadata": {
    "collapsed": false
   },
   "outputs": [
    {
     "data": {
      "text/plain": [
       "2.0    15414\n",
       "0.0     4783\n",
       "1.0     4503\n",
       "Name: Pov_risk, dtype: int64"
      ]
     },
     "execution_count": 13,
     "metadata": {},
     "output_type": "execute_result"
    }
   ],
   "source": [
    "df.Pov_risk.value_counts()"
   ]
  },
  {
   "cell_type": "code",
   "execution_count": 14,
   "metadata": {
    "collapsed": false
   },
   "outputs": [
    {
     "data": {
      "text/html": [
       "<div>\n",
       "<table border=\"1\" class=\"dataframe\">\n",
       "  <thead>\n",
       "    <tr style=\"text-align: right;\">\n",
       "      <th></th>\n",
       "      <th>CEO_Threshold</th>\n",
       "      <th>CEO_Income</th>\n",
       "      <th>CEO_Poverty</th>\n",
       "      <th>Pov_risk</th>\n",
       "      <th>Threshold1</th>\n",
       "    </tr>\n",
       "  </thead>\n",
       "  <tbody>\n",
       "    <tr>\n",
       "      <th>111</th>\n",
       "      <td>11369.675603</td>\n",
       "      <td>19609.129081</td>\n",
       "      <td>1</td>\n",
       "      <td>2.0</td>\n",
       "      <td>17054.513405</td>\n",
       "    </tr>\n",
       "    <tr>\n",
       "      <th>469</th>\n",
       "      <td>11369.675603</td>\n",
       "      <td>15917.908682</td>\n",
       "      <td>1</td>\n",
       "      <td>1.0</td>\n",
       "      <td>17054.513405</td>\n",
       "    </tr>\n",
       "    <tr>\n",
       "      <th>834</th>\n",
       "      <td>11369.675603</td>\n",
       "      <td>16226.943379</td>\n",
       "      <td>1</td>\n",
       "      <td>1.0</td>\n",
       "      <td>17054.513405</td>\n",
       "    </tr>\n",
       "    <tr>\n",
       "      <th>1199</th>\n",
       "      <td>18118.741543</td>\n",
       "      <td>23785.889888</td>\n",
       "      <td>1</td>\n",
       "      <td>1.0</td>\n",
       "      <td>27178.112315</td>\n",
       "    </tr>\n",
       "    <tr>\n",
       "      <th>1509</th>\n",
       "      <td>17534.077009</td>\n",
       "      <td>23231.781546</td>\n",
       "      <td>1</td>\n",
       "      <td>1.0</td>\n",
       "      <td>26301.115513</td>\n",
       "    </tr>\n",
       "    <tr>\n",
       "      <th>1688</th>\n",
       "      <td>14263.287946</td>\n",
       "      <td>15942.677128</td>\n",
       "      <td>1</td>\n",
       "      <td>1.0</td>\n",
       "      <td>21394.931918</td>\n",
       "    </tr>\n",
       "    <tr>\n",
       "      <th>2027</th>\n",
       "      <td>23272.281307</td>\n",
       "      <td>23298.234386</td>\n",
       "      <td>1</td>\n",
       "      <td>1.0</td>\n",
       "      <td>34908.421961</td>\n",
       "    </tr>\n",
       "    <tr>\n",
       "      <th>2177</th>\n",
       "      <td>15227.825393</td>\n",
       "      <td>20542.579466</td>\n",
       "      <td>1</td>\n",
       "      <td>1.0</td>\n",
       "      <td>22841.738090</td>\n",
       "    </tr>\n",
       "    <tr>\n",
       "      <th>2946</th>\n",
       "      <td>11369.675603</td>\n",
       "      <td>14613.120234</td>\n",
       "      <td>1</td>\n",
       "      <td>1.0</td>\n",
       "      <td>17054.513405</td>\n",
       "    </tr>\n",
       "    <tr>\n",
       "      <th>3146</th>\n",
       "      <td>11369.675603</td>\n",
       "      <td>12844.856225</td>\n",
       "      <td>1</td>\n",
       "      <td>1.0</td>\n",
       "      <td>17054.513405</td>\n",
       "    </tr>\n",
       "    <tr>\n",
       "      <th>3616</th>\n",
       "      <td>11369.675603</td>\n",
       "      <td>28838.060812</td>\n",
       "      <td>1</td>\n",
       "      <td>2.0</td>\n",
       "      <td>17054.513405</td>\n",
       "    </tr>\n",
       "    <tr>\n",
       "      <th>3663</th>\n",
       "      <td>11369.675603</td>\n",
       "      <td>17521.198484</td>\n",
       "      <td>1</td>\n",
       "      <td>2.0</td>\n",
       "      <td>17054.513405</td>\n",
       "    </tr>\n",
       "    <tr>\n",
       "      <th>3764</th>\n",
       "      <td>11369.675603</td>\n",
       "      <td>11929.341416</td>\n",
       "      <td>1</td>\n",
       "      <td>1.0</td>\n",
       "      <td>17054.513405</td>\n",
       "    </tr>\n",
       "    <tr>\n",
       "      <th>4026</th>\n",
       "      <td>11369.675603</td>\n",
       "      <td>17858.768818</td>\n",
       "      <td>1</td>\n",
       "      <td>2.0</td>\n",
       "      <td>17054.513405</td>\n",
       "    </tr>\n",
       "    <tr>\n",
       "      <th>4189</th>\n",
       "      <td>14477.386935</td>\n",
       "      <td>22241.332022</td>\n",
       "      <td>1</td>\n",
       "      <td>2.0</td>\n",
       "      <td>21716.080402</td>\n",
       "    </tr>\n",
       "    <tr>\n",
       "      <th>4190</th>\n",
       "      <td>11369.675603</td>\n",
       "      <td>13675.684186</td>\n",
       "      <td>1</td>\n",
       "      <td>1.0</td>\n",
       "      <td>17054.513405</td>\n",
       "    </tr>\n",
       "    <tr>\n",
       "      <th>4261</th>\n",
       "      <td>12923.531269</td>\n",
       "      <td>17101.709581</td>\n",
       "      <td>1</td>\n",
       "      <td>1.0</td>\n",
       "      <td>19385.296903</td>\n",
       "    </tr>\n",
       "    <tr>\n",
       "      <th>4281</th>\n",
       "      <td>18118.741543</td>\n",
       "      <td>19634.342681</td>\n",
       "      <td>1</td>\n",
       "      <td>1.0</td>\n",
       "      <td>27178.112315</td>\n",
       "    </tr>\n",
       "    <tr>\n",
       "      <th>4859</th>\n",
       "      <td>11369.675603</td>\n",
       "      <td>17960.298133</td>\n",
       "      <td>1</td>\n",
       "      <td>2.0</td>\n",
       "      <td>17054.513405</td>\n",
       "    </tr>\n",
       "    <tr>\n",
       "      <th>4998</th>\n",
       "      <td>14477.386935</td>\n",
       "      <td>21290.415724</td>\n",
       "      <td>1</td>\n",
       "      <td>1.0</td>\n",
       "      <td>21716.080402</td>\n",
       "    </tr>\n",
       "    <tr>\n",
       "      <th>5398</th>\n",
       "      <td>11369.675603</td>\n",
       "      <td>20765.981612</td>\n",
       "      <td>1</td>\n",
       "      <td>2.0</td>\n",
       "      <td>17054.513405</td>\n",
       "    </tr>\n",
       "    <tr>\n",
       "      <th>5440</th>\n",
       "      <td>11369.675603</td>\n",
       "      <td>20627.049221</td>\n",
       "      <td>1</td>\n",
       "      <td>2.0</td>\n",
       "      <td>17054.513405</td>\n",
       "    </tr>\n",
       "    <tr>\n",
       "      <th>5718</th>\n",
       "      <td>11369.675603</td>\n",
       "      <td>12840.472957</td>\n",
       "      <td>1</td>\n",
       "      <td>1.0</td>\n",
       "      <td>17054.513405</td>\n",
       "    </tr>\n",
       "    <tr>\n",
       "      <th>5774</th>\n",
       "      <td>11369.675603</td>\n",
       "      <td>13660.202965</td>\n",
       "      <td>1</td>\n",
       "      <td>1.0</td>\n",
       "      <td>17054.513405</td>\n",
       "    </tr>\n",
       "    <tr>\n",
       "      <th>6369</th>\n",
       "      <td>11369.675603</td>\n",
       "      <td>11558.360187</td>\n",
       "      <td>1</td>\n",
       "      <td>1.0</td>\n",
       "      <td>17054.513405</td>\n",
       "    </tr>\n",
       "    <tr>\n",
       "      <th>6458</th>\n",
       "      <td>11369.675603</td>\n",
       "      <td>22111.839792</td>\n",
       "      <td>1</td>\n",
       "      <td>2.0</td>\n",
       "      <td>17054.513405</td>\n",
       "    </tr>\n",
       "    <tr>\n",
       "      <th>6646</th>\n",
       "      <td>16191.014744</td>\n",
       "      <td>21723.635435</td>\n",
       "      <td>1</td>\n",
       "      <td>1.0</td>\n",
       "      <td>24286.522117</td>\n",
       "    </tr>\n",
       "    <tr>\n",
       "      <th>7374</th>\n",
       "      <td>15227.825393</td>\n",
       "      <td>18621.906618</td>\n",
       "      <td>1</td>\n",
       "      <td>1.0</td>\n",
       "      <td>22841.738090</td>\n",
       "    </tr>\n",
       "    <tr>\n",
       "      <th>7420</th>\n",
       "      <td>18891.003700</td>\n",
       "      <td>19225.497094</td>\n",
       "      <td>1</td>\n",
       "      <td>1.0</td>\n",
       "      <td>28336.505550</td>\n",
       "    </tr>\n",
       "    <tr>\n",
       "      <th>7654</th>\n",
       "      <td>11369.675603</td>\n",
       "      <td>12284.423220</td>\n",
       "      <td>1</td>\n",
       "      <td>1.0</td>\n",
       "      <td>17054.513405</td>\n",
       "    </tr>\n",
       "    <tr>\n",
       "      <th>...</th>\n",
       "      <td>...</td>\n",
       "      <td>...</td>\n",
       "      <td>...</td>\n",
       "      <td>...</td>\n",
       "      <td>...</td>\n",
       "    </tr>\n",
       "    <tr>\n",
       "      <th>16632</th>\n",
       "      <td>11369.675603</td>\n",
       "      <td>19257.019566</td>\n",
       "      <td>1</td>\n",
       "      <td>2.0</td>\n",
       "      <td>17054.513405</td>\n",
       "    </tr>\n",
       "    <tr>\n",
       "      <th>16722</th>\n",
       "      <td>15098.929201</td>\n",
       "      <td>27320.420497</td>\n",
       "      <td>1</td>\n",
       "      <td>2.0</td>\n",
       "      <td>22648.393802</td>\n",
       "    </tr>\n",
       "    <tr>\n",
       "      <th>17135</th>\n",
       "      <td>15227.825393</td>\n",
       "      <td>16116.536848</td>\n",
       "      <td>1</td>\n",
       "      <td>1.0</td>\n",
       "      <td>22841.738090</td>\n",
       "    </tr>\n",
       "    <tr>\n",
       "      <th>17575</th>\n",
       "      <td>11369.675603</td>\n",
       "      <td>11901.953343</td>\n",
       "      <td>1</td>\n",
       "      <td>1.0</td>\n",
       "      <td>17054.513405</td>\n",
       "    </tr>\n",
       "    <tr>\n",
       "      <th>17667</th>\n",
       "      <td>14477.386935</td>\n",
       "      <td>20655.452039</td>\n",
       "      <td>1</td>\n",
       "      <td>1.0</td>\n",
       "      <td>21716.080402</td>\n",
       "    </tr>\n",
       "    <tr>\n",
       "      <th>18392</th>\n",
       "      <td>11369.675603</td>\n",
       "      <td>12926.094521</td>\n",
       "      <td>1</td>\n",
       "      <td>1.0</td>\n",
       "      <td>17054.513405</td>\n",
       "    </tr>\n",
       "    <tr>\n",
       "      <th>19275</th>\n",
       "      <td>11369.675603</td>\n",
       "      <td>14083.672115</td>\n",
       "      <td>1</td>\n",
       "      <td>1.0</td>\n",
       "      <td>17054.513405</td>\n",
       "    </tr>\n",
       "    <tr>\n",
       "      <th>19652</th>\n",
       "      <td>11369.675603</td>\n",
       "      <td>17033.509248</td>\n",
       "      <td>1</td>\n",
       "      <td>1.0</td>\n",
       "      <td>17054.513405</td>\n",
       "    </tr>\n",
       "    <tr>\n",
       "      <th>20450</th>\n",
       "      <td>11369.675603</td>\n",
       "      <td>20756.711174</td>\n",
       "      <td>1</td>\n",
       "      <td>2.0</td>\n",
       "      <td>17054.513405</td>\n",
       "    </tr>\n",
       "    <tr>\n",
       "      <th>20961</th>\n",
       "      <td>14477.386935</td>\n",
       "      <td>25306.888300</td>\n",
       "      <td>1</td>\n",
       "      <td>2.0</td>\n",
       "      <td>21716.080402</td>\n",
       "    </tr>\n",
       "    <tr>\n",
       "      <th>21067</th>\n",
       "      <td>15227.825393</td>\n",
       "      <td>22100.244597</td>\n",
       "      <td>1</td>\n",
       "      <td>1.0</td>\n",
       "      <td>22841.738090</td>\n",
       "    </tr>\n",
       "    <tr>\n",
       "      <th>21091</th>\n",
       "      <td>11369.675603</td>\n",
       "      <td>12755.134016</td>\n",
       "      <td>1</td>\n",
       "      <td>1.0</td>\n",
       "      <td>17054.513405</td>\n",
       "    </tr>\n",
       "    <tr>\n",
       "      <th>21423</th>\n",
       "      <td>11369.675603</td>\n",
       "      <td>12148.101687</td>\n",
       "      <td>1</td>\n",
       "      <td>1.0</td>\n",
       "      <td>17054.513405</td>\n",
       "    </tr>\n",
       "    <tr>\n",
       "      <th>21574</th>\n",
       "      <td>11369.675603</td>\n",
       "      <td>16018.657923</td>\n",
       "      <td>1</td>\n",
       "      <td>1.0</td>\n",
       "      <td>17054.513405</td>\n",
       "    </tr>\n",
       "    <tr>\n",
       "      <th>21733</th>\n",
       "      <td>11369.675603</td>\n",
       "      <td>17225.067138</td>\n",
       "      <td>1</td>\n",
       "      <td>2.0</td>\n",
       "      <td>17054.513405</td>\n",
       "    </tr>\n",
       "    <tr>\n",
       "      <th>22120</th>\n",
       "      <td>15549.192276</td>\n",
       "      <td>18571.034360</td>\n",
       "      <td>1</td>\n",
       "      <td>1.0</td>\n",
       "      <td>23323.788414</td>\n",
       "    </tr>\n",
       "    <tr>\n",
       "      <th>22566</th>\n",
       "      <td>11369.675603</td>\n",
       "      <td>15120.459562</td>\n",
       "      <td>1</td>\n",
       "      <td>1.0</td>\n",
       "      <td>17054.513405</td>\n",
       "    </tr>\n",
       "    <tr>\n",
       "      <th>22579</th>\n",
       "      <td>11369.675603</td>\n",
       "      <td>18769.971742</td>\n",
       "      <td>1</td>\n",
       "      <td>2.0</td>\n",
       "      <td>17054.513405</td>\n",
       "    </tr>\n",
       "    <tr>\n",
       "      <th>23089</th>\n",
       "      <td>11369.675603</td>\n",
       "      <td>16863.933979</td>\n",
       "      <td>1</td>\n",
       "      <td>1.0</td>\n",
       "      <td>17054.513405</td>\n",
       "    </tr>\n",
       "    <tr>\n",
       "      <th>23209</th>\n",
       "      <td>33764.927202</td>\n",
       "      <td>34656.073144</td>\n",
       "      <td>1</td>\n",
       "      <td>1.0</td>\n",
       "      <td>50647.390804</td>\n",
       "    </tr>\n",
       "    <tr>\n",
       "      <th>23301</th>\n",
       "      <td>11369.675603</td>\n",
       "      <td>12129.556073</td>\n",
       "      <td>1</td>\n",
       "      <td>1.0</td>\n",
       "      <td>17054.513405</td>\n",
       "    </tr>\n",
       "    <tr>\n",
       "      <th>23466</th>\n",
       "      <td>11369.675603</td>\n",
       "      <td>21027.966651</td>\n",
       "      <td>1</td>\n",
       "      <td>2.0</td>\n",
       "      <td>17054.513405</td>\n",
       "    </tr>\n",
       "    <tr>\n",
       "      <th>23585</th>\n",
       "      <td>11369.675603</td>\n",
       "      <td>34224.889624</td>\n",
       "      <td>1</td>\n",
       "      <td>2.0</td>\n",
       "      <td>17054.513405</td>\n",
       "    </tr>\n",
       "    <tr>\n",
       "      <th>23612</th>\n",
       "      <td>20980.543439</td>\n",
       "      <td>23444.257459</td>\n",
       "      <td>1</td>\n",
       "      <td>1.0</td>\n",
       "      <td>31470.815158</td>\n",
       "    </tr>\n",
       "    <tr>\n",
       "      <th>24034</th>\n",
       "      <td>11369.675603</td>\n",
       "      <td>15013.029774</td>\n",
       "      <td>1</td>\n",
       "      <td>1.0</td>\n",
       "      <td>17054.513405</td>\n",
       "    </tr>\n",
       "    <tr>\n",
       "      <th>24230</th>\n",
       "      <td>11369.675603</td>\n",
       "      <td>15240.859204</td>\n",
       "      <td>1</td>\n",
       "      <td>1.0</td>\n",
       "      <td>17054.513405</td>\n",
       "    </tr>\n",
       "    <tr>\n",
       "      <th>24372</th>\n",
       "      <td>24135.723786</td>\n",
       "      <td>26603.738162</td>\n",
       "      <td>1</td>\n",
       "      <td>1.0</td>\n",
       "      <td>36203.585678</td>\n",
       "    </tr>\n",
       "    <tr>\n",
       "      <th>24393</th>\n",
       "      <td>18633.555154</td>\n",
       "      <td>20513.788151</td>\n",
       "      <td>1</td>\n",
       "      <td>1.0</td>\n",
       "      <td>27950.332731</td>\n",
       "    </tr>\n",
       "    <tr>\n",
       "      <th>24399</th>\n",
       "      <td>11369.675603</td>\n",
       "      <td>14461.408501</td>\n",
       "      <td>1</td>\n",
       "      <td>1.0</td>\n",
       "      <td>17054.513405</td>\n",
       "    </tr>\n",
       "    <tr>\n",
       "      <th>24527</th>\n",
       "      <td>14477.386935</td>\n",
       "      <td>15346.521115</td>\n",
       "      <td>1</td>\n",
       "      <td>1.0</td>\n",
       "      <td>21716.080402</td>\n",
       "    </tr>\n",
       "  </tbody>\n",
       "</table>\n",
       "<p>101 rows × 5 columns</p>\n",
       "</div>"
      ],
      "text/plain": [
       "       CEO_Threshold    CEO_Income  CEO_Poverty  Pov_risk    Threshold1\n",
       "111     11369.675603  19609.129081            1       2.0  17054.513405\n",
       "469     11369.675603  15917.908682            1       1.0  17054.513405\n",
       "834     11369.675603  16226.943379            1       1.0  17054.513405\n",
       "1199    18118.741543  23785.889888            1       1.0  27178.112315\n",
       "1509    17534.077009  23231.781546            1       1.0  26301.115513\n",
       "1688    14263.287946  15942.677128            1       1.0  21394.931918\n",
       "2027    23272.281307  23298.234386            1       1.0  34908.421961\n",
       "2177    15227.825393  20542.579466            1       1.0  22841.738090\n",
       "2946    11369.675603  14613.120234            1       1.0  17054.513405\n",
       "3146    11369.675603  12844.856225            1       1.0  17054.513405\n",
       "3616    11369.675603  28838.060812            1       2.0  17054.513405\n",
       "3663    11369.675603  17521.198484            1       2.0  17054.513405\n",
       "3764    11369.675603  11929.341416            1       1.0  17054.513405\n",
       "4026    11369.675603  17858.768818            1       2.0  17054.513405\n",
       "4189    14477.386935  22241.332022            1       2.0  21716.080402\n",
       "4190    11369.675603  13675.684186            1       1.0  17054.513405\n",
       "4261    12923.531269  17101.709581            1       1.0  19385.296903\n",
       "4281    18118.741543  19634.342681            1       1.0  27178.112315\n",
       "4859    11369.675603  17960.298133            1       2.0  17054.513405\n",
       "4998    14477.386935  21290.415724            1       1.0  21716.080402\n",
       "5398    11369.675603  20765.981612            1       2.0  17054.513405\n",
       "5440    11369.675603  20627.049221            1       2.0  17054.513405\n",
       "5718    11369.675603  12840.472957            1       1.0  17054.513405\n",
       "5774    11369.675603  13660.202965            1       1.0  17054.513405\n",
       "6369    11369.675603  11558.360187            1       1.0  17054.513405\n",
       "6458    11369.675603  22111.839792            1       2.0  17054.513405\n",
       "6646    16191.014744  21723.635435            1       1.0  24286.522117\n",
       "7374    15227.825393  18621.906618            1       1.0  22841.738090\n",
       "7420    18891.003700  19225.497094            1       1.0  28336.505550\n",
       "7654    11369.675603  12284.423220            1       1.0  17054.513405\n",
       "...              ...           ...          ...       ...           ...\n",
       "16632   11369.675603  19257.019566            1       2.0  17054.513405\n",
       "16722   15098.929201  27320.420497            1       2.0  22648.393802\n",
       "17135   15227.825393  16116.536848            1       1.0  22841.738090\n",
       "17575   11369.675603  11901.953343            1       1.0  17054.513405\n",
       "17667   14477.386935  20655.452039            1       1.0  21716.080402\n",
       "18392   11369.675603  12926.094521            1       1.0  17054.513405\n",
       "19275   11369.675603  14083.672115            1       1.0  17054.513405\n",
       "19652   11369.675603  17033.509248            1       1.0  17054.513405\n",
       "20450   11369.675603  20756.711174            1       2.0  17054.513405\n",
       "20961   14477.386935  25306.888300            1       2.0  21716.080402\n",
       "21067   15227.825393  22100.244597            1       1.0  22841.738090\n",
       "21091   11369.675603  12755.134016            1       1.0  17054.513405\n",
       "21423   11369.675603  12148.101687            1       1.0  17054.513405\n",
       "21574   11369.675603  16018.657923            1       1.0  17054.513405\n",
       "21733   11369.675603  17225.067138            1       2.0  17054.513405\n",
       "22120   15549.192276  18571.034360            1       1.0  23323.788414\n",
       "22566   11369.675603  15120.459562            1       1.0  17054.513405\n",
       "22579   11369.675603  18769.971742            1       2.0  17054.513405\n",
       "23089   11369.675603  16863.933979            1       1.0  17054.513405\n",
       "23209   33764.927202  34656.073144            1       1.0  50647.390804\n",
       "23301   11369.675603  12129.556073            1       1.0  17054.513405\n",
       "23466   11369.675603  21027.966651            1       2.0  17054.513405\n",
       "23585   11369.675603  34224.889624            1       2.0  17054.513405\n",
       "23612   20980.543439  23444.257459            1       1.0  31470.815158\n",
       "24034   11369.675603  15013.029774            1       1.0  17054.513405\n",
       "24230   11369.675603  15240.859204            1       1.0  17054.513405\n",
       "24372   24135.723786  26603.738162            1       1.0  36203.585678\n",
       "24393   18633.555154  20513.788151            1       1.0  27950.332731\n",
       "24399   11369.675603  14461.408501            1       1.0  17054.513405\n",
       "24527   14477.386935  15346.521115            1       1.0  21716.080402\n",
       "\n",
       "[101 rows x 5 columns]"
      ]
     },
     "execution_count": 14,
     "metadata": {},
     "output_type": "execute_result"
    }
   ],
   "source": [
    "df[(df.CEO_Poverty == 1)&(df.CEO_Threshold < df.CEO_Income)][['CEO_Threshold', 'CEO_Income','CEO_Poverty', 'Pov_risk', 'Threshold1']]"
   ]
  },
  {
   "cell_type": "code",
   "execution_count": 160,
   "metadata": {
    "collapsed": false
   },
   "outputs": [
    {
     "data": {
      "text/html": [
       "<div>\n",
       "<table border=\"1\" class=\"dataframe\">\n",
       "  <thead>\n",
       "    <tr style=\"text-align: right;\">\n",
       "      <th></th>\n",
       "      <th>CEO_Threshold</th>\n",
       "      <th>CEO_Income</th>\n",
       "      <th>CEO_Poverty</th>\n",
       "      <th>Pov_risk</th>\n",
       "      <th>Threshold1</th>\n",
       "    </tr>\n",
       "  </thead>\n",
       "  <tbody>\n",
       "    <tr>\n",
       "      <th>469</th>\n",
       "      <td>11369.675603</td>\n",
       "      <td>15917.908682</td>\n",
       "      <td>1</td>\n",
       "      <td>1.0</td>\n",
       "      <td>17054.513405</td>\n",
       "    </tr>\n",
       "    <tr>\n",
       "      <th>834</th>\n",
       "      <td>11369.675603</td>\n",
       "      <td>16226.943379</td>\n",
       "      <td>1</td>\n",
       "      <td>1.0</td>\n",
       "      <td>17054.513405</td>\n",
       "    </tr>\n",
       "    <tr>\n",
       "      <th>1199</th>\n",
       "      <td>18118.741543</td>\n",
       "      <td>23785.889888</td>\n",
       "      <td>1</td>\n",
       "      <td>1.0</td>\n",
       "      <td>27178.112315</td>\n",
       "    </tr>\n",
       "    <tr>\n",
       "      <th>1509</th>\n",
       "      <td>17534.077009</td>\n",
       "      <td>23231.781546</td>\n",
       "      <td>1</td>\n",
       "      <td>1.0</td>\n",
       "      <td>26301.115513</td>\n",
       "    </tr>\n",
       "    <tr>\n",
       "      <th>1688</th>\n",
       "      <td>14263.287946</td>\n",
       "      <td>15942.677128</td>\n",
       "      <td>1</td>\n",
       "      <td>1.0</td>\n",
       "      <td>21394.931918</td>\n",
       "    </tr>\n",
       "    <tr>\n",
       "      <th>2027</th>\n",
       "      <td>23272.281307</td>\n",
       "      <td>23298.234386</td>\n",
       "      <td>1</td>\n",
       "      <td>1.0</td>\n",
       "      <td>34908.421961</td>\n",
       "    </tr>\n",
       "    <tr>\n",
       "      <th>2177</th>\n",
       "      <td>15227.825393</td>\n",
       "      <td>20542.579466</td>\n",
       "      <td>1</td>\n",
       "      <td>1.0</td>\n",
       "      <td>22841.738090</td>\n",
       "    </tr>\n",
       "    <tr>\n",
       "      <th>2946</th>\n",
       "      <td>11369.675603</td>\n",
       "      <td>14613.120234</td>\n",
       "      <td>1</td>\n",
       "      <td>1.0</td>\n",
       "      <td>17054.513405</td>\n",
       "    </tr>\n",
       "    <tr>\n",
       "      <th>3146</th>\n",
       "      <td>11369.675603</td>\n",
       "      <td>12844.856225</td>\n",
       "      <td>1</td>\n",
       "      <td>1.0</td>\n",
       "      <td>17054.513405</td>\n",
       "    </tr>\n",
       "    <tr>\n",
       "      <th>3764</th>\n",
       "      <td>11369.675603</td>\n",
       "      <td>11929.341416</td>\n",
       "      <td>1</td>\n",
       "      <td>1.0</td>\n",
       "      <td>17054.513405</td>\n",
       "    </tr>\n",
       "    <tr>\n",
       "      <th>4190</th>\n",
       "      <td>11369.675603</td>\n",
       "      <td>13675.684186</td>\n",
       "      <td>1</td>\n",
       "      <td>1.0</td>\n",
       "      <td>17054.513405</td>\n",
       "    </tr>\n",
       "    <tr>\n",
       "      <th>4261</th>\n",
       "      <td>12923.531269</td>\n",
       "      <td>17101.709581</td>\n",
       "      <td>1</td>\n",
       "      <td>1.0</td>\n",
       "      <td>19385.296903</td>\n",
       "    </tr>\n",
       "    <tr>\n",
       "      <th>4281</th>\n",
       "      <td>18118.741543</td>\n",
       "      <td>19634.342681</td>\n",
       "      <td>1</td>\n",
       "      <td>1.0</td>\n",
       "      <td>27178.112315</td>\n",
       "    </tr>\n",
       "    <tr>\n",
       "      <th>4998</th>\n",
       "      <td>14477.386935</td>\n",
       "      <td>21290.415724</td>\n",
       "      <td>1</td>\n",
       "      <td>1.0</td>\n",
       "      <td>21716.080402</td>\n",
       "    </tr>\n",
       "    <tr>\n",
       "      <th>5718</th>\n",
       "      <td>11369.675603</td>\n",
       "      <td>12840.472957</td>\n",
       "      <td>1</td>\n",
       "      <td>1.0</td>\n",
       "      <td>17054.513405</td>\n",
       "    </tr>\n",
       "    <tr>\n",
       "      <th>5774</th>\n",
       "      <td>11369.675603</td>\n",
       "      <td>13660.202965</td>\n",
       "      <td>1</td>\n",
       "      <td>1.0</td>\n",
       "      <td>17054.513405</td>\n",
       "    </tr>\n",
       "    <tr>\n",
       "      <th>6369</th>\n",
       "      <td>11369.675603</td>\n",
       "      <td>11558.360187</td>\n",
       "      <td>1</td>\n",
       "      <td>1.0</td>\n",
       "      <td>17054.513405</td>\n",
       "    </tr>\n",
       "    <tr>\n",
       "      <th>6646</th>\n",
       "      <td>16191.014744</td>\n",
       "      <td>21723.635435</td>\n",
       "      <td>1</td>\n",
       "      <td>1.0</td>\n",
       "      <td>24286.522117</td>\n",
       "    </tr>\n",
       "    <tr>\n",
       "      <th>7374</th>\n",
       "      <td>15227.825393</td>\n",
       "      <td>18621.906618</td>\n",
       "      <td>1</td>\n",
       "      <td>1.0</td>\n",
       "      <td>22841.738090</td>\n",
       "    </tr>\n",
       "    <tr>\n",
       "      <th>7420</th>\n",
       "      <td>18891.003700</td>\n",
       "      <td>19225.497094</td>\n",
       "      <td>1</td>\n",
       "      <td>1.0</td>\n",
       "      <td>28336.505550</td>\n",
       "    </tr>\n",
       "    <tr>\n",
       "      <th>7654</th>\n",
       "      <td>11369.675603</td>\n",
       "      <td>12284.423220</td>\n",
       "      <td>1</td>\n",
       "      <td>1.0</td>\n",
       "      <td>17054.513405</td>\n",
       "    </tr>\n",
       "    <tr>\n",
       "      <th>7899</th>\n",
       "      <td>11369.675603</td>\n",
       "      <td>13359.299047</td>\n",
       "      <td>1</td>\n",
       "      <td>1.0</td>\n",
       "      <td>17054.513405</td>\n",
       "    </tr>\n",
       "    <tr>\n",
       "      <th>8324</th>\n",
       "      <td>11369.675603</td>\n",
       "      <td>13780.458248</td>\n",
       "      <td>1</td>\n",
       "      <td>1.0</td>\n",
       "      <td>17054.513405</td>\n",
       "    </tr>\n",
       "    <tr>\n",
       "      <th>8370</th>\n",
       "      <td>11369.675603</td>\n",
       "      <td>13291.291912</td>\n",
       "      <td>1</td>\n",
       "      <td>1.0</td>\n",
       "      <td>17054.513405</td>\n",
       "    </tr>\n",
       "    <tr>\n",
       "      <th>8598</th>\n",
       "      <td>11369.675603</td>\n",
       "      <td>13184.449436</td>\n",
       "      <td>1</td>\n",
       "      <td>1.0</td>\n",
       "      <td>17054.513405</td>\n",
       "    </tr>\n",
       "    <tr>\n",
       "      <th>9566</th>\n",
       "      <td>11369.675603</td>\n",
       "      <td>11609.230498</td>\n",
       "      <td>1</td>\n",
       "      <td>1.0</td>\n",
       "      <td>17054.513405</td>\n",
       "    </tr>\n",
       "    <tr>\n",
       "      <th>9830</th>\n",
       "      <td>11369.675603</td>\n",
       "      <td>16437.232448</td>\n",
       "      <td>1</td>\n",
       "      <td>1.0</td>\n",
       "      <td>17054.513405</td>\n",
       "    </tr>\n",
       "    <tr>\n",
       "      <th>10897</th>\n",
       "      <td>11369.675603</td>\n",
       "      <td>11636.881826</td>\n",
       "      <td>1</td>\n",
       "      <td>1.0</td>\n",
       "      <td>17054.513405</td>\n",
       "    </tr>\n",
       "    <tr>\n",
       "      <th>11720</th>\n",
       "      <td>11369.675603</td>\n",
       "      <td>16240.781531</td>\n",
       "      <td>1</td>\n",
       "      <td>1.0</td>\n",
       "      <td>17054.513405</td>\n",
       "    </tr>\n",
       "    <tr>\n",
       "      <th>11784</th>\n",
       "      <td>17503.464254</td>\n",
       "      <td>21372.951785</td>\n",
       "      <td>1</td>\n",
       "      <td>1.0</td>\n",
       "      <td>26255.196381</td>\n",
       "    </tr>\n",
       "    <tr>\n",
       "      <th>...</th>\n",
       "      <td>...</td>\n",
       "      <td>...</td>\n",
       "      <td>...</td>\n",
       "      <td>...</td>\n",
       "      <td>...</td>\n",
       "    </tr>\n",
       "    <tr>\n",
       "      <th>14197</th>\n",
       "      <td>11369.675603</td>\n",
       "      <td>13395.973070</td>\n",
       "      <td>1</td>\n",
       "      <td>1.0</td>\n",
       "      <td>17054.513405</td>\n",
       "    </tr>\n",
       "    <tr>\n",
       "      <th>14540</th>\n",
       "      <td>11369.675603</td>\n",
       "      <td>14865.816431</td>\n",
       "      <td>1</td>\n",
       "      <td>1.0</td>\n",
       "      <td>17054.513405</td>\n",
       "    </tr>\n",
       "    <tr>\n",
       "      <th>14813</th>\n",
       "      <td>14477.386935</td>\n",
       "      <td>14713.454657</td>\n",
       "      <td>1</td>\n",
       "      <td>1.0</td>\n",
       "      <td>21716.080402</td>\n",
       "    </tr>\n",
       "    <tr>\n",
       "      <th>15357</th>\n",
       "      <td>11369.675603</td>\n",
       "      <td>15030.233581</td>\n",
       "      <td>1</td>\n",
       "      <td>1.0</td>\n",
       "      <td>17054.513405</td>\n",
       "    </tr>\n",
       "    <tr>\n",
       "      <th>15438</th>\n",
       "      <td>24135.723786</td>\n",
       "      <td>26409.162573</td>\n",
       "      <td>1</td>\n",
       "      <td>1.0</td>\n",
       "      <td>36203.585678</td>\n",
       "    </tr>\n",
       "    <tr>\n",
       "      <th>15508</th>\n",
       "      <td>11369.675603</td>\n",
       "      <td>13640.350761</td>\n",
       "      <td>1</td>\n",
       "      <td>1.0</td>\n",
       "      <td>17054.513405</td>\n",
       "    </tr>\n",
       "    <tr>\n",
       "      <th>16025</th>\n",
       "      <td>11369.675603</td>\n",
       "      <td>12755.514850</td>\n",
       "      <td>1</td>\n",
       "      <td>1.0</td>\n",
       "      <td>17054.513405</td>\n",
       "    </tr>\n",
       "    <tr>\n",
       "      <th>16223</th>\n",
       "      <td>11369.675603</td>\n",
       "      <td>14032.640914</td>\n",
       "      <td>1</td>\n",
       "      <td>1.0</td>\n",
       "      <td>17054.513405</td>\n",
       "    </tr>\n",
       "    <tr>\n",
       "      <th>17135</th>\n",
       "      <td>15227.825393</td>\n",
       "      <td>16116.536848</td>\n",
       "      <td>1</td>\n",
       "      <td>1.0</td>\n",
       "      <td>22841.738090</td>\n",
       "    </tr>\n",
       "    <tr>\n",
       "      <th>17575</th>\n",
       "      <td>11369.675603</td>\n",
       "      <td>11901.953343</td>\n",
       "      <td>1</td>\n",
       "      <td>1.0</td>\n",
       "      <td>17054.513405</td>\n",
       "    </tr>\n",
       "    <tr>\n",
       "      <th>17667</th>\n",
       "      <td>14477.386935</td>\n",
       "      <td>20655.452039</td>\n",
       "      <td>1</td>\n",
       "      <td>1.0</td>\n",
       "      <td>21716.080402</td>\n",
       "    </tr>\n",
       "    <tr>\n",
       "      <th>18392</th>\n",
       "      <td>11369.675603</td>\n",
       "      <td>12926.094521</td>\n",
       "      <td>1</td>\n",
       "      <td>1.0</td>\n",
       "      <td>17054.513405</td>\n",
       "    </tr>\n",
       "    <tr>\n",
       "      <th>19275</th>\n",
       "      <td>11369.675603</td>\n",
       "      <td>14083.672115</td>\n",
       "      <td>1</td>\n",
       "      <td>1.0</td>\n",
       "      <td>17054.513405</td>\n",
       "    </tr>\n",
       "    <tr>\n",
       "      <th>19652</th>\n",
       "      <td>11369.675603</td>\n",
       "      <td>17033.509248</td>\n",
       "      <td>1</td>\n",
       "      <td>1.0</td>\n",
       "      <td>17054.513405</td>\n",
       "    </tr>\n",
       "    <tr>\n",
       "      <th>21067</th>\n",
       "      <td>15227.825393</td>\n",
       "      <td>22100.244597</td>\n",
       "      <td>1</td>\n",
       "      <td>1.0</td>\n",
       "      <td>22841.738090</td>\n",
       "    </tr>\n",
       "    <tr>\n",
       "      <th>21091</th>\n",
       "      <td>11369.675603</td>\n",
       "      <td>12755.134016</td>\n",
       "      <td>1</td>\n",
       "      <td>1.0</td>\n",
       "      <td>17054.513405</td>\n",
       "    </tr>\n",
       "    <tr>\n",
       "      <th>21423</th>\n",
       "      <td>11369.675603</td>\n",
       "      <td>12148.101687</td>\n",
       "      <td>1</td>\n",
       "      <td>1.0</td>\n",
       "      <td>17054.513405</td>\n",
       "    </tr>\n",
       "    <tr>\n",
       "      <th>21574</th>\n",
       "      <td>11369.675603</td>\n",
       "      <td>16018.657923</td>\n",
       "      <td>1</td>\n",
       "      <td>1.0</td>\n",
       "      <td>17054.513405</td>\n",
       "    </tr>\n",
       "    <tr>\n",
       "      <th>22120</th>\n",
       "      <td>15549.192276</td>\n",
       "      <td>18571.034360</td>\n",
       "      <td>1</td>\n",
       "      <td>1.0</td>\n",
       "      <td>23323.788414</td>\n",
       "    </tr>\n",
       "    <tr>\n",
       "      <th>22566</th>\n",
       "      <td>11369.675603</td>\n",
       "      <td>15120.459562</td>\n",
       "      <td>1</td>\n",
       "      <td>1.0</td>\n",
       "      <td>17054.513405</td>\n",
       "    </tr>\n",
       "    <tr>\n",
       "      <th>23089</th>\n",
       "      <td>11369.675603</td>\n",
       "      <td>16863.933979</td>\n",
       "      <td>1</td>\n",
       "      <td>1.0</td>\n",
       "      <td>17054.513405</td>\n",
       "    </tr>\n",
       "    <tr>\n",
       "      <th>23209</th>\n",
       "      <td>33764.927202</td>\n",
       "      <td>34656.073144</td>\n",
       "      <td>1</td>\n",
       "      <td>1.0</td>\n",
       "      <td>50647.390804</td>\n",
       "    </tr>\n",
       "    <tr>\n",
       "      <th>23301</th>\n",
       "      <td>11369.675603</td>\n",
       "      <td>12129.556073</td>\n",
       "      <td>1</td>\n",
       "      <td>1.0</td>\n",
       "      <td>17054.513405</td>\n",
       "    </tr>\n",
       "    <tr>\n",
       "      <th>23612</th>\n",
       "      <td>20980.543439</td>\n",
       "      <td>23444.257459</td>\n",
       "      <td>1</td>\n",
       "      <td>1.0</td>\n",
       "      <td>31470.815158</td>\n",
       "    </tr>\n",
       "    <tr>\n",
       "      <th>24034</th>\n",
       "      <td>11369.675603</td>\n",
       "      <td>15013.029774</td>\n",
       "      <td>1</td>\n",
       "      <td>1.0</td>\n",
       "      <td>17054.513405</td>\n",
       "    </tr>\n",
       "    <tr>\n",
       "      <th>24230</th>\n",
       "      <td>11369.675603</td>\n",
       "      <td>15240.859204</td>\n",
       "      <td>1</td>\n",
       "      <td>1.0</td>\n",
       "      <td>17054.513405</td>\n",
       "    </tr>\n",
       "    <tr>\n",
       "      <th>24372</th>\n",
       "      <td>24135.723786</td>\n",
       "      <td>26603.738162</td>\n",
       "      <td>1</td>\n",
       "      <td>1.0</td>\n",
       "      <td>36203.585678</td>\n",
       "    </tr>\n",
       "    <tr>\n",
       "      <th>24393</th>\n",
       "      <td>18633.555154</td>\n",
       "      <td>20513.788151</td>\n",
       "      <td>1</td>\n",
       "      <td>1.0</td>\n",
       "      <td>27950.332731</td>\n",
       "    </tr>\n",
       "    <tr>\n",
       "      <th>24399</th>\n",
       "      <td>11369.675603</td>\n",
       "      <td>14461.408501</td>\n",
       "      <td>1</td>\n",
       "      <td>1.0</td>\n",
       "      <td>17054.513405</td>\n",
       "    </tr>\n",
       "    <tr>\n",
       "      <th>24527</th>\n",
       "      <td>14477.386935</td>\n",
       "      <td>15346.521115</td>\n",
       "      <td>1</td>\n",
       "      <td>1.0</td>\n",
       "      <td>21716.080402</td>\n",
       "    </tr>\n",
       "  </tbody>\n",
       "</table>\n",
       "<p>68 rows × 5 columns</p>\n",
       "</div>"
      ],
      "text/plain": [
       "       CEO_Threshold    CEO_Income  CEO_Poverty  Pov_risk    Threshold1\n",
       "469     11369.675603  15917.908682            1       1.0  17054.513405\n",
       "834     11369.675603  16226.943379            1       1.0  17054.513405\n",
       "1199    18118.741543  23785.889888            1       1.0  27178.112315\n",
       "1509    17534.077009  23231.781546            1       1.0  26301.115513\n",
       "1688    14263.287946  15942.677128            1       1.0  21394.931918\n",
       "2027    23272.281307  23298.234386            1       1.0  34908.421961\n",
       "2177    15227.825393  20542.579466            1       1.0  22841.738090\n",
       "2946    11369.675603  14613.120234            1       1.0  17054.513405\n",
       "3146    11369.675603  12844.856225            1       1.0  17054.513405\n",
       "3764    11369.675603  11929.341416            1       1.0  17054.513405\n",
       "4190    11369.675603  13675.684186            1       1.0  17054.513405\n",
       "4261    12923.531269  17101.709581            1       1.0  19385.296903\n",
       "4281    18118.741543  19634.342681            1       1.0  27178.112315\n",
       "4998    14477.386935  21290.415724            1       1.0  21716.080402\n",
       "5718    11369.675603  12840.472957            1       1.0  17054.513405\n",
       "5774    11369.675603  13660.202965            1       1.0  17054.513405\n",
       "6369    11369.675603  11558.360187            1       1.0  17054.513405\n",
       "6646    16191.014744  21723.635435            1       1.0  24286.522117\n",
       "7374    15227.825393  18621.906618            1       1.0  22841.738090\n",
       "7420    18891.003700  19225.497094            1       1.0  28336.505550\n",
       "7654    11369.675603  12284.423220            1       1.0  17054.513405\n",
       "7899    11369.675603  13359.299047            1       1.0  17054.513405\n",
       "8324    11369.675603  13780.458248            1       1.0  17054.513405\n",
       "8370    11369.675603  13291.291912            1       1.0  17054.513405\n",
       "8598    11369.675603  13184.449436            1       1.0  17054.513405\n",
       "9566    11369.675603  11609.230498            1       1.0  17054.513405\n",
       "9830    11369.675603  16437.232448            1       1.0  17054.513405\n",
       "10897   11369.675603  11636.881826            1       1.0  17054.513405\n",
       "11720   11369.675603  16240.781531            1       1.0  17054.513405\n",
       "11784   17503.464254  21372.951785            1       1.0  26255.196381\n",
       "...              ...           ...          ...       ...           ...\n",
       "14197   11369.675603  13395.973070            1       1.0  17054.513405\n",
       "14540   11369.675603  14865.816431            1       1.0  17054.513405\n",
       "14813   14477.386935  14713.454657            1       1.0  21716.080402\n",
       "15357   11369.675603  15030.233581            1       1.0  17054.513405\n",
       "15438   24135.723786  26409.162573            1       1.0  36203.585678\n",
       "15508   11369.675603  13640.350761            1       1.0  17054.513405\n",
       "16025   11369.675603  12755.514850            1       1.0  17054.513405\n",
       "16223   11369.675603  14032.640914            1       1.0  17054.513405\n",
       "17135   15227.825393  16116.536848            1       1.0  22841.738090\n",
       "17575   11369.675603  11901.953343            1       1.0  17054.513405\n",
       "17667   14477.386935  20655.452039            1       1.0  21716.080402\n",
       "18392   11369.675603  12926.094521            1       1.0  17054.513405\n",
       "19275   11369.675603  14083.672115            1       1.0  17054.513405\n",
       "19652   11369.675603  17033.509248            1       1.0  17054.513405\n",
       "21067   15227.825393  22100.244597            1       1.0  22841.738090\n",
       "21091   11369.675603  12755.134016            1       1.0  17054.513405\n",
       "21423   11369.675603  12148.101687            1       1.0  17054.513405\n",
       "21574   11369.675603  16018.657923            1       1.0  17054.513405\n",
       "22120   15549.192276  18571.034360            1       1.0  23323.788414\n",
       "22566   11369.675603  15120.459562            1       1.0  17054.513405\n",
       "23089   11369.675603  16863.933979            1       1.0  17054.513405\n",
       "23209   33764.927202  34656.073144            1       1.0  50647.390804\n",
       "23301   11369.675603  12129.556073            1       1.0  17054.513405\n",
       "23612   20980.543439  23444.257459            1       1.0  31470.815158\n",
       "24034   11369.675603  15013.029774            1       1.0  17054.513405\n",
       "24230   11369.675603  15240.859204            1       1.0  17054.513405\n",
       "24372   24135.723786  26603.738162            1       1.0  36203.585678\n",
       "24393   18633.555154  20513.788151            1       1.0  27950.332731\n",
       "24399   11369.675603  14461.408501            1       1.0  17054.513405\n",
       "24527   14477.386935  15346.521115            1       1.0  21716.080402\n",
       "\n",
       "[68 rows x 5 columns]"
      ]
     },
     "execution_count": 160,
     "metadata": {},
     "output_type": "execute_result"
    }
   ],
   "source": [
    "df[(df.Pov_risk == 1)&((df.CEO_Poverty == 1))][['CEO_Threshold', 'CEO_Income','CEO_Poverty', 'Pov_risk', 'Threshold1']]"
   ]
  },
  {
   "cell_type": "code",
   "execution_count": 9,
   "metadata": {
    "collapsed": false
   },
   "outputs": [],
   "source": [
    "puma_05['year'] = 2005\n",
    "puma_05['unique_key'] = map(lambda x,y: str(x) + '_' + str(y), puma_05.year, puma_05.SERIALNO)"
   ]
  },
  {
   "cell_type": "code",
   "execution_count": 10,
   "metadata": {
    "collapsed": false,
    "scrolled": false
   },
   "outputs": [
    {
     "data": {
      "text/html": [
       "<div>\n",
       "<table border=\"1\" class=\"dataframe\">\n",
       "  <thead>\n",
       "    <tr style=\"text-align: right;\">\n",
       "      <th></th>\n",
       "      <th>SERIALNO</th>\n",
       "      <th>Official_Poverty</th>\n",
       "      <th>CEO_Income</th>\n",
       "      <th>FICAtax</th>\n",
       "      <th>PovunitType</th>\n",
       "      <th>EducAttain_2</th>\n",
       "      <th>WorkExpIndiv</th>\n",
       "      <th>Povunit</th>\n",
       "      <th>IncomeTax</th>\n",
       "      <th>ACR</th>\n",
       "      <th>...</th>\n",
       "      <th>EducAttain_1</th>\n",
       "      <th>FoodStamps</th>\n",
       "      <th>JWTR</th>\n",
       "      <th>Commuting</th>\n",
       "      <th>Housing</th>\n",
       "      <th>Ethnicity</th>\n",
       "      <th>Threshold1</th>\n",
       "      <th>Pov_risk</th>\n",
       "      <th>year</th>\n",
       "      <th>unique_key</th>\n",
       "    </tr>\n",
       "  </thead>\n",
       "  <tbody>\n",
       "    <tr>\n",
       "      <th>0</th>\n",
       "      <td>36</td>\n",
       "      <td>2</td>\n",
       "      <td>39152.657789</td>\n",
       "      <td>4332.683705</td>\n",
       "      <td>1</td>\n",
       "      <td>3</td>\n",
       "      <td>1</td>\n",
       "      <td>1</td>\n",
       "      <td>7032.332806</td>\n",
       "      <td>1</td>\n",
       "      <td>...</td>\n",
       "      <td>3</td>\n",
       "      <td>0.00</td>\n",
       "      <td>1</td>\n",
       "      <td>3171.714</td>\n",
       "      <td>0.000000</td>\n",
       "      <td>1</td>\n",
       "      <td>32388.985032</td>\n",
       "      <td>2.0</td>\n",
       "      <td>2005</td>\n",
       "      <td>2005_36</td>\n",
       "    </tr>\n",
       "    <tr>\n",
       "      <th>1</th>\n",
       "      <td>158</td>\n",
       "      <td>2</td>\n",
       "      <td>75911.026767</td>\n",
       "      <td>8654.451885</td>\n",
       "      <td>2</td>\n",
       "      <td>2</td>\n",
       "      <td>2</td>\n",
       "      <td>1</td>\n",
       "      <td>26725.011348</td>\n",
       "      <td>0</td>\n",
       "      <td>...</td>\n",
       "      <td>2</td>\n",
       "      <td>0.00</td>\n",
       "      <td>4</td>\n",
       "      <td>1823.600</td>\n",
       "      <td>0.000000</td>\n",
       "      <td>3</td>\n",
       "      <td>24046.863901</td>\n",
       "      <td>2.0</td>\n",
       "      <td>2005</td>\n",
       "      <td>2005_158</td>\n",
       "    </tr>\n",
       "    <tr>\n",
       "      <th>2</th>\n",
       "      <td>194</td>\n",
       "      <td>2</td>\n",
       "      <td>47585.831878</td>\n",
       "      <td>4366.209960</td>\n",
       "      <td>5</td>\n",
       "      <td>2</td>\n",
       "      <td>1</td>\n",
       "      <td>1</td>\n",
       "      <td>10054.308162</td>\n",
       "      <td>1</td>\n",
       "      <td>...</td>\n",
       "      <td>2</td>\n",
       "      <td>150.32</td>\n",
       "      <td>1</td>\n",
       "      <td>1383.750</td>\n",
       "      <td>0.000000</td>\n",
       "      <td>3</td>\n",
       "      <td>24046.863901</td>\n",
       "      <td>2.0</td>\n",
       "      <td>2005</td>\n",
       "      <td>2005_194</td>\n",
       "    </tr>\n",
       "    <tr>\n",
       "      <th>3</th>\n",
       "      <td>197</td>\n",
       "      <td>1</td>\n",
       "      <td>13593.164315</td>\n",
       "      <td>0.000000</td>\n",
       "      <td>4</td>\n",
       "      <td>3</td>\n",
       "      <td>3</td>\n",
       "      <td>1</td>\n",
       "      <td>0.000000</td>\n",
       "      <td>0</td>\n",
       "      <td>...</td>\n",
       "      <td>3</td>\n",
       "      <td>3506.00</td>\n",
       "      <td>0</td>\n",
       "      <td>90.240</td>\n",
       "      <td>8110.261315</td>\n",
       "      <td>4</td>\n",
       "      <td>32388.985032</td>\n",
       "      <td>0.0</td>\n",
       "      <td>2005</td>\n",
       "      <td>2005_197</td>\n",
       "    </tr>\n",
       "    <tr>\n",
       "      <th>4</th>\n",
       "      <td>207</td>\n",
       "      <td>2</td>\n",
       "      <td>114849.535408</td>\n",
       "      <td>15397.205520</td>\n",
       "      <td>3</td>\n",
       "      <td>4</td>\n",
       "      <td>1</td>\n",
       "      <td>1</td>\n",
       "      <td>43874.879072</td>\n",
       "      <td>1</td>\n",
       "      <td>...</td>\n",
       "      <td>4</td>\n",
       "      <td>0.00</td>\n",
       "      <td>1</td>\n",
       "      <td>7259.200</td>\n",
       "      <td>0.000000</td>\n",
       "      <td>3</td>\n",
       "      <td>40990.853747</td>\n",
       "      <td>2.0</td>\n",
       "      <td>2005</td>\n",
       "      <td>2005_207</td>\n",
       "    </tr>\n",
       "  </tbody>\n",
       "</table>\n",
       "<p>5 rows × 43 columns</p>\n",
       "</div>"
      ],
      "text/plain": [
       "   SERIALNO  Official_Poverty     CEO_Income       FICAtax  PovunitType  \\\n",
       "0        36                 2   39152.657789   4332.683705            1   \n",
       "1       158                 2   75911.026767   8654.451885            2   \n",
       "2       194                 2   47585.831878   4366.209960            5   \n",
       "3       197                 1   13593.164315      0.000000            4   \n",
       "4       207                 2  114849.535408  15397.205520            3   \n",
       "\n",
       "   EducAttain_2  WorkExpIndiv  Povunit     IncomeTax  ACR     ...      \\\n",
       "0             3             1        1   7032.332806    1     ...       \n",
       "1             2             2        1  26725.011348    0     ...       \n",
       "2             2             1        1  10054.308162    1     ...       \n",
       "3             3             3        1      0.000000    0     ...       \n",
       "4             4             1        1  43874.879072    1     ...       \n",
       "\n",
       "   EducAttain_1  FoodStamps  JWTR  Commuting      Housing  Ethnicity  \\\n",
       "0             3        0.00     1   3171.714     0.000000          1   \n",
       "1             2        0.00     4   1823.600     0.000000          3   \n",
       "2             2      150.32     1   1383.750     0.000000          3   \n",
       "3             3     3506.00     0     90.240  8110.261315          4   \n",
       "4             4        0.00     1   7259.200     0.000000          3   \n",
       "\n",
       "     Threshold1  Pov_risk  year  unique_key  \n",
       "0  32388.985032       2.0  2005     2005_36  \n",
       "1  24046.863901       2.0  2005    2005_158  \n",
       "2  24046.863901       2.0  2005    2005_194  \n",
       "3  32388.985032       0.0  2005    2005_197  \n",
       "4  40990.853747       2.0  2005    2005_207  \n",
       "\n",
       "[5 rows x 43 columns]"
      ]
     },
     "execution_count": 10,
     "metadata": {},
     "output_type": "execute_result"
    }
   ],
   "source": [
    "puma_05.head()"
   ]
  },
  {
   "cell_type": "code",
   "execution_count": 17,
   "metadata": {
    "collapsed": false
   },
   "outputs": [
    {
     "data": {
      "text/plain": [
       "Index([u'SERIALNO', u'Official_Poverty', u'CEO_Income', u'FICAtax',\n",
       "       u'PovunitType', u'EducAttain_2', u'WorkExpIndiv', u'Povunit',\n",
       "       u'IncomeTax', u'ACR', u'SchoolBreakfast', u'HEAP', u'CitizenStatus',\n",
       "       u'Official_Threshold', u'AgeCateg_2', u'AgeCateg_3', u'EducAttain_4',\n",
       "       u'CEO_Poverty', u'PUMA', u'WIC', u'EducAttain_ ', u'HousingStatus',\n",
       "       u'WorkersEquiv', u'SchoolLunch', u'CEO_Threshold', u'AgeCateg_1',\n",
       "       u'Boro', u'MOOP', u'MV', u'Childcare', u'EducAttain_3', u'PreTaxIncome',\n",
       "       u'NP', u'EducAttain_1', u'FoodStamps', u'JWTR', u'Commuting',\n",
       "       u'Housing', u'Ethnicity', u'Threshold1', u'Pov_risk', u'year',\n",
       "       u'unique_key'],\n",
       "      dtype='object')"
      ]
     },
     "execution_count": 17,
     "metadata": {},
     "output_type": "execute_result"
    }
   ],
   "source": [
    "puma_05.columns"
   ]
  },
  {
   "cell_type": "code",
   "execution_count": 11,
   "metadata": {
    "collapsed": true
   },
   "outputs": [],
   "source": [
    "X = df[[ u'PovunitType', u'EducAttain_2', u'WorkExpIndiv', u'Povunit',\n",
    "        u'ACR', u'SchoolBreakfast', u'HEAP', u'CitizenStatus',\n",
    "        u'AgeCateg_2', u'AgeCateg_3', u'EducAttain_4',\n",
    "        u'WIC', u'EducAttain_ ', u'HousingStatus',\n",
    "       u'WorkersEquiv', u'SchoolLunch', u'AgeCateg_1',\n",
    "       u'MOOP', u'MV', u'Childcare', u'EducAttain_3',\n",
    "       u'NP', u'EducAttain_1', u'FoodStamps', u'JWTR', u'Commuting',\n",
    "       u'Housing', 'Pov_risk']]"
   ]
  },
  {
   "cell_type": "code",
   "execution_count": 12,
   "metadata": {
    "collapsed": false
   },
   "outputs": [
    {
     "data": {
      "text/plain": [
       "Index([u'PovunitType', u'EducAttain_2', u'WorkExpIndiv', u'Povunit', u'ACR',\n",
       "       u'SchoolBreakfast', u'HEAP', u'CitizenStatus', u'AgeCateg_2',\n",
       "       u'AgeCateg_3', u'EducAttain_4', u'WIC', u'EducAttain_ ',\n",
       "       u'HousingStatus', u'WorkersEquiv', u'SchoolLunch', u'AgeCateg_1',\n",
       "       u'MOOP', u'MV', u'Childcare', u'EducAttain_3', u'NP', u'EducAttain_1',\n",
       "       u'FoodStamps', u'JWTR', u'Commuting', u'Housing', u'Pov_risk'],\n",
       "      dtype='object')"
      ]
     },
     "execution_count": 12,
     "metadata": {},
     "output_type": "execute_result"
    }
   ],
   "source": [
    "X.columns"
   ]
  },
  {
   "cell_type": "markdown",
   "metadata": {},
   "source": [
    "## Changing the value 800 and above to a mean value and taking it as discrete"
   ]
  },
  {
   "cell_type": "code",
   "execution_count": 61,
   "metadata": {
    "collapsed": false
   },
   "outputs": [
    {
     "name": "stdout",
     "output_type": "stream",
     "text": [
      "0.00       24109\n",
      "215.25       307\n",
      "430.50       194\n",
      "645.75        70\n",
      "861.00        15\n",
      "1076.25        4\n",
      "1291.50        1\n",
      "Name: SchoolBreakfast, dtype: int64\n"
     ]
    },
    {
     "data": {
      "text/plain": [
       "<matplotlib.axes._subplots.AxesSubplot at 0x7f29641119d0>"
      ]
     },
     "execution_count": 61,
     "metadata": {},
     "output_type": "execute_result"
    },
    {
     "data": {
      "image/png": "[encoded data removed]",
      "text/plain": [
       "<matplotlib.figure.Figure at 0x7f296432b4d0>"
      ]
     },
     "metadata": {},
     "output_type": "display_data"
    }
   ],
   "source": [
    "print X.SchoolBreakfast.value_counts()\n",
    "X.SchoolBreakfast.hist()"
   ]
  },
  {
   "cell_type": "code",
   "execution_count": 82,
   "metadata": {
    "collapsed": false
   },
   "outputs": [
    {
     "name": "stdout",
     "output_type": "stream",
     "text": [
      "0.000000     21155\n",
      "50.000000     3138\n",
      "40.000000      271\n",
      "25.000000       34\n",
      "20.000000       16\n",
      "33.333333       13\n",
      "37.500000        8\n",
      "16.666667        8\n",
      "13.333333        7\n",
      "30.000000        7\n",
      "41.666667        6\n",
      "28.571429        5\n",
      "26.666667        4\n",
      "32.000000        4\n",
      "10.000000        2\n",
      "16.000000        2\n",
      "42.857143        2\n",
      "12.500000        2\n",
      "35.714286        2\n",
      "35.555556        1\n",
      "7.142857         1\n",
      "38.888889        1\n",
      "8.333333         1\n",
      "45.454545        1\n",
      "45.000000        1\n",
      "35.000000        1\n",
      "11.428571        1\n",
      "18.750000        1\n",
      "6.666667         1\n",
      "21.428571        1\n",
      "45.833333        1\n",
      "8.000000         1\n",
      "17.142857        1\n",
      "Name: HEAP, dtype: int64\n"
     ]
    },
    {
     "data": {
      "text/plain": [
       "<matplotlib.axes._subplots.AxesSubplot at 0x7f295961a290>"
      ]
     },
     "execution_count": 82,
     "metadata": {},
     "output_type": "execute_result"
    },
    {
     "data": {
      "image/png": "[encoded data removed]",
      "text/plain": [
       "<matplotlib.figure.Figure at 0x7f295968d810>"
      ]
     },
     "metadata": {},
     "output_type": "display_data"
    }
   ],
   "source": [
    "print (X.HEAP).value_counts()\n",
    "X.HEAP.hist(bins= 50)"
   ]
  },
  {
   "cell_type": "code",
   "execution_count": 13,
   "metadata": {
    "collapsed": false
   },
   "outputs": [
    {
     "name": "stderr",
     "output_type": "stream",
     "text": [
      "/gpfs1/cusp/vys217/.conda/envs/JVEvys217/lib/python2.7/site-packages/ipykernel_launcher.py:1: SettingWithCopyWarning: \n",
      "A value is trying to be set on a copy of a slice from a DataFrame\n",
      "\n",
      "See the caveats in the documentation: http://pandas.pydata.org/pandas-docs/stable/indexing.html#indexing-view-versus-copy\n",
      "  \"\"\"Entry point for launching an IPython kernel.\n",
      "/home/cusp/vys217/.conda/envs/JVEvys217/lib/python2.7/site-packages/pandas/core/generic.py:4485: SettingWithCopyWarning: \n",
      "A value is trying to be set on a copy of a slice from a DataFrame\n",
      "\n",
      "See the caveats in the documentation: http://pandas.pydata.org/pandas-docs/stable/indexing.html#indexing-view-versus-copy\n",
      "  self._update_inplace(new_data)\n",
      "/home/cusp/vys217/.conda/envs/JVEvys217/lib/python2.7/site-packages/IPython/core/interactiveshell.py:2881: SettingWithCopyWarning: \n",
      "A value is trying to be set on a copy of a slice from a DataFrame\n",
      "\n",
      "See the caveats in the documentation: http://pandas.pydata.org/pandas-docs/stable/indexing.html#indexing-view-versus-copy\n",
      "  exec(code_obj, self.user_global_ns, self.user_ns)\n",
      "/gpfs1/cusp/vys217/.conda/envs/JVEvys217/lib/python2.7/site-packages/ipykernel_launcher.py:2: SettingWithCopyWarning: \n",
      "A value is trying to be set on a copy of a slice from a DataFrame\n",
      "\n",
      "See the caveats in the documentation: http://pandas.pydata.org/pandas-docs/stable/indexing.html#indexing-view-versus-copy\n",
      "  \n"
     ]
    }
   ],
   "source": [
    "X.HEAP[X.HEAP == 0.0] = 0\n",
    "X.HEAP[X.HEAP != 0.0] = 1"
   ]
  },
  {
   "cell_type": "code",
   "execution_count": 133,
   "metadata": {
    "collapsed": false
   },
   "outputs": [
    {
     "data": {
      "text/plain": [
       "0.0    21155\n",
       "1.0     3545\n",
       "Name: HEAP, dtype: int64"
      ]
     },
     "execution_count": 133,
     "metadata": {},
     "output_type": "execute_result"
    }
   ],
   "source": [
    "X.HEAP.value_counts()"
   ]
  },
  {
   "cell_type": "code",
   "execution_count": 135,
   "metadata": {
    "collapsed": false
   },
   "outputs": [
    {
     "name": "stdout",
     "output_type": "stream",
     "text": [
      "0.000000       24304\n",
      "537.480000       230\n",
      "1074.960000       90\n",
      "1612.440000       37\n",
      "2149.920000        4\n",
      "322.488000         3\n",
      "403.110000         3\n",
      "268.740000         3\n",
      "644.976000         3\n",
      "2687.400000        2\n",
      "179.160000         2\n",
      "806.220000         2\n",
      "214.992000         2\n",
      "429.984000         2\n",
      "447.900000         2\n",
      "460.697143         2\n",
      "671.850000         1\n",
      "614.262857         1\n",
      "230.348571         1\n",
      "1478.070000        1\n",
      "1433.280000        1\n",
      "859.968000         1\n",
      "921.394286         1\n",
      "358.320000         1\n",
      "307.131429         1\n",
      "Name: WIC, dtype: int64\n"
     ]
    },
    {
     "data": {
      "text/plain": [
       "<matplotlib.axes._subplots.AxesSubplot at 0x7f295a816690>"
      ]
     },
     "execution_count": 135,
     "metadata": {},
     "output_type": "execute_result"
    },
    {
     "data": {
      "image/png": "[encoded data removed]",
      "text/plain": [
       "<matplotlib.figure.Figure at 0x7f295903a150>"
      ]
     },
     "metadata": {},
     "output_type": "display_data"
    }
   ],
   "source": [
    "print X.WIC.value_counts()\n",
    "X.WIC.hist(bins=50)"
   ]
  },
  {
   "cell_type": "code",
   "execution_count": 14,
   "metadata": {
    "collapsed": false
   },
   "outputs": [
    {
     "name": "stderr",
     "output_type": "stream",
     "text": [
      "/gpfs1/cusp/vys217/.conda/envs/JVEvys217/lib/python2.7/site-packages/ipykernel_launcher.py:1: SettingWithCopyWarning: \n",
      "A value is trying to be set on a copy of a slice from a DataFrame\n",
      "\n",
      "See the caveats in the documentation: http://pandas.pydata.org/pandas-docs/stable/indexing.html#indexing-view-versus-copy\n",
      "  \"\"\"Entry point for launching an IPython kernel.\n",
      "/gpfs1/cusp/vys217/.conda/envs/JVEvys217/lib/python2.7/site-packages/ipykernel_launcher.py:2: SettingWithCopyWarning: \n",
      "A value is trying to be set on a copy of a slice from a DataFrame\n",
      "\n",
      "See the caveats in the documentation: http://pandas.pydata.org/pandas-docs/stable/indexing.html#indexing-view-versus-copy\n",
      "  \n"
     ]
    }
   ],
   "source": [
    "X.WIC[X.WIC == 0.0] = 0\n",
    "X.WIC[X.WIC != 0.0] = 1"
   ]
  },
  {
   "cell_type": "code",
   "execution_count": 137,
   "metadata": {
    "collapsed": false
   },
   "outputs": [
    {
     "data": {
      "text/plain": [
       "0.0    24304\n",
       "1.0      396\n",
       "Name: WIC, dtype: int64"
      ]
     },
     "execution_count": 137,
     "metadata": {},
     "output_type": "execute_result"
    }
   ],
   "source": [
    "X.WIC.value_counts()"
   ]
  },
  {
   "cell_type": "code",
   "execution_count": 140,
   "metadata": {
    "collapsed": false
   },
   "outputs": [
    {
     "name": "stdout",
     "output_type": "stream",
     "text": [
      "0.000       22698\n",
      "428.925      1036\n",
      "857.850       556\n",
      "1286.775      209\n",
      "1715.700       65\n",
      "359.625        47\n",
      "788.550        23\n",
      "2144.625       23\n",
      "719.250        17\n",
      "1078.875        6\n",
      "2573.550        4\n",
      "1217.475        4\n",
      "1438.500        3\n",
      "1148.175        3\n",
      "1577.100        2\n",
      "2296.350        1\n",
      "3002.475        1\n",
      "1798.125        1\n",
      "2157.750        1\n",
      "Name: SchoolLunch, dtype: int64\n"
     ]
    },
    {
     "data": {
      "text/plain": [
       "<matplotlib.axes._subplots.AxesSubplot at 0x7f2958c2c0d0>"
      ]
     },
     "execution_count": 140,
     "metadata": {},
     "output_type": "execute_result"
    },
    {
     "data": {
      "image/png": "[encoded data removed]",
      "text/plain": [
       "<matplotlib.figure.Figure at 0x7f2958807e50>"
      ]
     },
     "metadata": {},
     "output_type": "display_data"
    }
   ],
   "source": [
    "print X.SchoolLunch.value_counts()\n",
    "X.SchoolLunch.hist(bins = 100)"
   ]
  },
  {
   "cell_type": "code",
   "execution_count": 15,
   "metadata": {
    "collapsed": false
   },
   "outputs": [
    {
     "name": "stderr",
     "output_type": "stream",
     "text": [
      "/gpfs1/cusp/vys217/.conda/envs/JVEvys217/lib/python2.7/site-packages/ipykernel_launcher.py:1: SettingWithCopyWarning: \n",
      "A value is trying to be set on a copy of a slice from a DataFrame\n",
      "\n",
      "See the caveats in the documentation: http://pandas.pydata.org/pandas-docs/stable/indexing.html#indexing-view-versus-copy\n",
      "  \"\"\"Entry point for launching an IPython kernel.\n",
      "/gpfs1/cusp/vys217/.conda/envs/JVEvys217/lib/python2.7/site-packages/ipykernel_launcher.py:2: SettingWithCopyWarning: \n",
      "A value is trying to be set on a copy of a slice from a DataFrame\n",
      "\n",
      "See the caveats in the documentation: http://pandas.pydata.org/pandas-docs/stable/indexing.html#indexing-view-versus-copy\n",
      "  \n"
     ]
    }
   ],
   "source": [
    "X.SchoolLunch[X.SchoolLunch == 0.0] = 0\n",
    "X.SchoolLunch[X.SchoolLunch != 0.0] = 1"
   ]
  },
  {
   "cell_type": "code",
   "execution_count": 142,
   "metadata": {
    "collapsed": false
   },
   "outputs": [
    {
     "data": {
      "text/plain": [
       "0.0    22698\n",
       "1.0     2002\n",
       "Name: SchoolLunch, dtype: int64"
      ]
     },
     "execution_count": 142,
     "metadata": {},
     "output_type": "execute_result"
    }
   ],
   "source": [
    "X.SchoolLunch.value_counts()"
   ]
  },
  {
   "cell_type": "code",
   "execution_count": 22,
   "metadata": {
    "collapsed": false
   },
   "outputs": [
    {
     "name": "stdout",
     "output_type": "stream",
     "text": [
      "count    24700.000000\n",
      "mean      2916.584694\n",
      "std       3964.270918\n",
      "min          0.000000\n",
      "25%        502.800000\n",
      "50%       1800.000000\n",
      "75%       3868.960000\n",
      "max      85891.480000\n",
      "Name: MOOP, dtype: float64\n"
     ]
    },
    {
     "data": {
      "text/plain": [
       "<matplotlib.axes._subplots.AxesSubplot at 0x7f983ca87090>"
      ]
     },
     "execution_count": 22,
     "metadata": {},
     "output_type": "execute_result"
    },
    {
     "data": {
      "image/png": "[encoded data removed]",
      "text/plain": [
       "<matplotlib.figure.Figure at 0x7f97729eb890>"
      ]
     },
     "metadata": {},
     "output_type": "display_data"
    }
   ],
   "source": [
    "print X.MOOP.describe()\n",
    "(X.MOOP).hist(bins = 100)"
   ]
  },
  {
   "cell_type": "code",
   "execution_count": 23,
   "metadata": {
    "collapsed": false
   },
   "outputs": [
    {
     "name": "stderr",
     "output_type": "stream",
     "text": [
      "/gpfs1/cusp/vys217/.conda/envs/JVEvys217/lib/python2.7/site-packages/ipykernel_launcher.py:1: SettingWithCopyWarning: \n",
      "A value is trying to be set on a copy of a slice from a DataFrame\n",
      "\n",
      "See the caveats in the documentation: http://pandas.pydata.org/pandas-docs/stable/indexing.html#indexing-view-versus-copy\n",
      "  \"\"\"Entry point for launching an IPython kernel.\n",
      "/gpfs1/cusp/vys217/.conda/envs/JVEvys217/lib/python2.7/site-packages/ipykernel_launcher.py:2: SettingWithCopyWarning: \n",
      "A value is trying to be set on a copy of a slice from a DataFrame\n",
      "\n",
      "See the caveats in the documentation: http://pandas.pydata.org/pandas-docs/stable/indexing.html#indexing-view-versus-copy\n",
      "  \n"
     ]
    }
   ],
   "source": [
    "X.MOOP[X.MOOP == 0.0] = 0\n",
    "X.MOOP[X.MOOP != 0.0] = 1"
   ]
  },
  {
   "cell_type": "code",
   "execution_count": 152,
   "metadata": {
    "collapsed": false
   },
   "outputs": [
    {
     "data": {
      "text/plain": [
       "<matplotlib.axes._subplots.AxesSubplot at 0x7f2948228b90>"
      ]
     },
     "execution_count": 152,
     "metadata": {},
     "output_type": "execute_result"
    },
    {
     "data": {
      "image/png": "[encoded data removed]",
      "text/plain": [
       "<matplotlib.figure.Figure at 0x7f295a7cfc10>"
      ]
     },
     "metadata": {},
     "output_type": "display_data"
    }
   ],
   "source": [
    "X.MOOP.plot.box()"
   ]
  },
  {
   "cell_type": "code",
   "execution_count": 154,
   "metadata": {
    "collapsed": false
   },
   "outputs": [
    {
     "data": {
      "text/plain": [
       "9401.2399999999998"
      ]
     },
     "execution_count": 154,
     "metadata": {},
     "output_type": "execute_result"
    }
   ],
   "source": [
    "X.MOOP.quantile(0.95)"
   ]
  },
  {
   "cell_type": "code",
   "execution_count": 173,
   "metadata": {
    "collapsed": false
   },
   "outputs": [
    {
     "data": {
      "text/plain": [
       "1800.0"
      ]
     },
     "execution_count": 173,
     "metadata": {},
     "output_type": "execute_result"
    }
   ],
   "source": [
    "X.MOOP.median()"
   ]
  },
  {
   "cell_type": "code",
   "execution_count": 199,
   "metadata": {
    "collapsed": false
   },
   "outputs": [
    {
     "data": {
      "text/plain": [
       "(24700, 28)"
      ]
     },
     "execution_count": 199,
     "metadata": {},
     "output_type": "execute_result"
    }
   ],
   "source": [
    "X.shape"
   ]
  },
  {
   "cell_type": "code",
   "execution_count": 200,
   "metadata": {
    "collapsed": false
   },
   "outputs": [
    {
     "name": "stdout",
     "output_type": "stream",
     "text": [
      "0.000000        23924\n",
      "5303.158444        16\n",
      "3181.895067        16\n",
      "2143.351479        13\n",
      "2121.263378        11\n",
      "4286.702958        11\n",
      "1590.947533        11\n",
      "2651.579222         9\n",
      "4242.526755         9\n",
      "3215.027219         9\n",
      "1060.631689         8\n",
      "3977.368833         8\n",
      "6430.054437         8\n",
      "530.315844          7\n",
      "7954.737666         7\n",
      "5144.043550         7\n",
      "4507.684678         7\n",
      "3643.697514         6\n",
      "1071.675740         6\n",
      "1286.010887         5\n",
      "7287.395029         5\n",
      "9280.527277         5\n",
      "9015.369355         5\n",
      "6363.790133         5\n",
      "2916.737144         5\n",
      "5358.378698         5\n",
      "10606.316889        5\n",
      "1929.016331         5\n",
      "1500.346035         5\n",
      "12860.108874        5\n",
      "                ...  \n",
      "1800.415242         1\n",
      "954.568520          1\n",
      "108.816306          1\n",
      "1030.457442         1\n",
      "3314.474028         1\n",
      "228.443748          1\n",
      "2937.133908         1\n",
      "6021.124511         1\n",
      "12002.768283        1\n",
      "4754.485513         1\n",
      "2267.006372         1\n",
      "4136.463587         1\n",
      "883.859741          1\n",
      "5378.987847         1\n",
      "535.837870          1\n",
      "28077.904376        1\n",
      "69.348995           1\n",
      "14277.734273        1\n",
      "1154.112335         1\n",
      "1040.234926         1\n",
      "3875.385017         1\n",
      "4629.639195         1\n",
      "2304.102840         1\n",
      "949.669578          1\n",
      "348.784652          1\n",
      "9087.810271         1\n",
      "2804.554946         1\n",
      "1305.795670         1\n",
      "3126.823806         1\n",
      "1393.178461         1\n",
      "Name: Childcare, dtype: int64\n"
     ]
    },
    {
     "data": {
      "text/plain": [
       "<matplotlib.axes._subplots.AxesSubplot at 0x7f2946c56950>"
      ]
     },
     "execution_count": 200,
     "metadata": {},
     "output_type": "execute_result"
    },
    {
     "data": {
      "image/png": "[encoded data removed]",
      "text/plain": [
       "<matplotlib.figure.Figure at 0x7f2946dc4350>"
      ]
     },
     "metadata": {},
     "output_type": "display_data"
    }
   ],
   "source": [
    "print X.Childcare.value_counts()\n",
    "X.Childcare.hist(log = True, bins=100)"
   ]
  },
  {
   "cell_type": "code",
   "execution_count": 16,
   "metadata": {
    "collapsed": false
   },
   "outputs": [
    {
     "name": "stderr",
     "output_type": "stream",
     "text": [
      "/gpfs1/cusp/vys217/.conda/envs/JVEvys217/lib/python2.7/site-packages/ipykernel_launcher.py:1: SettingWithCopyWarning: \n",
      "A value is trying to be set on a copy of a slice from a DataFrame\n",
      "\n",
      "See the caveats in the documentation: http://pandas.pydata.org/pandas-docs/stable/indexing.html#indexing-view-versus-copy\n",
      "  \"\"\"Entry point for launching an IPython kernel.\n",
      "/gpfs1/cusp/vys217/.conda/envs/JVEvys217/lib/python2.7/site-packages/ipykernel_launcher.py:2: SettingWithCopyWarning: \n",
      "A value is trying to be set on a copy of a slice from a DataFrame\n",
      "\n",
      "See the caveats in the documentation: http://pandas.pydata.org/pandas-docs/stable/indexing.html#indexing-view-versus-copy\n",
      "  \n"
     ]
    }
   ],
   "source": [
    "X.Childcare[X.Childcare == 0.0] = 0\n",
    "X.Childcare[X.Childcare != 0.0] = 1"
   ]
  },
  {
   "cell_type": "code",
   "execution_count": 190,
   "metadata": {
    "collapsed": false
   },
   "outputs": [
    {
     "data": {
      "text/plain": [
       "2.0    480\n",
       "1.0    193\n",
       "0.0    103\n",
       "Name: Pov_risk, dtype: int64"
      ]
     },
     "execution_count": 190,
     "metadata": {},
     "output_type": "execute_result"
    }
   ],
   "source": [
    "X[X.Childcare == 1].Pov_risk.value_counts()"
   ]
  },
  {
   "cell_type": "code",
   "execution_count": 186,
   "metadata": {
    "collapsed": false
   },
   "outputs": [
    {
     "data": {
      "text/plain": [
       "0.0    23924\n",
       "1.0      776\n",
       "Name: Childcare, dtype: int64"
      ]
     },
     "execution_count": 186,
     "metadata": {},
     "output_type": "execute_result"
    }
   ],
   "source": [
    "X.Childcare.value_counts()"
   ]
  },
  {
   "cell_type": "code",
   "execution_count": 204,
   "metadata": {
    "collapsed": false
   },
   "outputs": [
    {
     "name": "stdout",
     "output_type": "stream",
     "text": [
      "0.0       20980\n",
      "1756.0      204\n",
      "1615.0       61\n",
      "1905.0       49\n",
      "1764.0       42\n",
      "3228.0       41\n",
      "149.0        14\n",
      "298.0        14\n",
      "1607.0       14\n",
      "120.0        12\n",
      "140.0        10\n",
      "1011.0       10\n",
      "3512.0       10\n",
      "423.0         9\n",
      "240.0         9\n",
      "447.0         9\n",
      "3371.0        8\n",
      "2969.0        8\n",
      "894.0         8\n",
      "564.0         8\n",
      "80.0          8\n",
      "1409.0        7\n",
      "1897.0        7\n",
      "4628.0        7\n",
      "2038.0        6\n",
      "786.0         6\n",
      "3208.0        6\n",
      "200.0         6\n",
      "1484.0        6\n",
      "282.0         6\n",
      "          ...  \n",
      "3580.0        1\n",
      "3583.0        1\n",
      "3594.0        1\n",
      "3595.0        1\n",
      "3599.0        1\n",
      "3600.0        1\n",
      "3605.0        1\n",
      "3609.0        1\n",
      "3611.0        1\n",
      "3612.0        1\n",
      "3613.0        1\n",
      "3635.0        1\n",
      "3638.0        1\n",
      "3643.0        1\n",
      "3714.0        1\n",
      "3645.0        1\n",
      "3646.0        1\n",
      "3650.0        1\n",
      "3658.0        1\n",
      "3663.0        1\n",
      "3665.0        1\n",
      "3666.0        1\n",
      "3675.0        1\n",
      "3676.0        1\n",
      "3681.0        1\n",
      "3685.0        1\n",
      "3695.0        1\n",
      "3700.0        1\n",
      "410.0         1\n",
      "2635.0        1\n",
      "Name: FoodStamps, dtype: int64\n"
     ]
    },
    {
     "data": {
      "text/plain": [
       "<matplotlib.axes._subplots.AxesSubplot at 0x7f2946030290>"
      ]
     },
     "execution_count": 204,
     "metadata": {},
     "output_type": "execute_result"
    },
    {
     "data": {
      "image/png": "[encoded data removed]",
      "text/plain": [
       "<matplotlib.figure.Figure at 0x7f2946d73b10>"
      ]
     },
     "metadata": {},
     "output_type": "display_data"
    }
   ],
   "source": [
    "print X.FoodStamps.value_counts()\n",
    "X.FoodStamps.hist(bins=100, log = True)"
   ]
  },
  {
   "cell_type": "code",
   "execution_count": 203,
   "metadata": {
    "collapsed": false
   },
   "outputs": [
    {
     "data": {
      "text/plain": [
       "<matplotlib.axes._subplots.AxesSubplot at 0x7f29464097d0>"
      ]
     },
     "execution_count": 203,
     "metadata": {},
     "output_type": "execute_result"
    },
    {
     "data": {
      "image/png": "[encoded data removed]",
      "text/plain": [
       "<matplotlib.figure.Figure at 0x7f2946485410>"
      ]
     },
     "metadata": {},
     "output_type": "display_data"
    }
   ],
   "source": [
    "np.sqrt(X.FoodStamps).hist(bins=100, log = True)"
   ]
  },
  {
   "cell_type": "code",
   "execution_count": 17,
   "metadata": {
    "collapsed": false
   },
   "outputs": [
    {
     "name": "stderr",
     "output_type": "stream",
     "text": [
      "/gpfs1/cusp/vys217/.conda/envs/JVEvys217/lib/python2.7/site-packages/ipykernel_launcher.py:1: SettingWithCopyWarning: \n",
      "A value is trying to be set on a copy of a slice from a DataFrame\n",
      "\n",
      "See the caveats in the documentation: http://pandas.pydata.org/pandas-docs/stable/indexing.html#indexing-view-versus-copy\n",
      "  \"\"\"Entry point for launching an IPython kernel.\n",
      "/gpfs1/cusp/vys217/.conda/envs/JVEvys217/lib/python2.7/site-packages/ipykernel_launcher.py:2: SettingWithCopyWarning: \n",
      "A value is trying to be set on a copy of a slice from a DataFrame\n",
      "\n",
      "See the caveats in the documentation: http://pandas.pydata.org/pandas-docs/stable/indexing.html#indexing-view-versus-copy\n",
      "  \n"
     ]
    }
   ],
   "source": [
    "X.FoodStamps[X.FoodStamps == 0.0] = 0\n",
    "X.FoodStamps[X.FoodStamps != 0.0] = 1"
   ]
  },
  {
   "cell_type": "code",
   "execution_count": 207,
   "metadata": {
    "collapsed": false
   },
   "outputs": [
    {
     "data": {
      "text/plain": [
       "0.0    20980\n",
       "1.0     3720\n",
       "Name: FoodStamps, dtype: int64"
      ]
     },
     "execution_count": 207,
     "metadata": {},
     "output_type": "execute_result"
    }
   ],
   "source": [
    "X.FoodStamps.value_counts()"
   ]
  },
  {
   "cell_type": "code",
   "execution_count": 210,
   "metadata": {
    "collapsed": false
   },
   "outputs": [
    {
     "name": "stdout",
     "output_type": "stream",
     "text": [
      "0.000000       7352\n",
      "940.000000     2298\n",
      "1128.000000     821\n",
      "752.000000      769\n",
      "1316.000000     483\n",
      "1880.000000     425\n",
      "564.000000      203\n",
      "1660.500000     196\n",
      "1692.000000     181\n",
      "902.400000      171\n",
      "1107.000000     154\n",
      "2256.000000     142\n",
      "2068.000000     142\n",
      "830.250000      134\n",
      "1504.000000     125\n",
      "376.000000      121\n",
      "451.200000      114\n",
      "1328.400000     108\n",
      "2000.000000     105\n",
      "553.500000       98\n",
      "601.600000       94\n",
      "664.200000       93\n",
      "188.000000       90\n",
      "2490.750000      82\n",
      "1992.600000      73\n",
      "3321.000000      70\n",
      "1383.750000      66\n",
      "676.800000       65\n",
      "2444.000000      63\n",
      "721.920000       63\n",
      "               ... \n",
      "2605.040000       1\n",
      "7000.950000       1\n",
      "1144.600000       1\n",
      "3722.860000       1\n",
      "181.090000        1\n",
      "2312.300000       1\n",
      "2207.120000       1\n",
      "7057.125000       1\n",
      "950.812500        1\n",
      "3417.500000       1\n",
      "3516.224000       1\n",
      "703.120000        1\n",
      "3933.500000       1\n",
      "2998.100000       1\n",
      "652.750000        1\n",
      "2130.500000       1\n",
      "6918.750000       1\n",
      "2595.960000       1\n",
      "2526.275000       1\n",
      "5862.650000       1\n",
      "9334.328000       1\n",
      "1513.920000       1\n",
      "1355.833333       1\n",
      "136.300000        1\n",
      "2338.720000       1\n",
      "807.080000        1\n",
      "4974.950000       1\n",
      "160.630000        1\n",
      "1995.120000       1\n",
      "448.192000        1\n",
      "Name: Commuting, dtype: int64\n"
     ]
    },
    {
     "data": {
      "text/plain": [
       "<matplotlib.axes._subplots.AxesSubplot at 0x7f294546f3d0>"
      ]
     },
     "execution_count": 210,
     "metadata": {},
     "output_type": "execute_result"
    },
    {
     "data": {
      "image/png": "[encoded data removed]",
      "text/plain": [
       "<matplotlib.figure.Figure at 0x7f2945476a10>"
      ]
     },
     "metadata": {},
     "output_type": "display_data"
    }
   ],
   "source": [
    "print X.Commuting.value_counts()\n",
    "X.Commuting.hist(log = True, bins=100)"
   ]
  },
  {
   "cell_type": "code",
   "execution_count": 222,
   "metadata": {
    "collapsed": false
   },
   "outputs": [
    {
     "data": {
      "text/plain": [
       "2.0    8861\n",
       "0.0    4293\n",
       "1.0    3469\n",
       "Name: Pov_risk, dtype: int64"
      ]
     },
     "execution_count": 222,
     "metadata": {},
     "output_type": "execute_result"
    }
   ],
   "source": [
    "X[(((X.Commuting - X.Commuting.mean()) / X.Commuting.std()) < 0) &\n",
    "  (((X.Commuting - X.Commuting.mean()) / X.Commuting.std()) >= -1)].Pov_risk.value_counts()"
   ]
  },
  {
   "cell_type": "code",
   "execution_count": 244,
   "metadata": {
    "collapsed": false
   },
   "outputs": [
    {
     "data": {
      "text/plain": [
       "<matplotlib.axes._subplots.AxesSubplot at 0x7f2943d13690>"
      ]
     },
     "execution_count": 244,
     "metadata": {},
     "output_type": "execute_result"
    },
    {
     "data": {
      "image/png": "[encoded data removed]",
      "text/plain": [
       "<matplotlib.figure.Figure at 0x7f2943f91190>"
      ]
     },
     "metadata": {},
     "output_type": "display_data"
    }
   ],
   "source": [
    "np.sqrt(X.Commuting).hist(bins= 100)"
   ]
  },
  {
   "cell_type": "code",
   "execution_count": 257,
   "metadata": {
    "collapsed": false
   },
   "outputs": [
    {
     "data": {
      "text/plain": [
       "2.0    3109\n",
       "0.0    2969\n",
       "1.0    1723\n",
       "Name: Pov_risk, dtype: int64"
      ]
     },
     "execution_count": 257,
     "metadata": {},
     "output_type": "execute_result"
    }
   ],
   "source": [
    "X[(np.sqrt(X.Commuting) < 10)].Pov_risk.value_counts()"
   ]
  },
  {
   "cell_type": "code",
   "execution_count": 18,
   "metadata": {
    "collapsed": false
   },
   "outputs": [
    {
     "name": "stderr",
     "output_type": "stream",
     "text": [
      "/gpfs1/cusp/vys217/.conda/envs/JVEvys217/lib/python2.7/site-packages/ipykernel_launcher.py:1: SettingWithCopyWarning: \n",
      "A value is trying to be set on a copy of a slice from a DataFrame\n",
      "\n",
      "See the caveats in the documentation: http://pandas.pydata.org/pandas-docs/stable/indexing.html#indexing-view-versus-copy\n",
      "  \"\"\"Entry point for launching an IPython kernel.\n",
      "/gpfs1/cusp/vys217/.conda/envs/JVEvys217/lib/python2.7/site-packages/ipykernel_launcher.py:2: SettingWithCopyWarning: \n",
      "A value is trying to be set on a copy of a slice from a DataFrame\n",
      "\n",
      "See the caveats in the documentation: http://pandas.pydata.org/pandas-docs/stable/indexing.html#indexing-view-versus-copy\n",
      "  \n"
     ]
    }
   ],
   "source": [
    "X.Commuting[X.Commuting == 0.0] = 0\n",
    "X.Commuting[X.Commuting != 0.0] = 1"
   ]
  },
  {
   "cell_type": "code",
   "execution_count": 72,
   "metadata": {
    "collapsed": false
   },
   "outputs": [
    {
     "data": {
      "text/plain": [
       "<matplotlib.axes._subplots.AxesSubplot at 0x7f295ae62150>"
      ]
     },
     "execution_count": 72,
     "metadata": {},
     "output_type": "execute_result"
    },
    {
     "data": {
      "image/png": "[encoded data removed]",
      "text/plain": [
       "<matplotlib.figure.Figure at 0x7f295abb2f90>"
      ]
     },
     "metadata": {},
     "output_type": "display_data"
    }
   ],
   "source": [
    "X.Housing.unique()\n",
    "X.Housing.hist()"
   ]
  },
  {
   "cell_type": "code",
   "execution_count": 19,
   "metadata": {
    "collapsed": false
   },
   "outputs": [
    {
     "name": "stderr",
     "output_type": "stream",
     "text": [
      "/gpfs1/cusp/vys217/.conda/envs/JVEvys217/lib/python2.7/site-packages/ipykernel_launcher.py:1: SettingWithCopyWarning: \n",
      "A value is trying to be set on a copy of a slice from a DataFrame\n",
      "\n",
      "See the caveats in the documentation: http://pandas.pydata.org/pandas-docs/stable/indexing.html#indexing-view-versus-copy\n",
      "  \"\"\"Entry point for launching an IPython kernel.\n",
      "/gpfs1/cusp/vys217/.conda/envs/JVEvys217/lib/python2.7/site-packages/ipykernel_launcher.py:2: SettingWithCopyWarning: \n",
      "A value is trying to be set on a copy of a slice from a DataFrame\n",
      "\n",
      "See the caveats in the documentation: http://pandas.pydata.org/pandas-docs/stable/indexing.html#indexing-view-versus-copy\n",
      "  \n"
     ]
    }
   ],
   "source": [
    "X.Housing[X.Housing == 0.0] = 0\n",
    "X.Housing[X.Housing != 0.0] = 1"
   ]
  },
  {
   "cell_type": "code",
   "execution_count": 24,
   "metadata": {
    "collapsed": false
   },
   "outputs": [
    {
     "data": {
      "text/html": [
       "<div>\n",
       "<table border=\"1\" class=\"dataframe\">\n",
       "  <thead>\n",
       "    <tr style=\"text-align: right;\">\n",
       "      <th></th>\n",
       "      <th>PovunitType</th>\n",
       "      <th>EducAttain_2</th>\n",
       "      <th>WorkExpIndiv</th>\n",
       "      <th>Povunit</th>\n",
       "      <th>ACR</th>\n",
       "      <th>SchoolBreakfast</th>\n",
       "      <th>HEAP</th>\n",
       "      <th>CitizenStatus</th>\n",
       "      <th>AgeCateg_2</th>\n",
       "      <th>AgeCateg_3</th>\n",
       "      <th>...</th>\n",
       "      <th>MV</th>\n",
       "      <th>Childcare</th>\n",
       "      <th>EducAttain_3</th>\n",
       "      <th>NP</th>\n",
       "      <th>EducAttain_1</th>\n",
       "      <th>FoodStamps</th>\n",
       "      <th>JWTR</th>\n",
       "      <th>Commuting</th>\n",
       "      <th>Housing</th>\n",
       "      <th>Pov_risk</th>\n",
       "    </tr>\n",
       "  </thead>\n",
       "  <tbody>\n",
       "    <tr>\n",
       "      <th>count</th>\n",
       "      <td>24700.000000</td>\n",
       "      <td>24700.000000</td>\n",
       "      <td>24700.000000</td>\n",
       "      <td>24700.000000</td>\n",
       "      <td>24700.000000</td>\n",
       "      <td>24700.000000</td>\n",
       "      <td>24700.000000</td>\n",
       "      <td>24700.000000</td>\n",
       "      <td>24700.000000</td>\n",
       "      <td>24700.000000</td>\n",
       "      <td>...</td>\n",
       "      <td>24700.000000</td>\n",
       "      <td>24700.000000</td>\n",
       "      <td>24700.000000</td>\n",
       "      <td>24700.000000</td>\n",
       "      <td>24700.000000</td>\n",
       "      <td>24700.000000</td>\n",
       "      <td>24700.000000</td>\n",
       "      <td>24700.000000</td>\n",
       "      <td>24700.000000</td>\n",
       "      <td>24700.000000</td>\n",
       "    </tr>\n",
       "    <tr>\n",
       "      <th>mean</th>\n",
       "      <td>4.552713</td>\n",
       "      <td>2.449879</td>\n",
       "      <td>1.894737</td>\n",
       "      <td>1.063725</td>\n",
       "      <td>0.214008</td>\n",
       "      <td>8.636144</td>\n",
       "      <td>0.143522</td>\n",
       "      <td>1.543644</td>\n",
       "      <td>2.449879</td>\n",
       "      <td>2.449879</td>\n",
       "      <td>...</td>\n",
       "      <td>4.275830</td>\n",
       "      <td>0.031417</td>\n",
       "      <td>2.449879</td>\n",
       "      <td>2.449879</td>\n",
       "      <td>2.449879</td>\n",
       "      <td>0.150607</td>\n",
       "      <td>2.713927</td>\n",
       "      <td>0.702348</td>\n",
       "      <td>0.324251</td>\n",
       "      <td>1.430405</td>\n",
       "    </tr>\n",
       "    <tr>\n",
       "      <th>std</th>\n",
       "      <td>2.878910</td>\n",
       "      <td>1.542217</td>\n",
       "      <td>0.865700</td>\n",
       "      <td>0.311441</td>\n",
       "      <td>0.426498</td>\n",
       "      <td>62.001165</td>\n",
       "      <td>0.350612</td>\n",
       "      <td>0.735962</td>\n",
       "      <td>1.542217</td>\n",
       "      <td>1.542217</td>\n",
       "      <td>...</td>\n",
       "      <td>1.842098</td>\n",
       "      <td>0.174445</td>\n",
       "      <td>1.542217</td>\n",
       "      <td>1.542217</td>\n",
       "      <td>1.542217</td>\n",
       "      <td>0.357673</td>\n",
       "      <td>3.010277</td>\n",
       "      <td>0.457235</td>\n",
       "      <td>0.468104</td>\n",
       "      <td>0.795280</td>\n",
       "    </tr>\n",
       "    <tr>\n",
       "      <th>min</th>\n",
       "      <td>1.000000</td>\n",
       "      <td>1.000000</td>\n",
       "      <td>1.000000</td>\n",
       "      <td>1.000000</td>\n",
       "      <td>0.000000</td>\n",
       "      <td>0.000000</td>\n",
       "      <td>0.000000</td>\n",
       "      <td>1.000000</td>\n",
       "      <td>1.000000</td>\n",
       "      <td>1.000000</td>\n",
       "      <td>...</td>\n",
       "      <td>1.000000</td>\n",
       "      <td>0.000000</td>\n",
       "      <td>1.000000</td>\n",
       "      <td>1.000000</td>\n",
       "      <td>1.000000</td>\n",
       "      <td>0.000000</td>\n",
       "      <td>0.000000</td>\n",
       "      <td>0.000000</td>\n",
       "      <td>0.000000</td>\n",
       "      <td>0.000000</td>\n",
       "    </tr>\n",
       "    <tr>\n",
       "      <th>25%</th>\n",
       "      <td>2.000000</td>\n",
       "      <td>1.000000</td>\n",
       "      <td>1.000000</td>\n",
       "      <td>1.000000</td>\n",
       "      <td>0.000000</td>\n",
       "      <td>0.000000</td>\n",
       "      <td>0.000000</td>\n",
       "      <td>1.000000</td>\n",
       "      <td>1.000000</td>\n",
       "      <td>1.000000</td>\n",
       "      <td>...</td>\n",
       "      <td>3.000000</td>\n",
       "      <td>0.000000</td>\n",
       "      <td>1.000000</td>\n",
       "      <td>1.000000</td>\n",
       "      <td>1.000000</td>\n",
       "      <td>0.000000</td>\n",
       "      <td>0.000000</td>\n",
       "      <td>0.000000</td>\n",
       "      <td>0.000000</td>\n",
       "      <td>1.000000</td>\n",
       "    </tr>\n",
       "    <tr>\n",
       "      <th>50%</th>\n",
       "      <td>4.000000</td>\n",
       "      <td>2.000000</td>\n",
       "      <td>2.000000</td>\n",
       "      <td>1.000000</td>\n",
       "      <td>0.000000</td>\n",
       "      <td>0.000000</td>\n",
       "      <td>0.000000</td>\n",
       "      <td>1.000000</td>\n",
       "      <td>2.000000</td>\n",
       "      <td>2.000000</td>\n",
       "      <td>...</td>\n",
       "      <td>4.000000</td>\n",
       "      <td>0.000000</td>\n",
       "      <td>2.000000</td>\n",
       "      <td>2.000000</td>\n",
       "      <td>2.000000</td>\n",
       "      <td>0.000000</td>\n",
       "      <td>2.000000</td>\n",
       "      <td>1.000000</td>\n",
       "      <td>0.000000</td>\n",
       "      <td>2.000000</td>\n",
       "    </tr>\n",
       "    <tr>\n",
       "      <th>75%</th>\n",
       "      <td>8.000000</td>\n",
       "      <td>3.000000</td>\n",
       "      <td>3.000000</td>\n",
       "      <td>1.000000</td>\n",
       "      <td>0.000000</td>\n",
       "      <td>0.000000</td>\n",
       "      <td>0.000000</td>\n",
       "      <td>2.000000</td>\n",
       "      <td>3.000000</td>\n",
       "      <td>3.000000</td>\n",
       "      <td>...</td>\n",
       "      <td>6.000000</td>\n",
       "      <td>0.000000</td>\n",
       "      <td>3.000000</td>\n",
       "      <td>3.000000</td>\n",
       "      <td>3.000000</td>\n",
       "      <td>0.000000</td>\n",
       "      <td>4.000000</td>\n",
       "      <td>1.000000</td>\n",
       "      <td>1.000000</td>\n",
       "      <td>2.000000</td>\n",
       "    </tr>\n",
       "    <tr>\n",
       "      <th>max</th>\n",
       "      <td>8.000000</td>\n",
       "      <td>18.000000</td>\n",
       "      <td>3.000000</td>\n",
       "      <td>7.000000</td>\n",
       "      <td>3.000000</td>\n",
       "      <td>1291.500000</td>\n",
       "      <td>1.000000</td>\n",
       "      <td>3.000000</td>\n",
       "      <td>18.000000</td>\n",
       "      <td>18.000000</td>\n",
       "      <td>...</td>\n",
       "      <td>7.000000</td>\n",
       "      <td>1.000000</td>\n",
       "      <td>18.000000</td>\n",
       "      <td>18.000000</td>\n",
       "      <td>18.000000</td>\n",
       "      <td>1.000000</td>\n",
       "      <td>12.000000</td>\n",
       "      <td>1.000000</td>\n",
       "      <td>1.000000</td>\n",
       "      <td>2.000000</td>\n",
       "    </tr>\n",
       "  </tbody>\n",
       "</table>\n",
       "<p>8 rows × 28 columns</p>\n",
       "</div>"
      ],
      "text/plain": [
       "        PovunitType  EducAttain_2  WorkExpIndiv       Povunit           ACR  \\\n",
       "count  24700.000000  24700.000000  24700.000000  24700.000000  24700.000000   \n",
       "mean       4.552713      2.449879      1.894737      1.063725      0.214008   \n",
       "std        2.878910      1.542217      0.865700      0.311441      0.426498   \n",
       "min        1.000000      1.000000      1.000000      1.000000      0.000000   \n",
       "25%        2.000000      1.000000      1.000000      1.000000      0.000000   \n",
       "50%        4.000000      2.000000      2.000000      1.000000      0.000000   \n",
       "75%        8.000000      3.000000      3.000000      1.000000      0.000000   \n",
       "max        8.000000     18.000000      3.000000      7.000000      3.000000   \n",
       "\n",
       "       SchoolBreakfast          HEAP  CitizenStatus    AgeCateg_2  \\\n",
       "count     24700.000000  24700.000000   24700.000000  24700.000000   \n",
       "mean          8.636144      0.143522       1.543644      2.449879   \n",
       "std          62.001165      0.350612       0.735962      1.542217   \n",
       "min           0.000000      0.000000       1.000000      1.000000   \n",
       "25%           0.000000      0.000000       1.000000      1.000000   \n",
       "50%           0.000000      0.000000       1.000000      2.000000   \n",
       "75%           0.000000      0.000000       2.000000      3.000000   \n",
       "max        1291.500000      1.000000       3.000000     18.000000   \n",
       "\n",
       "         AgeCateg_3      ...                 MV     Childcare  EducAttain_3  \\\n",
       "count  24700.000000      ...       24700.000000  24700.000000  24700.000000   \n",
       "mean       2.449879      ...           4.275830      0.031417      2.449879   \n",
       "std        1.542217      ...           1.842098      0.174445      1.542217   \n",
       "min        1.000000      ...           1.000000      0.000000      1.000000   \n",
       "25%        1.000000      ...           3.000000      0.000000      1.000000   \n",
       "50%        2.000000      ...           4.000000      0.000000      2.000000   \n",
       "75%        3.000000      ...           6.000000      0.000000      3.000000   \n",
       "max       18.000000      ...           7.000000      1.000000     18.000000   \n",
       "\n",
       "                 NP  EducAttain_1    FoodStamps          JWTR     Commuting  \\\n",
       "count  24700.000000  24700.000000  24700.000000  24700.000000  24700.000000   \n",
       "mean       2.449879      2.449879      0.150607      2.713927      0.702348   \n",
       "std        1.542217      1.542217      0.357673      3.010277      0.457235   \n",
       "min        1.000000      1.000000      0.000000      0.000000      0.000000   \n",
       "25%        1.000000      1.000000      0.000000      0.000000      0.000000   \n",
       "50%        2.000000      2.000000      0.000000      2.000000      1.000000   \n",
       "75%        3.000000      3.000000      0.000000      4.000000      1.000000   \n",
       "max       18.000000     18.000000      1.000000     12.000000      1.000000   \n",
       "\n",
       "            Housing      Pov_risk  \n",
       "count  24700.000000  24700.000000  \n",
       "mean       0.324251      1.430405  \n",
       "std        0.468104      0.795280  \n",
       "min        0.000000      0.000000  \n",
       "25%        0.000000      1.000000  \n",
       "50%        0.000000      2.000000  \n",
       "75%        1.000000      2.000000  \n",
       "max        1.000000      2.000000  \n",
       "\n",
       "[8 rows x 28 columns]"
      ]
     },
     "execution_count": 24,
     "metadata": {},
     "output_type": "execute_result"
    }
   ],
   "source": [
    "X.describe()"
   ]
  },
  {
   "cell_type": "code",
   "execution_count": 25,
   "metadata": {
    "collapsed": true
   },
   "outputs": [],
   "source": [
    "train,test=train_test_split(X,random_state=9,test_size=0.4)"
   ]
  },
  {
   "cell_type": "code",
   "execution_count": 26,
   "metadata": {
    "collapsed": false
   },
   "outputs": [
    {
     "name": "stdout",
     "output_type": "stream",
     "text": [
      "[('Housing', 'HousingStatus'), ('WorkersEquiv', 'SchoolLunch'), ('WorkersEquiv', 'WorkExpIndiv'), ('WorkersEquiv', 'Pov_risk'), ('WorkersEquiv', 'Commuting'), ('WorkersEquiv', 'EducAttain_3'), ('CitizenStatus', 'Pov_risk'), ('AgeCateg_1', 'EducAttain_2'), ('AgeCateg_2', 'PovunitType'), ('AgeCateg_2', 'AgeCateg_1'), ('AgeCateg_3', 'NP'), ('WorkExpIndiv', 'FoodStamps'), ('WorkExpIndiv', 'MV'), ('WorkExpIndiv', 'Childcare'), ('Pov_risk', 'MOOP'), ('Pov_risk', 'FoodStamps'), ('Pov_risk', 'Housing'), ('SchoolLunch', 'SchoolBreakfast'), ('SchoolLunch', 'FoodStamps'), ('SchoolLunch', 'Pov_risk'), ('SchoolLunch', 'CitizenStatus'), ('SchoolLunch', 'MV'), ('JWTR', 'WorkersEquiv'), ('JWTR', 'Commuting'), ('PovunitType', 'WorkExpIndiv'), ('PovunitType', 'WIC'), ('PovunitType', 'HousingStatus'), ('PovunitType', 'Povunit'), ('PovunitType', 'SchoolLunch'), ('PovunitType', 'Childcare'), ('PovunitType', 'HEAP'), ('HEAP', 'MOOP'), ('HEAP', 'WIC'), ('HousingStatus', 'ACR'), ('EducAttain_4', 'EducAttain_1'), ('MV', 'Housing'), ('MV', 'CitizenStatus'), ('EducAttain_3', 'AgeCateg_2'), ('EducAttain_2', 'EducAttain_4'), ('EducAttain_2', 'EducAttain_ '), ('EducAttain_2', 'AgeCateg_3'), ('FoodStamps', 'Housing'), ('FoodStamps', 'HEAP')]\n"
     ]
    }
   ],
   "source": [
    "hc = HillClimbSearch(train, scoring_method=BicScore(train))\n",
    "best_model = hc.estimate()\n",
    "print(best_model.edges())"
   ]
  },
  {
   "cell_type": "code",
   "execution_count": 27,
   "metadata": {
    "collapsed": true
   },
   "outputs": [],
   "source": [
    "G = nx.DiGraph()"
   ]
  },
  {
   "cell_type": "code",
   "execution_count": 34,
   "metadata": {
    "collapsed": false
   },
   "outputs": [
    {
     "data": {
      "image/png": "[encoded data removed]",
      "text/plain": [
       "<matplotlib.figure.Figure at 0x7f976ddafc10>"
      ]
     },
     "metadata": {},
     "output_type": "display_data"
    }
   ],
   "source": [
    "G.add_edges_from(best_model.edges())\n",
    "nx.draw(G, with_labels=True, arrows=True, node_size=700)"
   ]
  },
  {
   "cell_type": "code",
   "execution_count": null,
   "metadata": {
    "collapsed": true
   },
   "outputs": [],
   "source": []
  }
 ],
 "metadata": {
  "kernelspec": {
   "display_name": "kJVEvys217",
   "language": "python",
   "name": "kjvevys217"
  },
  "language_info": {
   "codemirror_mode": {
    "name": "ipython",
    "version": 2
   },
   "file_extension": ".py",
   "mimetype": "text/x-python",
   "name": "python",
   "nbconvert_exporter": "python",
   "pygments_lexer": "ipython2",
   "version": "2.7.13"
  }
 },
 "nbformat": 4,
 "nbformat_minor": 0
}
