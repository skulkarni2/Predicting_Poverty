{
 "cells": [
  {
   "cell_type": "code",
   "execution_count": 30,
   "metadata": {
    "collapsed": false
   },
   "outputs": [],
   "source": [
    "import os\n",
    "\n",
    "def get_data(years):\n",
    "    '''The function downloads a CSV file into the Data/ directory from the CEO website\n",
    "    Arguments:\n",
    "    years = list of years passed as string. Eg['2014', '2015']\n",
    "    '''\n",
    "      \n",
    "    if not (os.path.isdir(\"../Data/\")):\n",
    "        print \"Creating Folder - Data\"\n",
    "        os.system(\"mkdir ../Data\")\n",
    "            \n",
    "    for year in years:\n",
    "        if os.path.isfile(\"../Data/\" + year + \" NYC Web Dataset.csv\"):\n",
    "            print (\"File \" + year + \" NYC Web Dataset.csv already present in Data\")    \n",
    "            \n",
    "        else:\n",
    "            print \"Downloading \" + year + \"-NYC-Dataset.zip\"\n",
    "            os.system(\"wget http://www.nyc.gov/html/ceo/downloads/misc/\" + year + \"-NYC-Dataset.zip\")\n",
    "            \n",
    "            print \"Unzipping\"\n",
    "            os.system(\"unzip \" + year + \"-NYC-Dataset.zip\")\n",
    "\n",
    "            print \"Moving \" + year + \"-NYC-Dataset.zip\"\n",
    "            os.system(\"mv \" + year + \"-NYC-Dataset.zip ../Data/\")\n",
    "\n",
    "            print \"Moving \" + year + \" NYC Web Dataset.csv\"\n",
    "            os.system(\"mv \" + year + \"\\ NYC\\ Web\\ Dataset.csv ../Data/\")\n",
    "         \n",
    "        # One final check:\n",
    "        if not os.path.isfile(\"../Data/\" + year + \" NYC Web Dataset.csv\"):\n",
    "            print (\"WARNING!!! something is wrong: the file is not there!\")\n",
    "        else:\n",
    "            print (\"File in place\")"
   ]
  },
  {
   "cell_type": "code",
   "execution_count": 31,
   "metadata": {
    "collapsed": false
   },
   "outputs": [
    {
     "name": "stdout",
     "output_type": "stream",
     "text": [
      "File 2005 NYC Web Dataset.csv already present in Data\n",
      "File in place\n",
      "Downloading 2006-NYC-Dataset.zip\n",
      "Unzipping\n",
      "Moving 2006-NYC-Dataset.zip\n",
      "Moving 2006 NYC Web Dataset.csv\n",
      "File in place\n",
      "Downloading 2007-NYC-Dataset.zip\n",
      "Unzipping\n",
      "Moving 2007-NYC-Dataset.zip\n",
      "Moving 2007 NYC Web Dataset.csv\n",
      "File in place\n",
      "Downloading 2008-NYC-Dataset.zip\n",
      "Unzipping\n",
      "Moving 2008-NYC-Dataset.zip\n",
      "Moving 2008 NYC Web Dataset.csv\n",
      "File in place\n",
      "Downloading 2009-NYC-Dataset.zip\n",
      "Unzipping\n",
      "Moving 2009-NYC-Dataset.zip\n",
      "Moving 2009 NYC Web Dataset.csv\n",
      "File in place\n",
      "Downloading 2010-NYC-Dataset.zip\n",
      "Unzipping\n",
      "Moving 2010-NYC-Dataset.zip\n",
      "Moving 2010 NYC Web Dataset.csv\n",
      "File in place\n",
      "Downloading 2011-NYC-Dataset.zip\n",
      "Unzipping\n",
      "Moving 2011-NYC-Dataset.zip\n",
      "Moving 2011 NYC Web Dataset.csv\n",
      "File in place\n",
      "Downloading 2012-NYC-Dataset.zip\n",
      "Unzipping\n",
      "Moving 2012-NYC-Dataset.zip\n",
      "Moving 2012 NYC Web Dataset.csv\n",
      "File in place\n",
      "Downloading 2013-NYC-Dataset.zip\n",
      "Unzipping\n",
      "Moving 2013-NYC-Dataset.zip\n",
      "Moving 2013 NYC Web Dataset.csv\n",
      "File in place\n",
      "Downloading 2014-NYC-Dataset.zip\n",
      "Unzipping\n",
      "Moving 2014-NYC-Dataset.zip\n",
      "Moving 2014 NYC Web Dataset.csv\n",
      "File in place\n"
     ]
    }
   ],
   "source": [
    "get_data(['2005', '2006', '2007', '2008', '2009', '2010', '2011', '2012', '2013', '2014'])"
   ]
  },
  {
   "cell_type": "code",
   "execution_count": null,
   "metadata": {
    "collapsed": true
   },
   "outputs": [],
   "source": []
  }
 ],
 "metadata": {
  "kernelspec": {
   "display_name": "PUI2016_Python2",
   "language": "python",
   "name": "pui2016_python2"
  },
  "language_info": {
   "codemirror_mode": {
    "name": "ipython",
    "version": 2
   },
   "file_extension": ".py",
   "mimetype": "text/x-python",
   "name": "python",
   "nbconvert_exporter": "python",
   "pygments_lexer": "ipython2",
   "version": "2.7.12"
  }
 },
 "nbformat": 4,
 "nbformat_minor": 0
}
