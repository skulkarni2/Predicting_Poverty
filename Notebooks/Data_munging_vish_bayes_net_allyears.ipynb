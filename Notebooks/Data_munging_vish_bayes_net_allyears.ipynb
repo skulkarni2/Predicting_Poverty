{
 "cells": [
  {
   "cell_type": "code",
   "execution_count": 25,
   "metadata": {
    "collapsed": false
   },
   "outputs": [],
   "source": [
    "import numpy\n",
    "import pandas as pd\n",
    "import numpy as np\n",
    "from pgmpy.estimators import BdeuScore, K2Score, BicScore\n",
    "from pgmpy.models import BayesianModel\n",
    "from pgmpy.estimators import HillClimbSearch\n",
    "from pgmpy.estimators import BayesianEstimator, MaximumLikelihoodEstimator\n",
    "import networkx as nx\n",
    "import pandas as pd\n",
    "import matplotlib.pyplot as plt\n",
    "from sklearn.model_selection import train_test_split\n",
    "%matplotlib inline"
   ]
  },
  {
   "cell_type": "code",
   "execution_count": 26,
   "metadata": {
    "collapsed": true
   },
   "outputs": [],
   "source": [
    "def features(data):\n",
    "       \n",
    "    data.loc[data.HEAP == 0.0, 'HEAP'] = 0\n",
    "    data.loc[data.HEAP != 0.0, 'HEAP'] = 1\n",
    "    \n",
    "    data.loc[data.WIC == 0.0 ,'WIC'] = 0\n",
    "    data.loc[data.WIC != 0.0 ,'WIC'] = 1\n",
    "    \n",
    "    data.loc[data.SchoolLunch == 0.0, 'SchoolLunch'] = 0\n",
    "    data.loc[data.SchoolLunch != 0.0, 'SchoolLunch'] = 1\n",
    "\n",
    "    data.loc[data.MOOP == 0.0, 'MOOP'] = 0\n",
    "    data.loc[data.MOOP != 0.0, 'MOOP'] = 1\n",
    "\n",
    "    data.loc[data.Childcare == 0.0, 'Childcare'] = 0\n",
    "    data.loc[data.Childcare != 0.0, 'Childcare'] = 1\n",
    "\n",
    "    data.loc[data.FoodStamps == 0.0, 'FoodStamps'] = 0\n",
    "    data.loc[data.FoodStamps != 0.0, 'FoodStamps'] = 1\n",
    "\n",
    "    data.loc[data.Commuting == 0.0, 'Commuting'] = 0\n",
    "    data.loc[data.Commuting != 0.0, 'Commuting'] = 1\n",
    "\n",
    "    data.loc[data.Housing == 0.0, 'Housing'] = 0\n",
    "    data.loc[data.Housing != 0.0, 'Housing'] = 1\n",
    "    \n",
    "    data = data.loc[:, [u'PovunitType', u'WorkExpIndiv',\n",
    "                  u'HEAP', u'CitizenStatus',\n",
    "                  u'EducAttain',\n",
    "                  u'WIC', u'HousingStatus',\n",
    "                  u'WorkersEquiv', u'SchoolLunch',\n",
    "                  u'MOOP', u'MV', u'Childcare', \n",
    "                  u'FoodStamps', u'Commuting',\n",
    "                  u'Housing', 'Pov_risk']]\n",
    "    return data"
   ]
  },
  {
   "cell_type": "code",
   "execution_count": 27,
   "metadata": {
    "collapsed": true
   },
   "outputs": [],
   "source": [
    "def features_all(data):\n",
    "       \n",
    "    data.loc[data.HEAP == 0.0, 'HEAP'] = 0\n",
    "    data.loc[data.HEAP != 0.0, 'HEAP'] = 1\n",
    "    \n",
    "    data.loc[data.WIC == 0.0 ,'WIC'] = 0\n",
    "    data.loc[data.WIC != 0.0 ,'WIC'] = 1\n",
    "    \n",
    "    data.loc[data.SchoolLunch == 0.0, 'SchoolLunch'] = 0\n",
    "    data.loc[data.SchoolLunch != 0.0, 'SchoolLunch'] = 1\n",
    "\n",
    "    data.loc[data.MOOP == 0.0, 'MOOP'] = 0\n",
    "    data.loc[data.MOOP != 0.0, 'MOOP'] = 1\n",
    "\n",
    "    data.loc[data.Childcare == 0.0, 'Childcare'] = 0\n",
    "    data.loc[data.Childcare != 0.0, 'Childcare'] = 1\n",
    "\n",
    "    data.loc[data.FoodStamps == 0.0, 'FoodStamps'] = 0\n",
    "    data.loc[data.FoodStamps != 0.0, 'FoodStamps'] = 1\n",
    "\n",
    "    data.loc[data.Commuting == 0.0, 'Commuting'] = 0\n",
    "    data.loc[data.Commuting != 0.0, 'Commuting'] = 1\n",
    "\n",
    "    data.loc[data.Housing == 0.0, 'Housing'] = 0\n",
    "    data.loc[data.Housing != 0.0, 'Housing'] = 1\n",
    "    \n",
    "    data = data.loc[:, [ u'HEAP', u'HousingStatus', u'WorkersEquiv', u'SchoolLunch', u'MOOP', u'EducAttain',\n",
    "      u'FoodStamps', u'year', u'Pov_risk']]\n",
    "    return data"
   ]
  },
  {
   "cell_type": "code",
   "execution_count": null,
   "metadata": {
    "collapsed": false
   },
   "outputs": [],
   "source": [
    "# thresholds = pd.Series(puma_05.CEO_Threshold.unique())"
   ]
  },
  {
   "cell_type": "code",
   "execution_count": null,
   "metadata": {
    "collapsed": false
   },
   "outputs": [],
   "source": [
    "# thresholds.hist(bins=35)\n",
    "# plt.vlines(x=thresholds.median(), ymin=0, ymax=18, color = 'red')\n",
    "# plt.vlines(x=thresholds.mean(), ymin=0, ymax=18, color = 'yellow')"
   ]
  },
  {
   "cell_type": "code",
   "execution_count": null,
   "metadata": {
    "collapsed": false
   },
   "outputs": [],
   "source": [
    "# puma_05[puma_05.CEO_Threshold == puma_05.CEO_Threshold.max()]"
   ]
  },
  {
   "cell_type": "code",
   "execution_count": null,
   "metadata": {
    "collapsed": false
   },
   "outputs": [],
   "source": [
    "# thresholds.describe()"
   ]
  },
  {
   "cell_type": "code",
   "execution_count": null,
   "metadata": {
    "collapsed": false
   },
   "outputs": [],
   "source": [
    "# thresholds.quantile(0.99)"
   ]
  },
  {
   "cell_type": "code",
   "execution_count": null,
   "metadata": {
    "collapsed": false
   },
   "outputs": [],
   "source": [
    "# thresholds_of = pd.Series(puma_05.Official_Threshold.unique())"
   ]
  },
  {
   "cell_type": "code",
   "execution_count": null,
   "metadata": {
    "collapsed": false
   },
   "outputs": [],
   "source": [
    "# thresholds_of.hist(bins=30)"
   ]
  },
  {
   "cell_type": "markdown",
   "metadata": {},
   "source": [
    "# New check without aggregation"
   ]
  },
  {
   "cell_type": "code",
   "execution_count": null,
   "metadata": {
    "collapsed": false
   },
   "outputs": [],
   "source": [
    "# puma_05.CEO_Income.describe()"
   ]
  },
  {
   "cell_type": "code",
   "execution_count": null,
   "metadata": {
    "collapsed": false,
    "scrolled": false
   },
   "outputs": [],
   "source": [
    "# puma_05[puma_05.CEO_Income < 0]['PUMA'].hist()"
   ]
  },
  {
   "cell_type": "code",
   "execution_count": null,
   "metadata": {
    "collapsed": false
   },
   "outputs": [],
   "source": [
    "# puma_05[puma_05.SERIALNO == 812]"
   ]
  },
  {
   "cell_type": "code",
   "execution_count": null,
   "metadata": {
    "collapsed": false
   },
   "outputs": [],
   "source": [
    "# puma_05[puma_05.CEO_Income == 0]"
   ]
  },
  {
   "cell_type": "code",
   "execution_count": null,
   "metadata": {
    "collapsed": false
   },
   "outputs": [],
   "source": [
    "# puma_05.CEO_Income.quantile(0.1)"
   ]
  },
  {
   "cell_type": "code",
   "execution_count": null,
   "metadata": {
    "collapsed": false
   },
   "outputs": [],
   "source": [
    "# df[(df.CEO_Poverty == 1)&(df.CEO_Threshold < df.CEO_Income)][['CEO_Threshold', 'CEO_Income','CEO_Poverty', 'Pov_risk', 'Threshold1']]"
   ]
  },
  {
   "cell_type": "code",
   "execution_count": null,
   "metadata": {
    "collapsed": false
   },
   "outputs": [],
   "source": [
    "# df[(df.Pov_risk == 1)&((df.CEO_Poverty == 1))][['CEO_Threshold', 'CEO_Income','CEO_Poverty', 'Pov_risk', 'Threshold1']]"
   ]
  },
  {
   "cell_type": "code",
   "execution_count": null,
   "metadata": {
    "collapsed": false
   },
   "outputs": [],
   "source": [
    "# X = df[[ u'PovunitType', u'WorkExpIndiv', u'Povunit',\n",
    "#         u'SchoolBreakfast', u'HEAP', u'CitizenStatus',\n",
    "#         u'AgeCateg_2', u'AgeCateg_3', u'EducAttain',\n",
    "#         u'WIC', u'HousingStatus',\n",
    "#        u'WorkersEquiv', u'SchoolLunch', u'AgeCateg_1',\n",
    "#        u'MOOP', u'MV', u'Childcare', \n",
    "#        u'NP', u'FoodStamps', u'Commuting',\n",
    "#        u'Housing', 'Pov_risk']]"
   ]
  },
  {
   "cell_type": "code",
   "execution_count": null,
   "metadata": {
    "collapsed": false
   },
   "outputs": [],
   "source": [
    "# X.columns"
   ]
  },
  {
   "cell_type": "markdown",
   "metadata": {},
   "source": [
    "# Making continuous variables discrete"
   ]
  },
  {
   "cell_type": "code",
   "execution_count": null,
   "metadata": {
    "collapsed": false,
    "scrolled": true
   },
   "outputs": [],
   "source": [
    "# print X.SchoolBreakfast.value_counts()\n",
    "# X.SchoolBreakfast.hist()"
   ]
  },
  {
   "cell_type": "code",
   "execution_count": null,
   "metadata": {
    "collapsed": false
   },
   "outputs": [],
   "source": [
    "# print (X.HEAP).value_counts()\n",
    "# X.HEAP.hist(bins= 50)"
   ]
  },
  {
   "cell_type": "code",
   "execution_count": null,
   "metadata": {
    "collapsed": false
   },
   "outputs": [],
   "source": [
    "# X.HEAP[X.HEAP == 0.0] = 0\n",
    "# X.HEAP[X.HEAP != 0.0] = 1"
   ]
  },
  {
   "cell_type": "code",
   "execution_count": null,
   "metadata": {
    "collapsed": false
   },
   "outputs": [],
   "source": [
    "# X.HEAP.value_counts()"
   ]
  },
  {
   "cell_type": "code",
   "execution_count": null,
   "metadata": {
    "collapsed": false
   },
   "outputs": [],
   "source": [
    "# print X.WIC.value_counts()\n",
    "# X.WIC.hist(bins=50)"
   ]
  },
  {
   "cell_type": "code",
   "execution_count": null,
   "metadata": {
    "collapsed": false
   },
   "outputs": [],
   "source": [
    "# X.WIC[X.WIC == 0.0] = 0\n",
    "# X.WIC[X.WIC != 0.0] = 1"
   ]
  },
  {
   "cell_type": "code",
   "execution_count": null,
   "metadata": {
    "collapsed": false
   },
   "outputs": [],
   "source": [
    "# X.WIC.value_counts()"
   ]
  },
  {
   "cell_type": "code",
   "execution_count": null,
   "metadata": {
    "collapsed": false
   },
   "outputs": [],
   "source": [
    "# print X.SchoolLunch.value_counts()\n",
    "# X.SchoolLunch.hist(bins = 100)"
   ]
  },
  {
   "cell_type": "code",
   "execution_count": null,
   "metadata": {
    "collapsed": false
   },
   "outputs": [],
   "source": [
    "# X.SchoolLunch[X.SchoolLunch == 0.0] = 0\n",
    "# X.SchoolLunch[X.SchoolLunch != 0.0] = 1"
   ]
  },
  {
   "cell_type": "code",
   "execution_count": null,
   "metadata": {
    "collapsed": false
   },
   "outputs": [],
   "source": [
    "# X.SchoolLunch.value_counts()"
   ]
  },
  {
   "cell_type": "code",
   "execution_count": null,
   "metadata": {
    "collapsed": false
   },
   "outputs": [],
   "source": [
    "# print X.MOOP.describe()\n",
    "# (X.MOOP).hist(bins = 100)"
   ]
  },
  {
   "cell_type": "code",
   "execution_count": null,
   "metadata": {
    "collapsed": false
   },
   "outputs": [],
   "source": [
    "# X.MOOP[X.MOOP == 0.0] = 0\n",
    "# X.MOOP[X.MOOP != 0.0] = 1"
   ]
  },
  {
   "cell_type": "code",
   "execution_count": null,
   "metadata": {
    "collapsed": false
   },
   "outputs": [],
   "source": [
    "# X.MOOP.plot.box()"
   ]
  },
  {
   "cell_type": "code",
   "execution_count": null,
   "metadata": {
    "collapsed": false
   },
   "outputs": [],
   "source": [
    "# print X.Childcare.value_counts()\n",
    "# X.Childcare.hist(log = True, bins=100)"
   ]
  },
  {
   "cell_type": "code",
   "execution_count": null,
   "metadata": {
    "collapsed": false
   },
   "outputs": [],
   "source": [
    "# X.Childcare[X.Childcare == 0.0] = 0\n",
    "# X.Childcare[X.Childcare != 0.0] = 1"
   ]
  },
  {
   "cell_type": "code",
   "execution_count": null,
   "metadata": {
    "collapsed": false
   },
   "outputs": [],
   "source": [
    "# print X.FoodStamps.value_counts()\n",
    "# X.FoodStamps.hist(bins=100, log = True)"
   ]
  },
  {
   "cell_type": "code",
   "execution_count": null,
   "metadata": {
    "collapsed": false
   },
   "outputs": [],
   "source": [
    "# np.sqrt(X.FoodStamps).hist(bins=100, log = True)"
   ]
  },
  {
   "cell_type": "code",
   "execution_count": null,
   "metadata": {
    "collapsed": false
   },
   "outputs": [],
   "source": [
    "# X.FoodStamps[X.FoodStamps == 0.0] = 0\n",
    "# X.FoodStamps[X.FoodStamps != 0.0] = 1"
   ]
  },
  {
   "cell_type": "code",
   "execution_count": null,
   "metadata": {
    "collapsed": false
   },
   "outputs": [],
   "source": [
    "# X.FoodStamps.value_counts()"
   ]
  },
  {
   "cell_type": "code",
   "execution_count": null,
   "metadata": {
    "collapsed": false
   },
   "outputs": [],
   "source": [
    "# print X.Commuting.value_counts()\n",
    "# X.Commuting.hist(log = True, bins=100)"
   ]
  },
  {
   "cell_type": "code",
   "execution_count": null,
   "metadata": {
    "collapsed": false
   },
   "outputs": [],
   "source": [
    "# X[(((X.Commuting - X.Commuting.mean()) / X.Commuting.std()) < 0) &\n",
    "#   (((X.Commuting - X.Commuting.mean()) / X.Commuting.std()) >= -1)].Pov_risk.value_counts()"
   ]
  },
  {
   "cell_type": "code",
   "execution_count": null,
   "metadata": {
    "collapsed": false
   },
   "outputs": [],
   "source": [
    "# np.sqrt(X.Commuting).hist(bins= 100)"
   ]
  },
  {
   "cell_type": "code",
   "execution_count": null,
   "metadata": {
    "collapsed": false
   },
   "outputs": [],
   "source": [
    "# X[(np.sqrt(X.Commuting) < 10)].Pov_risk.value_counts()"
   ]
  },
  {
   "cell_type": "code",
   "execution_count": null,
   "metadata": {
    "collapsed": false
   },
   "outputs": [],
   "source": [
    "# X.Commuting[X.Commuting == 0.0] = 0\n",
    "# X.Commuting[X.Commuting != 0.0] = 1"
   ]
  },
  {
   "cell_type": "code",
   "execution_count": null,
   "metadata": {
    "collapsed": false
   },
   "outputs": [],
   "source": [
    "# X.Housing.unique()\n",
    "# X.Housing.hist()"
   ]
  },
  {
   "cell_type": "code",
   "execution_count": null,
   "metadata": {
    "collapsed": false
   },
   "outputs": [],
   "source": [
    "# X.Housing[X.Housing == 0.0] = 0\n",
    "# X.Housing[X.Housing != 0.0] = 1"
   ]
  },
  {
   "cell_type": "code",
   "execution_count": null,
   "metadata": {
    "collapsed": false
   },
   "outputs": [],
   "source": [
    "G = nx.DiGraph()\n",
    "G.add_edges_from(best_model.edges())\n",
    "nx.draw(G, with_labels=True, arrows=True, node_size=700)"
   ]
  },
  {
   "cell_type": "code",
   "execution_count": 28,
   "metadata": {
    "collapsed": false
   },
   "outputs": [],
   "source": [
    "puma_all = pd.read_csv(\"../Data/Cleaned/puma_all.csv\")"
   ]
  },
  {
   "cell_type": "code",
   "execution_count": 29,
   "metadata": {
    "collapsed": true
   },
   "outputs": [],
   "source": [
    "puma_all.drop(['Unnamed: 0'], axis=1, inplace=True)"
   ]
  },
  {
   "cell_type": "code",
   "execution_count": 30,
   "metadata": {
    "collapsed": false,
    "scrolled": true
   },
   "outputs": [
    {
     "data": {
      "text/plain": [
       "Index([u'SERIALNO', u'Official_Poverty', u'CEO_Income', u'FICAtax',\n",
       "       u'PovunitType', u'WorkExpIndiv', u'Povunit', u'IncomeTax',\n",
       "       u'SchoolBreakfast', u'HEAP', u'CitizenStatus', u'Official_Threshold',\n",
       "       u'AgeCateg_2', u'AgeCateg_3', u'CEO_Poverty', u'PUMA', u'WIC',\n",
       "       u'HousingStatus', u'WorkersEquiv', u'SchoolLunch', u'CEO_Threshold',\n",
       "       u'AgeCateg_1', u'Boro', u'MOOP', u'MV', u'Childcare', u'EducAttain',\n",
       "       u'NP', u'FoodStamps', u'PreTaxIncome', u'Commuting', u'Housing',\n",
       "       u'Ethnicity', u'Threshold1', u'year', u'unique_key', u'Pov_risk'],\n",
       "      dtype='object')"
      ]
     },
     "execution_count": 30,
     "metadata": {},
     "output_type": "execute_result"
    }
   ],
   "source": [
    "puma_all.columns"
   ]
  },
  {
   "cell_type": "code",
   "execution_count": 31,
   "metadata": {
    "collapsed": false
   },
   "outputs": [],
   "source": [
    "X = features_all(puma_all)"
   ]
  },
  {
   "cell_type": "code",
   "execution_count": 32,
   "metadata": {
    "collapsed": false
   },
   "outputs": [
    {
     "data": {
      "text/plain": [
       "Index([u'HEAP', u'HousingStatus', u'WorkersEquiv', u'SchoolLunch', u'MOOP',\n",
       "       u'EducAttain', u'FoodStamps', u'year', u'Pov_risk'],\n",
       "      dtype='object')"
      ]
     },
     "execution_count": 32,
     "metadata": {},
     "output_type": "execute_result"
    }
   ],
   "source": [
    "X.columns"
   ]
  },
  {
   "cell_type": "code",
   "execution_count": 33,
   "metadata": {
    "collapsed": true
   },
   "outputs": [],
   "source": [
    "X.year.replace({2005:0, 2006:1,2007:2, 2008:3,2009:4, 2010:5,2011:6, 2012:7,2013:8, 2014:9}, inplace=True)\n",
    "X.HousingStatus.replace({1:0, 2:1,3:2, 4:3,5:4, 6:5,7:6, 8:7,9:8}, inplace=True)\n",
    "X.WorkersEquiv.replace({1:0, 2:1,3:2, 4:3,5:4}, inplace=True)\n",
    "X.EducAttain.replace({1:0, 2:1,3:2, 4:3}, inplace=True)"
   ]
  },
  {
   "cell_type": "code",
   "execution_count": 99,
   "metadata": {
    "collapsed": false
   },
   "outputs": [],
   "source": [
    "# train_all,test_all=train_test_split(X,random_state=,test_size=0.20)\n",
    "hc_all = HillClimbSearch(X, scoring_method=BicScore(X))\n",
    "best_model_all = hc_all.estimate()"
   ]
  },
  {
   "cell_type": "code",
   "execution_count": 100,
   "metadata": {
    "collapsed": false
   },
   "outputs": [
    {
     "data": {
      "text/plain": [
       "[(u'Pov_risk', u'HousingStatus'),\n",
       " (u'Pov_risk', u'MOOP'),\n",
       " (u'Pov_risk', u'SchoolLunch'),\n",
       " (u'Pov_risk', u'HEAP'),\n",
       " (u'Pov_risk', u'FoodStamps'),\n",
       " (u'Pov_risk', u'EducAttain'),\n",
       " (u'WorkersEquiv', u'SchoolLunch'),\n",
       " (u'WorkersEquiv', u'FoodStamps'),\n",
       " (u'WorkersEquiv', u'Pov_risk'),\n",
       " (u'WorkersEquiv', u'EducAttain'),\n",
       " (u'WorkersEquiv', u'HousingStatus'),\n",
       " (u'SchoolLunch', u'HousingStatus'),\n",
       " (u'HEAP', u'SchoolLunch'),\n",
       " (u'HEAP', u'HousingStatus'),\n",
       " (u'year', u'MOOP'),\n",
       " (u'year', u'HEAP'),\n",
       " (u'FoodStamps', u'MOOP'),\n",
       " (u'FoodStamps', u'SchoolLunch'),\n",
       " (u'FoodStamps', u'HEAP'),\n",
       " (u'FoodStamps', u'year'),\n",
       " (u'EducAttain', u'FoodStamps'),\n",
       " (u'EducAttain', u'year')]"
      ]
     },
     "execution_count": 100,
     "metadata": {},
     "output_type": "execute_result"
    }
   ],
   "source": [
    "best_model_all.edges()"
   ]
  },
  {
   "cell_type": "code",
   "execution_count": 101,
   "metadata": {
    "collapsed": false
   },
   "outputs": [
    {
     "data": {
      "image/png": "[encoded data removed]",
      "text/plain": [
       "<matplotlib.figure.Figure at 0x7feb49087d90>"
      ]
     },
     "metadata": {},
     "output_type": "display_data"
    }
   ],
   "source": [
    "fig = plt.figure(figsize=(8,8))\n",
    "# ax = fig.add_\n",
    "G = nx.DiGraph()\n",
    "G.add_edges_from(best_model_all.edges())\n",
    "pos = {u'HEAP':(-100,20), u'HousingStatus':(120,10), u'WorkersEquiv':(0, 100) , u'SchoolLunch':(100,-40), u'MOOP':(-70,80),\n",
    "       u'EducAttain':(60,-100), u'FoodStamps':(-20,-100), u'year':(-80,-60), u'Pov_risk':(80,80)}\n",
    "nx.draw(G, pos=pos, with_labels=True,  arrows=True, font_size = 8, node_size=5000)"
   ]
  },
  {
   "cell_type": "code",
   "execution_count": null,
   "metadata": {
    "collapsed": true
   },
   "outputs": [],
   "source": []
  },
  {
   "cell_type": "code",
   "execution_count": null,
   "metadata": {
    "collapsed": true
   },
   "outputs": [],
   "source": []
  },
  {
   "cell_type": "code",
   "execution_count": 103,
   "metadata": {
    "collapsed": false
   },
   "outputs": [
    {
     "name": "stdout",
     "output_type": "stream",
     "text": [
      "+---------------+-----------------+-----------------+-----------------+-----------------+-----------------+\n",
      "| WorkersEquiv  | WorkersEquiv(0) | WorkersEquiv(1) | WorkersEquiv(2) | WorkersEquiv(3) | WorkersEquiv(4) |\n",
      "+---------------+-----------------+-----------------+-----------------+-----------------+-----------------+\n",
      "| Pov_risk(0.0) | 0.0391342132421 | 0.0952445492577 | 0.111580878585  | 0.355201618     | 0.410812173837  |\n",
      "+---------------+-----------------+-----------------+-----------------+-----------------+-----------------+\n",
      "| Pov_risk(1.0) | 0.118684482103  | 0.175372493743  | 0.213573375971  | 0.249428740896  | 0.263002675087  |\n",
      "+---------------+-----------------+-----------------+-----------------+-----------------+-----------------+\n",
      "| Pov_risk(2.0) | 0.842181304655  | 0.729382956999  | 0.674845745444  | 0.395369641103  | 0.326185151077  |\n",
      "+---------------+-----------------+-----------------+-----------------+-----------------+-----------------+\n"
     ]
    }
   ],
   "source": [
    "est = BayesianEstimator(best_model_all, X)\n",
    "print est.estimate_cpd('Pov_risk', prior_type='BDeu', equivalent_sample_size=1000)"
   ]
  },
  {
   "cell_type": "markdown",
   "metadata": {
    "collapsed": false
   },
   "source": [
    "best_model_all.fit(train_all, estimator=BayesianEstimator, prior_type='BDeu', equivalent_sample_size=100)\n",
    "\n",
    "test_all = test_all.astype(int)\n",
    "test_all.reset_index(inplace=True, drop=True)"
   ]
  },
  {
   "cell_type": "code",
   "execution_count": 38,
   "metadata": {
    "collapsed": false
   },
   "outputs": [
    {
     "ename": "IndexError",
     "evalue": "list index out of range",
     "output_type": "error",
     "traceback": [
      "\u001b[0;31m\u001b[0m",
      "\u001b[0;31mIndexError\u001b[0mTraceback (most recent call last)",
      "\u001b[0;32m<ipython-input-38-bf32b4501e47>\u001b[0m in \u001b[0;36m<module>\u001b[0;34m()\u001b[0m\n\u001b[1;32m      1\u001b[0m y_pred = best_model_all.predict(test_all.loc[:,[u'HEAP', u'HousingStatus', u'WorkersEquiv', u'SchoolLunch', u'MOOP',\n\u001b[0;32m----> 2\u001b[0;31m        u'EducAttain', u'FoodStamps', u'year']])\n\u001b[0m",
      "\u001b[0;32m/home/cusp/vys217/.conda/envs/JVEvys217/lib/python2.7/site-packages/pgmpy-0.1.3-py2.7.egg/pgmpy/models/BayesianModel.pyc\u001b[0m in \u001b[0;36mpredict\u001b[0;34m(self, data)\u001b[0m\n\u001b[1;32m    746\u001b[0m \u001b[0;34m\u001b[0m\u001b[0m\n\u001b[1;32m    747\u001b[0m         \u001b[0;31m# Send state_names dict from one of the estimated CPDs to the inference class.\u001b[0m\u001b[0;34m\u001b[0m\u001b[0;34m\u001b[0m\u001b[0m\n\u001b[0;32m--> 748\u001b[0;31m         \u001b[0mmodel_inference\u001b[0m \u001b[0;34m=\u001b[0m \u001b[0mVariableElimination\u001b[0m\u001b[0;34m(\u001b[0m\u001b[0mself\u001b[0m\u001b[0;34m,\u001b[0m \u001b[0mstate_names\u001b[0m\u001b[0;34m=\u001b[0m\u001b[0mself\u001b[0m\u001b[0;34m.\u001b[0m\u001b[0mget_cpds\u001b[0m\u001b[0;34m(\u001b[0m\u001b[0;34m)\u001b[0m\u001b[0;34m[\u001b[0m\u001b[0;36m0\u001b[0m\u001b[0;34m]\u001b[0m\u001b[0;34m.\u001b[0m\u001b[0mstate_names\u001b[0m\u001b[0;34m)\u001b[0m\u001b[0;34m\u001b[0m\u001b[0m\n\u001b[0m\u001b[1;32m    749\u001b[0m         \u001b[0;32mfor\u001b[0m \u001b[0mindex\u001b[0m\u001b[0;34m,\u001b[0m \u001b[0mdata_point\u001b[0m \u001b[0;32min\u001b[0m \u001b[0mdata\u001b[0m\u001b[0;34m.\u001b[0m\u001b[0miterrows\u001b[0m\u001b[0;34m(\u001b[0m\u001b[0;34m)\u001b[0m\u001b[0;34m:\u001b[0m\u001b[0;34m\u001b[0m\u001b[0m\n\u001b[1;32m    750\u001b[0m             \u001b[0mstates_dict\u001b[0m \u001b[0;34m=\u001b[0m \u001b[0mmodel_inference\u001b[0m\u001b[0;34m.\u001b[0m\u001b[0mmap_query\u001b[0m\u001b[0;34m(\u001b[0m\u001b[0mvariables\u001b[0m\u001b[0;34m=\u001b[0m\u001b[0mmissing_variables\u001b[0m\u001b[0;34m,\u001b[0m \u001b[0mevidence\u001b[0m\u001b[0;34m=\u001b[0m\u001b[0mdata_point\u001b[0m\u001b[0;34m.\u001b[0m\u001b[0mto_dict\u001b[0m\u001b[0;34m(\u001b[0m\u001b[0;34m)\u001b[0m\u001b[0;34m)\u001b[0m\u001b[0;34m\u001b[0m\u001b[0m\n",
      "\u001b[0;31mIndexError\u001b[0m: list index out of range"
     ]
    }
   ],
   "source": [
    "y_pred = best_model_all.predict(test_all.loc[:,[u'HEAP', u'HousingStatus', u'WorkersEquiv', u'SchoolLunch', u'MOOP',\n",
    "       u'EducAttain', u'FoodStamps', u'year']])"
   ]
  },
  {
   "cell_type": "code",
   "execution_count": 104,
   "metadata": {
    "collapsed": false
   },
   "outputs": [
    {
     "data": {
      "text/plain": [
       "(257394, 37)"
      ]
     },
     "execution_count": 104,
     "metadata": {},
     "output_type": "execute_result"
    }
   ],
   "source": [
    "puma_all.shape"
   ]
  },
  {
   "cell_type": "code",
   "execution_count": null,
   "metadata": {
    "collapsed": true
   },
   "outputs": [],
   "source": []
  },
  {
   "cell_type": "code",
   "execution_count": null,
   "metadata": {
    "collapsed": true
   },
   "outputs": [],
   "source": []
  },
  {
   "cell_type": "code",
   "execution_count": null,
   "metadata": {
    "collapsed": true
   },
   "outputs": [],
   "source": []
  },
  {
   "cell_type": "code",
   "execution_count": null,
   "metadata": {
    "collapsed": true
   },
   "outputs": [],
   "source": [
    "[(u'WorkersEquiv', u'Pov_risk' ),\n",
    " ( u'FoodStamps', u'Pov_risk'),\n",
    " ( u'SchoolLunch', u'Pov_risk'),\n",
    " ( u'EducAttain', u'Pov_risk'),\n",
    " ( u'MOOP', u'Pov_risk'),\n",
    " (u'HousingStatus', u'WorkersEquiv'),\n",
    " (u'HousingStatus', u'FoodStamps'),\n",
    " (u'HousingStatus', u'Pov_risk'),\n",
    " (u'HousingStatus', u'HEAP'),\n",
    " (u'WorkersEquiv', u'SchoolLunch'),\n",
    " (u'WorkersEquiv', u'EducAttain'),\n",
    " (u'Housing', u'Pov_risk'),\n",
    " (u'Housing', u'HousingStatus'),\n",
    " (u'Housing', u'MOOP'),\n",
    " (u'Housing', u'SchoolLunch'),\n",
    " (u'Housing', u'FoodStamps'),\n",
    " (u'Housing', u'EducAttain'),\n",
    " (u'HEAP', u'SchoolLunch'),\n",
    " (u'year', u'MOOP'),\n",
    " (u'year', u'HEAP'),\n",
    " (u'year',u'EducAttain')]"
   ]
  },
  {
   "cell_type": "code",
   "execution_count": 93,
   "metadata": {
    "collapsed": true
   },
   "outputs": [],
   "source": [
    "def feat_new(data):\n",
    "    data = data.loc[:, [u'PovunitType',\n",
    "                   u'CitizenStatus',\n",
    "                  u'EducAttain',\n",
    "                  u'HousingStatus',\n",
    "                  u'AgeCateg_2',       \n",
    "                  u'WorkersEquiv', u'MV', \n",
    "                   'Pov_risk']]\n",
    "    \n",
    "    data.PovunitType.replace({1:0, 2:1,3:2, 4:3,5:4, 6:5,7:6, 8:7}, inplace=True)\n",
    "    data.MV.replace({1:0, 2:1,3:2, 4:3,5:4, 6:5,7:6}, inplace=True)\n",
    "    data.HousingStatus.replace({1:0, 2:1,3:2, 4:3,5:4, 6:5,7:6, 8:7,9:8}, inplace=True)\n",
    "    data.WorkersEquiv.replace({1:0, 2:1,3:2, 4:3,5:4}, inplace=True)\n",
    "    data.EducAttain.replace({1:0, 2:1,3:2, 4:3}, inplace=True)\n",
    "    data.CitizenStatus.replace({1:0, 2:1,3:2}, inplace=True)\n",
    "    return data"
   ]
  },
  {
   "cell_type": "code",
   "execution_count": 94,
   "metadata": {
    "collapsed": false
   },
   "outputs": [],
   "source": [
    "Xnew = feat_new(puma_all)\n",
    "Xnew.AgeCateg_2.replace({1:0, 2:1,3:2, 4:3,5:4, 6:5,7:6, 8:7,9:8,10:9,11:10,12:11,13:12,14:13,15:14}, inplace=True) "
   ]
  },
  {
   "cell_type": "code",
   "execution_count": 95,
   "metadata": {
    "collapsed": true
   },
   "outputs": [],
   "source": [
    "# train_all_new,test_all_new=train_test_split(Xnew,random_state=545,test_size=0.20)\n",
    "hc_all_new = HillClimbSearch(Xnew, scoring_method=BicScore(Xnew))\n",
    "best_model_all_new = hc_all_new.estimate()"
   ]
  },
  {
   "cell_type": "code",
   "execution_count": 96,
   "metadata": {
    "collapsed": false
   },
   "outputs": [
    {
     "data": {
      "text/plain": [
       "[('Pov_risk', u'PovunitType'),\n",
       " ('Pov_risk', u'CitizenStatus'),\n",
       " ('Pov_risk', u'HousingStatus'),\n",
       " ('Pov_risk', u'EducAttain'),\n",
       " (u'HousingStatus', u'PovunitType'),\n",
       " (u'HousingStatus', u'MV'),\n",
       " (u'PovunitType', u'CitizenStatus'),\n",
       " (u'PovunitType', u'EducAttain'),\n",
       " (u'PovunitType', u'AgeCateg_2'),\n",
       " (u'WorkersEquiv', 'Pov_risk'),\n",
       " (u'WorkersEquiv', u'HousingStatus'),\n",
       " (u'WorkersEquiv', u'PovunitType'),\n",
       " (u'WorkersEquiv', u'MV'),\n",
       " (u'WorkersEquiv', u'EducAttain'),\n",
       " (u'WorkersEquiv', u'AgeCateg_2'),\n",
       " (u'MV', u'CitizenStatus')]"
      ]
     },
     "execution_count": 96,
     "metadata": {},
     "output_type": "execute_result"
    }
   ],
   "source": [
    "best_model_all_new.edges()"
   ]
  },
  {
   "cell_type": "code",
   "execution_count": 98,
   "metadata": {
    "collapsed": false
   },
   "outputs": [
    {
     "data": {
      "image/png": "[encoded data removed]",
      "text/plain": [
       "<matplotlib.figure.Figure at 0x7feb48b51350>"
      ]
     },
     "metadata": {},
     "output_type": "display_data"
    }
   ],
   "source": [
    "fig = plt.figure(figsize=(8,8))\n",
    "# ax = fig.add_\n",
    "G = nx.DiGraph()\n",
    "G.add_edges_from(best_model_all_new.edges())\n",
    "pos = {u'PovunitType':(-100,20), u'CitizenStatus':(120,10), u'EducAttain':(0, 100) , u'HousingStatus':(100,-40), u'AgeCateg_2':(-70,80),\n",
    "       u'WorkersEquiv':(60,-100), u'MV':(-20,-100), u'Pov_risk':(80,80)}\n",
    "nx.draw(G, pos=pos, with_labels=True,  arrows=True, font_size = 8, node_size=5000)"
   ]
  },
  {
   "cell_type": "code",
   "execution_count": null,
   "metadata": {
    "collapsed": true
   },
   "outputs": [],
   "source": []
  }
 ],
 "metadata": {
  "kernelspec": {
   "display_name": "kJVEvys217",
   "language": "python",
   "name": "kjvevys217"
  },
  "language_info": {
   "codemirror_mode": {
    "name": "ipython",
    "version": 2
   },
   "file_extension": ".py",
   "mimetype": "text/x-python",
   "name": "python",
   "nbconvert_exporter": "python",
   "pygments_lexer": "ipython2",
   "version": "2.7.13"
  }
 },
 "nbformat": 4,
 "nbformat_minor": 0
}
