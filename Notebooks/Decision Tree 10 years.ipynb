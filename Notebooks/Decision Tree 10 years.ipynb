{
 "cells": [
  {
   "cell_type": "code",
   "execution_count": 1,
   "metadata": {
    "collapsed": true
   },
   "outputs": [],
   "source": [
    "import pandas as pd\n",
    "import numpy as np\n",
    "import matplotlib.pylab as plt\n",
    "import seaborn as sns\n",
    "import csv\n",
    "import dateutil\n",
    "import os\n",
    "%matplotlib inline"
   ]
  },
  {
   "cell_type": "code",
   "execution_count": 23,
   "metadata": {
    "collapsed": true
   },
   "outputs": [],
   "source": [
    "from sklearn.tree import DecisionTreeClassifier as DTC\n",
    "from sklearn import linear_model\n",
    "from sklearn.model_selection import train_test_split\n",
    "from sklearn.metrics import roc_auc_score as rs\n",
    "from sklearn.model_selection import GridSearchCV\n",
    "from sklearn.model_selection import GridSearchCV, cross_val_score\n",
    "# import required for converting multiclass to binary \n",
    "from sklearn.preprocessing import LabelBinarizer\n",
    "from sklearn.multiclass import OneVsRestClassifier\n",
    "import matplotlib.pyplot as plt\n",
    "%matplotlib inline\n",
    "# import Random forest\n",
    "from sklearn.ensemble import RandomForestClassifier as RFC\n",
    "# import required packages for plotting the decision tree \n",
    "from sklearn.externals.six import StringIO  \n",
    "from sklearn import tree\n",
    "from IPython.display import Image  \n",
    "import pydotplus"
   ]
  },
  {
   "cell_type": "code",
   "execution_count": 42,
   "metadata": {
    "collapsed": false
   },
   "outputs": [],
   "source": [
    "puma_05 = pd.read_csv(\"../data/Cleaned/puma_05.csv\")\n",
    "puma_06 = pd.read_csv(\"../data/Cleaned/puma_06.csv\")\n",
    "puma_07 = pd.read_csv(\"../data/Cleaned/puma_07.csv\")\n",
    "puma_08 = pd.read_csv(\"../data/Cleaned/puma_08.csv\")\n",
    "puma_09 = pd.read_csv(\"../data/Cleaned/puma_09.csv\")\n",
    "puma_10 = pd.read_csv(\"../data/Cleaned/puma_10.csv\")\n",
    "puma_11 = pd.read_csv(\"../data/Cleaned/puma_11.csv\")\n",
    "puma_12 = pd.read_csv(\"../data/Cleaned/puma_12.csv\")\n",
    "#puma_13 = pd.read_csv(\"../data/Cleaned/puma_13.csv\")\n",
    "puma_14 = pd.read_csv(\"../data/Cleaned/puma_14.csv\")"
   ]
  },
  {
   "cell_type": "code",
   "execution_count": 5,
   "metadata": {
    "collapsed": false
   },
   "outputs": [
    {
     "data": {
      "text/plain": [
       "2.0    15414\n",
       "0.0     4783\n",
       "1.0     4503\n",
       "Name: Pov_risk, dtype: int64"
      ]
     },
     "execution_count": 5,
     "metadata": {},
     "output_type": "execute_result"
    }
   ],
   "source": [
    "puma_05.Pov_risk.value_counts()"
   ]
  },
  {
   "cell_type": "code",
   "execution_count": 6,
   "metadata": {
    "collapsed": false
   },
   "outputs": [
    {
     "data": {
      "text/plain": [
       "2.0    15600\n",
       "0.0     4797\n",
       "1.0     4729\n",
       "Name: Pov_risk, dtype: int64"
      ]
     },
     "execution_count": 6,
     "metadata": {},
     "output_type": "execute_result"
    }
   ],
   "source": [
    "puma_06.Pov_risk.value_counts()"
   ]
  },
  {
   "cell_type": "code",
   "execution_count": 7,
   "metadata": {
    "collapsed": false
   },
   "outputs": [
    {
     "data": {
      "text/plain": [
       "2.0    15613\n",
       "1.0     4809\n",
       "0.0     4646\n",
       "Name: Pov_risk, dtype: int64"
      ]
     },
     "execution_count": 7,
     "metadata": {},
     "output_type": "execute_result"
    }
   ],
   "source": [
    "puma_07.Pov_risk.value_counts()"
   ]
  },
  {
   "cell_type": "code",
   "execution_count": 8,
   "metadata": {
    "collapsed": false
   },
   "outputs": [
    {
     "data": {
      "text/plain": [
       "2.0    15818\n",
       "0.0     4757\n",
       "1.0     4691\n",
       "Name: Pov_risk, dtype: int64"
      ]
     },
     "execution_count": 8,
     "metadata": {},
     "output_type": "execute_result"
    }
   ],
   "source": [
    "puma_08.Pov_risk.value_counts()"
   ]
  },
  {
   "cell_type": "code",
   "execution_count": 9,
   "metadata": {
    "collapsed": false
   },
   "outputs": [
    {
     "data": {
      "text/plain": [
       "2.0    15697\n",
       "1.0     5135\n",
       "0.0     4908\n",
       "Name: Pov_risk, dtype: int64"
      ]
     },
     "execution_count": 9,
     "metadata": {},
     "output_type": "execute_result"
    }
   ],
   "source": [
    "puma_09.Pov_risk.value_counts()"
   ]
  },
  {
   "cell_type": "code",
   "execution_count": 10,
   "metadata": {
    "collapsed": false
   },
   "outputs": [
    {
     "data": {
      "text/plain": [
       "2.0    15544\n",
       "1.0     5500\n",
       "0.0     5121\n",
       "Name: Pov_risk, dtype: int64"
      ]
     },
     "execution_count": 10,
     "metadata": {},
     "output_type": "execute_result"
    }
   ],
   "source": [
    "puma_10.Pov_risk.value_counts()"
   ]
  },
  {
   "cell_type": "code",
   "execution_count": 12,
   "metadata": {
    "collapsed": false
   },
   "outputs": [
    {
     "data": {
      "text/plain": [
       "2.0    15003\n",
       "1.0     5673\n",
       "0.0     5364\n",
       "Name: Pov_risk, dtype: int64"
      ]
     },
     "execution_count": 12,
     "metadata": {},
     "output_type": "execute_result"
    }
   ],
   "source": [
    "puma_11.Pov_risk.value_counts()"
   ]
  },
  {
   "cell_type": "code",
   "execution_count": 13,
   "metadata": {
    "collapsed": false
   },
   "outputs": [
    {
     "data": {
      "text/plain": [
       "2.0    15433\n",
       "1.0     5682\n",
       "0.0     5329\n",
       "Name: Pov_risk, dtype: int64"
      ]
     },
     "execution_count": 13,
     "metadata": {},
     "output_type": "execute_result"
    }
   ],
   "source": [
    "puma_12.Pov_risk.value_counts()"
   ]
  },
  {
   "cell_type": "code",
   "execution_count": 14,
   "metadata": {
    "collapsed": false
   },
   "outputs": [
    {
     "data": {
      "text/plain": [
       "2.0    15751\n",
       "1.0     5672\n",
       "0.0     5179\n",
       "Name: Pov_risk, dtype: int64"
      ]
     },
     "execution_count": 14,
     "metadata": {},
     "output_type": "execute_result"
    }
   ],
   "source": [
    "puma_14.Pov_risk.value_counts()"
   ]
  },
  {
   "cell_type": "code",
   "execution_count": 15,
   "metadata": {
    "collapsed": false
   },
   "outputs": [
    {
     "data": {
      "text/plain": [
       "Index(['Unnamed: 0', 'SERIALNO', 'PUMA', 'FICAtax', 'HousingStatus',\n",
       "       'Childcare', 'AgeCateg_2', 'MOOP', 'WorkExpIndiv', 'NP', 'Ethnicity',\n",
       "       'HEAP', 'CEO_Threshold', 'SchoolBreakfast', 'AgeCateg_3', 'IncomeTax',\n",
       "       'CEO_Income', 'CEO_Poverty', 'Boro', 'Housing', 'WIC', 'Commuting',\n",
       "       'Official_Poverty', 'Povunit', 'AgeCateg_1', 'CitizenStatus',\n",
       "       'PreTaxIncome', 'WorkersEquiv', 'FoodStamps', 'Official_Threshold',\n",
       "       'MV', 'SchoolLunch', 'PovunitType', 'EducAttain', 'Threshold1', 'year',\n",
       "       'unique_key', 'Pov_risk'],\n",
       "      dtype='object')"
      ]
     },
     "execution_count": 15,
     "metadata": {},
     "output_type": "execute_result"
    }
   ],
   "source": [
    "puma_05.columns"
   ]
  },
  {
   "cell_type": "code",
   "execution_count": 18,
   "metadata": {
    "collapsed": false
   },
   "outputs": [
    {
     "data": {
      "text/plain": [
       "array([2005])"
      ]
     },
     "execution_count": 18,
     "metadata": {},
     "output_type": "execute_result"
    }
   ],
   "source": [
    "puma_05.year.unique()"
   ]
  },
  {
   "cell_type": "markdown",
   "metadata": {},
   "source": [
    "### Selected features for Decision Trees"
   ]
  },
  {
   "cell_type": "code",
   "execution_count": 19,
   "metadata": {
    "collapsed": true
   },
   "outputs": [],
   "source": [
    "features = ['PovunitType','EducAttain',\n",
    "            'WorkExpIndiv','Povunit','WIC', 'MV', 'NP','Ethnicity',\\\n",
    "            'SchoolBreakfast', 'HousingStatus', 'WorkersEquiv', 'SchoolLunch',\\\n",
    "            'HEAP','AgeCateg_1','AgeCateg_2','AgeCateg_3','MOOP', 'Childcare',\\\n",
    "            'FoodStamps','Commuting', 'Housing', 'Pov_risk']"
   ]
  },
  {
   "cell_type": "code",
   "execution_count": 20,
   "metadata": {
    "collapsed": true
   },
   "outputs": [],
   "source": [
    "data1 = puma_05[features]\n",
    "data2 = puma_06[features]\n",
    "data3 = puma_07[features]\n",
    "data4 = puma_08[features]\n",
    "data5 = puma_09[features]\n",
    "data6 = puma_10[features]\n",
    "data7 = puma_11[features]\n",
    "data8 = puma_12[features]\n",
    "data9 = puma_14[features]"
   ]
  },
  {
   "cell_type": "code",
   "execution_count": 24,
   "metadata": {
    "collapsed": true
   },
   "outputs": [],
   "source": [
    "X = data1.iloc[:,:-1]\n",
    "Y = data1.iloc[:,-1:]"
   ]
  },
  {
   "cell_type": "code",
   "execution_count": 25,
   "metadata": {
    "collapsed": true
   },
   "outputs": [],
   "source": [
    "y = LabelBinarizer()\n",
    "Y_binary = y.fit_transform(Y)"
   ]
  },
  {
   "cell_type": "code",
   "execution_count": 26,
   "metadata": {
    "collapsed": false
   },
   "outputs": [
    {
     "data": {
      "text/plain": [
       "array([ 0.,  1.,  2.])"
      ]
     },
     "execution_count": 26,
     "metadata": {},
     "output_type": "execute_result"
    }
   ],
   "source": [
    "y.classes_"
   ]
  },
  {
   "cell_type": "code",
   "execution_count": 27,
   "metadata": {
    "collapsed": true
   },
   "outputs": [],
   "source": [
    "# Split the data \n",
    "X_train,X_test,y_train,y_test=train_test_split(X, Y_binary, test_size=0.3, random_state=123)"
   ]
  },
  {
   "cell_type": "code",
   "execution_count": 28,
   "metadata": {
    "collapsed": true
   },
   "outputs": [],
   "source": [
    "# hype parameter explored is max_depth\n",
    "AUC=[]\n",
    "for i in range(2,20,1):\n",
    "    rf = DTC(max_depth=i, random_state=123)\n",
    "    rf.fit(X_train, y_train)\n",
    "    pred=rf.predict(X_test)\n",
    "    AUC.append(rs(y_test.ravel(),pred.ravel()))"
   ]
  },
  {
   "cell_type": "code",
   "execution_count": 29,
   "metadata": {
    "collapsed": false
   },
   "outputs": [
    {
     "data": {
      "image/png": "[encoded data removed]",
      "text/plain": [
       "<matplotlib.figure.Figure at 0x11fa60400>"
      ]
     },
     "metadata": {},
     "output_type": "display_data"
    }
   ],
   "source": [
    "plt.figure(figsize=(7,5))\n",
    "plt.plot(range(2,20,1),AUC)\n",
    "plt.xlabel(\"Max Depth\")\n",
    "plt.ylabel(\"AUC\")\n",
    "plt.title(\"AUC vs Simplicity (max depth)\")\n",
    "plt.axvline(8,color='r',linestyle='--')\n",
    "plt.xlim(1,20)\n",
    "plt.show()"
   ]
  },
  {
   "cell_type": "code",
   "execution_count": 30,
   "metadata": {
    "collapsed": false
   },
   "outputs": [
    {
     "data": {
      "text/plain": [
       "DecisionTreeClassifier(class_weight=None, criterion='gini', max_depth=8,\n",
       "            max_features=None, max_leaf_nodes=None,\n",
       "            min_impurity_split=1e-07, min_samples_leaf=1,\n",
       "            min_samples_split=2, min_weight_fraction_leaf=0.0,\n",
       "            presort=False, random_state=123, splitter='best')"
      ]
     },
     "execution_count": 30,
     "metadata": {},
     "output_type": "execute_result"
    }
   ],
   "source": [
    "rf1 = DTC(max_depth=8, random_state=123)\n",
    "rf1.fit(X_train, y_train)"
   ]
  },
  {
   "cell_type": "code",
   "execution_count": 31,
   "metadata": {
    "collapsed": false
   },
   "outputs": [
    {
     "data": {
      "text/plain": [
       "0.70433776749566224"
      ]
     },
     "execution_count": 31,
     "metadata": {},
     "output_type": "execute_result"
    }
   ],
   "source": [
    "rf1.score(X_train,y_train)"
   ]
  },
  {
   "cell_type": "code",
   "execution_count": 32,
   "metadata": {
    "collapsed": false
   },
   "outputs": [
    {
     "data": {
      "text/plain": [
       "0.67989203778677465"
      ]
     },
     "execution_count": 32,
     "metadata": {},
     "output_type": "execute_result"
    }
   ],
   "source": [
    "rf1.score(X_test,y_test)"
   ]
  },
  {
   "cell_type": "code",
   "execution_count": 33,
   "metadata": {
    "collapsed": false
   },
   "outputs": [
    {
     "data": {
      "text/html": [
       "<div>\n",
       "<table border=\"1\" class=\"dataframe\">\n",
       "  <thead>\n",
       "    <tr style=\"text-align: right;\">\n",
       "      <th></th>\n",
       "      <th>variables</th>\n",
       "      <th>importance</th>\n",
       "    </tr>\n",
       "  </thead>\n",
       "  <tbody>\n",
       "    <tr>\n",
       "      <th>10</th>\n",
       "      <td>WorkersEquiv</td>\n",
       "      <td>0.358897</td>\n",
       "    </tr>\n",
       "    <tr>\n",
       "      <th>11</th>\n",
       "      <td>SchoolLunch</td>\n",
       "      <td>0.136204</td>\n",
       "    </tr>\n",
       "    <tr>\n",
       "      <th>18</th>\n",
       "      <td>FoodStamps</td>\n",
       "      <td>0.104351</td>\n",
       "    </tr>\n",
       "    <tr>\n",
       "      <th>16</th>\n",
       "      <td>MOOP</td>\n",
       "      <td>0.088581</td>\n",
       "    </tr>\n",
       "    <tr>\n",
       "      <th>1</th>\n",
       "      <td>EducAttain</td>\n",
       "      <td>0.0852013</td>\n",
       "    </tr>\n",
       "    <tr>\n",
       "      <th>9</th>\n",
       "      <td>HousingStatus</td>\n",
       "      <td>0.0558887</td>\n",
       "    </tr>\n",
       "    <tr>\n",
       "      <th>19</th>\n",
       "      <td>Commuting</td>\n",
       "      <td>0.0374628</td>\n",
       "    </tr>\n",
       "    <tr>\n",
       "      <th>20</th>\n",
       "      <td>Housing</td>\n",
       "      <td>0.0359908</td>\n",
       "    </tr>\n",
       "    <tr>\n",
       "      <th>12</th>\n",
       "      <td>HEAP</td>\n",
       "      <td>0.017043</td>\n",
       "    </tr>\n",
       "    <tr>\n",
       "      <th>7</th>\n",
       "      <td>Ethnicity</td>\n",
       "      <td>0.0129699</td>\n",
       "    </tr>\n",
       "  </tbody>\n",
       "</table>\n",
       "</div>"
      ],
      "text/plain": [
       "        variables importance\n",
       "10   WorkersEquiv   0.358897\n",
       "11    SchoolLunch   0.136204\n",
       "18     FoodStamps   0.104351\n",
       "16           MOOP   0.088581\n",
       "1      EducAttain  0.0852013\n",
       "9   HousingStatus  0.0558887\n",
       "19      Commuting  0.0374628\n",
       "20        Housing  0.0359908\n",
       "12           HEAP   0.017043\n",
       "7       Ethnicity  0.0129699"
      ]
     },
     "execution_count": 33,
     "metadata": {},
     "output_type": "execute_result"
    }
   ],
   "source": [
    "Feature_importance=pd.DataFrame([list(X_train.columns),list(rf1.feature_importances_)]).T\n",
    "Feature_importance.columns=[\"variables\",\"importance\"]\n",
    "Feature_importance.sort_values(by=\"importance\",ascending=False).iloc[:10,:]"
   ]
  },
  {
   "cell_type": "code",
   "execution_count": 34,
   "metadata": {
    "collapsed": true
   },
   "outputs": [],
   "source": [
    "X_train_simple = X_train.loc[:,['WorkersEquiv','SchoolLunch', 'FoodStamps',\\\n",
    "                                'MOOP','EducAttain','HousingStatus', 'Commuting','Housing',\\\n",
    "                               'HEAP', 'Ethnicity']]\n",
    "X_test_simple = X_test.loc[:,['WorkersEquiv','SchoolLunch', 'FoodStamps',\\\n",
    "                                'MOOP','EducAttain','HousingStatus', 'Commuting','Housing',\\\n",
    "                               'HEAP', 'Ethnicity']]"
   ]
  },
  {
   "cell_type": "code",
   "execution_count": 38,
   "metadata": {
    "collapsed": false
   },
   "outputs": [
    {
     "data": {
      "text/plain": [
       "<bound method ClassifierMixin.score of DecisionTreeClassifier(class_weight=None, criterion='gini', max_depth=8,\n",
       "            max_features=None, max_leaf_nodes=None,\n",
       "            min_impurity_split=1e-07, min_samples_leaf=1,\n",
       "            min_samples_split=2, min_weight_fraction_leaf=0.0,\n",
       "            presort=False, random_state=None, splitter='best')>"
      ]
     },
     "execution_count": 38,
     "metadata": {},
     "output_type": "execute_result"
    }
   ],
   "source": [
    "#real=np.array(y_test.apply(int))\n",
    "rf = DTC(max_depth=8) # Here of course we could remove this limit. But you could have a very \n",
    "                             #big graph for next question.\n",
    "rf.fit(X_train_simple, y_train)\n",
    "#pred=rf.predict_proba(X_test_simple)[:,1]\n",
    "rf.score\n",
    "#print(\"The AUC score for this simple model with 5 features is : {}\".format(rs(real,pred)))"
   ]
  },
  {
   "cell_type": "code",
   "execution_count": null,
   "metadata": {
    "collapsed": true
   },
   "outputs": [],
   "source": []
  },
  {
   "cell_type": "code",
   "execution_count": 45,
   "metadata": {
    "collapsed": true
   },
   "outputs": [],
   "source": [
    "X = data2.iloc[:,:-1]\n",
    "Y = data2.iloc[:,-1:]"
   ]
  },
  {
   "cell_type": "code",
   "execution_count": 46,
   "metadata": {
    "collapsed": true
   },
   "outputs": [],
   "source": [
    "y = LabelBinarizer()\n",
    "Y_binary = y.fit_transform(Y)"
   ]
  },
  {
   "cell_type": "code",
   "execution_count": 47,
   "metadata": {
    "collapsed": false
   },
   "outputs": [
    {
     "data": {
      "text/plain": [
       "array([ 0.,  1.,  2.])"
      ]
     },
     "execution_count": 47,
     "metadata": {},
     "output_type": "execute_result"
    }
   ],
   "source": [
    "y.classes_"
   ]
  },
  {
   "cell_type": "code",
   "execution_count": 48,
   "metadata": {
    "collapsed": true
   },
   "outputs": [],
   "source": [
    "# Split the data \n",
    "X_train,X_test,y_train,y_test=train_test_split(X, Y_binary, test_size=0.3, random_state=123)"
   ]
  },
  {
   "cell_type": "code",
   "execution_count": 49,
   "metadata": {
    "collapsed": true
   },
   "outputs": [],
   "source": [
    "# hype parameter explored is max_depth\n",
    "AUC=[]\n",
    "for i in range(2,20,1):\n",
    "    rf = DTC(max_depth=i, random_state=123)\n",
    "    rf.fit(X_train, y_train)\n",
    "    pred=rf.predict(X_test)\n",
    "    AUC.append(rs(y_test.ravel(),pred.ravel()))"
   ]
  },
  {
   "cell_type": "code",
   "execution_count": 51,
   "metadata": {
    "collapsed": false
   },
   "outputs": [
    {
     "data": {
      "image/png": "[encoded data removed]",
      "text/plain": [
       "<matplotlib.figure.Figure at 0x1202937b8>"
      ]
     },
     "metadata": {},
     "output_type": "display_data"
    }
   ],
   "source": [
    "plt.figure(figsize=(7,5))\n",
    "plt.plot(range(2,20,1),AUC)\n",
    "plt.xlabel(\"Max Depth\")\n",
    "plt.ylabel(\"AUC\")\n",
    "plt.title(\"AUC vs Simplicity (max depth)\")\n",
    "plt.axvline(5,color='r',linestyle='--')\n",
    "plt.xlim(1,20)\n",
    "plt.show()"
   ]
  },
  {
   "cell_type": "code",
   "execution_count": 52,
   "metadata": {
    "collapsed": false
   },
   "outputs": [
    {
     "data": {
      "text/plain": [
       "DecisionTreeClassifier(class_weight=None, criterion='gini', max_depth=5,\n",
       "            max_features=None, max_leaf_nodes=None,\n",
       "            min_impurity_split=1e-07, min_samples_leaf=1,\n",
       "            min_samples_split=2, min_weight_fraction_leaf=0.0,\n",
       "            presort=False, random_state=123, splitter='best')"
      ]
     },
     "execution_count": 52,
     "metadata": {},
     "output_type": "execute_result"
    }
   ],
   "source": [
    "rf2 = DTC(max_depth=5, random_state=123)\n",
    "rf2.fit(X_train, y_train)"
   ]
  },
  {
   "cell_type": "code",
   "execution_count": 53,
   "metadata": {
    "collapsed": false
   },
   "outputs": [
    {
     "data": {
      "text/plain": [
       "0.68654764612235619"
      ]
     },
     "execution_count": 53,
     "metadata": {},
     "output_type": "execute_result"
    }
   ],
   "source": [
    "rf2.score(X_train,y_train)"
   ]
  },
  {
   "cell_type": "code",
   "execution_count": 54,
   "metadata": {
    "collapsed": false
   },
   "outputs": [
    {
     "data": {
      "text/plain": [
       "0.68214380472273817"
      ]
     },
     "execution_count": 54,
     "metadata": {},
     "output_type": "execute_result"
    }
   ],
   "source": [
    "rf2.score(X_test,y_test)"
   ]
  },
  {
   "cell_type": "code",
   "execution_count": 67,
   "metadata": {
    "collapsed": false
   },
   "outputs": [
    {
     "data": {
      "text/html": [
       "<div>\n",
       "<table border=\"1\" class=\"dataframe\">\n",
       "  <thead>\n",
       "    <tr style=\"text-align: right;\">\n",
       "      <th></th>\n",
       "      <th>variables</th>\n",
       "      <th>importance</th>\n",
       "    </tr>\n",
       "  </thead>\n",
       "  <tbody>\n",
       "    <tr>\n",
       "      <th>10</th>\n",
       "      <td>WorkersEquiv</td>\n",
       "      <td>0.401408</td>\n",
       "    </tr>\n",
       "    <tr>\n",
       "      <th>11</th>\n",
       "      <td>SchoolLunch</td>\n",
       "      <td>0.175448</td>\n",
       "    </tr>\n",
       "    <tr>\n",
       "      <th>18</th>\n",
       "      <td>FoodStamps</td>\n",
       "      <td>0.126271</td>\n",
       "    </tr>\n",
       "    <tr>\n",
       "      <th>1</th>\n",
       "      <td>EducAttain</td>\n",
       "      <td>0.0949395</td>\n",
       "    </tr>\n",
       "    <tr>\n",
       "      <th>9</th>\n",
       "      <td>HousingStatus</td>\n",
       "      <td>0.0785001</td>\n",
       "    </tr>\n",
       "    <tr>\n",
       "      <th>20</th>\n",
       "      <td>Housing</td>\n",
       "      <td>0.037647</td>\n",
       "    </tr>\n",
       "    <tr>\n",
       "      <th>16</th>\n",
       "      <td>MOOP</td>\n",
       "      <td>0.0375081</td>\n",
       "    </tr>\n",
       "    <tr>\n",
       "      <th>13</th>\n",
       "      <td>AgeCateg_1</td>\n",
       "      <td>0.016043</td>\n",
       "    </tr>\n",
       "    <tr>\n",
       "      <th>6</th>\n",
       "      <td>NP</td>\n",
       "      <td>0.00868839</td>\n",
       "    </tr>\n",
       "    <tr>\n",
       "      <th>7</th>\n",
       "      <td>Ethnicity</td>\n",
       "      <td>0.00843083</td>\n",
       "    </tr>\n",
       "  </tbody>\n",
       "</table>\n",
       "</div>"
      ],
      "text/plain": [
       "        variables  importance\n",
       "10   WorkersEquiv    0.401408\n",
       "11    SchoolLunch    0.175448\n",
       "18     FoodStamps    0.126271\n",
       "1      EducAttain   0.0949395\n",
       "9   HousingStatus   0.0785001\n",
       "20        Housing    0.037647\n",
       "16           MOOP   0.0375081\n",
       "13     AgeCateg_1    0.016043\n",
       "6              NP  0.00868839\n",
       "7       Ethnicity  0.00843083"
      ]
     },
     "execution_count": 67,
     "metadata": {},
     "output_type": "execute_result"
    }
   ],
   "source": [
    "Feature_importance=pd.DataFrame([list(X_train.columns),list(rf2.feature_importances_)]).T\n",
    "Feature_importance.columns=[\"variables\",\"importance\"]\n",
    "Feature_importance.sort_values(by=\"importance\",ascending=False).iloc[:10,:]"
   ]
  },
  {
   "cell_type": "code",
   "execution_count": null,
   "metadata": {
    "collapsed": true
   },
   "outputs": [],
   "source": []
  },
  {
   "cell_type": "code",
   "execution_count": 56,
   "metadata": {
    "collapsed": true
   },
   "outputs": [],
   "source": [
    "X = data3.iloc[:,:-1]\n",
    "Y = data3.iloc[:,-1:]"
   ]
  },
  {
   "cell_type": "code",
   "execution_count": 57,
   "metadata": {
    "collapsed": true
   },
   "outputs": [],
   "source": [
    "y = LabelBinarizer()\n",
    "Y_binary = y.fit_transform(Y)"
   ]
  },
  {
   "cell_type": "code",
   "execution_count": 58,
   "metadata": {
    "collapsed": false
   },
   "outputs": [
    {
     "data": {
      "text/plain": [
       "array([ 0.,  1.,  2.])"
      ]
     },
     "execution_count": 58,
     "metadata": {},
     "output_type": "execute_result"
    }
   ],
   "source": [
    "y.classes_"
   ]
  },
  {
   "cell_type": "code",
   "execution_count": 59,
   "metadata": {
    "collapsed": true
   },
   "outputs": [],
   "source": [
    "# Split the data \n",
    "X_train,X_test,y_train,y_test=train_test_split(X, Y_binary, test_size=0.3, random_state=123)"
   ]
  },
  {
   "cell_type": "code",
   "execution_count": 60,
   "metadata": {
    "collapsed": true
   },
   "outputs": [],
   "source": [
    "# hype parameter explored is max_depth\n",
    "AUC=[]\n",
    "for i in range(2,20,1):\n",
    "    rf = DTC(max_depth=i, random_state=123)\n",
    "    rf.fit(X_train, y_train)\n",
    "    pred=rf.predict(X_test)\n",
    "    AUC.append(rs(y_test.ravel(),pred.ravel()))"
   ]
  },
  {
   "cell_type": "code",
   "execution_count": 61,
   "metadata": {
    "collapsed": false
   },
   "outputs": [
    {
     "data": {
      "image/png": "[encoded data removed]",
      "text/plain": [
       "<matplotlib.figure.Figure at 0x11c4aa630>"
      ]
     },
     "metadata": {},
     "output_type": "display_data"
    }
   ],
   "source": [
    "plt.figure(figsize=(7,5))\n",
    "plt.plot(range(2,20,1),AUC)\n",
    "plt.xlabel(\"Max Depth\")\n",
    "plt.ylabel(\"AUC\")\n",
    "plt.title(\"AUC vs Simplicity (max depth)\")\n",
    "plt.axvline(8,color='r',linestyle='--')\n",
    "plt.xlim(1,20)\n",
    "plt.show()"
   ]
  },
  {
   "cell_type": "code",
   "execution_count": 62,
   "metadata": {
    "collapsed": false
   },
   "outputs": [
    {
     "data": {
      "text/plain": [
       "DecisionTreeClassifier(class_weight=None, criterion='gini', max_depth=8,\n",
       "            max_features=None, max_leaf_nodes=None,\n",
       "            min_impurity_split=1e-07, min_samples_leaf=1,\n",
       "            min_samples_split=2, min_weight_fraction_leaf=0.0,\n",
       "            presort=False, random_state=123, splitter='best')"
      ]
     },
     "execution_count": 62,
     "metadata": {},
     "output_type": "execute_result"
    }
   ],
   "source": [
    "rf3 = DTC(max_depth=8, random_state=123)\n",
    "rf3.fit(X_train, y_train)"
   ]
  },
  {
   "cell_type": "code",
   "execution_count": 63,
   "metadata": {
    "collapsed": false
   },
   "outputs": [
    {
     "data": {
      "text/plain": [
       "0.68211090214851544"
      ]
     },
     "execution_count": 63,
     "metadata": {},
     "output_type": "execute_result"
    }
   ],
   "source": [
    "rf3.score(X_train,y_train)"
   ]
  },
  {
   "cell_type": "code",
   "execution_count": 64,
   "metadata": {
    "collapsed": false
   },
   "outputs": [
    {
     "data": {
      "text/plain": [
       "0.65496609493418423"
      ]
     },
     "execution_count": 64,
     "metadata": {},
     "output_type": "execute_result"
    }
   ],
   "source": [
    "rf3.score(X_test,y_test)"
   ]
  },
  {
   "cell_type": "code",
   "execution_count": 66,
   "metadata": {
    "collapsed": false
   },
   "outputs": [
    {
     "data": {
      "text/html": [
       "<div>\n",
       "<table border=\"1\" class=\"dataframe\">\n",
       "  <thead>\n",
       "    <tr style=\"text-align: right;\">\n",
       "      <th></th>\n",
       "      <th>variables</th>\n",
       "      <th>importance</th>\n",
       "    </tr>\n",
       "  </thead>\n",
       "  <tbody>\n",
       "    <tr>\n",
       "      <th>10</th>\n",
       "      <td>WorkersEquiv</td>\n",
       "      <td>0.320696</td>\n",
       "    </tr>\n",
       "    <tr>\n",
       "      <th>11</th>\n",
       "      <td>SchoolLunch</td>\n",
       "      <td>0.142905</td>\n",
       "    </tr>\n",
       "    <tr>\n",
       "      <th>18</th>\n",
       "      <td>FoodStamps</td>\n",
       "      <td>0.105299</td>\n",
       "    </tr>\n",
       "    <tr>\n",
       "      <th>16</th>\n",
       "      <td>MOOP</td>\n",
       "      <td>0.0961607</td>\n",
       "    </tr>\n",
       "    <tr>\n",
       "      <th>1</th>\n",
       "      <td>EducAttain</td>\n",
       "      <td>0.0860091</td>\n",
       "    </tr>\n",
       "    <tr>\n",
       "      <th>20</th>\n",
       "      <td>Housing</td>\n",
       "      <td>0.0644867</td>\n",
       "    </tr>\n",
       "    <tr>\n",
       "      <th>9</th>\n",
       "      <td>HousingStatus</td>\n",
       "      <td>0.0535288</td>\n",
       "    </tr>\n",
       "    <tr>\n",
       "      <th>19</th>\n",
       "      <td>Commuting</td>\n",
       "      <td>0.0226493</td>\n",
       "    </tr>\n",
       "    <tr>\n",
       "      <th>12</th>\n",
       "      <td>HEAP</td>\n",
       "      <td>0.0209121</td>\n",
       "    </tr>\n",
       "    <tr>\n",
       "      <th>7</th>\n",
       "      <td>Ethnicity</td>\n",
       "      <td>0.0169497</td>\n",
       "    </tr>\n",
       "  </tbody>\n",
       "</table>\n",
       "</div>"
      ],
      "text/plain": [
       "        variables importance\n",
       "10   WorkersEquiv   0.320696\n",
       "11    SchoolLunch   0.142905\n",
       "18     FoodStamps   0.105299\n",
       "16           MOOP  0.0961607\n",
       "1      EducAttain  0.0860091\n",
       "20        Housing  0.0644867\n",
       "9   HousingStatus  0.0535288\n",
       "19      Commuting  0.0226493\n",
       "12           HEAP  0.0209121\n",
       "7       Ethnicity  0.0169497"
      ]
     },
     "execution_count": 66,
     "metadata": {},
     "output_type": "execute_result"
    }
   ],
   "source": [
    "Feature_importance=pd.DataFrame([list(X_train.columns),list(rf3.feature_importances_)]).T\n",
    "Feature_importance.columns=[\"variables\",\"importance\"]\n",
    "Feature_importance.sort_values(by=\"importance\",ascending=False).iloc[:10,:]"
   ]
  },
  {
   "cell_type": "code",
   "execution_count": null,
   "metadata": {
    "collapsed": true
   },
   "outputs": [],
   "source": []
  },
  {
   "cell_type": "code",
   "execution_count": 68,
   "metadata": {
    "collapsed": true
   },
   "outputs": [],
   "source": [
    "X = data4.iloc[:,:-1]\n",
    "Y = data4.iloc[:,-1:]"
   ]
  },
  {
   "cell_type": "code",
   "execution_count": 69,
   "metadata": {
    "collapsed": true
   },
   "outputs": [],
   "source": [
    "y = LabelBinarizer()\n",
    "Y_binary = y.fit_transform(Y)"
   ]
  },
  {
   "cell_type": "code",
   "execution_count": 70,
   "metadata": {
    "collapsed": false
   },
   "outputs": [
    {
     "data": {
      "text/plain": [
       "array([ 0.,  1.,  2.])"
      ]
     },
     "execution_count": 70,
     "metadata": {},
     "output_type": "execute_result"
    }
   ],
   "source": [
    "y.classes_"
   ]
  },
  {
   "cell_type": "code",
   "execution_count": 71,
   "metadata": {
    "collapsed": true
   },
   "outputs": [],
   "source": [
    "# Split the data \n",
    "X_train,X_test,y_train,y_test=train_test_split(X, Y_binary, test_size=0.3, random_state=123)"
   ]
  },
  {
   "cell_type": "code",
   "execution_count": 72,
   "metadata": {
    "collapsed": true
   },
   "outputs": [],
   "source": [
    "# hype parameter explored is max_depth\n",
    "AUC=[]\n",
    "for i in range(2,20,1):\n",
    "    rf = DTC(max_depth=i, random_state=123)\n",
    "    rf.fit(X_train, y_train)\n",
    "    pred=rf.predict(X_test)\n",
    "    AUC.append(rs(y_test.ravel(),pred.ravel()))"
   ]
  },
  {
   "cell_type": "code",
   "execution_count": 74,
   "metadata": {
    "collapsed": false
   },
   "outputs": [
    {
     "data": {
      "image/png": "[encoded data removed]",
      "text/plain": [
       "<matplotlib.figure.Figure at 0x11ef01048>"
      ]
     },
     "metadata": {},
     "output_type": "display_data"
    }
   ],
   "source": [
    "plt.figure(figsize=(7,5))\n",
    "plt.plot(range(2,20,1),AUC)\n",
    "plt.xlabel(\"Max Depth\")\n",
    "plt.ylabel(\"AUC\")\n",
    "plt.title(\"AUC vs Simplicity (max depth)\")\n",
    "plt.axvline(5,color='r',linestyle='--')\n",
    "plt.xlim(1,20)\n",
    "plt.show()"
   ]
  },
  {
   "cell_type": "code",
   "execution_count": 75,
   "metadata": {
    "collapsed": false
   },
   "outputs": [
    {
     "data": {
      "text/plain": [
       "DecisionTreeClassifier(class_weight=None, criterion='gini', max_depth=5,\n",
       "            max_features=None, max_leaf_nodes=None,\n",
       "            min_impurity_split=1e-07, min_samples_leaf=1,\n",
       "            min_samples_split=2, min_weight_fraction_leaf=0.0,\n",
       "            presort=False, random_state=123, splitter='best')"
      ]
     },
     "execution_count": 75,
     "metadata": {},
     "output_type": "execute_result"
    }
   ],
   "source": [
    "rf4 = DTC(max_depth=5, random_state=123)\n",
    "rf4.fit(X_train, y_train)"
   ]
  },
  {
   "cell_type": "code",
   "execution_count": 76,
   "metadata": {
    "collapsed": false
   },
   "outputs": [
    {
     "data": {
      "text/plain": [
       "0.69970598213276036"
      ]
     },
     "execution_count": 76,
     "metadata": {},
     "output_type": "execute_result"
    }
   ],
   "source": [
    "rf4.score(X_train,y_train)"
   ]
  },
  {
   "cell_type": "code",
   "execution_count": 77,
   "metadata": {
    "collapsed": false
   },
   "outputs": [
    {
     "data": {
      "text/plain": [
       "0.69234828496042211"
      ]
     },
     "execution_count": 77,
     "metadata": {},
     "output_type": "execute_result"
    }
   ],
   "source": [
    "rf4.score(X_test,y_test)"
   ]
  },
  {
   "cell_type": "code",
   "execution_count": 78,
   "metadata": {
    "collapsed": false
   },
   "outputs": [
    {
     "data": {
      "text/html": [
       "<div>\n",
       "<table border=\"1\" class=\"dataframe\">\n",
       "  <thead>\n",
       "    <tr style=\"text-align: right;\">\n",
       "      <th></th>\n",
       "      <th>variables</th>\n",
       "      <th>importance</th>\n",
       "    </tr>\n",
       "  </thead>\n",
       "  <tbody>\n",
       "    <tr>\n",
       "      <th>10</th>\n",
       "      <td>WorkersEquiv</td>\n",
       "      <td>0.416036</td>\n",
       "    </tr>\n",
       "    <tr>\n",
       "      <th>11</th>\n",
       "      <td>SchoolLunch</td>\n",
       "      <td>0.170499</td>\n",
       "    </tr>\n",
       "    <tr>\n",
       "      <th>18</th>\n",
       "      <td>FoodStamps</td>\n",
       "      <td>0.113983</td>\n",
       "    </tr>\n",
       "    <tr>\n",
       "      <th>16</th>\n",
       "      <td>MOOP</td>\n",
       "      <td>0.067799</td>\n",
       "    </tr>\n",
       "    <tr>\n",
       "      <th>1</th>\n",
       "      <td>EducAttain</td>\n",
       "      <td>0.0657649</td>\n",
       "    </tr>\n",
       "    <tr>\n",
       "      <th>9</th>\n",
       "      <td>HousingStatus</td>\n",
       "      <td>0.0611111</td>\n",
       "    </tr>\n",
       "    <tr>\n",
       "      <th>20</th>\n",
       "      <td>Housing</td>\n",
       "      <td>0.0577946</td>\n",
       "    </tr>\n",
       "    <tr>\n",
       "      <th>13</th>\n",
       "      <td>AgeCateg_1</td>\n",
       "      <td>0.0139919</td>\n",
       "    </tr>\n",
       "    <tr>\n",
       "      <th>12</th>\n",
       "      <td>HEAP</td>\n",
       "      <td>0.0113787</td>\n",
       "    </tr>\n",
       "    <tr>\n",
       "      <th>19</th>\n",
       "      <td>Commuting</td>\n",
       "      <td>0.00676285</td>\n",
       "    </tr>\n",
       "  </tbody>\n",
       "</table>\n",
       "</div>"
      ],
      "text/plain": [
       "        variables  importance\n",
       "10   WorkersEquiv    0.416036\n",
       "11    SchoolLunch    0.170499\n",
       "18     FoodStamps    0.113983\n",
       "16           MOOP    0.067799\n",
       "1      EducAttain   0.0657649\n",
       "9   HousingStatus   0.0611111\n",
       "20        Housing   0.0577946\n",
       "13     AgeCateg_1   0.0139919\n",
       "12           HEAP   0.0113787\n",
       "19      Commuting  0.00676285"
      ]
     },
     "execution_count": 78,
     "metadata": {},
     "output_type": "execute_result"
    }
   ],
   "source": [
    "Feature_importance=pd.DataFrame([list(X_train.columns),list(rf4.feature_importances_)]).T\n",
    "Feature_importance.columns=[\"variables\",\"importance\"]\n",
    "Feature_importance.sort_values(by=\"importance\",ascending=False).iloc[:10,:]"
   ]
  },
  {
   "cell_type": "code",
   "execution_count": null,
   "metadata": {
    "collapsed": true
   },
   "outputs": [],
   "source": []
  },
  {
   "cell_type": "code",
   "execution_count": 79,
   "metadata": {
    "collapsed": true
   },
   "outputs": [],
   "source": [
    "X = data5.iloc[:,:-1]\n",
    "Y = data5.iloc[:,-1:]"
   ]
  },
  {
   "cell_type": "code",
   "execution_count": 80,
   "metadata": {
    "collapsed": true
   },
   "outputs": [],
   "source": [
    "y = LabelBinarizer()\n",
    "Y_binary = y.fit_transform(Y)"
   ]
  },
  {
   "cell_type": "code",
   "execution_count": 81,
   "metadata": {
    "collapsed": false
   },
   "outputs": [
    {
     "data": {
      "text/plain": [
       "array([ 0.,  1.,  2.])"
      ]
     },
     "execution_count": 81,
     "metadata": {},
     "output_type": "execute_result"
    }
   ],
   "source": [
    "y.classes_"
   ]
  },
  {
   "cell_type": "code",
   "execution_count": 82,
   "metadata": {
    "collapsed": true
   },
   "outputs": [],
   "source": [
    "# Split the data \n",
    "X_train,X_test,y_train,y_test=train_test_split(X, Y_binary, test_size=0.3, random_state=123)"
   ]
  },
  {
   "cell_type": "code",
   "execution_count": 83,
   "metadata": {
    "collapsed": true
   },
   "outputs": [],
   "source": [
    "# hype parameter explored is max_depth\n",
    "AUC=[]\n",
    "for i in range(2,20,1):\n",
    "    rf = DTC(max_depth=i, random_state=123)\n",
    "    rf.fit(X_train, y_train)\n",
    "    pred=rf.predict(X_test)\n",
    "    AUC.append(rs(y_test.ravel(),pred.ravel()))"
   ]
  },
  {
   "cell_type": "code",
   "execution_count": 86,
   "metadata": {
    "collapsed": false
   },
   "outputs": [
    {
     "data": {
      "image/png": "[encoded data removed]",
      "text/plain": [
       "<matplotlib.figure.Figure at 0x11eb4efd0>"
      ]
     },
     "metadata": {},
     "output_type": "display_data"
    }
   ],
   "source": [
    "plt.figure(figsize=(7,5))\n",
    "plt.plot(range(2,20,1),AUC)\n",
    "plt.xlabel(\"Max Depth\")\n",
    "plt.ylabel(\"AUC\")\n",
    "plt.title(\"AUC vs Simplicity (max depth)\")\n",
    "plt.axvline(5,color='r',linestyle='--')\n",
    "plt.xlim(1,20)\n",
    "plt.show()"
   ]
  },
  {
   "cell_type": "code",
   "execution_count": 87,
   "metadata": {
    "collapsed": false
   },
   "outputs": [
    {
     "data": {
      "text/plain": [
       "DecisionTreeClassifier(class_weight=None, criterion='gini', max_depth=5,\n",
       "            max_features=None, max_leaf_nodes=None,\n",
       "            min_impurity_split=1e-07, min_samples_leaf=1,\n",
       "            min_samples_split=2, min_weight_fraction_leaf=0.0,\n",
       "            presort=False, random_state=123, splitter='best')"
      ]
     },
     "execution_count": 87,
     "metadata": {},
     "output_type": "execute_result"
    }
   ],
   "source": [
    "rf5 = DTC(max_depth=5, random_state=123)\n",
    "rf5.fit(X_train, y_train)"
   ]
  },
  {
   "cell_type": "code",
   "execution_count": 88,
   "metadata": {
    "collapsed": false
   },
   "outputs": [
    {
     "data": {
      "text/plain": [
       "0.64341214341214337"
      ]
     },
     "execution_count": 88,
     "metadata": {},
     "output_type": "execute_result"
    }
   ],
   "source": [
    "rf5.score(X_train,y_train)"
   ]
  },
  {
   "cell_type": "code",
   "execution_count": 89,
   "metadata": {
    "collapsed": false
   },
   "outputs": [
    {
     "data": {
      "text/plain": [
       "0.63196063196063201"
      ]
     },
     "execution_count": 89,
     "metadata": {},
     "output_type": "execute_result"
    }
   ],
   "source": [
    "rf5.score(X_test,y_test)"
   ]
  },
  {
   "cell_type": "code",
   "execution_count": 90,
   "metadata": {
    "collapsed": false
   },
   "outputs": [
    {
     "data": {
      "text/html": [
       "<div>\n",
       "<table border=\"1\" class=\"dataframe\">\n",
       "  <thead>\n",
       "    <tr style=\"text-align: right;\">\n",
       "      <th></th>\n",
       "      <th>variables</th>\n",
       "      <th>importance</th>\n",
       "    </tr>\n",
       "  </thead>\n",
       "  <tbody>\n",
       "    <tr>\n",
       "      <th>10</th>\n",
       "      <td>WorkersEquiv</td>\n",
       "      <td>0.415829</td>\n",
       "    </tr>\n",
       "    <tr>\n",
       "      <th>18</th>\n",
       "      <td>FoodStamps</td>\n",
       "      <td>0.136383</td>\n",
       "    </tr>\n",
       "    <tr>\n",
       "      <th>11</th>\n",
       "      <td>SchoolLunch</td>\n",
       "      <td>0.130016</td>\n",
       "    </tr>\n",
       "    <tr>\n",
       "      <th>1</th>\n",
       "      <td>EducAttain</td>\n",
       "      <td>0.102976</td>\n",
       "    </tr>\n",
       "    <tr>\n",
       "      <th>9</th>\n",
       "      <td>HousingStatus</td>\n",
       "      <td>0.0805849</td>\n",
       "    </tr>\n",
       "    <tr>\n",
       "      <th>20</th>\n",
       "      <td>Housing</td>\n",
       "      <td>0.049145</td>\n",
       "    </tr>\n",
       "    <tr>\n",
       "      <th>16</th>\n",
       "      <td>MOOP</td>\n",
       "      <td>0.0419953</td>\n",
       "    </tr>\n",
       "    <tr>\n",
       "      <th>13</th>\n",
       "      <td>AgeCateg_1</td>\n",
       "      <td>0.0167774</td>\n",
       "    </tr>\n",
       "    <tr>\n",
       "      <th>19</th>\n",
       "      <td>Commuting</td>\n",
       "      <td>0.0163514</td>\n",
       "    </tr>\n",
       "    <tr>\n",
       "      <th>7</th>\n",
       "      <td>Ethnicity</td>\n",
       "      <td>0.00541781</td>\n",
       "    </tr>\n",
       "  </tbody>\n",
       "</table>\n",
       "</div>"
      ],
      "text/plain": [
       "        variables  importance\n",
       "10   WorkersEquiv    0.415829\n",
       "18     FoodStamps    0.136383\n",
       "11    SchoolLunch    0.130016\n",
       "1      EducAttain    0.102976\n",
       "9   HousingStatus   0.0805849\n",
       "20        Housing    0.049145\n",
       "16           MOOP   0.0419953\n",
       "13     AgeCateg_1   0.0167774\n",
       "19      Commuting   0.0163514\n",
       "7       Ethnicity  0.00541781"
      ]
     },
     "execution_count": 90,
     "metadata": {},
     "output_type": "execute_result"
    }
   ],
   "source": [
    "Feature_importance=pd.DataFrame([list(X_train.columns),list(rf5.feature_importances_)]).T\n",
    "Feature_importance.columns=[\"variables\",\"importance\"]\n",
    "Feature_importance.sort_values(by=\"importance\",ascending=False).iloc[:10,:]"
   ]
  },
  {
   "cell_type": "code",
   "execution_count": null,
   "metadata": {
    "collapsed": true
   },
   "outputs": [],
   "source": []
  },
  {
   "cell_type": "code",
   "execution_count": 103,
   "metadata": {
    "collapsed": true
   },
   "outputs": [],
   "source": [
    "X = data6.iloc[:,:-1]\n",
    "Y = data6.iloc[:,-1:]"
   ]
  },
  {
   "cell_type": "code",
   "execution_count": 104,
   "metadata": {
    "collapsed": true
   },
   "outputs": [],
   "source": [
    "y = LabelBinarizer()\n",
    "Y_binary = y.fit_transform(Y)"
   ]
  },
  {
   "cell_type": "code",
   "execution_count": 105,
   "metadata": {
    "collapsed": false
   },
   "outputs": [
    {
     "data": {
      "text/plain": [
       "array([ 0.,  1.,  2.])"
      ]
     },
     "execution_count": 105,
     "metadata": {},
     "output_type": "execute_result"
    }
   ],
   "source": [
    "y.classes_"
   ]
  },
  {
   "cell_type": "code",
   "execution_count": 106,
   "metadata": {
    "collapsed": true
   },
   "outputs": [],
   "source": [
    "# Split the data \n",
    "X_train,X_test,y_train,y_test=train_test_split(X, Y_binary, test_size=0.3, random_state=123)"
   ]
  },
  {
   "cell_type": "code",
   "execution_count": 107,
   "metadata": {
    "collapsed": true
   },
   "outputs": [],
   "source": [
    "# hype parameter explored is max_depth\n",
    "AUC=[]\n",
    "for i in range(2,20,1):\n",
    "    rf = DTC(max_depth=i, random_state=123)\n",
    "    rf.fit(X_train, y_train)\n",
    "    pred=rf.predict(X_test)\n",
    "    AUC.append(rs(y_test.ravel(),pred.ravel()))"
   ]
  },
  {
   "cell_type": "code",
   "execution_count": 110,
   "metadata": {
    "collapsed": false
   },
   "outputs": [
    {
     "data": {
      "image/png": "[encoded data removed]",
      "text/plain": [
       "<matplotlib.figure.Figure at 0x11eee49b0>"
      ]
     },
     "metadata": {},
     "output_type": "display_data"
    }
   ],
   "source": [
    "plt.figure(figsize=(7,5))\n",
    "plt.plot(range(2,20,1),AUC)\n",
    "plt.xlabel(\"Max Depth\")\n",
    "plt.ylabel(\"AUC\")\n",
    "plt.title(\"AUC vs Simplicity (max depth)\")\n",
    "plt.axvline(6,color='r',linestyle='--')\n",
    "plt.xlim(1,20)\n",
    "plt.show()"
   ]
  },
  {
   "cell_type": "code",
   "execution_count": 111,
   "metadata": {
    "collapsed": false
   },
   "outputs": [
    {
     "data": {
      "text/plain": [
       "DecisionTreeClassifier(class_weight=None, criterion='gini', max_depth=6,\n",
       "            max_features=None, max_leaf_nodes=None,\n",
       "            min_impurity_split=1e-07, min_samples_leaf=1,\n",
       "            min_samples_split=2, min_weight_fraction_leaf=0.0,\n",
       "            presort=False, random_state=123, splitter='best')"
      ]
     },
     "execution_count": 111,
     "metadata": {},
     "output_type": "execute_result"
    }
   ],
   "source": [
    "rf6 = DTC(max_depth=6, random_state=123)\n",
    "rf6.fit(X_train, y_train)"
   ]
  },
  {
   "cell_type": "code",
   "execution_count": 112,
   "metadata": {
    "collapsed": false
   },
   "outputs": [
    {
     "data": {
      "text/plain": [
       "0.65132405132405136"
      ]
     },
     "execution_count": 112,
     "metadata": {},
     "output_type": "execute_result"
    }
   ],
   "source": [
    "rf6.score(X_train,y_train)"
   ]
  },
  {
   "cell_type": "code",
   "execution_count": 113,
   "metadata": {
    "collapsed": false
   },
   "outputs": [
    {
     "data": {
      "text/plain": [
       "0.64101910828025477"
      ]
     },
     "execution_count": 113,
     "metadata": {},
     "output_type": "execute_result"
    }
   ],
   "source": [
    "rf6.score(X_test,y_test)"
   ]
  },
  {
   "cell_type": "code",
   "execution_count": 114,
   "metadata": {
    "collapsed": false
   },
   "outputs": [
    {
     "data": {
      "text/html": [
       "<div>\n",
       "<table border=\"1\" class=\"dataframe\">\n",
       "  <thead>\n",
       "    <tr style=\"text-align: right;\">\n",
       "      <th></th>\n",
       "      <th>variables</th>\n",
       "      <th>importance</th>\n",
       "    </tr>\n",
       "  </thead>\n",
       "  <tbody>\n",
       "    <tr>\n",
       "      <th>10</th>\n",
       "      <td>WorkersEquiv</td>\n",
       "      <td>0.415309</td>\n",
       "    </tr>\n",
       "    <tr>\n",
       "      <th>11</th>\n",
       "      <td>SchoolLunch</td>\n",
       "      <td>0.127766</td>\n",
       "    </tr>\n",
       "    <tr>\n",
       "      <th>18</th>\n",
       "      <td>FoodStamps</td>\n",
       "      <td>0.0986189</td>\n",
       "    </tr>\n",
       "    <tr>\n",
       "      <th>1</th>\n",
       "      <td>EducAttain</td>\n",
       "      <td>0.0913454</td>\n",
       "    </tr>\n",
       "    <tr>\n",
       "      <th>16</th>\n",
       "      <td>MOOP</td>\n",
       "      <td>0.0684641</td>\n",
       "    </tr>\n",
       "    <tr>\n",
       "      <th>20</th>\n",
       "      <td>Housing</td>\n",
       "      <td>0.0607235</td>\n",
       "    </tr>\n",
       "    <tr>\n",
       "      <th>9</th>\n",
       "      <td>HousingStatus</td>\n",
       "      <td>0.0577879</td>\n",
       "    </tr>\n",
       "    <tr>\n",
       "      <th>13</th>\n",
       "      <td>AgeCateg_1</td>\n",
       "      <td>0.0236795</td>\n",
       "    </tr>\n",
       "    <tr>\n",
       "      <th>12</th>\n",
       "      <td>HEAP</td>\n",
       "      <td>0.0184042</td>\n",
       "    </tr>\n",
       "    <tr>\n",
       "      <th>15</th>\n",
       "      <td>AgeCateg_3</td>\n",
       "      <td>0.0100899</td>\n",
       "    </tr>\n",
       "  </tbody>\n",
       "</table>\n",
       "</div>"
      ],
      "text/plain": [
       "        variables importance\n",
       "10   WorkersEquiv   0.415309\n",
       "11    SchoolLunch   0.127766\n",
       "18     FoodStamps  0.0986189\n",
       "1      EducAttain  0.0913454\n",
       "16           MOOP  0.0684641\n",
       "20        Housing  0.0607235\n",
       "9   HousingStatus  0.0577879\n",
       "13     AgeCateg_1  0.0236795\n",
       "12           HEAP  0.0184042\n",
       "15     AgeCateg_3  0.0100899"
      ]
     },
     "execution_count": 114,
     "metadata": {},
     "output_type": "execute_result"
    }
   ],
   "source": [
    "Feature_importance=pd.DataFrame([list(X_train.columns),list(rf6.feature_importances_)]).T\n",
    "Feature_importance.columns=[\"variables\",\"importance\"]\n",
    "Feature_importance.sort_values(by=\"importance\",ascending=False).iloc[:10,:]"
   ]
  },
  {
   "cell_type": "code",
   "execution_count": null,
   "metadata": {
    "collapsed": true
   },
   "outputs": [],
   "source": []
  },
  {
   "cell_type": "code",
   "execution_count": 115,
   "metadata": {
    "collapsed": true
   },
   "outputs": [],
   "source": [
    "X = data7.iloc[:,:-1]\n",
    "Y = data7.iloc[:,-1:]"
   ]
  },
  {
   "cell_type": "code",
   "execution_count": 116,
   "metadata": {
    "collapsed": true
   },
   "outputs": [],
   "source": [
    "y = LabelBinarizer()\n",
    "Y_binary = y.fit_transform(Y)"
   ]
  },
  {
   "cell_type": "code",
   "execution_count": 117,
   "metadata": {
    "collapsed": false
   },
   "outputs": [
    {
     "data": {
      "text/plain": [
       "array([ 0.,  1.,  2.])"
      ]
     },
     "execution_count": 117,
     "metadata": {},
     "output_type": "execute_result"
    }
   ],
   "source": [
    "y.classes_"
   ]
  },
  {
   "cell_type": "code",
   "execution_count": 118,
   "metadata": {
    "collapsed": true
   },
   "outputs": [],
   "source": [
    "# Split the data \n",
    "X_train,X_test,y_train,y_test=train_test_split(X, Y_binary, test_size=0.3, random_state=123)"
   ]
  },
  {
   "cell_type": "code",
   "execution_count": 119,
   "metadata": {
    "collapsed": true
   },
   "outputs": [],
   "source": [
    "# hype parameter explored is max_depth\n",
    "AUC=[]\n",
    "for i in range(2,20,1):\n",
    "    rf = DTC(max_depth=i, random_state=123)\n",
    "    rf.fit(X_train, y_train)\n",
    "    pred=rf.predict(X_test)\n",
    "    AUC.append(rs(y_test.ravel(),pred.ravel()))"
   ]
  },
  {
   "cell_type": "code",
   "execution_count": 120,
   "metadata": {
    "collapsed": false
   },
   "outputs": [
    {
     "data": {
      "image/png": "[encoded data removed]",
      "text/plain": [
       "<matplotlib.figure.Figure at 0x115a7bcf8>"
      ]
     },
     "metadata": {},
     "output_type": "display_data"
    }
   ],
   "source": [
    "plt.figure(figsize=(7,5))\n",
    "plt.plot(range(2,20,1),AUC)\n",
    "plt.xlabel(\"Max Depth\")\n",
    "plt.ylabel(\"AUC\")\n",
    "plt.title(\"AUC vs Simplicity (max depth)\")\n",
    "plt.axvline(6,color='r',linestyle='--')\n",
    "plt.xlim(1,20)\n",
    "plt.show()"
   ]
  },
  {
   "cell_type": "code",
   "execution_count": 121,
   "metadata": {
    "collapsed": false
   },
   "outputs": [
    {
     "data": {
      "text/plain": [
       "DecisionTreeClassifier(class_weight=None, criterion='gini', max_depth=6,\n",
       "            max_features=None, max_leaf_nodes=None,\n",
       "            min_impurity_split=1e-07, min_samples_leaf=1,\n",
       "            min_samples_split=2, min_weight_fraction_leaf=0.0,\n",
       "            presort=False, random_state=123, splitter='best')"
      ]
     },
     "execution_count": 121,
     "metadata": {},
     "output_type": "execute_result"
    }
   ],
   "source": [
    "rf7 = DTC(max_depth=6, random_state=123)\n",
    "rf7.fit(X_train, y_train)"
   ]
  },
  {
   "cell_type": "code",
   "execution_count": 122,
   "metadata": {
    "collapsed": false
   },
   "outputs": [
    {
     "data": {
      "text/plain": [
       "0.64581961816984856"
      ]
     },
     "execution_count": 122,
     "metadata": {},
     "output_type": "execute_result"
    }
   ],
   "source": [
    "rf7.score(X_train,y_train)"
   ]
  },
  {
   "cell_type": "code",
   "execution_count": 123,
   "metadata": {
    "collapsed": false
   },
   "outputs": [
    {
     "data": {
      "text/plain": [
       "0.63760880696364564"
      ]
     },
     "execution_count": 123,
     "metadata": {},
     "output_type": "execute_result"
    }
   ],
   "source": [
    "rf7.score(X_test,y_test)"
   ]
  },
  {
   "cell_type": "code",
   "execution_count": 124,
   "metadata": {
    "collapsed": false
   },
   "outputs": [
    {
     "data": {
      "text/html": [
       "<div>\n",
       "<table border=\"1\" class=\"dataframe\">\n",
       "  <thead>\n",
       "    <tr style=\"text-align: right;\">\n",
       "      <th></th>\n",
       "      <th>variables</th>\n",
       "      <th>importance</th>\n",
       "    </tr>\n",
       "  </thead>\n",
       "  <tbody>\n",
       "    <tr>\n",
       "      <th>10</th>\n",
       "      <td>WorkersEquiv</td>\n",
       "      <td>0.39572</td>\n",
       "    </tr>\n",
       "    <tr>\n",
       "      <th>11</th>\n",
       "      <td>SchoolLunch</td>\n",
       "      <td>0.1384</td>\n",
       "    </tr>\n",
       "    <tr>\n",
       "      <th>18</th>\n",
       "      <td>FoodStamps</td>\n",
       "      <td>0.113769</td>\n",
       "    </tr>\n",
       "    <tr>\n",
       "      <th>1</th>\n",
       "      <td>EducAttain</td>\n",
       "      <td>0.0918122</td>\n",
       "    </tr>\n",
       "    <tr>\n",
       "      <th>16</th>\n",
       "      <td>MOOP</td>\n",
       "      <td>0.0761751</td>\n",
       "    </tr>\n",
       "    <tr>\n",
       "      <th>9</th>\n",
       "      <td>HousingStatus</td>\n",
       "      <td>0.0614679</td>\n",
       "    </tr>\n",
       "    <tr>\n",
       "      <th>20</th>\n",
       "      <td>Housing</td>\n",
       "      <td>0.0562303</td>\n",
       "    </tr>\n",
       "    <tr>\n",
       "      <th>13</th>\n",
       "      <td>AgeCateg_1</td>\n",
       "      <td>0.0212207</td>\n",
       "    </tr>\n",
       "    <tr>\n",
       "      <th>19</th>\n",
       "      <td>Commuting</td>\n",
       "      <td>0.0131317</td>\n",
       "    </tr>\n",
       "    <tr>\n",
       "      <th>15</th>\n",
       "      <td>AgeCateg_3</td>\n",
       "      <td>0.0127895</td>\n",
       "    </tr>\n",
       "  </tbody>\n",
       "</table>\n",
       "</div>"
      ],
      "text/plain": [
       "        variables importance\n",
       "10   WorkersEquiv    0.39572\n",
       "11    SchoolLunch     0.1384\n",
       "18     FoodStamps   0.113769\n",
       "1      EducAttain  0.0918122\n",
       "16           MOOP  0.0761751\n",
       "9   HousingStatus  0.0614679\n",
       "20        Housing  0.0562303\n",
       "13     AgeCateg_1  0.0212207\n",
       "19      Commuting  0.0131317\n",
       "15     AgeCateg_3  0.0127895"
      ]
     },
     "execution_count": 124,
     "metadata": {},
     "output_type": "execute_result"
    }
   ],
   "source": [
    "Feature_importance=pd.DataFrame([list(X_train.columns),list(rf7.feature_importances_)]).T\n",
    "Feature_importance.columns=[\"variables\",\"importance\"]\n",
    "Feature_importance.sort_values(by=\"importance\",ascending=False).iloc[:10,:]"
   ]
  },
  {
   "cell_type": "code",
   "execution_count": null,
   "metadata": {
    "collapsed": true
   },
   "outputs": [],
   "source": []
  },
  {
   "cell_type": "code",
   "execution_count": 125,
   "metadata": {
    "collapsed": true
   },
   "outputs": [],
   "source": [
    "X = data8.iloc[:,:-1]\n",
    "Y = data8.iloc[:,-1:]"
   ]
  },
  {
   "cell_type": "code",
   "execution_count": 126,
   "metadata": {
    "collapsed": true
   },
   "outputs": [],
   "source": [
    "y = LabelBinarizer()\n",
    "Y_binary = y.fit_transform(Y)"
   ]
  },
  {
   "cell_type": "code",
   "execution_count": 127,
   "metadata": {
    "collapsed": false
   },
   "outputs": [
    {
     "data": {
      "text/plain": [
       "array([ 0.,  1.,  2.])"
      ]
     },
     "execution_count": 127,
     "metadata": {},
     "output_type": "execute_result"
    }
   ],
   "source": [
    "y.classes_"
   ]
  },
  {
   "cell_type": "code",
   "execution_count": 128,
   "metadata": {
    "collapsed": true
   },
   "outputs": [],
   "source": [
    "# Split the data \n",
    "X_train,X_test,y_train,y_test=train_test_split(X, Y_binary, test_size=0.3, random_state=123)"
   ]
  },
  {
   "cell_type": "code",
   "execution_count": 129,
   "metadata": {
    "collapsed": true
   },
   "outputs": [],
   "source": [
    "# hype parameter explored is max_depth\n",
    "AUC=[]\n",
    "for i in range(2,20,1):\n",
    "    rf = DTC(max_depth=i, random_state=123)\n",
    "    rf.fit(X_train, y_train)\n",
    "    pred=rf.predict(X_test)\n",
    "    AUC.append(rs(y_test.ravel(),pred.ravel()))"
   ]
  },
  {
   "cell_type": "code",
   "execution_count": 131,
   "metadata": {
    "collapsed": false
   },
   "outputs": [
    {
     "data": {
      "image/png": "[encoded data removed]",
      "text/plain": [
       "<matplotlib.figure.Figure at 0x115a7b668>"
      ]
     },
     "metadata": {},
     "output_type": "display_data"
    }
   ],
   "source": [
    "plt.figure(figsize=(7,5))\n",
    "plt.plot(range(2,20,1),AUC)\n",
    "plt.xlabel(\"Max Depth\")\n",
    "plt.ylabel(\"AUC\")\n",
    "plt.title(\"AUC vs Simplicity (max depth)\")\n",
    "plt.axvline(7,color='r',linestyle='--')\n",
    "plt.xlim(1,20)\n",
    "plt.show()"
   ]
  },
  {
   "cell_type": "code",
   "execution_count": 132,
   "metadata": {
    "collapsed": false
   },
   "outputs": [
    {
     "data": {
      "text/plain": [
       "DecisionTreeClassifier(class_weight=None, criterion='gini', max_depth=7,\n",
       "            max_features=None, max_leaf_nodes=None,\n",
       "            min_impurity_split=1e-07, min_samples_leaf=1,\n",
       "            min_samples_split=2, min_weight_fraction_leaf=0.0,\n",
       "            presort=False, random_state=123, splitter='best')"
      ]
     },
     "execution_count": 132,
     "metadata": {},
     "output_type": "execute_result"
    }
   ],
   "source": [
    "rf8 = DTC(max_depth=7, random_state=123)\n",
    "rf8.fit(X_train, y_train)"
   ]
  },
  {
   "cell_type": "code",
   "execution_count": 133,
   "metadata": {
    "collapsed": false
   },
   "outputs": [
    {
     "data": {
      "text/plain": [
       "0.64867639113992437"
      ]
     },
     "execution_count": 133,
     "metadata": {},
     "output_type": "execute_result"
    }
   ],
   "source": [
    "rf8.score(X_train,y_train)"
   ]
  },
  {
   "cell_type": "code",
   "execution_count": 134,
   "metadata": {
    "collapsed": false
   },
   "outputs": [
    {
     "data": {
      "text/plain": [
       "0.6314595412150239"
      ]
     },
     "execution_count": 134,
     "metadata": {},
     "output_type": "execute_result"
    }
   ],
   "source": [
    "rf8.score(X_test,y_test)"
   ]
  },
  {
   "cell_type": "code",
   "execution_count": 135,
   "metadata": {
    "collapsed": false
   },
   "outputs": [
    {
     "data": {
      "text/html": [
       "<div>\n",
       "<table border=\"1\" class=\"dataframe\">\n",
       "  <thead>\n",
       "    <tr style=\"text-align: right;\">\n",
       "      <th></th>\n",
       "      <th>variables</th>\n",
       "      <th>importance</th>\n",
       "    </tr>\n",
       "  </thead>\n",
       "  <tbody>\n",
       "    <tr>\n",
       "      <th>10</th>\n",
       "      <td>WorkersEquiv</td>\n",
       "      <td>0.364182</td>\n",
       "    </tr>\n",
       "    <tr>\n",
       "      <th>11</th>\n",
       "      <td>SchoolLunch</td>\n",
       "      <td>0.138246</td>\n",
       "    </tr>\n",
       "    <tr>\n",
       "      <th>18</th>\n",
       "      <td>FoodStamps</td>\n",
       "      <td>0.111577</td>\n",
       "    </tr>\n",
       "    <tr>\n",
       "      <th>1</th>\n",
       "      <td>EducAttain</td>\n",
       "      <td>0.107012</td>\n",
       "    </tr>\n",
       "    <tr>\n",
       "      <th>16</th>\n",
       "      <td>MOOP</td>\n",
       "      <td>0.0984005</td>\n",
       "    </tr>\n",
       "    <tr>\n",
       "      <th>20</th>\n",
       "      <td>Housing</td>\n",
       "      <td>0.0550782</td>\n",
       "    </tr>\n",
       "    <tr>\n",
       "      <th>9</th>\n",
       "      <td>HousingStatus</td>\n",
       "      <td>0.0408601</td>\n",
       "    </tr>\n",
       "    <tr>\n",
       "      <th>19</th>\n",
       "      <td>Commuting</td>\n",
       "      <td>0.0238388</td>\n",
       "    </tr>\n",
       "    <tr>\n",
       "      <th>13</th>\n",
       "      <td>AgeCateg_1</td>\n",
       "      <td>0.0203663</td>\n",
       "    </tr>\n",
       "    <tr>\n",
       "      <th>5</th>\n",
       "      <td>MV</td>\n",
       "      <td>0.0139627</td>\n",
       "    </tr>\n",
       "  </tbody>\n",
       "</table>\n",
       "</div>"
      ],
      "text/plain": [
       "        variables importance\n",
       "10   WorkersEquiv   0.364182\n",
       "11    SchoolLunch   0.138246\n",
       "18     FoodStamps   0.111577\n",
       "1      EducAttain   0.107012\n",
       "16           MOOP  0.0984005\n",
       "20        Housing  0.0550782\n",
       "9   HousingStatus  0.0408601\n",
       "19      Commuting  0.0238388\n",
       "13     AgeCateg_1  0.0203663\n",
       "5              MV  0.0139627"
      ]
     },
     "execution_count": 135,
     "metadata": {},
     "output_type": "execute_result"
    }
   ],
   "source": [
    "Feature_importance=pd.DataFrame([list(X_train.columns),list(rf8.feature_importances_)]).T\n",
    "Feature_importance.columns=[\"variables\",\"importance\"]\n",
    "Feature_importance.sort_values(by=\"importance\",ascending=False).iloc[:10,:]"
   ]
  },
  {
   "cell_type": "code",
   "execution_count": null,
   "metadata": {
    "collapsed": true
   },
   "outputs": [],
   "source": []
  },
  {
   "cell_type": "code",
   "execution_count": 136,
   "metadata": {
    "collapsed": true
   },
   "outputs": [],
   "source": [
    "X = data9.iloc[:,:-1]\n",
    "Y = data9.iloc[:,-1:]"
   ]
  },
  {
   "cell_type": "code",
   "execution_count": 137,
   "metadata": {
    "collapsed": true
   },
   "outputs": [],
   "source": [
    "y = LabelBinarizer()\n",
    "Y_binary = y.fit_transform(Y)"
   ]
  },
  {
   "cell_type": "code",
   "execution_count": 138,
   "metadata": {
    "collapsed": false
   },
   "outputs": [
    {
     "data": {
      "text/plain": [
       "array([ 0.,  1.,  2.])"
      ]
     },
     "execution_count": 138,
     "metadata": {},
     "output_type": "execute_result"
    }
   ],
   "source": [
    "y.classes_"
   ]
  },
  {
   "cell_type": "code",
   "execution_count": 139,
   "metadata": {
    "collapsed": true
   },
   "outputs": [],
   "source": [
    "# Split the data \n",
    "X_train,X_test,y_train,y_test=train_test_split(X, Y_binary, test_size=0.3, random_state=123)"
   ]
  },
  {
   "cell_type": "code",
   "execution_count": 140,
   "metadata": {
    "collapsed": true
   },
   "outputs": [],
   "source": [
    "# hype parameter explored is max_depth\n",
    "AUC=[]\n",
    "for i in range(2,20,1):\n",
    "    rf = DTC(max_depth=i, random_state=123)\n",
    "    rf.fit(X_train, y_train)\n",
    "    pred=rf.predict(X_test)\n",
    "    AUC.append(rs(y_test.ravel(),pred.ravel()))"
   ]
  },
  {
   "cell_type": "code",
   "execution_count": 142,
   "metadata": {
    "collapsed": false
   },
   "outputs": [
    {
     "data": {
      "image/png": "[encoded data removed]",
      "text/plain": [
       "<matplotlib.figure.Figure at 0x115cf8128>"
      ]
     },
     "metadata": {},
     "output_type": "display_data"
    }
   ],
   "source": [
    "plt.figure(figsize=(7,5))\n",
    "plt.plot(range(2,20,1),AUC)\n",
    "plt.xlabel(\"Max Depth\")\n",
    "plt.ylabel(\"AUC\")\n",
    "plt.title(\"AUC vs Simplicity (max depth)\")\n",
    "plt.axvline(6,color='r',linestyle='--')\n",
    "plt.xlim(1,20)\n",
    "plt.show()"
   ]
  },
  {
   "cell_type": "code",
   "execution_count": 143,
   "metadata": {
    "collapsed": false
   },
   "outputs": [
    {
     "data": {
      "text/plain": [
       "DecisionTreeClassifier(class_weight=None, criterion='gini', max_depth=6,\n",
       "            max_features=None, max_leaf_nodes=None,\n",
       "            min_impurity_split=1e-07, min_samples_leaf=1,\n",
       "            min_samples_split=2, min_weight_fraction_leaf=0.0,\n",
       "            presort=False, random_state=123, splitter='best')"
      ]
     },
     "execution_count": 143,
     "metadata": {},
     "output_type": "execute_result"
    }
   ],
   "source": [
    "rf9 = DTC(max_depth=6, random_state=123)\n",
    "rf9.fit(X_train, y_train)"
   ]
  },
  {
   "cell_type": "code",
   "execution_count": 144,
   "metadata": {
    "collapsed": false
   },
   "outputs": [
    {
     "data": {
      "text/plain": [
       "0.69491434402019225"
      ]
     },
     "execution_count": 144,
     "metadata": {},
     "output_type": "execute_result"
    }
   ],
   "source": [
    "rf9.score(X_train,y_train)"
   ]
  },
  {
   "cell_type": "code",
   "execution_count": 145,
   "metadata": {
    "collapsed": false
   },
   "outputs": [
    {
     "data": {
      "text/plain": [
       "0.69126675855155995"
      ]
     },
     "execution_count": 145,
     "metadata": {},
     "output_type": "execute_result"
    }
   ],
   "source": [
    "rf9.score(X_test,y_test)"
   ]
  },
  {
   "cell_type": "code",
   "execution_count": 146,
   "metadata": {
    "collapsed": false
   },
   "outputs": [
    {
     "data": {
      "text/html": [
       "<div>\n",
       "<table border=\"1\" class=\"dataframe\">\n",
       "  <thead>\n",
       "    <tr style=\"text-align: right;\">\n",
       "      <th></th>\n",
       "      <th>variables</th>\n",
       "      <th>importance</th>\n",
       "    </tr>\n",
       "  </thead>\n",
       "  <tbody>\n",
       "    <tr>\n",
       "      <th>16</th>\n",
       "      <td>MOOP</td>\n",
       "      <td>0.546287</td>\n",
       "    </tr>\n",
       "    <tr>\n",
       "      <th>10</th>\n",
       "      <td>WorkersEquiv</td>\n",
       "      <td>0.104237</td>\n",
       "    </tr>\n",
       "    <tr>\n",
       "      <th>1</th>\n",
       "      <td>EducAttain</td>\n",
       "      <td>0.101888</td>\n",
       "    </tr>\n",
       "    <tr>\n",
       "      <th>20</th>\n",
       "      <td>Housing</td>\n",
       "      <td>0.0702012</td>\n",
       "    </tr>\n",
       "    <tr>\n",
       "      <th>9</th>\n",
       "      <td>HousingStatus</td>\n",
       "      <td>0.0493398</td>\n",
       "    </tr>\n",
       "    <tr>\n",
       "      <th>11</th>\n",
       "      <td>SchoolLunch</td>\n",
       "      <td>0.035927</td>\n",
       "    </tr>\n",
       "    <tr>\n",
       "      <th>18</th>\n",
       "      <td>FoodStamps</td>\n",
       "      <td>0.0265596</td>\n",
       "    </tr>\n",
       "    <tr>\n",
       "      <th>13</th>\n",
       "      <td>AgeCateg_1</td>\n",
       "      <td>0.0206438</td>\n",
       "    </tr>\n",
       "    <tr>\n",
       "      <th>12</th>\n",
       "      <td>HEAP</td>\n",
       "      <td>0.0134784</td>\n",
       "    </tr>\n",
       "    <tr>\n",
       "      <th>14</th>\n",
       "      <td>AgeCateg_2</td>\n",
       "      <td>0.0134687</td>\n",
       "    </tr>\n",
       "  </tbody>\n",
       "</table>\n",
       "</div>"
      ],
      "text/plain": [
       "        variables importance\n",
       "16           MOOP   0.546287\n",
       "10   WorkersEquiv   0.104237\n",
       "1      EducAttain   0.101888\n",
       "20        Housing  0.0702012\n",
       "9   HousingStatus  0.0493398\n",
       "11    SchoolLunch   0.035927\n",
       "18     FoodStamps  0.0265596\n",
       "13     AgeCateg_1  0.0206438\n",
       "12           HEAP  0.0134784\n",
       "14     AgeCateg_2  0.0134687"
      ]
     },
     "execution_count": 146,
     "metadata": {},
     "output_type": "execute_result"
    }
   ],
   "source": [
    "Feature_importance=pd.DataFrame([list(X_train.columns),list(rf9.feature_importances_)]).T\n",
    "Feature_importance.columns=[\"variables\",\"importance\"]\n",
    "Feature_importance.sort_values(by=\"importance\",ascending=False).iloc[:10,:]"
   ]
  },
  {
   "cell_type": "code",
   "execution_count": null,
   "metadata": {
    "collapsed": true
   },
   "outputs": [],
   "source": []
  },
  {
   "cell_type": "code",
   "execution_count": null,
   "metadata": {
    "collapsed": true
   },
   "outputs": [],
   "source": []
  },
  {
   "cell_type": "code",
   "execution_count": null,
   "metadata": {
    "collapsed": true
   },
   "outputs": [],
   "source": []
  },
  {
   "cell_type": "markdown",
   "metadata": {},
   "source": [
    "### Selected features for Unspervised Learning"
   ]
  },
  {
   "cell_type": "code",
   "execution_count": 147,
   "metadata": {
    "collapsed": true
   },
   "outputs": [],
   "source": [
    "puma_05 = pd.read_csv(\"../data/Cleaned/puma_05.csv\")\n",
    "puma_06 = pd.read_csv(\"../data/Cleaned/puma_06.csv\")\n",
    "puma_07 = pd.read_csv(\"../data/Cleaned/puma_07.csv\")\n",
    "puma_08 = pd.read_csv(\"../data/Cleaned/puma_08.csv\")\n",
    "puma_09 = pd.read_csv(\"../data/Cleaned/puma_09.csv\")\n",
    "puma_10 = pd.read_csv(\"../data/Cleaned/puma_10.csv\")\n",
    "puma_11 = pd.read_csv(\"../data/Cleaned/puma_11.csv\")\n",
    "puma_12 = pd.read_csv(\"../data/Cleaned/puma_12.csv\")\n",
    "puma_13 = pd.read_csv(\"../data/Cleaned/puma_13.csv\")\n",
    "puma_14 = pd.read_csv(\"../data/Cleaned/puma_14.csv\")"
   ]
  },
  {
   "cell_type": "code",
   "execution_count": 148,
   "metadata": {
    "collapsed": false
   },
   "outputs": [
    {
     "data": {
      "text/plain": [
       "Index(['Unnamed: 0', 'SERIALNO', 'PUMA', 'FICAtax', 'HousingStatus',\n",
       "       'Childcare', 'AgeCateg_2', 'MOOP', 'WorkExpIndiv', 'NP', 'Ethnicity',\n",
       "       'HEAP', 'CEO_Threshold', 'SchoolBreakfast', 'AgeCateg_3', 'IncomeTax',\n",
       "       'CEO_Income', 'CEO_Poverty', 'Boro', 'Housing', 'WIC', 'Commuting',\n",
       "       'Official_Poverty', 'Povunit', 'AgeCateg_1', 'CitizenStatus',\n",
       "       'PreTaxIncome', 'WorkersEquiv', 'FoodStamps', 'Official_Threshold',\n",
       "       'MV', 'SchoolLunch', 'PovunitType', 'EducAttain', 'Threshold1', 'year',\n",
       "       'unique_key', 'Pov_risk'],\n",
       "      dtype='object')"
      ]
     },
     "execution_count": 148,
     "metadata": {},
     "output_type": "execute_result"
    }
   ],
   "source": [
    "puma_05.columns"
   ]
  },
  {
   "cell_type": "code",
   "execution_count": 149,
   "metadata": {
    "collapsed": true
   },
   "outputs": [],
   "source": [
    "features2 = ['PovunitType','EducAttain',\n",
    "            'WorkExpIndiv','Povunit','WIC', 'MV', 'NP','Ethnicity',\\\n",
    "            'SchoolBreakfast', 'HousingStatus', 'WorkersEquiv', 'SchoolLunch',\\\n",
    "            'HEAP','AgeCateg_1','AgeCateg_2','AgeCateg_3','MOOP', 'Childcare',\\\n",
    "            'FoodStamps','Commuting', 'Housing','year','PUMA','SERIALNO','Pov_risk']"
   ]
  },
  {
   "cell_type": "code",
   "execution_count": 153,
   "metadata": {
    "collapsed": false
   },
   "outputs": [],
   "source": [
    "Data1 = puma_05[features2]\n",
    "Data2 = puma_06[features2]\n",
    "Data3 = puma_07[features2]\n",
    "Data4 = puma_08[features2]\n",
    "Data5 = puma_09[features2]\n",
    "Data6 = puma_10[features2]\n",
    "Data7 = puma_11[features2]\n",
    "Data8 = puma_12[features2]\n",
    "Data10 = puma_13[features2]\n",
    "Data9 = puma_14[features2]"
   ]
  },
  {
   "cell_type": "code",
   "execution_count": 154,
   "metadata": {
    "collapsed": true
   },
   "outputs": [],
   "source": [
    "all_years = [Data1, Data2, Data3, Data4, Data5, Data6, Data7, Data8, Data9, Data10]\n",
    "df = pd.concat(all_years)"
   ]
  },
  {
   "cell_type": "code",
   "execution_count": 155,
   "metadata": {
    "collapsed": false
   },
   "outputs": [
    {
     "data": {
      "text/plain": [
       "(257394, 25)"
      ]
     },
     "execution_count": 155,
     "metadata": {},
     "output_type": "execute_result"
    }
   ],
   "source": [
    "df.shape"
   ]
  },
  {
   "cell_type": "code",
   "execution_count": 156,
   "metadata": {
    "collapsed": true
   },
   "outputs": [],
   "source": [
    "from sklearn.cluster import KMeans\n",
    "from scipy.cluster.vq import kmeans,vq\n",
    "from sklearn.metrics import silhouette_score\n",
    "from scipy.spatial.distance import cdist"
   ]
  },
  {
   "cell_type": "code",
   "execution_count": 157,
   "metadata": {
    "collapsed": false
   },
   "outputs": [],
   "source": [
    "X = df.iloc[:,:-3]"
   ]
  },
  {
   "cell_type": "code",
   "execution_count": 158,
   "metadata": {
    "collapsed": true
   },
   "outputs": [],
   "source": [
    "nc = 3\n",
    "kmeans_cluster = KMeans(n_clusters=nc, random_state=324).fit(X)\n",
    "centers = kmeans_cluster.cluster_centers_\n",
    "X['km_labels'] = kmeans_cluster.labels_"
   ]
  },
  {
   "cell_type": "code",
   "execution_count": 159,
   "metadata": {
    "collapsed": false
   },
   "outputs": [
    {
     "data": {
      "text/plain": [
       "2.0    155542\n",
       "1.0     51855\n",
       "0.0     49997\n",
       "Name: Pov_risk, dtype: int64"
      ]
     },
     "execution_count": 159,
     "metadata": {},
     "output_type": "execute_result"
    }
   ],
   "source": [
    "df.Pov_risk.value_counts()"
   ]
  },
  {
   "cell_type": "code",
   "execution_count": 160,
   "metadata": {
    "collapsed": false
   },
   "outputs": [
    {
     "data": {
      "text/plain": [
       "1    184145\n",
       "2     41871\n",
       "0     31378\n",
       "Name: km_labels, dtype: int64"
      ]
     },
     "execution_count": 160,
     "metadata": {},
     "output_type": "execute_result"
    }
   ],
   "source": [
    "X.km_labels.value_counts()"
   ]
  },
  {
   "cell_type": "code",
   "execution_count": 165,
   "metadata": {
    "collapsed": false
   },
   "outputs": [
    {
     "data": {
      "text/plain": [
       "4103    1500\n",
       "4112    1489\n",
       "3710    1469\n",
       "3705    1469\n",
       "4101    1452\n",
       "3801    1389\n",
       "4017    1386\n",
       "3709    1351\n",
       "4009    1300\n",
       "4110    1208\n",
       "3809    1198\n",
       "4008    1186\n",
       "3707    1161\n",
       "4014    1138\n",
       "4001    1117\n",
       "3708    1101\n",
       "4016    1084\n",
       "4015    1069\n",
       "4007    1053\n",
       "4102    1043\n",
       "4003    1040\n",
       "4002    1036\n",
       "4018    1028\n",
       "4012     982\n",
       "3804     975\n",
       "4111     973\n",
       "4010     967\n",
       "3903     945\n",
       "4006     945\n",
       "3702     939\n",
       "3706     921\n",
       "3803     912\n",
       "4105     892\n",
       "4013     863\n",
       "3704     841\n",
       "4107     835\n",
       "4109     822\n",
       "4011     793\n",
       "4106     743\n",
       "4113     730\n",
       "4004     717\n",
       "3802     711\n",
       "3807     646\n",
       "3701     645\n",
       "4108     638\n",
       "4114     606\n",
       "4104     603\n",
       "3902     599\n",
       "3806     575\n",
       "3901     550\n",
       "3703     513\n",
       "3805     495\n",
       "4005     464\n",
       "3810     386\n",
       "3808     362\n",
       "Name: PUMA, dtype: int64"
      ]
     },
     "execution_count": 165,
     "metadata": {},
     "output_type": "execute_result"
    }
   ],
   "source": [
    "df[df.Pov_risk == 1].PUMA.value_counts()"
   ]
  },
  {
   "cell_type": "code",
   "execution_count": 166,
   "metadata": {
    "collapsed": true
   },
   "outputs": [],
   "source": [
    "high_risk = df[df.Pov_risk == 1]"
   ]
  },
  {
   "cell_type": "code",
   "execution_count": 174,
   "metadata": {
    "collapsed": true
   },
   "outputs": [],
   "source": [
    "risk_group = high_risk.SERIALNO.groupby(by = [high_risk['year'],high_risk['PUMA']]).count()"
   ]
  },
  {
   "cell_type": "code",
   "execution_count": 175,
   "metadata": {
    "collapsed": false
   },
   "outputs": [
    {
     "data": {
      "text/plain": [
       "year  PUMA\n",
       "2005  3701     59\n",
       "      3702     93\n",
       "      3703     50\n",
       "      3704     73\n",
       "      3705    114\n",
       "Name: SERIALNO, dtype: int64"
      ]
     },
     "execution_count": 175,
     "metadata": {},
     "output_type": "execute_result"
    }
   ],
   "source": [
    "risk_group.head()"
   ]
  },
  {
   "cell_type": "code",
   "execution_count": 176,
   "metadata": {
    "collapsed": true
   },
   "outputs": [],
   "source": [
    "risk_group.to_csv('risk_group.csv')"
   ]
  },
  {
   "cell_type": "code",
   "execution_count": 177,
   "metadata": {
    "collapsed": true
   },
   "outputs": [],
   "source": [
    "poor = df[df.Pov_risk == 0]"
   ]
  },
  {
   "cell_type": "code",
   "execution_count": 179,
   "metadata": {
    "collapsed": false
   },
   "outputs": [],
   "source": [
    "poor_gr = poor.SERIALNO.groupby(by = [poor['year'],poor['PUMA']]).count()"
   ]
  },
  {
   "cell_type": "code",
   "execution_count": 180,
   "metadata": {
    "collapsed": false
   },
   "outputs": [
    {
     "data": {
      "text/plain": [
       "year  PUMA\n",
       "2005  3701     62\n",
       "      3702     75\n",
       "      3703     47\n",
       "      3704     85\n",
       "      3705    142\n",
       "Name: SERIALNO, dtype: int64"
      ]
     },
     "execution_count": 180,
     "metadata": {},
     "output_type": "execute_result"
    }
   ],
   "source": [
    "poor_gr.head()"
   ]
  },
  {
   "cell_type": "code",
   "execution_count": 181,
   "metadata": {
    "collapsed": true
   },
   "outputs": [],
   "source": [
    "no_poor = df[df.Pov_risk == 2]"
   ]
  },
  {
   "cell_type": "code",
   "execution_count": 182,
   "metadata": {
    "collapsed": true
   },
   "outputs": [],
   "source": [
    "no_poor_gr = no_poor.SERIALNO.groupby(by = [no_poor['year'],no_poor['PUMA']]).count()"
   ]
  },
  {
   "cell_type": "code",
   "execution_count": 183,
   "metadata": {
    "collapsed": false
   },
   "outputs": [
    {
     "data": {
      "text/plain": [
       "year  PUMA\n",
       "2005  3701    228\n",
       "      3702    251\n",
       "      3703    243\n",
       "      3704    238\n",
       "      3705    145\n",
       "Name: SERIALNO, dtype: int64"
      ]
     },
     "execution_count": 183,
     "metadata": {},
     "output_type": "execute_result"
    }
   ],
   "source": [
    "no_poor_gr.head()"
   ]
  },
  {
   "cell_type": "code",
   "execution_count": 184,
   "metadata": {
    "collapsed": true
   },
   "outputs": [],
   "source": [
    "total = df.SERIALNO.groupby(by= [df['year'], df['PUMA']]).count()"
   ]
  },
  {
   "cell_type": "code",
   "execution_count": 185,
   "metadata": {
    "collapsed": false
   },
   "outputs": [
    {
     "data": {
      "text/plain": [
       "year  PUMA\n",
       "2005  3701    349\n",
       "      3702    419\n",
       "      3703    340\n",
       "      3704    396\n",
       "      3705    401\n",
       "Name: SERIALNO, dtype: int64"
      ]
     },
     "execution_count": 185,
     "metadata": {},
     "output_type": "execute_result"
    }
   ],
   "source": [
    "total.head()"
   ]
  },
  {
   "cell_type": "code",
   "execution_count": 186,
   "metadata": {
    "collapsed": true
   },
   "outputs": [],
   "source": [
    "poor_gr.to_csv('poor_gr.csv')\n",
    "total.to_csv('total.csv')"
   ]
  },
  {
   "cell_type": "code",
   "execution_count": null,
   "metadata": {
    "collapsed": true
   },
   "outputs": [],
   "source": []
  }
 ],
 "metadata": {
  "anaconda-cloud": {},
  "kernelspec": {
   "display_name": "Python [conda root]",
   "language": "python",
   "name": "conda-root-py"
  },
  "language_info": {
   "codemirror_mode": {
    "name": "ipython",
    "version": 3
   },
   "file_extension": ".py",
   "mimetype": "text/x-python",
   "name": "python",
   "nbconvert_exporter": "python",
   "pygments_lexer": "ipython3",
   "version": "3.5.2"
  }
 },
 "nbformat": 4,
 "nbformat_minor": 1
}
