{
 "cells": [
  {
   "cell_type": "code",
   "execution_count": 1,
   "metadata": {
    "collapsed": false
   },
   "outputs": [],
   "source": [
    "import numpy\n",
    "import pandas as pd\n",
    "import numpy as np\n",
    "from pgmpy.estimators import BdeuScore, K2Score, BicScore\n",
    "from pgmpy.models import BayesianModel\n",
    "from pgmpy.estimators import HillClimbSearch\n",
    "from pgmpy.estimators import BayesianEstimator, MaximumLikelihoodEstimator\n",
    "import networkx as nx\n",
    "import pandas as pd\n",
    "import sklearn.metrics as metrics \n",
    "import matplotlib.pyplot as plt\n",
    "from sklearn.model_selection import train_test_split\n",
    "%matplotlib inline"
   ]
  },
  {
   "cell_type": "code",
   "execution_count": 12,
   "metadata": {
    "collapsed": true
   },
   "outputs": [],
   "source": [
    "def features(data):\n",
    "       \n",
    "#     data.loc[data.HEAP == 0.0, 'HEAP'] = 0\n",
    "#     data.loc[data.HEAP != 0.0, 'HEAP'] = 1\n",
    "    \n",
    "#     data.loc[data.WIC == 0.0 ,'WIC'] = 0\n",
    "#     data.loc[data.WIC != 0.0 ,'WIC'] = 1\n",
    "    \n",
    "#     data.loc[data.SchoolLunch == 0.0, 'SchoolLunch'] = 0\n",
    "#     data.loc[data.SchoolLunch != 0.0, 'SchoolLunch'] = 1\n",
    "\n",
    "#     data.loc[data.MOOP == 0.0, 'MOOP'] = 0\n",
    "#     data.loc[data.MOOP != 0.0, 'MOOP'] = 1\n",
    "\n",
    "#     data.loc[data.Childcare == 0.0, 'Childcare'] = 0\n",
    "#     data.loc[data.Childcare != 0.0, 'Childcare'] = 1\n",
    "\n",
    "#     data.loc[data.FoodStamps == 0.0, 'FoodStamps'] = 0\n",
    "#     data.loc[data.FoodStamps != 0.0, 'FoodStamps'] = 1\n",
    "\n",
    "#     data.loc[data.Commuting == 0.0, 'Commuting'] = 0\n",
    "#     data.loc[data.Commuting != 0.0, 'Commuting'] = 1\n",
    "\n",
    "#     data.loc[data.Housing == 0.0, 'Housing'] = 0\n",
    "#     data.loc[data.Housing != 0.0, 'Housing'] = 1\n",
    "    \n",
    "    data = data.loc[:, [u'PovunitType',\n",
    "                   u'CitizenStatus',\n",
    "                  u'EducAttain',\n",
    "                  u'HousingStatus',\n",
    "                  u'AgeCateg_2',       \n",
    "                  u'WorkersEquiv', u'MV', \n",
    "                   'Pov_risk']]\n",
    "    \n",
    "    data.PovunitType.replace({1:0, 2:1,3:2, 4:3,5:4, 6:5,7:6, 8:7}, inplace=True)\n",
    "    data.MV.replace({1:0, 2:1,3:2, 4:3,5:4, 6:5,7:6}, inplace=True)\n",
    "    data.HousingStatus.replace({1:0, 2:1,3:2, 4:3,5:4, 6:5,7:6, 8:7,9:8}, inplace=True)\n",
    "    data.WorkersEquiv.replace({1:0, 2:1,3:2, 4:3,5:4}, inplace=True)\n",
    "    data.EducAttain.replace({1:0, 2:1,3:2, 4:3}, inplace=True)\n",
    "    data.CitizenStatus.replace({1:0, 2:1,3:2}, inplace=True)\n",
    "    \n",
    "    return data"
   ]
  },
  {
   "cell_type": "code",
   "execution_count": null,
   "metadata": {
    "collapsed": false
   },
   "outputs": [],
   "source": [
    "# thresholds = pd.Series(puma_05.CEO_Threshold.unique())"
   ]
  },
  {
   "cell_type": "code",
   "execution_count": null,
   "metadata": {
    "collapsed": false
   },
   "outputs": [],
   "source": [
    "# thresholds.hist(bins=35)\n",
    "# plt.vlines(x=thresholds.median(), ymin=0, ymax=18, color = 'red')\n",
    "# plt.vlines(x=thresholds.mean(), ymin=0, ymax=18, color = 'yellow')"
   ]
  },
  {
   "cell_type": "code",
   "execution_count": null,
   "metadata": {
    "collapsed": false
   },
   "outputs": [],
   "source": [
    "# puma_05[puma_05.CEO_Threshold == puma_05.CEO_Threshold.max()]"
   ]
  },
  {
   "cell_type": "code",
   "execution_count": null,
   "metadata": {
    "collapsed": false
   },
   "outputs": [],
   "source": [
    "# thresholds.describe()"
   ]
  },
  {
   "cell_type": "code",
   "execution_count": null,
   "metadata": {
    "collapsed": false
   },
   "outputs": [],
   "source": [
    "# thresholds.quantile(0.99)"
   ]
  },
  {
   "cell_type": "code",
   "execution_count": null,
   "metadata": {
    "collapsed": false
   },
   "outputs": [],
   "source": [
    "# thresholds_of = pd.Series(puma_05.Official_Threshold.unique())"
   ]
  },
  {
   "cell_type": "code",
   "execution_count": null,
   "metadata": {
    "collapsed": false
   },
   "outputs": [],
   "source": [
    "# thresholds_of.hist(bins=30)"
   ]
  },
  {
   "cell_type": "markdown",
   "metadata": {},
   "source": [
    "# New check without aggregation"
   ]
  },
  {
   "cell_type": "code",
   "execution_count": null,
   "metadata": {
    "collapsed": false
   },
   "outputs": [],
   "source": [
    "# puma_05.CEO_Income.describe()"
   ]
  },
  {
   "cell_type": "code",
   "execution_count": null,
   "metadata": {
    "collapsed": false,
    "scrolled": false
   },
   "outputs": [],
   "source": [
    "# puma_05[puma_05.CEO_Income < 0]['PUMA'].hist()"
   ]
  },
  {
   "cell_type": "code",
   "execution_count": null,
   "metadata": {
    "collapsed": false
   },
   "outputs": [],
   "source": [
    "# puma_05[puma_05.SERIALNO == 812]"
   ]
  },
  {
   "cell_type": "code",
   "execution_count": null,
   "metadata": {
    "collapsed": false
   },
   "outputs": [],
   "source": [
    "# puma_05[puma_05.CEO_Income == 0]"
   ]
  },
  {
   "cell_type": "code",
   "execution_count": null,
   "metadata": {
    "collapsed": false
   },
   "outputs": [],
   "source": [
    "# puma_05.CEO_Income.quantile(0.1)"
   ]
  },
  {
   "cell_type": "code",
   "execution_count": null,
   "metadata": {
    "collapsed": false
   },
   "outputs": [],
   "source": [
    "# df[(df.CEO_Poverty == 1)&(df.CEO_Threshold < df.CEO_Income)][['CEO_Threshold', 'CEO_Income','CEO_Poverty', 'Pov_risk', 'Threshold1']]"
   ]
  },
  {
   "cell_type": "code",
   "execution_count": null,
   "metadata": {
    "collapsed": false
   },
   "outputs": [],
   "source": [
    "# df[(df.Pov_risk == 1)&((df.CEO_Poverty == 1))][['CEO_Threshold', 'CEO_Income','CEO_Poverty', 'Pov_risk', 'Threshold1']]"
   ]
  },
  {
   "cell_type": "code",
   "execution_count": null,
   "metadata": {
    "collapsed": false
   },
   "outputs": [],
   "source": [
    "# X = df[[ u'PovunitType', u'WorkExpIndiv', u'Povunit',\n",
    "#         u'SchoolBreakfast', u'HEAP', u'CitizenStatus',\n",
    "#         u'AgeCateg_2', u'AgeCateg_3', u'EducAttain',\n",
    "#         u'WIC', u'HousingStatus',\n",
    "#        u'WorkersEquiv', u'SchoolLunch', u'AgeCateg_1',\n",
    "#        u'MOOP', u'MV', u'Childcare', \n",
    "#        u'NP', u'FoodStamps', u'Commuting',\n",
    "#        u'Housing', 'Pov_risk']]"
   ]
  },
  {
   "cell_type": "code",
   "execution_count": null,
   "metadata": {
    "collapsed": false
   },
   "outputs": [],
   "source": [
    "# X.columns"
   ]
  },
  {
   "cell_type": "markdown",
   "metadata": {},
   "source": [
    "# Making continuous variables discrete"
   ]
  },
  {
   "cell_type": "code",
   "execution_count": null,
   "metadata": {
    "collapsed": false,
    "scrolled": true
   },
   "outputs": [],
   "source": [
    "# print X.SchoolBreakfast.value_counts()\n",
    "# X.SchoolBreakfast.hist()"
   ]
  },
  {
   "cell_type": "code",
   "execution_count": null,
   "metadata": {
    "collapsed": false
   },
   "outputs": [],
   "source": [
    "# print (X.HEAP).value_counts()\n",
    "# X.HEAP.hist(bins= 50)"
   ]
  },
  {
   "cell_type": "code",
   "execution_count": null,
   "metadata": {
    "collapsed": false
   },
   "outputs": [],
   "source": [
    "# X.HEAP[X.HEAP == 0.0] = 0\n",
    "# X.HEAP[X.HEAP != 0.0] = 1"
   ]
  },
  {
   "cell_type": "code",
   "execution_count": null,
   "metadata": {
    "collapsed": false
   },
   "outputs": [],
   "source": [
    "# X.HEAP.value_counts()"
   ]
  },
  {
   "cell_type": "code",
   "execution_count": null,
   "metadata": {
    "collapsed": false
   },
   "outputs": [],
   "source": [
    "# print X.WIC.value_counts()\n",
    "# X.WIC.hist(bins=50)"
   ]
  },
  {
   "cell_type": "code",
   "execution_count": null,
   "metadata": {
    "collapsed": false
   },
   "outputs": [],
   "source": [
    "# X.WIC[X.WIC == 0.0] = 0\n",
    "# X.WIC[X.WIC != 0.0] = 1"
   ]
  },
  {
   "cell_type": "code",
   "execution_count": null,
   "metadata": {
    "collapsed": false
   },
   "outputs": [],
   "source": [
    "# X.WIC.value_counts()"
   ]
  },
  {
   "cell_type": "code",
   "execution_count": null,
   "metadata": {
    "collapsed": false
   },
   "outputs": [],
   "source": [
    "# print X.SchoolLunch.value_counts()\n",
    "# X.SchoolLunch.hist(bins = 100)"
   ]
  },
  {
   "cell_type": "code",
   "execution_count": null,
   "metadata": {
    "collapsed": false
   },
   "outputs": [],
   "source": [
    "# X.SchoolLunch[X.SchoolLunch == 0.0] = 0\n",
    "# X.SchoolLunch[X.SchoolLunch != 0.0] = 1"
   ]
  },
  {
   "cell_type": "code",
   "execution_count": null,
   "metadata": {
    "collapsed": false
   },
   "outputs": [],
   "source": [
    "# X.SchoolLunch.value_counts()"
   ]
  },
  {
   "cell_type": "code",
   "execution_count": null,
   "metadata": {
    "collapsed": false
   },
   "outputs": [],
   "source": [
    "# print X.MOOP.describe()\n",
    "# (X.MOOP).hist(bins = 100)"
   ]
  },
  {
   "cell_type": "code",
   "execution_count": null,
   "metadata": {
    "collapsed": false
   },
   "outputs": [],
   "source": [
    "# X.MOOP[X.MOOP == 0.0] = 0\n",
    "# X.MOOP[X.MOOP != 0.0] = 1"
   ]
  },
  {
   "cell_type": "code",
   "execution_count": null,
   "metadata": {
    "collapsed": false
   },
   "outputs": [],
   "source": [
    "# X.MOOP.plot.box()"
   ]
  },
  {
   "cell_type": "code",
   "execution_count": null,
   "metadata": {
    "collapsed": false
   },
   "outputs": [],
   "source": [
    "# print X.Childcare.value_counts()\n",
    "# X.Childcare.hist(log = True, bins=100)"
   ]
  },
  {
   "cell_type": "code",
   "execution_count": null,
   "metadata": {
    "collapsed": false
   },
   "outputs": [],
   "source": [
    "# X.Childcare[X.Childcare == 0.0] = 0\n",
    "# X.Childcare[X.Childcare != 0.0] = 1"
   ]
  },
  {
   "cell_type": "code",
   "execution_count": null,
   "metadata": {
    "collapsed": false
   },
   "outputs": [],
   "source": [
    "# print X.FoodStamps.value_counts()\n",
    "# X.FoodStamps.hist(bins=100, log = True)"
   ]
  },
  {
   "cell_type": "code",
   "execution_count": null,
   "metadata": {
    "collapsed": false
   },
   "outputs": [],
   "source": [
    "# np.sqrt(X.FoodStamps).hist(bins=100, log = True)"
   ]
  },
  {
   "cell_type": "code",
   "execution_count": null,
   "metadata": {
    "collapsed": false
   },
   "outputs": [],
   "source": [
    "# X.FoodStamps[X.FoodStamps == 0.0] = 0\n",
    "# X.FoodStamps[X.FoodStamps != 0.0] = 1"
   ]
  },
  {
   "cell_type": "code",
   "execution_count": null,
   "metadata": {
    "collapsed": false
   },
   "outputs": [],
   "source": [
    "# X.FoodStamps.value_counts()"
   ]
  },
  {
   "cell_type": "code",
   "execution_count": null,
   "metadata": {
    "collapsed": false
   },
   "outputs": [],
   "source": [
    "# print X.Commuting.value_counts()\n",
    "# X.Commuting.hist(log = True, bins=100)"
   ]
  },
  {
   "cell_type": "code",
   "execution_count": null,
   "metadata": {
    "collapsed": false
   },
   "outputs": [],
   "source": [
    "# X[(((X.Commuting - X.Commuting.mean()) / X.Commuting.std()) < 0) &\n",
    "#   (((X.Commuting - X.Commuting.mean()) / X.Commuting.std()) >= -1)].Pov_risk.value_counts()"
   ]
  },
  {
   "cell_type": "code",
   "execution_count": null,
   "metadata": {
    "collapsed": false
   },
   "outputs": [],
   "source": [
    "# np.sqrt(X.Commuting).hist(bins= 100)"
   ]
  },
  {
   "cell_type": "code",
   "execution_count": null,
   "metadata": {
    "collapsed": false
   },
   "outputs": [],
   "source": [
    "# X[(np.sqrt(X.Commuting) < 10)].Pov_risk.value_counts()"
   ]
  },
  {
   "cell_type": "code",
   "execution_count": null,
   "metadata": {
    "collapsed": false
   },
   "outputs": [],
   "source": [
    "# X.Commuting[X.Commuting == 0.0] = 0\n",
    "# X.Commuting[X.Commuting != 0.0] = 1"
   ]
  },
  {
   "cell_type": "code",
   "execution_count": null,
   "metadata": {
    "collapsed": false
   },
   "outputs": [],
   "source": [
    "# X.Housing.unique()\n",
    "# X.Housing.hist()"
   ]
  },
  {
   "cell_type": "code",
   "execution_count": null,
   "metadata": {
    "collapsed": false
   },
   "outputs": [],
   "source": [
    "# X.Housing[X.Housing == 0.0] = 0\n",
    "# X.Housing[X.Housing != 0.0] = 1"
   ]
  },
  {
   "cell_type": "code",
   "execution_count": null,
   "metadata": {
    "collapsed": false
   },
   "outputs": [],
   "source": [
    "# G = nx.DiGraph()\n",
    "# G.add_edges_from(best_model.edges())\n",
    "# nx.draw(G, with_labels=True, arrows=True, node_size=700)"
   ]
  },
  {
   "cell_type": "markdown",
   "metadata": {
    "collapsed": true
   },
   "source": [
    "# Bayes Net Updated Columns"
   ]
  },
  {
   "cell_type": "code",
   "execution_count": null,
   "metadata": {
    "collapsed": true
   },
   "outputs": [],
   "source": [
    "cols = ['WorkersEquiv', 'SchoolLunch', 'FoodStamps', 'MOOP', \n",
    "        'EducAttain', 'HousingStatus', 'HEAP', 'Pov_risk']"
   ]
  },
  {
   "cell_type": "code",
   "execution_count": null,
   "metadata": {
    "collapsed": true
   },
   "outputs": [],
   "source": [
    "puma_05 = pd.read_csv(\"../Data/Cleaned/puma_05.csv\")\n",
    "puma_05.drop(['Unnamed: 0'], axis=1, inplace=True)\n",
    "\n",
    "X5 = features(puma_05)\n",
    "X5 = X5.loc[:,cols] \n",
    "\n",
    "train5,test5=train_test_split(X5,random_state=9,test_size=0.20)\n",
    "hc5 = HillClimbSearch(train5, scoring_method=BicScore(train5))\n",
    "best_model5 = hc5.estimate()"
   ]
  },
  {
   "cell_type": "code",
   "execution_count": null,
   "metadata": {
    "collapsed": false
   },
   "outputs": [],
   "source": [
    "best_model5.edges()"
   ]
  },
  {
   "cell_type": "code",
   "execution_count": null,
   "metadata": {
    "collapsed": false
   },
   "outputs": [],
   "source": [
    "best_model5.fit(train5, estimator=BayesianEstimator, prior_type='BDeu', equivalent_sample_size=100)\n",
    "test5 = test5.astype(int)\n",
    "test5.reset_index(inplace=True, drop=True)\n",
    "\n",
    "y_pred5 = best_model5.predict(test5.loc[:,[u'HEAP', u'HousingStatus', u'WorkersEquiv', u'SchoolLunch', u'MOOP',\n",
    "       u'EducAttain', u'FoodStamps']])"
   ]
  },
  {
   "cell_type": "code",
   "execution_count": null,
   "metadata": {
    "collapsed": false
   },
   "outputs": [],
   "source": [
    "((y_pred5.Pov_risk == test5.Pov_risk).sum()*1.0)/len(test5)"
   ]
  },
  {
   "cell_type": "code",
   "execution_count": null,
   "metadata": {
    "collapsed": false
   },
   "outputs": [],
   "source": [
    "metrics.confusion_matrix(test5.Pov_risk, y_pred5.Pov_risk)"
   ]
  },
  {
   "cell_type": "code",
   "execution_count": null,
   "metadata": {
    "collapsed": false
   },
   "outputs": [],
   "source": [
    "metrics.precision_score(test5.Pov_risk, y_pred5.Pov_risk, average='weighted')"
   ]
  },
  {
   "cell_type": "code",
   "execution_count": null,
   "metadata": {
    "collapsed": false
   },
   "outputs": [],
   "source": [
    "metrics.recall_score(test5.Pov_risk, y_pred5.Pov_risk, average='weighted')"
   ]
  },
  {
   "cell_type": "code",
   "execution_count": null,
   "metadata": {
    "collapsed": true
   },
   "outputs": [],
   "source": [
    "puma_06 = pd.read_csv(\"../Data/Cleaned/puma_06.csv\")\n",
    "puma_06.drop(['Unnamed: 0'], axis=1, inplace=True)\n",
    "\n",
    "X6 = features(puma_06)\n",
    "X6 = X6.loc[:,cols]\n",
    "X6.dropna(inplace=True)\n",
    "\n",
    "train6,test6=train_test_split(X6,random_state=9,test_size=0.20)\n",
    "hc6 = HillClimbSearch(train6, scoring_method=BicScore(train6))\n",
    "best_model6 = hc6.estimate()"
   ]
  },
  {
   "cell_type": "code",
   "execution_count": null,
   "metadata": {
    "collapsed": false
   },
   "outputs": [],
   "source": [
    "best_model6.edges()"
   ]
  },
  {
   "cell_type": "code",
   "execution_count": null,
   "metadata": {
    "collapsed": true
   },
   "outputs": [],
   "source": [
    "best_model6.fit(train6, estimator=BayesianEstimator, prior_type='BDeu', equivalent_sample_size=100)\n",
    "test6 = test6.astype(int)\n",
    "test6.reset_index(inplace=True, drop=True)\n",
    "\n",
    "y_pred6 = best_model6.predict(test6.loc[:,[u'HEAP', u'HousingStatus', u'WorkersEquiv', u'SchoolLunch', u'MOOP',\n",
    "       u'EducAttain', u'FoodStamps']])"
   ]
  },
  {
   "cell_type": "code",
   "execution_count": null,
   "metadata": {
    "collapsed": false
   },
   "outputs": [],
   "source": [
    "((y_pred6.Pov_risk == test6.Pov_risk).sum()*1.0)/len(test6)"
   ]
  },
  {
   "cell_type": "code",
   "execution_count": null,
   "metadata": {
    "collapsed": false
   },
   "outputs": [],
   "source": [
    "metrics.confusion_matrix(test6.Pov_risk, y_pred6.Pov_risk )"
   ]
  },
  {
   "cell_type": "code",
   "execution_count": null,
   "metadata": {
    "collapsed": false
   },
   "outputs": [],
   "source": [
    "metrics.precision_score(test6.Pov_risk, y_pred6.Pov_risk, average='weighted')"
   ]
  },
  {
   "cell_type": "code",
   "execution_count": null,
   "metadata": {
    "collapsed": false
   },
   "outputs": [],
   "source": [
    "metrics.recall_score(test6.Pov_risk, y_pred6.Pov_risk, average='weighted')"
   ]
  },
  {
   "cell_type": "code",
   "execution_count": null,
   "metadata": {
    "collapsed": true
   },
   "outputs": [],
   "source": [
    "puma_07 = pd.read_csv(\"../Data/Cleaned/puma_07.csv\")\n",
    "puma_07.drop(['Unnamed: 0'], axis=1, inplace=True)\n",
    "\n",
    "X7 = features(puma_07)\n",
    "X7 = X7.loc[:,cols] \n",
    "\n",
    "train7,test7=train_test_split(X7,random_state=9,test_size=0.20)\n",
    "hc7 = HillClimbSearch(train7, scoring_method=BicScore(train7))\n",
    "best_model7 = hc7.estimate()"
   ]
  },
  {
   "cell_type": "code",
   "execution_count": null,
   "metadata": {
    "collapsed": false
   },
   "outputs": [],
   "source": [
    "best_model7.edges()"
   ]
  },
  {
   "cell_type": "code",
   "execution_count": null,
   "metadata": {
    "collapsed": true
   },
   "outputs": [],
   "source": [
    "best_model7.fit(train7, estimator=BayesianEstimator, prior_type='BDeu', equivalent_sample_size=100)\n",
    "test7 = test7.astype(int)\n",
    "test7.reset_index(inplace=True, drop=True)\n",
    "\n",
    "y_pred7 = best_model7.predict(test7.loc[:,[u'HEAP', u'HousingStatus', u'WorkersEquiv', u'SchoolLunch', u'MOOP',\n",
    "       u'EducAttain', u'FoodStamps']])"
   ]
  },
  {
   "cell_type": "code",
   "execution_count": null,
   "metadata": {
    "collapsed": false
   },
   "outputs": [],
   "source": [
    "((y_pred7.Pov_risk == test7.Pov_risk).sum()*1.0)/len(test7)"
   ]
  },
  {
   "cell_type": "code",
   "execution_count": null,
   "metadata": {
    "collapsed": true
   },
   "outputs": [],
   "source": [
    "puma_08 = pd.read_csv(\"../Data/Cleaned/puma_08.csv\")\n",
    "puma_08.drop(['Unnamed: 0'], axis=1, inplace=True)\n",
    "\n",
    "X8 = features(puma_08)\n",
    "X8 = X8.loc[:,cols] \n",
    "\n",
    "train8,test8=train_test_split(X8,random_state=9,test_size=0.20)\n",
    "hc8 = HillClimbSearch(train8, scoring_method=BicScore(train8))\n",
    "best_model8 = hc8.estimate()"
   ]
  },
  {
   "cell_type": "code",
   "execution_count": null,
   "metadata": {
    "collapsed": false
   },
   "outputs": [],
   "source": [
    "best_model8.edges()"
   ]
  },
  {
   "cell_type": "code",
   "execution_count": null,
   "metadata": {
    "collapsed": false
   },
   "outputs": [],
   "source": [
    "best_model8.fit(train8, estimator=BayesianEstimator, prior_type='BDeu', equivalent_sample_size=100)\n",
    "test8 = test8.astype(int)\n",
    "test8.reset_index(inplace=True, drop=True)\n",
    "\n",
    "y_pred8 = best_model8.predict(test8.loc[:,[u'HEAP', u'HousingStatus', u'WorkersEquiv', u'SchoolLunch', u'MOOP',\n",
    "       u'EducAttain', u'FoodStamps']])"
   ]
  },
  {
   "cell_type": "code",
   "execution_count": null,
   "metadata": {
    "collapsed": true
   },
   "outputs": [],
   "source": [
    "((y_pred8.Pov_risk == test8.Pov_risk).sum()*1.0)/len(test8)"
   ]
  },
  {
   "cell_type": "code",
   "execution_count": null,
   "metadata": {
    "collapsed": true
   },
   "outputs": [],
   "source": [
    "puma_09 = pd.read_csv(\"../Data/Cleaned/puma_09.csv\")\n",
    "puma_09.drop(['Unnamed: 0'], axis=1, inplace=True)\n",
    "\n",
    "X9 = features(puma_09)\n",
    "X9 = X9.loc[:,cols] \n",
    "\n",
    "train9,test9=train_test_split(X9,random_state=9,test_size=0.20)\n",
    "hc9 = HillClimbSearch(train9, scoring_method=BicScore(train9))\n",
    "best_model9 = hc9.estimate()"
   ]
  },
  {
   "cell_type": "code",
   "execution_count": null,
   "metadata": {
    "collapsed": true
   },
   "outputs": [],
   "source": [
    "best_model9.edges()"
   ]
  },
  {
   "cell_type": "code",
   "execution_count": null,
   "metadata": {
    "collapsed": true
   },
   "outputs": [],
   "source": [
    "best_model9.fit(train9, estimator=BayesianEstimator, prior_type='BDeu', equivalent_sample_size=100)\n",
    "test9 = test9.astype(int)\n",
    "test9.reset_index(inplace=True, drop=True)\n",
    "\n",
    "y_pred9 = best_model9.predict(test9.loc[:,[u'HEAP', u'HousingStatus', u'WorkersEquiv', u'SchoolLunch', u'MOOP',\n",
    "       u'EducAttain', u'FoodStamps']])"
   ]
  },
  {
   "cell_type": "code",
   "execution_count": null,
   "metadata": {
    "collapsed": true
   },
   "outputs": [],
   "source": [
    "((y_pred9.Pov_risk == test9.Pov_risk).sum()*1.0)/len(test9)"
   ]
  },
  {
   "cell_type": "code",
   "execution_count": null,
   "metadata": {
    "collapsed": true
   },
   "outputs": [],
   "source": [
    "puma_10 = pd.read_csv(\"../Data/Cleaned/puma_10.csv\")\n",
    "puma_10.drop(['Unnamed: 0'], axis=1, inplace=True)\n",
    "\n",
    "X10 = features(puma_10)\n",
    "X10 = X10.loc[:,cols] \n",
    "\n",
    "train10,test10=train_test_split(X10,random_state=9,test_size=0.20)\n",
    "hc10 = HillClimbSearch(train10, scoring_method=BicScore(train10))\n",
    "best_model10 = hc10.estimate()"
   ]
  },
  {
   "cell_type": "code",
   "execution_count": null,
   "metadata": {
    "collapsed": true
   },
   "outputs": [],
   "source": [
    "best_model10.edges()"
   ]
  },
  {
   "cell_type": "code",
   "execution_count": null,
   "metadata": {
    "collapsed": true
   },
   "outputs": [],
   "source": [
    "best_model10.fit(train10, estimator=BayesianEstimator, prior_type='BDeu', equivalent_sample_size=100)\n",
    "test10 = test10.astype(int)\n",
    "test10.reset_index(inplace=True, drop=True)\n",
    "\n",
    "y_pred10 = best_model10.predict(test10.loc[:,[u'HEAP', u'HousingStatus', u'WorkersEquiv', u'SchoolLunch', u'MOOP',\n",
    "       u'EducAttain', u'FoodStamps']])"
   ]
  },
  {
   "cell_type": "code",
   "execution_count": null,
   "metadata": {
    "collapsed": true
   },
   "outputs": [],
   "source": [
    "((y_pred10.Pov_risk == test10.Pov_risk).sum()*1.0)/len(test10)"
   ]
  },
  {
   "cell_type": "code",
   "execution_count": null,
   "metadata": {
    "collapsed": true
   },
   "outputs": [],
   "source": [
    "puma_11 = pd.read_csv(\"../Data/Cleaned/puma_11.csv\")\n",
    "puma_11.drop(['Unnamed: 0'], axis=1, inplace=True)\n",
    "\n",
    "X11 = features(puma_11)\n",
    "X11 = X11.loc[:,cols] \n",
    "\n",
    "train11,test11=train_test_split(X11,random_state=9,test_size=0.20)\n",
    "hc11 = HillClimbSearch(train11, scoring_method=BicScore(train11))\n",
    "best_model11 = hc11.estimate()"
   ]
  },
  {
   "cell_type": "code",
   "execution_count": null,
   "metadata": {
    "collapsed": true
   },
   "outputs": [],
   "source": [
    "best_model11.edges()"
   ]
  },
  {
   "cell_type": "code",
   "execution_count": null,
   "metadata": {
    "collapsed": true
   },
   "outputs": [],
   "source": [
    "best_model11.fit(train11, estimator=BayesianEstimator, prior_type='BDeu', equivalent_sample_size=100)\n",
    "test11 = test11.astype(int)\n",
    "test11.reset_index(inplace=True, drop=True)\n",
    "\n",
    "y_pred11 = best_model11.predict(test11.loc[:,[u'HEAP', u'HousingStatus', u'WorkersEquiv', u'SchoolLunch', u'MOOP',\n",
    "       u'EducAttain', u'FoodStamps']])"
   ]
  },
  {
   "cell_type": "code",
   "execution_count": null,
   "metadata": {
    "collapsed": true
   },
   "outputs": [],
   "source": [
    "((y_pred11.Pov_risk == test11.Pov_risk).sum()*1.0)/len(test11)"
   ]
  },
  {
   "cell_type": "code",
   "execution_count": null,
   "metadata": {
    "collapsed": true
   },
   "outputs": [],
   "source": [
    "puma_12 = pd.read_csv(\"../Data/Cleaned/puma_12.csv\")\n",
    "puma_12.drop(['Unnamed: 0'], axis=1, inplace=True)\n",
    "\n",
    "X12 = features(puma_12)\n",
    "X12 = X12.loc[:,cols] \n",
    "\n",
    "train12,test12=train_test_split(X12,random_state=9,test_size=0.20)\n",
    "hc12 = HillClimbSearch(train12, scoring_method=BicScore(train12))\n",
    "best_model12 = hc12.estimate()"
   ]
  },
  {
   "cell_type": "code",
   "execution_count": null,
   "metadata": {
    "collapsed": true
   },
   "outputs": [],
   "source": [
    "best_model12.edges()"
   ]
  },
  {
   "cell_type": "code",
   "execution_count": null,
   "metadata": {
    "collapsed": true
   },
   "outputs": [],
   "source": [
    "best_model12.fit(train12, estimator=BayesianEstimator, prior_type='BDeu', equivalent_sample_size=100)\n",
    "test12 = test12.astype(int)\n",
    "test12.reset_index(inplace=True, drop=True)\n",
    "\n",
    "y_pred12 = best_model12.predict(test12.loc[:,[u'HEAP', u'HousingStatus', u'WorkersEquiv', u'SchoolLunch', u'MOOP',\n",
    "       u'EducAttain', u'FoodStamps']])"
   ]
  },
  {
   "cell_type": "code",
   "execution_count": null,
   "metadata": {
    "collapsed": true
   },
   "outputs": [],
   "source": [
    "((y_pred12.Pov_risk == test12.Pov_risk).sum()*1.0)/len(test12)"
   ]
  },
  {
   "cell_type": "code",
   "execution_count": null,
   "metadata": {
    "collapsed": true
   },
   "outputs": [],
   "source": [
    "puma_13 = pd.read_csv(\"../Data/Cleaned/puma_13.csv\")\n",
    "puma_13.drop(['Unnamed: 0'], axis=1, inplace=True)\n",
    "\n",
    "X13 = features(puma_13)\n",
    "X13 = X13.loc[:,cols] \n",
    "\n",
    "train13,test13=train_test_split(X13,random_state=9,test_size=0.20)\n",
    "hc13 = HillClimbSearch(train13, scoring_method=BicScore(train13))\n",
    "best_model13 = hc13.estimate()"
   ]
  },
  {
   "cell_type": "code",
   "execution_count": null,
   "metadata": {
    "collapsed": true
   },
   "outputs": [],
   "source": [
    "best_model13.edges()"
   ]
  },
  {
   "cell_type": "code",
   "execution_count": null,
   "metadata": {
    "collapsed": true
   },
   "outputs": [],
   "source": [
    "best_model13.fit(train13, estimator=BayesianEstimator, prior_type='BDeu', equivalent_sample_size=100)\n",
    "test13 = test13.astype(int)\n",
    "test13.reset_index(inplace=True, drop=True)\n",
    "\n",
    "y_pred13 = best_model13.predict(test13.loc[:,[u'HEAP', u'HousingStatus', u'WorkersEquiv', u'SchoolLunch', u'MOOP',\n",
    "       u'EducAttain', u'FoodStamps']])"
   ]
  },
  {
   "cell_type": "code",
   "execution_count": null,
   "metadata": {
    "collapsed": true
   },
   "outputs": [],
   "source": [
    "((y_pred13.Pov_risk == test13.Pov_risk).sum()*1.0)/len(test13)"
   ]
  },
  {
   "cell_type": "code",
   "execution_count": 13,
   "metadata": {
    "collapsed": true
   },
   "outputs": [],
   "source": [
    "puma_14 = pd.read_csv(\"../Data/Cleaned/puma_14.csv\")\n",
    "puma_14.drop(['Unnamed: 0'], axis=1, inplace=True)\n",
    "\n",
    "X14 = features(puma_14)\n",
    "X14.AgeCateg_2.replace({1:0, 2:1,3:2, 4:3,5:4, 6:5,7:6, 8:7,9:8,10:9,11:10,12:11,13:12,14:13,15:14}, inplace=True) \n",
    "\n",
    "train14,test14=train_test_split(X14,random_state=9,test_size=0.20)\n",
    "hc14 = HillClimbSearch(train14, scoring_method=BicScore(train14))\n",
    "best_model14 = hc14.estimate()"
   ]
  },
  {
   "cell_type": "code",
   "execution_count": 14,
   "metadata": {
    "collapsed": false
   },
   "outputs": [
    {
     "data": {
      "text/plain": [
       "[('Pov_risk', u'WorkersEquiv'),\n",
       " ('Pov_risk', u'CitizenStatus'),\n",
       " ('Pov_risk', u'HousingStatus'),\n",
       " (u'HousingStatus', u'MV'),\n",
       " (u'PovunitType', u'WorkersEquiv'),\n",
       " (u'PovunitType', 'Pov_risk'),\n",
       " (u'PovunitType', u'EducAttain'),\n",
       " (u'PovunitType', u'AgeCateg_2'),\n",
       " (u'WorkersEquiv', u'HousingStatus'),\n",
       " (u'MV', u'CitizenStatus'),\n",
       " (u'EducAttain', 'Pov_risk')]"
      ]
     },
     "execution_count": 14,
     "metadata": {},
     "output_type": "execute_result"
    }
   ],
   "source": [
    "best_model14.edges()"
   ]
  },
  {
   "cell_type": "code",
   "execution_count": 15,
   "metadata": {
    "collapsed": false
   },
   "outputs": [
    {
     "data": {
      "text/plain": [
       "Index([  u'PovunitType', u'CitizenStatus',    u'EducAttain', u'HousingStatus',\n",
       "          u'AgeCateg_2',  u'WorkersEquiv',            u'MV',      u'Pov_risk'],\n",
       "      dtype='object')"
      ]
     },
     "execution_count": 15,
     "metadata": {},
     "output_type": "execute_result"
    }
   ],
   "source": [
    "test14.columns"
   ]
  },
  {
   "cell_type": "code",
   "execution_count": 17,
   "metadata": {
    "collapsed": false
   },
   "outputs": [],
   "source": [
    "best_model14.fit(train14, estimator=BayesianEstimator, prior_type='BDeu', equivalent_sample_size=100)\n",
    "test14 = test14.astype(int)\n",
    "test14.reset_index(inplace=True, drop=True)\n",
    "\n",
    "y_pred14 = best_model14.predict(test14.loc[:,[u'PovunitType', u'CitizenStatus',    u'EducAttain', u'HousingStatus',\n",
    "          u'AgeCateg_2',  u'WorkersEquiv',  u'MV']])"
   ]
  },
  {
   "cell_type": "code",
   "execution_count": 18,
   "metadata": {
    "collapsed": false
   },
   "outputs": [
    {
     "data": {
      "text/plain": [
       "0.67017477917684642"
      ]
     },
     "execution_count": 18,
     "metadata": {},
     "output_type": "execute_result"
    }
   ],
   "source": [
    "((y_pred14.Pov_risk == test14.Pov_risk).sum()*1.0)/len(test14)"
   ]
  },
  {
   "cell_type": "code",
   "execution_count": 19,
   "metadata": {
    "collapsed": false
   },
   "outputs": [
    {
     "name": "stdout",
     "output_type": "stream",
     "text": [
      "             precision    recall  f1-score   support\n",
      "\n",
      "       Poor       0.42      0.52      0.46       850\n",
      "    At_Risk       0.29      0.46      0.36       725\n",
      "   Not_Poor       0.89      0.75      0.81      3746\n",
      "\n",
      "avg / total       0.73      0.67      0.69      5321\n",
      "\n"
     ]
    }
   ],
   "source": [
    "print metrics.classification_report(y_pred14.Pov_risk, test14.Pov_risk, target_names=['Poor', 'At_Risk', 'Not_Poor'])"
   ]
  },
  {
   "cell_type": "code",
   "execution_count": 20,
   "metadata": {
    "collapsed": false
   },
   "outputs": [
    {
     "name": "stderr",
     "output_type": "stream",
     "text": [
      "/home/cusp/vys217/.conda/envs/JVEvys217/lib/python2.7/site-packages/networkx/drawing/nx_pylab.py:126: MatplotlibDeprecationWarning: pyplot.hold is deprecated.\n",
      "    Future behavior will be consistent with the long-time default:\n",
      "    plot commands add elements without first clearing the\n",
      "    Axes and/or Figure.\n",
      "  b = plt.ishold()\n",
      "/home/cusp/vys217/.conda/envs/JVEvys217/lib/python2.7/site-packages/networkx/drawing/nx_pylab.py:138: MatplotlibDeprecationWarning: pyplot.hold is deprecated.\n",
      "    Future behavior will be consistent with the long-time default:\n",
      "    plot commands add elements without first clearing the\n",
      "    Axes and/or Figure.\n",
      "  plt.hold(b)\n",
      "/home/cusp/vys217/.conda/envs/JVEvys217/lib/python2.7/site-packages/matplotlib/__init__.py:917: UserWarning: axes.hold is deprecated. Please remove it from your matplotlibrc and/or style files.\n",
      "  warnings.warn(self.msg_depr_set % key)\n",
      "/home/cusp/vys217/.conda/envs/JVEvys217/lib/python2.7/site-packages/matplotlib/rcsetup.py:152: UserWarning: axes.hold is deprecated, will be removed in 3.0\n",
      "  warnings.warn(\"axes.hold is deprecated, will be removed in 3.0\")\n"
     ]
    },
    {
     "data": {
      "image/png": "[encoded data removed]",
      "text/plain": [
       "<matplotlib.figure.Figure at 0x7f5ce9119710>"
      ]
     },
     "metadata": {},
     "output_type": "display_data"
    }
   ],
   "source": [
    "fig = plt.figure(figsize=(8,8))\n",
    "# ax = fig.add_\n",
    "G = nx.DiGraph()\n",
    "G.add_edges_from(best_model14.edges())\n",
    "pos = {u'PovunitType':(-100,20), u'CitizenStatus':(120,10), u'EducAttain':(0, 100) , u'HousingStatus':(100,-40), u'AgeCateg_2':(-70,80),\n",
    "       u'WorkersEquiv':(60,-100), u'MV':(-20,-100), u'Pov_risk':(80,80)}\n",
    "nx.draw(G, pos=pos, with_labels=True,  arrows=True, font_size = 8, node_size=5000)"
   ]
  },
  {
   "cell_type": "code",
   "execution_count": null,
   "metadata": {
    "collapsed": true
   },
   "outputs": [],
   "source": []
  }
 ],
 "metadata": {
  "kernelspec": {
   "display_name": "kJVEvys217",
   "language": "python",
   "name": "kjvevys217"
  },
  "language_info": {
   "codemirror_mode": {
    "name": "ipython",
    "version": 2
   },
   "file_extension": ".py",
   "mimetype": "text/x-python",
   "name": "python",
   "nbconvert_exporter": "python",
   "pygments_lexer": "ipython2",
   "version": "2.7.13"
  }
 },
 "nbformat": 4,
 "nbformat_minor": 0
}
